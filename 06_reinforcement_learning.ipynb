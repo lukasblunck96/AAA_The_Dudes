{
 "cells": [
  {
   "cell_type": "markdown",
   "id": "ce746fcf-eb82-4a35-ba41-b51b982d6662",
   "metadata": {},
   "source": [
    "# Smart Charging Using Reinforcement Learning"
   ]
  },
  {
   "cell_type": "markdown",
   "id": "30392d50-49c6-423b-b0e0-21db397e1ef2",
   "metadata": {},
   "source": [
    "### Create Environment"
   ]
  },
  {
   "cell_type": "code",
   "execution_count": null,
   "id": "4dcb194e-c097-403d-a4cb-01af35ab3eff",
   "metadata": {},
   "outputs": [],
   "source": []
  },
  {
   "cell_type": "markdown",
   "id": "3c80266f-02a7-4d93-841e-b7e0fe71fffe",
   "metadata": {},
   "source": [
    "### Markov Decision Process"
   ]
  },
  {
   "cell_type": "code",
   "execution_count": null,
   "id": "a3c0daab-e5d6-45c5-ad2c-1617ac81b254",
   "metadata": {},
   "outputs": [],
   "source": []
  }
 ],
 "metadata": {
  "kernelspec": {
   "display_name": "dev",
   "language": "python",
   "name": "dev"
  },
  "language_info": {
   "codemirror_mode": {
    "name": "ipython",
    "version": 3
   },
   "file_extension": ".py",
   "mimetype": "text/x-python",
   "name": "python",
   "nbconvert_exporter": "python",
   "pygments_lexer": "ipython3",
   "version": "3.9.17"
  }
 },
 "nbformat": 4,
 "nbformat_minor": 5
}
