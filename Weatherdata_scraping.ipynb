{
 "cells": [
  {
   "cell_type": "code",
   "execution_count": 1,
   "metadata": {},
   "outputs": [],
   "source": [
    "from bs4 import BeautifulSoup\n",
    "import requests\n",
    "from selenium import webdriver\n",
    "from selenium.webdriver.common.keys import Keys\n",
    "import time\n",
    "import pandas as pd"
   ]
  },
  {
   "cell_type": "code",
   "execution_count": 2,
   "metadata": {},
   "outputs": [],
   "source": [
    "import numpy as np\n",
    "import datetime\n",
    "from datetime import datetime"
   ]
  },
  {
   "cell_type": "code",
   "execution_count": null,
   "metadata": {},
   "outputs": [],
   "source": [
    "driver = webdriver.Safari(executable_path ='/usr/bin/safaridriver')\n",
    "df = pd.DataFrame(columns=['time', 'temp', 'dew_point', 'humidity', 'wind', 'wind_speed', 'wind_gust', 'pressure', 'precip', 'condition'])\n",
    "\n",
    "for i in range(1,13):\n",
    "    days_in_month = 0\n",
    "    if i in [1,3,5,7,8,10,12]:\n",
    "        days_in_month = 32\n",
    "    elif i in [4,6,9,11]:\n",
    "        days_in_month = 31\n",
    "    elif i in [2]:\n",
    "        days_in_month = 29\n",
    "    for j in range(1,days_in_month):\n",
    "        date = f'{j}.{i}.2017'\n",
    "        print(date)\n",
    "        url = f'https://www.wunderground.com/history/daily/KMDW/date/2017-{i}-{j}'\n",
    "        driver.get(url)\n",
    "        time.sleep(5)\n",
    "        html = driver.page_source\n",
    "        soup = BeautifulSoup(html, 'html.parser')\n",
    "        table = soup.find('table', attrs={'class': 'mat-table cdk-table mat-sort ng-star-inserted' })\n",
    "        table_rows = table.find_all('tr')\n",
    "        l = []\n",
    "        for tr in table_rows:       \n",
    "            td = tr.find_all('td')\n",
    "            row = [tr.text for tr in td]\n",
    "            l.append(row)\n",
    "            l = list(filter(None, l))\n",
    "        for k in l:\n",
    "            df.loc[len(df)] = k\n",
    "            \n",
    "\n",
    "driver.quit()\n",
    "      \n"
   ]
  },
  {
   "cell_type": "code",
   "execution_count": 50,
   "metadata": {},
   "outputs": [
    {
     "data": {
      "text/html": [
       "<div>\n",
       "<style scoped>\n",
       "    .dataframe tbody tr th:only-of-type {\n",
       "        vertical-align: middle;\n",
       "    }\n",
       "\n",
       "    .dataframe tbody tr th {\n",
       "        vertical-align: top;\n",
       "    }\n",
       "\n",
       "    .dataframe thead th {\n",
       "        text-align: right;\n",
       "    }\n",
       "</style>\n",
       "<table border=\"1\" class=\"dataframe\">\n",
       "  <thead>\n",
       "    <tr style=\"text-align: right;\">\n",
       "      <th></th>\n",
       "      <th>time</th>\n",
       "      <th>temp</th>\n",
       "      <th>dew_point</th>\n",
       "      <th>humidity</th>\n",
       "      <th>wind</th>\n",
       "      <th>wind_speed</th>\n",
       "      <th>wind_gust</th>\n",
       "      <th>pressure</th>\n",
       "      <th>precip</th>\n",
       "      <th>condition</th>\n",
       "    </tr>\n",
       "  </thead>\n",
       "  <tbody>\n",
       "    <tr>\n",
       "      <th>10245</th>\n",
       "      <td>8:53 PM</td>\n",
       "      <td>6 °F</td>\n",
       "      <td>-5 °F</td>\n",
       "      <td>60 °%</td>\n",
       "      <td>NW</td>\n",
       "      <td>10 °mph</td>\n",
       "      <td>20 °mph</td>\n",
       "      <td>29.92 °in</td>\n",
       "      <td>0.0 °in</td>\n",
       "      <td>Fair</td>\n",
       "    </tr>\n",
       "    <tr>\n",
       "      <th>10246</th>\n",
       "      <td>9:53 PM</td>\n",
       "      <td>4 °F</td>\n",
       "      <td>-6 °F</td>\n",
       "      <td>64 °%</td>\n",
       "      <td>NW</td>\n",
       "      <td>10 °mph</td>\n",
       "      <td>0 °mph</td>\n",
       "      <td>29.92 °in</td>\n",
       "      <td>0.0 °in</td>\n",
       "      <td>Fair</td>\n",
       "    </tr>\n",
       "    <tr>\n",
       "      <th>10247</th>\n",
       "      <td>10:53 PM</td>\n",
       "      <td>4 °F</td>\n",
       "      <td>-8 °F</td>\n",
       "      <td>58 °%</td>\n",
       "      <td>WNW</td>\n",
       "      <td>12 °mph</td>\n",
       "      <td>0 °mph</td>\n",
       "      <td>29.94 °in</td>\n",
       "      <td>0.0 °in</td>\n",
       "      <td>Fair</td>\n",
       "    </tr>\n",
       "    <tr>\n",
       "      <th>10248</th>\n",
       "      <td>11:53 PM</td>\n",
       "      <td>2 °F</td>\n",
       "      <td>-8 °F</td>\n",
       "      <td>63 °%</td>\n",
       "      <td>WNW</td>\n",
       "      <td>7 °mph</td>\n",
       "      <td>0 °mph</td>\n",
       "      <td>29.95 °in</td>\n",
       "      <td>0.0 °in</td>\n",
       "      <td>Fair</td>\n",
       "    </tr>\n",
       "    <tr>\n",
       "      <th>10249</th>\n",
       "      <td>12:53 AM</td>\n",
       "      <td>1 °F</td>\n",
       "      <td>-11 °F</td>\n",
       "      <td>57 °%</td>\n",
       "      <td>WNW</td>\n",
       "      <td>12 °mph</td>\n",
       "      <td>0 °mph</td>\n",
       "      <td>29.95 °in</td>\n",
       "      <td>0.0 °in</td>\n",
       "      <td>Fair</td>\n",
       "    </tr>\n",
       "  </tbody>\n",
       "</table>\n",
       "</div>"
      ],
      "text/plain": [
       "           time  temp dew_point humidity wind wind_speed wind_gust   pressure  \\\n",
       "10245   8:53 PM  6 °F     -5 °F    60 °%   NW    10 °mph   20 °mph  29.92 °in   \n",
       "10246   9:53 PM  4 °F     -6 °F    64 °%   NW    10 °mph    0 °mph  29.92 °in   \n",
       "10247  10:53 PM  4 °F     -8 °F    58 °%  WNW    12 °mph    0 °mph  29.94 °in   \n",
       "10248  11:53 PM  2 °F     -8 °F    63 °%  WNW     7 °mph    0 °mph  29.95 °in   \n",
       "10249  12:53 AM  1 °F    -11 °F    57 °%  WNW    12 °mph    0 °mph  29.95 °in   \n",
       "\n",
       "        precip condition  \n",
       "10245  0.0 °in      Fair  \n",
       "10246  0.0 °in      Fair  \n",
       "10247  0.0 °in      Fair  \n",
       "10248  0.0 °in      Fair  \n",
       "10249  0.0 °in      Fair  "
      ]
     },
     "execution_count": 50,
     "metadata": {},
     "output_type": "execute_result"
    }
   ],
   "source": [
    "df.tail()"
   ]
  },
  {
   "cell_type": "code",
   "execution_count": 51,
   "metadata": {},
   "outputs": [],
   "source": [
    "#save scraped data in csv\n",
    "df.to_csv('./data/weather_data.csv', index = False)"
   ]
  },
  {
   "cell_type": "code",
   "execution_count": 17,
   "metadata": {},
   "outputs": [],
   "source": [
    "#load scraped data for further processing\n",
    "df = pd.read_csv('./data/weather_data.csv')"
   ]
  },
  {
   "cell_type": "code",
   "execution_count": 18,
   "metadata": {},
   "outputs": [],
   "source": [
    "#add date column\n",
    "df['date'] = np.nan"
   ]
  },
  {
   "cell_type": "code",
   "execution_count": 22,
   "metadata": {},
   "outputs": [
    {
     "data": {
      "text/plain": [
       "8749"
      ]
     },
     "execution_count": 22,
     "metadata": {},
     "output_type": "execute_result"
    }
   ],
   "source": [
    "#filter out all datapoints that have been collected outside of the hourly (XX:53 AM/PM) weather measurements \n",
    "tuple = ('53 AM', \"53 PM\")\n",
    "df_hourly_measurement = df[df['time'].str.endswith(tuple)]\n",
    "len(df_hourly_measurement)"
   ]
  },
  {
   "attachments": {},
   "cell_type": "markdown",
   "metadata": {},
   "source": [
    "PROBLEM: 11 Values are missing, see below."
   ]
  },
  {
   "cell_type": "code",
   "execution_count": 31,
   "metadata": {},
   "outputs": [
    {
     "name": "stdout",
     "output_type": "stream",
     "text": [
      "364\n",
      "364\n",
      "364\n",
      "363\n",
      "365\n",
      "365\n",
      "365\n",
      "365\n",
      "365\n",
      "365\n",
      "365\n",
      "364\n",
      "364\n",
      "365\n",
      "365\n",
      "365\n",
      "365\n",
      "365\n",
      "366\n",
      "363\n",
      "365\n",
      "364\n",
      "363\n",
      "365\n"
     ]
    }
   ],
   "source": [
    "print(len(df_hourly_measurement[df_hourly_measurement['time'].str.startswith('1:53 AM')]))\n",
    "print(len(df_hourly_measurement[df_hourly_measurement['time'].str.startswith('2:53 AM')]))\n",
    "print(len(df_hourly_measurement[df_hourly_measurement['time'].str.endswith('3:53 AM')]))\n",
    "print(len(df_hourly_measurement[df_hourly_measurement['time'].str.endswith('4:53 AM')]))\n",
    "print(len(df_hourly_measurement[df_hourly_measurement['time'].str.endswith('5:53 AM')]))\n",
    "print(len(df_hourly_measurement[df_hourly_measurement['time'].str.endswith('6:53 AM')]))\n",
    "print(len(df_hourly_measurement[df_hourly_measurement['time'].str.endswith('7:53 AM')]))\n",
    "print(len(df_hourly_measurement[df_hourly_measurement['time'].str.endswith('8:53 AM')]))\n",
    "print(len(df_hourly_measurement[df_hourly_measurement['time'].str.endswith('9:53 AM')]))\n",
    "print(len(df_hourly_measurement[df_hourly_measurement['time'].str.endswith('10:53 AM')]))\n",
    "print(len(df_hourly_measurement[df_hourly_measurement['time'].str.endswith('11:53 AM')]))\n",
    "print(len(df_hourly_measurement[df_hourly_measurement['time'].str.endswith('12:53 AM')]))\n",
    "print(len(df_hourly_measurement[df_hourly_measurement['time'].str.startswith('1:53 PM')]))\n",
    "print(len(df_hourly_measurement[df_hourly_measurement['time'].str.startswith('2:53 PM')]))\n",
    "print(len(df_hourly_measurement[df_hourly_measurement['time'].str.endswith('3:53 PM')]))\n",
    "print(len(df_hourly_measurement[df_hourly_measurement['time'].str.endswith('4:53 PM')]))\n",
    "print(len(df_hourly_measurement[df_hourly_measurement['time'].str.endswith('5:53 PM')]))\n",
    "print(len(df_hourly_measurement[df_hourly_measurement['time'].str.endswith('6:53 PM')]))\n",
    "print(len(df_hourly_measurement[df_hourly_measurement['time'].str.endswith('7:53 PM')]))\n",
    "print(len(df_hourly_measurement[df_hourly_measurement['time'].str.endswith('8:53 PM')]))\n",
    "print(len(df_hourly_measurement[df_hourly_measurement['time'].str.endswith('9:53 PM')]))\n",
    "print(len(df_hourly_measurement[df_hourly_measurement['time'].str.endswith('10:53 PM')]))\n",
    "print(len(df_hourly_measurement[df_hourly_measurement['time'].str.endswith('11:53 PM')]))\n",
    "print(len(df_hourly_measurement[df_hourly_measurement['time'].str.endswith('12:53 PM')]))"
   ]
  },
  {
   "cell_type": "code",
   "execution_count": 33,
   "metadata": {},
   "outputs": [],
   "source": [
    "df_hourly_measurement = df_hourly_measurement.reset_index()"
   ]
  },
  {
   "cell_type": "code",
   "execution_count": null,
   "metadata": {},
   "outputs": [],
   "source": [
    "# add dates to data measurements\n",
    "first_hour = 0\n",
    "last_hour = 24\n",
    "day = 1\n",
    "\n",
    "for i in range(1,13):\n",
    "    days_in_month = 0\n",
    "    if i in [1,3,5,7,8,10,12]:\n",
    "        days_in_month = 32\n",
    "    elif i in [4,6,9,11]:\n",
    "        days_in_month = 31\n",
    "    elif i in [2]:\n",
    "        days_in_month = 29\n",
    "    for j in range(1,days_in_month):\n",
    "        r = range(first_hour,last_hour)\n",
    "        df_hourly_measurement.loc[r,['date']] = [f'2017-{i}-{j}']\n",
    "        first_hour = first_hour + 24\n",
    "        last_hour = last_hour + 24\n",
    "\n",
    "df_hourly_measurement.head()\n",
    "\n"
   ]
  },
  {
   "cell_type": "code",
   "execution_count": 146,
   "metadata": {},
   "outputs": [],
   "source": [
    "df['date'] = pd.to_datetime(df['date'], format = '%Y-%m-%d')"
   ]
  }
 ],
 "metadata": {
  "kernelspec": {
   "display_name": "AAproject",
   "language": "python",
   "name": "python3"
  },
  "language_info": {
   "codemirror_mode": {
    "name": "ipython",
    "version": 3
   },
   "file_extension": ".py",
   "mimetype": "text/x-python",
   "name": "python",
   "nbconvert_exporter": "python",
   "pygments_lexer": "ipython3",
   "version": "3.9.15"
  },
  "orig_nbformat": 4
 },
 "nbformat": 4,
 "nbformat_minor": 2
}
