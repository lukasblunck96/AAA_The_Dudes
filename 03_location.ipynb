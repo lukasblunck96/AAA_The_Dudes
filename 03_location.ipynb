{
 "cells": [
  {
   "cell_type": "code",
   "execution_count": 7,
   "metadata": {
    "collapsed": false,
    "jupyter": {
     "outputs_hidden": false
    }
   },
   "outputs": [
    {
     "name": "stdout",
     "output_type": "stream",
     "text": [
      "Collecting shapely\n",
      "  Using cached shapely-2.0.1-cp310-cp310-manylinux_2_17_x86_64.manylinux2014_x86_64.whl (2.3 MB)\n",
      "Collecting geopandas\n",
      "  Using cached geopandas-0.13.2-py3-none-any.whl (1.1 MB)\n",
      "Collecting numpy>=1.14\n",
      "  Using cached numpy-1.25.1-cp310-cp310-manylinux_2_17_x86_64.manylinux2014_x86_64.whl (17.6 MB)\n",
      "Requirement already satisfied: packaging in /etc/jupyterhub/jupyterhub/lib/python3.10/site-packages (from geopandas) (22.0)\n",
      "Collecting pandas>=1.1.0\n",
      "  Using cached pandas-2.0.3-cp310-cp310-manylinux_2_17_x86_64.manylinux2014_x86_64.whl (12.3 MB)\n",
      "Collecting fiona>=1.8.19\n",
      "  Using cached Fiona-1.9.4.post1-cp310-cp310-manylinux_2_17_x86_64.manylinux2014_x86_64.whl (16.4 MB)\n",
      "Collecting pyproj>=3.0.1\n",
      "  Using cached pyproj-3.6.0-cp310-cp310-manylinux_2_17_x86_64.manylinux2014_x86_64.whl (7.9 MB)\n",
      "Collecting click-plugins>=1.0\n",
      "  Using cached click_plugins-1.1.1-py2.py3-none-any.whl (7.5 kB)\n",
      "Requirement already satisfied: six in /etc/jupyterhub/jupyterhub/lib/python3.10/site-packages (from fiona>=1.8.19->geopandas) (1.16.0)\n",
      "Collecting click~=8.0\n",
      "  Using cached click-8.1.6-py3-none-any.whl (97 kB)\n",
      "Collecting cligj>=0.5\n",
      "  Using cached cligj-0.7.2-py3-none-any.whl (7.1 kB)\n",
      "Requirement already satisfied: certifi in /etc/jupyterhub/jupyterhub/lib/python3.10/site-packages (from fiona>=1.8.19->geopandas) (2022.12.7)\n",
      "Requirement already satisfied: attrs>=19.2.0 in /etc/jupyterhub/jupyterhub/lib/python3.10/site-packages (from fiona>=1.8.19->geopandas) (22.1.0)\n",
      "Requirement already satisfied: python-dateutil>=2.8.2 in /etc/jupyterhub/jupyterhub/lib/python3.10/site-packages (from pandas>=1.1.0->geopandas) (2.8.2)\n",
      "Collecting tzdata>=2022.1\n",
      "  Using cached tzdata-2023.3-py2.py3-none-any.whl (341 kB)\n",
      "Requirement already satisfied: pytz>=2020.1 in /etc/jupyterhub/jupyterhub/lib/python3.10/site-packages (from pandas>=1.1.0->geopandas) (2022.6)\n",
      "Installing collected packages: tzdata, pyproj, numpy, click, shapely, pandas, cligj, click-plugins, fiona, geopandas\n",
      "\u001b[31mERROR: Could not install packages due to an OSError: [Errno 13] Permission denied: '/etc/jupyterhub/jupyterhub/lib/python3.10/site-packages/tzdata'\n",
      "Check the permissions.\n",
      "\u001b[0m\u001b[31m\n",
      "\u001b[0m"
     ]
    }
   ],
   "source": [
    "!pip install vaex\n",
    "!pip install pandas h3 folium geojson matplotlib shapely geopandas"
   ]
  },
  {
   "cell_type": "markdown",
   "metadata": {},
   "source": [
    "# Improvement ideas\n",
    "- Choropleth for the areas with different colors for the usage\n",
    "- Flow-Arc for most trips pickup >> dropoff\n",
    "- Dot-Maps for dropoff or maybe payment card vs. cash\n",
    "- Heatmaps at 4 different points of the day"
   ]
  },
  {
   "cell_type": "code",
   "execution_count": 4,
   "metadata": {
    "collapsed": false,
    "jupyter": {
     "outputs_hidden": false
    }
   },
   "outputs": [],
   "source": [
    "import pandas as pd\n",
    "import numpy as np\n",
    "import h3\n",
    "import folium\n",
    "from folium import Map, Marker, GeoJson\n",
    "import json\n",
    "from geojson.feature import *\n",
    "import os\n",
    "import sys\n",
    "import shapely\n",
    "import shapely.wkt\n",
    "from shapely.geometry import Polygon\n",
    "import geopandas as gpd\n",
    "from folium import plugins\n",
    "from folium.plugins import HeatMap\n",
    "import vaex"
   ]
  },
  {
   "cell_type": "markdown",
   "metadata": {},
   "source": [
    "## Constants"
   ]
  },
  {
   "cell_type": "code",
   "execution_count": null,
   "metadata": {
    "collapsed": false,
    "jupyter": {
     "outputs_hidden": false
    }
   },
   "outputs": [],
   "source": [
    "# constants\n",
    "\n",
    "# The resolution was tested, when decreasing the number of polygons does not decrease\n",
    "resolution = 10\n",
    "city_coords = [41.8781, -87.6298]"
   ]
  },
  {
   "cell_type": "markdown",
   "metadata": {},
   "source": [
    "## Import and clean data"
   ]
  },
  {
   "cell_type": "code",
   "execution_count": null,
   "metadata": {
    "collapsed": false,
    "jupyter": {
     "outputs_hidden": false
    }
   },
   "outputs": [],
   "source": [
    "df_cleaned = vaex.from_csv('./data/cleaned_trips_with_location_small.csv')\n",
    "\n",
    "df_cleaned = df_cleaned.dropna(['dropoff_census_tract', 'pickup_census_tract'])\n",
    "\n",
    "df_cleaned['dropoff_census_tract'] = df_cleaned['dropoff_census_tract'].astype('int')\n",
    "df_cleaned['pickup_census_tract'] = df_cleaned['pickup_census_tract'].astype('int')\n",
    "\n",
    "df_cleaned.get_column_names()"
   ]
  },
  {
   "cell_type": "code",
   "execution_count": null,
   "metadata": {
    "collapsed": false,
    "jupyter": {
     "outputs_hidden": false
    }
   },
   "outputs": [],
   "source": [
    "# Step 1: For each pickup and drop-off calculate the correct hexagon in the resolution 7\n",
    "df_cleaned['pickup_hex'] = df_cleaned.apply(geo_to_h3, [df_cleaned['pickup_centroid_latitude'], df_cleaned['pickup_centroid_longitude']])\n",
    "df_cleaned['dropoff_hex'] = df_cleaned.apply(geo_to_h3, [df_cleaned['dropoff_centroid_latitude'], df_cleaned['dropoff_centroid_longitude']])"
   ]
  },
  {
   "cell_type": "markdown",
   "metadata": {},
   "source": [
    "## Global Functions"
   ]
  },
  {
   "cell_type": "code",
   "execution_count": null,
   "metadata": {
    "collapsed": false,
    "jupyter": {
     "outputs_hidden": false
    }
   },
   "outputs": [],
   "source": [
    "def geo_to_h3(col1, col2):\n",
    "    return h3.geo_to_h3(col1,col2, resolution)"
   ]
  },
  {
   "cell_type": "code",
   "execution_count": null,
   "metadata": {},
   "outputs": [],
   "source": [
    "def hex_geo_id_to_polygon(hex_id):\n",
    "    return Polygon(h3.h3_to_geo_boundary(h=hex_id, geo_json=True))"
   ]
  },
  {
   "cell_type": "markdown",
   "metadata": {},
   "source": [
    "## Display Hexagons"
   ]
  },
  {
   "cell_type": "code",
   "execution_count": null,
   "metadata": {
    "collapsed": false,
    "jupyter": {
     "outputs_hidden": false
    }
   },
   "outputs": [],
   "source": [
    "unique_pickup_values = df_cleaned['pickup_hex'].unique()\n",
    "unique_dropoff_values = df_cleaned['dropoff_hex'].unique()\n",
    "\n",
    "# Using set to handle uniqueness after concatenation\n",
    "combined_unique_values = list(set(unique_pickup_values + unique_dropoff_values))\n",
    "\n",
    "hex_geo = []\n",
    "\n",
    "# Build shapely Polygons for each hexagon\n",
    "for nh in combined_unique_values:\n",
    "    hex_geo.append(hex_geo_id_to_polygon(nh))"
   ]
  },
  {
   "cell_type": "code",
   "execution_count": null,
   "metadata": {
    "collapsed": false,
    "jupyter": {
     "outputs_hidden": false
    }
   },
   "outputs": [],
   "source": [
    "gdf = gpd.GeoDataFrame(geometry=hex_geo, crs='EPSG:4326')\n",
    "gdf.explore(cmap='viridis', tiles='OpenStreetMap')"
   ]
  },
  {
   "cell_type": "markdown",
   "metadata": {},
   "source": [
    "## Display Hexagons with pickup and dropoff count"
   ]
  },
  {
   "cell_type": "code",
   "execution_count": null,
   "metadata": {
    "collapsed": false,
    "jupyter": {
     "outputs_hidden": false
    }
   },
   "outputs": [],
   "source": [
    "pickup_counts = df_cleaned.groupby(by='pickup_hex', agg=vaex.agg.count())\n",
    "pickup_counts.rename(\"_count\",\"pickup_counts\")\n",
    "pickup_counts.rename(\"pickup_hex\",\"hex\")\n",
    "\n",
    "dropoff_counts = df_cleaned.groupby(by='dropoff_hex', agg=vaex.agg.count())\n",
    "dropoff_counts.rename(\"_count\",\"dropoff_counts\")\n",
    "dropoff_counts.rename(\"dropoff_hex\",\"hex\")\n",
    "\n",
    "merged_df = pd.merge(pd.DataFrame(combined_unique_values, columns=['hex']),\n",
    "                     pickup_counts.to_pandas_df(), on='hex', how='left').merge(dropoff_counts.to_pandas_df(), on='hex', how='left')\n",
    "merged_df['pickup_counts'] = merged_df['pickup_counts'].fillna(0)\n",
    "merged_df['dropoff_counts'] = merged_df['dropoff_counts'].fillna(0)\n",
    "merged_df = merged_df.reset_index()\n",
    "\n",
    "# Add geometry\n",
    "merged_df['geometry'] = merged_df['hex'].apply(lambda x: hex_geo_id_to_polygon(x))"
   ]
  },
  {
   "cell_type": "code",
   "execution_count": null,
   "metadata": {
    "collapsed": false,
    "jupyter": {
     "outputs_hidden": false
    }
   },
   "outputs": [],
   "source": [
    "gdf = gpd.GeoDataFrame(merged_df, crs='EPSG:4326')\n",
    "gdf.explore(cmap='viridis', tiles='OpenStreetMap')"
   ]
  },
  {
   "cell_type": "markdown",
   "metadata": {},
   "source": [
    "## Display Heatmap"
   ]
  },
  {
   "cell_type": "code",
   "execution_count": null,
   "metadata": {
    "collapsed": false,
    "jupyter": {
     "outputs_hidden": false
    }
   },
   "outputs": [],
   "source": [
    "\n",
    "\n",
    "hexagon_heat_map = folium.Map(location=[41.8781, -87.6298], zoom_start=11)\n",
    "df = pickup_counts.to_pandas_df()\n",
    "# Rename columns\n",
    "df.columns = ['geo', 'value']\n",
    "\n",
    "def h3_to_polygon(h3_index):\n",
    "    geo_coordinates = h3.h3_to_geo_boundary(h3_index)\n",
    "    return Polygon(geo_coordinates)\n",
    "\n",
    "df['geometry'] = df['geo'].apply(h3_to_polygon)\n",
    "\n",
    "\n",
    "gdf = gpd.GeoDataFrame(df, geometry='geometry')\n",
    "# Define a custom function to combine two columns into a list\n",
    "def combine_columns(r1, r2):\n",
    "    return list([r1, r2])\n",
    "\n",
    "# Apply the custom function to create a new column\n",
    "df_cleaned['combined'] = df_cleaned.apply(combine_columns, [df_cleaned.pickup_centroid_latitude, df_cleaned.pickup_centroid_longitude])\n",
    "\n",
    "# Convert vaex DataFrame to pandas DataFrame\n",
    "heat_data = df_cleaned['combined'].values\n",
    "HeatMap(heat_data).add_to(hexagon_heat_map)\n",
    "\n",
    "hexagon_heat_map"
   ]
  },
  {
   "cell_type": "markdown",
   "metadata": {},
   "source": [
    "# Census Tracts\n",
    "A census tract is a small, relatively permanent statistical subdivision of a county or equivalent entity that is defined by the U.S. Census Bureau. Census tracts are designed to be relatively homogeneous in terms of population characteristics, economic status, and living conditions. They typically contain between 1,200 and 8,000 people, with an optimum size of about 4,000 people."
   ]
  },
  {
   "cell_type": "code",
   "execution_count": 1,
   "metadata": {},
   "outputs": [],
   "source": [
    "def transform_column_to_geometry(df, column_name):\n",
    "    geo = []\n",
    "\n",
    "    for index, row in df.iterrows():\n",
    "        polygon = row[column_name]\n",
    "        geojson = shapely.wkt.loads(polygon)\n",
    "        geo.append(geojson)\n",
    "\n",
    "    df['geometry'] = geo\n",
    "    return df"
   ]
  },
  {
   "cell_type": "code",
   "execution_count": 2,
   "metadata": {
    "collapsed": false,
    "jupyter": {
     "outputs_hidden": false
    }
   },
   "outputs": [],
   "source": [
    "def create_census_map(map, df, color='#0000ff'):\n",
    "\n",
    "    print(\"called function\")\n",
    "\n",
    "    for index, row in df.iterrows():\n",
    "        polygon = shapely.wkt.loads(row['the_geom'])\n",
    "\n",
    "        geojson = folium.GeoJson(polygon.__geo_interface__, style_function = lambda x: {'fillColor': color, 'color': color})\n",
    "\n",
    "        if 'label' in df and row['label'] is not None:\n",
    "            marker = folium.Marker(location=[polygon.centroid.y, polygon.centroid.x], popup=row['label'])\n",
    "            marker.add_to(map)\n",
    "\n",
    "        geojson.add_to(map)\n",
    "\n",
    "    return map"
   ]
  },
  {
   "cell_type": "markdown",
   "metadata": {},
   "source": [
    "## Display Census Tracts"
   ]
  },
  {
   "cell_type": "code",
   "execution_count": 5,
   "metadata": {
    "collapsed": false,
    "jupyter": {
     "outputs_hidden": false
    }
   },
   "outputs": [
    {
     "ename": "ImportError",
     "evalue": "The 'folium', 'matplotlib' and 'mapclassify' packages are required for 'explore()'. You can install them using 'conda install -c conda-forge folium matplotlib mapclassify' or 'pip install folium matplotlib mapclassify'.",
     "output_type": "error",
     "traceback": [
      "\u001b[0;31m---------------------------------------------------------------------------\u001b[0m",
      "\u001b[0;31mModuleNotFoundError\u001b[0m                       Traceback (most recent call last)",
      "File \u001b[0;32m~/miniconda3/envs/aaa_dev/lib/python3.10/site-packages/geopandas/explore.py:287\u001b[0m, in \u001b[0;36m_explore\u001b[0;34m(df, column, cmap, color, m, tiles, attr, tooltip, popup, highlight, categorical, legend, scheme, k, vmin, vmax, width, height, categories, classification_kwds, control_scale, marker_type, marker_kwds, style_kwds, highlight_kwds, missing_kwds, tooltip_kwds, popup_kwds, legend_kwds, map_kwds, **kwargs)\u001b[0m\n\u001b[1;32m    286\u001b[0m \u001b[38;5;28;01mimport\u001b[39;00m \u001b[38;5;21;01mmatplotlib\u001b[39;00m\u001b[38;5;21;01m.\u001b[39;00m\u001b[38;5;21;01mpyplot\u001b[39;00m \u001b[38;5;28;01mas\u001b[39;00m \u001b[38;5;21;01mplt\u001b[39;00m\n\u001b[0;32m--> 287\u001b[0m \u001b[38;5;28;01mfrom\u001b[39;00m \u001b[38;5;21;01mmapclassify\u001b[39;00m \u001b[38;5;28;01mimport\u001b[39;00m classify\n\u001b[1;32m    289\u001b[0m \u001b[38;5;66;03m# isolate MPL version - GH#2596\u001b[39;00m\n",
      "\u001b[0;31mModuleNotFoundError\u001b[0m: No module named 'mapclassify'",
      "\nDuring handling of the above exception, another exception occurred:\n",
      "\u001b[0;31mImportError\u001b[0m                               Traceback (most recent call last)",
      "Cell \u001b[0;32mIn[5], line 6\u001b[0m\n\u001b[1;32m      3\u001b[0m df_census_tracts \u001b[38;5;241m=\u001b[39m transform_column_to_geometry(df_census_tracts, \u001b[38;5;124m'\u001b[39m\u001b[38;5;124mthe_geom\u001b[39m\u001b[38;5;124m'\u001b[39m)\n\u001b[1;32m      5\u001b[0m gdf \u001b[38;5;241m=\u001b[39m gpd\u001b[38;5;241m.\u001b[39mGeoDataFrame(df_census_tracts, crs\u001b[38;5;241m=\u001b[39m\u001b[38;5;124m'\u001b[39m\u001b[38;5;124mEPSG:4326\u001b[39m\u001b[38;5;124m'\u001b[39m)\n\u001b[0;32m----> 6\u001b[0m \u001b[43mgdf\u001b[49m\u001b[38;5;241;43m.\u001b[39;49m\u001b[43mexplore\u001b[49m\u001b[43m(\u001b[49m\u001b[43mcmap\u001b[49m\u001b[38;5;241;43m=\u001b[39;49m\u001b[38;5;124;43m'\u001b[39;49m\u001b[38;5;124;43mviridis\u001b[39;49m\u001b[38;5;124;43m'\u001b[39;49m\u001b[43m,\u001b[49m\u001b[43m \u001b[49m\u001b[43mtiles\u001b[49m\u001b[38;5;241;43m=\u001b[39;49m\u001b[38;5;124;43m'\u001b[39;49m\u001b[38;5;124;43mOpenStreetMap\u001b[39;49m\u001b[38;5;124;43m'\u001b[39;49m\u001b[43m)\u001b[49m\n",
      "File \u001b[0;32m~/miniconda3/envs/aaa_dev/lib/python3.10/site-packages/geopandas/geodataframe.py:2101\u001b[0m, in \u001b[0;36mGeoDataFrame.explore\u001b[0;34m(self, *args, **kwargs)\u001b[0m\n\u001b[1;32m   2099\u001b[0m \u001b[38;5;129m@doc\u001b[39m(_explore)\n\u001b[1;32m   2100\u001b[0m \u001b[38;5;28;01mdef\u001b[39;00m \u001b[38;5;21mexplore\u001b[39m(\u001b[38;5;28mself\u001b[39m, \u001b[38;5;241m*\u001b[39margs, \u001b[38;5;241m*\u001b[39m\u001b[38;5;241m*\u001b[39mkwargs):\n\u001b[0;32m-> 2101\u001b[0m     \u001b[38;5;28;01mreturn\u001b[39;00m \u001b[43m_explore\u001b[49m\u001b[43m(\u001b[49m\u001b[38;5;28;43mself\u001b[39;49m\u001b[43m,\u001b[49m\u001b[43m \u001b[49m\u001b[38;5;241;43m*\u001b[39;49m\u001b[43margs\u001b[49m\u001b[43m,\u001b[49m\u001b[43m \u001b[49m\u001b[38;5;241;43m*\u001b[39;49m\u001b[38;5;241;43m*\u001b[39;49m\u001b[43mkwargs\u001b[49m\u001b[43m)\u001b[49m\n",
      "File \u001b[0;32m~/miniconda3/envs/aaa_dev/lib/python3.10/site-packages/geopandas/explore.py:297\u001b[0m, in \u001b[0;36m_explore\u001b[0;34m(df, column, cmap, color, m, tiles, attr, tooltip, popup, highlight, categorical, legend, scheme, k, vmin, vmax, width, height, categories, classification_kwds, control_scale, marker_type, marker_kwds, style_kwds, highlight_kwds, missing_kwds, tooltip_kwds, popup_kwds, legend_kwds, map_kwds, **kwargs)\u001b[0m\n\u001b[1;32m    294\u001b[0m         \u001b[38;5;28;01mimport\u001b[39;00m \u001b[38;5;21;01mmatplotlib\u001b[39;00m\u001b[38;5;21;01m.\u001b[39;00m\u001b[38;5;21;01mcm\u001b[39;00m \u001b[38;5;28;01mas\u001b[39;00m \u001b[38;5;21;01mcm\u001b[39;00m\n\u001b[1;32m    296\u001b[0m \u001b[38;5;28;01mexcept\u001b[39;00m (\u001b[38;5;167;01mImportError\u001b[39;00m, \u001b[38;5;167;01mModuleNotFoundError\u001b[39;00m):\n\u001b[0;32m--> 297\u001b[0m     \u001b[38;5;28;01mraise\u001b[39;00m \u001b[38;5;167;01mImportError\u001b[39;00m(\n\u001b[1;32m    298\u001b[0m         \u001b[38;5;124m\"\u001b[39m\u001b[38;5;124mThe \u001b[39m\u001b[38;5;124m'\u001b[39m\u001b[38;5;124mfolium\u001b[39m\u001b[38;5;124m'\u001b[39m\u001b[38;5;124m, \u001b[39m\u001b[38;5;124m'\u001b[39m\u001b[38;5;124mmatplotlib\u001b[39m\u001b[38;5;124m'\u001b[39m\u001b[38;5;124m and \u001b[39m\u001b[38;5;124m'\u001b[39m\u001b[38;5;124mmapclassify\u001b[39m\u001b[38;5;124m'\u001b[39m\u001b[38;5;124m packages are required for \u001b[39m\u001b[38;5;124m\"\u001b[39m\n\u001b[1;32m    299\u001b[0m         \u001b[38;5;124m\"\u001b[39m\u001b[38;5;124m'\u001b[39m\u001b[38;5;124mexplore()\u001b[39m\u001b[38;5;124m'\u001b[39m\u001b[38;5;124m. You can install them using \u001b[39m\u001b[38;5;124m\"\u001b[39m\n\u001b[1;32m    300\u001b[0m         \u001b[38;5;124m\"\u001b[39m\u001b[38;5;124m'\u001b[39m\u001b[38;5;124mconda install -c conda-forge folium matplotlib mapclassify\u001b[39m\u001b[38;5;124m'\u001b[39m\u001b[38;5;124m \u001b[39m\u001b[38;5;124m\"\u001b[39m\n\u001b[1;32m    301\u001b[0m         \u001b[38;5;124m\"\u001b[39m\u001b[38;5;124mor \u001b[39m\u001b[38;5;124m'\u001b[39m\u001b[38;5;124mpip install folium matplotlib mapclassify\u001b[39m\u001b[38;5;124m'\u001b[39m\u001b[38;5;124m.\u001b[39m\u001b[38;5;124m\"\u001b[39m\n\u001b[1;32m    302\u001b[0m     )\n\u001b[1;32m    304\u001b[0m \u001b[38;5;66;03m# xyservices is an optional dependency\u001b[39;00m\n\u001b[1;32m    305\u001b[0m \u001b[38;5;28;01mtry\u001b[39;00m:\n",
      "\u001b[0;31mImportError\u001b[0m: The 'folium', 'matplotlib' and 'mapclassify' packages are required for 'explore()'. You can install them using 'conda install -c conda-forge folium matplotlib mapclassify' or 'pip install folium matplotlib mapclassify'."
     ]
    }
   ],
   "source": [
    "df_census_tracts = pd.read_csv(\"./data/chicago_census_tracts.csv\")\n",
    "\n",
    "df_census_tracts = transform_column_to_geometry(df_census_tracts, 'the_geom')\n",
    "\n",
    "gdf = gpd.GeoDataFrame(df_census_tracts, crs='EPSG:4326')\n",
    "gdf.explore(cmap='viridis', tiles='OpenStreetMap')"
   ]
  },
  {
   "cell_type": "markdown",
   "metadata": {},
   "source": [
    "## Display Community Area\n",
    "A community area is a larger administrative division within a city or metropolitan area. It is a way of organizing neighborhoods and communities for planning and statistical purposes."
   ]
  },
  {
   "cell_type": "code",
   "execution_count": null,
   "metadata": {
    "collapsed": false,
    "jupyter": {
     "outputs_hidden": false
    }
   },
   "outputs": [],
   "source": [
    "df_community_areas = pd.read_csv(\"./data/community_areas.csv\")\n",
    "df_community_areas = transform_column_to_geometry(df_community_areas, 'the_geom')\n",
    "\n",
    "gdf = gpd.GeoDataFrame(df_community_areas, crs='EPSG:4326')\n",
    "gdf.explore(cmap='viridis', tiles='OpenStreetMap')"
   ]
  },
  {
   "cell_type": "code",
   "execution_count": null,
   "metadata": {
    "collapsed": false,
    "jupyter": {
     "outputs_hidden": false
    },
    "pycharm": {
     "is_executing": true
    }
   },
   "outputs": [],
   "source": [
    "df_community_areas = pd.read_csv(\"./data/community_areas.csv\")\n",
    "community_areas_map = folium.Map(location=[41.8781, -87.6298], zoom_start=11)\n",
    "\n",
    "for index, row in df_community_areas.iterrows():\n",
    "    polygon = row['the_geom']\n",
    "    geojson = folium.GeoJson(shapely.wkt.loads(polygon).__geo_interface__)\n",
    "    geojson.style_function = lambda x: {'fillColor': 'red', 'color': 'red'}\n",
    "    geojson.add_to(community_areas_map)\n",
    "\n",
    "community_areas_map"
   ]
  },
  {
   "cell_type": "markdown",
   "metadata": {},
   "source": [
    "# Analysis"
   ]
  },
  {
   "cell_type": "markdown",
   "metadata": {},
   "source": [
    "## Census tracts with most pickups"
   ]
  },
  {
   "cell_type": "code",
   "execution_count": null,
   "metadata": {
    "collapsed": false,
    "jupyter": {
     "outputs_hidden": false
    },
    "pycharm": {
     "is_executing": true
    }
   },
   "outputs": [],
   "source": [
    "most_pickups = df_cleaned.groupby(by='pickup_census_tract', agg=vaex.agg.count())\n",
    "most_pickups.rename('_count', 'count')\n",
    "most_pickups = most_pickups.sort(by='count', ascending=False)\n",
    "most_pickups = most_pickups.to_pandas_df()\n",
    "most_pickups = most_pickups.reset_index()\n",
    "df_most_pickups_census = df_census_tracts.copy()\n",
    "\n",
    "# Visualize\n",
    "most_pickups_list = most_pickups['pickup_census_tract'].tolist()\n",
    "\n",
    "# Filter top\n",
    "df_most_pickups_census = df_most_pickups_census[df_most_pickups_census['GEOID10'].isin(most_pickups_list)]\n",
    "\n",
    "# Add values\n",
    "for index, elem in most_pickups.iterrows():\n",
    "    mask = df_most_pickups_census['GEOID10'] == elem['pickup_census_tract']\n",
    "    df_most_pickups_census.loc[mask, \"count\"] = elem['count']\n",
    "    \n",
    "\n",
    "df_most_pickups_census = df_most_pickups_census.loc[:, ['the_geom', 'count', 'NAME10']]\n",
    "df_most_pickups_census = transform_column_to_geometry(df_most_pickups_census, 'the_geom')\n",
    "\n",
    "df_most_pickups_census = df_most_pickups_census.loc[:, ['geometry', 'count', 'NAME10']]\n",
    "\n",
    "gdf = gpd.GeoDataFrame(df_most_pickups_census, crs='EPSG:4326')\n",
    "gdf.explore(column='count',cmap='viridis', tiles='OpenStreetMap')"
   ]
  },
  {
   "cell_type": "markdown",
   "metadata": {},
   "source": [
    "## Census tracts with most dropoffs"
   ]
  },
  {
   "cell_type": "code",
   "execution_count": null,
   "metadata": {
    "collapsed": false,
    "jupyter": {
     "outputs_hidden": false
    },
    "pycharm": {
     "is_executing": true
    }
   },
   "outputs": [],
   "source": [
    "most_dropoffs = df_cleaned.groupby(by='dropoff_census_tract', agg=vaex.agg.count())\n",
    "most_dropoffs.rename('_count', 'count')\n",
    "most_dropoffs = most_dropoffs.sort(by='count', ascending=False)\n",
    "most_dropoffs = most_dropoffs.to_pandas_df()\n",
    "most_dropoffs = most_dropoffs.reset_index()\n",
    "df_most_dropoffs_census = df_census_tracts.copy()\n",
    "\n",
    "# Visualize\n",
    "most_dropoffs_list = most_dropoffs['dropoff_census_tract'].tolist()\n",
    "\n",
    "# Filter empty\n",
    "df_most_dropoffs_census = df_most_dropoffs_census[df_most_dropoffs_census['GEOID10'].isin(most_dropoffs_list)]\n",
    "\n",
    "#Add values\n",
    "for index, elem in most_dropoffs.iterrows():\n",
    "    df_most_dropoffs_census.loc[df_most_dropoffs_census['GEOID10'] == elem['dropoff_census_tract'], \"count\"]  = elem['count']\n",
    "\n",
    "\n",
    "df_most_dropoffs_census = df_most_dropoffs_census.loc[:, ['the_geom', 'count', 'NAME10']]\n",
    "df_most_dropoffs_census = transform_column_to_geometry(df_most_dropoffs_census, 'the_geom')\n",
    "\n",
    "df_most_dropoffs_census = df_most_dropoffs_census.loc[:, ['geometry', 'count', 'NAME10']]\n",
    "\n",
    "gdf = gpd.GeoDataFrame(df_most_dropoffs_census, crs='EPSG:4326')\n",
    "gdf.explore(column='count',cmap='viridis', tiles='OpenStreetMap')"
   ]
  },
  {
   "cell_type": "markdown",
   "metadata": {},
   "source": [
    "## Top 5 of the most driven routes\n",
    "Red means start and green end"
   ]
  },
  {
   "cell_type": "code",
   "execution_count": null,
   "metadata": {
    "collapsed": false,
    "jupyter": {
     "outputs_hidden": false
    },
    "pycharm": {
     "is_executing": true
    }
   },
   "outputs": [],
   "source": [
    "most_driven_routes_map = folium.Map(location=[41.8781, -87.6298], zoom_start=11)\n",
    "\n",
    "routes_counts = df_cleaned.groupby(by=['pickup_census_tract', 'dropoff_census_tract'], agg=vaex.agg.count())\n",
    "routes_counts.rename('_count', 'count')\n",
    "sorted_routes = routes_counts.sort(by='count', ascending=False)\n",
    "sorted_routes = sorted_routes.to_pandas_df()\n",
    "top_routes = sorted_routes.head(10)\n",
    "\n",
    "polygons = df_census_tracts\n",
    "polygons = polygons.set_index('GEOID10')['the_geom']\n",
    "\n",
    "census_tracts = list(set(pd.concat([top_routes['pickup_census_tract'], top_routes['dropoff_census_tract']]).tolist()))\n",
    "\n",
    "# First add the polygons, we do not differentiate here if it is pickup or dropoff\n",
    "for cs in census_tracts:\n",
    "        if cs in polygons:\n",
    "            polygon = shapely.wkt.loads(polygons[cs])\n",
    "            geojson = folium.GeoJson(polygon.__geo_interface__)\n",
    "            geojson.add_to(most_driven_routes_map)\n",
    "\n",
    "# Add the lines. In order to have a clue where the start and end is, we use an experimental feature from folium,\n",
    "# the color line, here we add a red color from the start to the middle and a green color from the middle to the end\n",
    "for index, row in top_routes.iterrows():\n",
    "\n",
    "    if row['pickup_census_tract'] in polygons and row['dropoff_census_tract'] in polygons:\n",
    "        start_poly = shapely.wkt.loads(polygons[row['pickup_census_tract']])\n",
    "        end_poly = shapely.wkt.loads(polygons[row['dropoff_census_tract']])\n",
    "\n",
    "        lat_mid = (start_poly.centroid.y + end_poly.centroid.y) / 2\n",
    "        lon_mid = (start_poly.centroid.x + end_poly.centroid.x) / 2\n",
    "\n",
    "        color_line = folium.features.ColorLine(\n",
    "            [[start_poly.centroid.y, start_poly.centroid.x], [lat_mid, lon_mid], [end_poly.centroid.y, end_poly.centroid.x]],\n",
    "            [0, 1],\n",
    "            colormap=['red', 'green'],\n",
    "            weight=5\n",
    "        )\n",
    "\n",
    "        color_line.add_to(most_driven_routes_map)\n",
    "\n",
    "print('Red means start and green end')\n",
    "\n",
    "most_driven_routes_map"
   ]
  },
  {
   "cell_type": "markdown",
   "metadata": {},
   "source": [
    "## Pickup Areas with the longest routes"
   ]
  },
  {
   "cell_type": "code",
   "execution_count": null,
   "metadata": {
    "collapsed": false,
    "jupyter": {
     "outputs_hidden": false
    },
    "pycharm": {
     "is_executing": true
    }
   },
   "outputs": [],
   "source": [
    "most_miles_vaex = df_cleaned.groupby(by='pickup_census_tract', agg={'max_trip_miles': vaex.agg.max('trip_miles')})\n",
    "most_miles_vaex = most_miles_vaex.sort(by='max_trip_miles', ascending=False)\n",
    "df_most_miles = most_miles_vaex.to_pandas_df()\n",
    "df_pickups_most_miles_census = df_census_tracts.copy()\n",
    "\n",
    "# Filter empty census tracts\n",
    "most_miles_pickup_list = df_most_miles['pickup_census_tract'].tolist()\n",
    "df_pickups_most_miles_census = df_pickups_most_miles_census[df_pickups_most_miles_census['GEOID10'].isin(most_miles_pickup_list)]\n",
    "\n",
    "#Add values\n",
    "for index, elem in df_most_miles.iterrows():\n",
    "    df_pickups_most_miles_census.loc[df_pickups_most_miles_census['GEOID10'] == elem['pickup_census_tract'], \"max_trip_miles\"]  = elem['max_trip_miles']\n",
    "\n",
    "\n",
    "df_pickups_most_miles_census = df_pickups_most_miles_census.loc[:, ['the_geom', 'max_trip_miles', 'NAME10']]\n",
    "df_pickups_most_miles_census = transform_column_to_geometry(df_pickups_most_miles_census, 'the_geom')\n",
    "\n",
    "df_pickups_most_miles_census = df_pickups_most_miles_census.loc[:, ['geometry', 'max_trip_miles', 'NAME10']]\n",
    "\n",
    "gdf = gpd.GeoDataFrame(df_pickups_most_miles_census, crs='EPSG:4326')\n",
    "gdf.explore(column='max_trip_miles',cmap='viridis', tiles='OpenStreetMap')"
   ]
  },
  {
   "cell_type": "markdown",
   "metadata": {},
   "source": [
    "## Pickup areas by Tip height"
   ]
  },
  {
   "cell_type": "code",
   "execution_count": null,
   "metadata": {
    "collapsed": false,
    "jupyter": {
     "outputs_hidden": false
    },
    "pycharm": {
     "is_executing": true
    }
   },
   "outputs": [],
   "source": [
    "df_trips_by_tip = df_cleaned.groupby(by='pickup_census_tract', agg={'mean_tips': vaex.agg.mean('tips'), 'count': vaex.agg.count()})\n",
    "df_trips_by_tip = df_trips_by_tip.to_pandas_df()\n",
    "df_census_highest_tip = df_census_tracts.copy()\n",
    "\n",
    "df_trips_by_tip.columns = ['pickup_census_tract', 'average_tip', 'number_of_trips']\n",
    "\n",
    "df_census_pickup_highest_tip = df_trips_by_tip.sort_values(['average_tip'], ascending=False)\n",
    "df_census_pickup_highest_tip.index = range(0, len(df_census_pickup_highest_tip))\n",
    "\n",
    "# Filter empty census tracts\n",
    "highest_tip_pickup_list = df_census_pickup_highest_tip['pickup_census_tract'].tolist()\n",
    "df_census_highest_tip = df_census_highest_tip[df_census_highest_tip['GEOID10'].isin(highest_tip_pickup_list)]\n",
    "\n",
    "#Add values\n",
    "for index, elem in df_census_pickup_highest_tip.iterrows():\n",
    "    df_census_highest_tip.loc[df_census_highest_tip['GEOID10'] == elem['pickup_census_tract'], \"average_tip\"]  = elem['average_tip']\n",
    "\n",
    "\n",
    "df_census_highest_tip = df_census_highest_tip.loc[:, ['the_geom', 'average_tip', 'NAME10']]\n",
    "df_census_highest_tip = transform_column_to_geometry(df_census_highest_tip, 'the_geom')\n",
    "\n",
    "df_census_highest_tip = df_census_highest_tip.loc[:, ['geometry', 'average_tip', 'NAME10']]\n",
    "\n",
    "gdf = gpd.GeoDataFrame(df_census_highest_tip, crs='EPSG:4326')\n",
    "gdf.explore(column='average_tip',cmap='viridis', tiles='OpenStreetMap')"
   ]
  },
  {
   "cell_type": "markdown",
   "metadata": {},
   "source": [
    "## Taxis with the longest trip"
   ]
  },
  {
   "cell_type": "code",
   "execution_count": null,
   "metadata": {
    "collapsed": false,
    "jupyter": {
     "outputs_hidden": false
    },
    "pycharm": {
     "is_executing": true
    }
   },
   "outputs": [],
   "source": [
    "# Groupby and aggregation\n",
    "taxis_with_longest_distance = df_cleaned.groupby(by='taxi_id', agg={'trip_miles_sum': vaex.agg.sum('trip_miles')})\n",
    "\n",
    "# Sorting\n",
    "taxis_with_longest_distance = taxis_with_longest_distance_vaex.sort(by='trip_miles_sum', ascending=False)\n",
    "\n",
    "taxis_with_longest_distance.head(10)"
   ]
  },
  {
   "cell_type": "markdown",
   "metadata": {},
   "source": [
    "## Most used payment methods for every area"
   ]
  },
  {
   "cell_type": "code",
   "execution_count": null,
   "metadata": {
    "collapsed": false,
    "jupyter": {
     "outputs_hidden": false
    },
    "pycharm": {
     "is_executing": true
    }
   },
   "outputs": [],
   "source": [
    "payment_map = folium.Map(location=[41.8781, -87.6298], zoom_start=11)\n",
    "payment_counts = df_cleaned.groupby(by=['pickup_census_tract', 'payment_type'], agg=vaex.agg.count())\n",
    "payment_counts.rename('_count', 'count')\n",
    "payment_counts = payment_counts.to_pandas_df()\n",
    "\n",
    "# Find the maximum count for each place ID\n",
    "max_counts = payment_counts.groupby('pickup_census_tract')['count'].max()\n",
    "\n",
    "# Create two separate DataFrames for each payment type based on the maximum counts\n",
    "cash_payments = payment_counts[payment_counts['payment_type'] == 'Cash'].loc[payment_counts['count'].isin(max_counts)]\n",
    "credit_card_payments = payment_counts[payment_counts['payment_type'] == 'Credit Card'].loc[payment_counts['count'].isin(max_counts)]\n",
    "\n",
    "# Extract unique place IDs for each payment type\n",
    "cash_place_ids = cash_payments['pickup_census_tract'].unique().tolist()\n",
    "credit_card_place_ids = credit_card_payments['pickup_census_tract'].unique().tolist()\n",
    "\n",
    "df_payment_census = df_census_tracts\n",
    "df_payment_census['count'] = None\n",
    "df_payment_census['label'] = None\n",
    "\n",
    "# Filter top\n",
    "df_cash_census = df_payment_census[df_payment_census['GEOID10'].isin(cash_place_ids)]\n",
    "df_credit_card_census = df_payment_census[df_payment_census['GEOID10'].isin(credit_card_place_ids)]\n",
    "\n",
    "\n",
    "payment_map = create_census_map(payment_map, df_cash_census, 'green')\n",
    "payment_map = create_census_map(payment_map, df_credit_card_census, 'red')\n",
    "print(\"green is cash; red is credit card\")\n",
    "\n",
    "payment_map"
   ]
  },
  {
   "cell_type": "markdown",
   "metadata": {},
   "source": []
  },
  {
   "cell_type": "code",
   "execution_count": null,
   "metadata": {
    "collapsed": false,
    "jupyter": {
     "outputs_hidden": false
    },
    "pycharm": {
     "is_executing": true
    }
   },
   "outputs": [],
   "source": []
  }
 ],
 "metadata": {
  "kernelspec": {
   "display_name": "Python 3.10 (aaadev)",
   "language": "python",
   "name": "aaa_dev"
  },
  "language_info": {
   "codemirror_mode": {
    "name": "ipython",
    "version": 3
   },
   "file_extension": ".py",
   "mimetype": "text/x-python",
   "name": "python",
   "nbconvert_exporter": "python",
   "pygments_lexer": "ipython3",
   "version": "3.10.12"
  }
 },
 "nbformat": 4,
 "nbformat_minor": 4
}
