{
 "cells": [
  {
   "cell_type": "code",
   "execution_count": null,
   "metadata": {},
   "outputs": [],
   "source": [
    "from bs4 import BeautifulSoup\n",
    "import requests\n",
    "from selenium import webdriver\n",
    "from selenium.webdriver.common.keys import Keys\n",
    "import time\n",
    "import pandas as pd\n",
    "import numpy as np\n",
    "import datetime\n",
    "from datetime import datetime"
   ]
  },
  {
   "cell_type": "code",
   "execution_count": null,
   "metadata": {},
   "outputs": [],
   "source": [
    "#EXECUTE ONLY ONCE TO SCRAPE WEATHER DATA\n",
    "driver = webdriver.Safari(executable_path ='/usr/bin/safaridriver')\n",
    "df = pd.DataFrame(columns=['time', 'temp', 'dew_point', 'humidity', 'wind', 'wind_speed', 'wind_gust', 'pressure', 'precip', 'condition', 'date'])\n",
    "\n",
    "for i in range(1,13):\n",
    "    days_in_month = 0\n",
    "    if i in [1,3,5,7,8,10,12]:\n",
    "        days_in_month = 32\n",
    "    elif i in [4,6,9,11]:\n",
    "        days_in_month = 31\n",
    "    elif i in [2]:\n",
    "        days_in_month = 29\n",
    "    for j in range(1,days_in_month):\n",
    "        date = f'{j}.{i}.2017'\n",
    "        print(date)\n",
    "        url = f'https://www.wunderground.com/history/daily/KMDW/date/2017-{i}-{j}'\n",
    "        driver.get(url)\n",
    "        time.sleep(3)\n",
    "        html = driver.page_source\n",
    "        soup = BeautifulSoup(html, 'html.parser')\n",
    "        table = soup.find('table', attrs={'class': 'mat-table cdk-table mat-sort ng-star-inserted' })\n",
    "        table_rows = table.find_all('tr')\n",
    "        l = []\n",
    "        for tr in table_rows:       \n",
    "            td = tr.find_all('td')\n",
    "            row = [tr.text for tr in td]\n",
    "            if row:\n",
    "                row.append(f'{j}.{i}.2017')\n",
    "            l.append(row)\n",
    "            l = list(filter(None, l))\n",
    "        for k in l:\n",
    "            df.loc[len(df)] = k\n",
    "            \n",
    "            \n",
    "\n",
    "driver.quit()\n",
    "      \n"
   ]
  },
  {
   "cell_type": "code",
   "execution_count": null,
   "metadata": {},
   "outputs": [],
   "source": [
    "df.tail()"
   ]
  },
  {
   "cell_type": "code",
   "execution_count": null,
   "metadata": {},
   "outputs": [],
   "source": [
    "#save scraped data in csv\n",
    "df.to_csv('./data/weather_data_date.csv', index = False)"
   ]
  },
  {
   "cell_type": "code",
   "execution_count": null,
   "metadata": {},
   "outputs": [],
   "source": []
  },
  {
   "cell_type": "code",
   "execution_count": null,
   "metadata": {},
   "outputs": [],
   "source": [
    "#load scraped data for further processing\n",
    "df = pd.read_csv('./data/weather_data_date.csv')"
   ]
  },
  {
   "cell_type": "code",
   "execution_count": null,
   "metadata": {},
   "outputs": [],
   "source": [
    "#filter out all datapoints that have been collected outside of the hourly (XX:53 AM/PM) weather measurements \n",
    "tuple = ('53 AM', \"53 PM\")\n",
    "df_hourly_measurement = df[df['time'].str.endswith(tuple)]\n",
    "len(df_hourly_measurement)"
   ]
  },
  {
   "cell_type": "code",
   "execution_count": null,
   "metadata": {},
   "outputs": [],
   "source": [
    "df_hourly_measurement = df_hourly_measurement.reset_index()"
   ]
  },
  {
   "cell_type": "code",
   "execution_count": null,
   "metadata": {},
   "outputs": [],
   "source": [
    "df_hourly_measurement['time'] = pd.to_datetime(df_hourly_measurement['time'], format='%I:%M %p').dt.strftime('%H:%M')\n",
    "df_hourly_measurement['date'] = pd.to_datetime(df_hourly_measurement['date'], format='%d.%m.%Y').dt.strftime('%Y-%m-%d')\n",
    "date = df_hourly_measurement['date']\n",
    "df_hourly_measurement.drop(labels=['date'], axis=1,inplace = True)\n",
    "df_hourly_measurement.insert(1, 'date', date)\n",
    "df_hourly_measurement.drop('index', axis=1, inplace = True)\n",
    "df_hourly_measurement.head()"
   ]
  },
  {
   "cell_type": "code",
   "execution_count": null,
   "metadata": {},
   "outputs": [],
   "source": [
    "#Identify Duplicates\n",
    "duplicate_counts = df_hourly_measurement.groupby(['date', 'time']).size().reset_index(name='count')\n",
    "duplicate_counts = duplicate_counts[duplicate_counts['count'] > 1]\n",
    "\n",
    "print(duplicate_counts)"
   ]
  },
  {
   "cell_type": "code",
   "execution_count": null,
   "metadata": {},
   "outputs": [],
   "source": [
    "#Drop Duplicates\n",
    "df_hourly_measurement.drop_duplicates(subset=['date','time'], keep='first', inplace=True)"
   ]
  },
  {
   "cell_type": "code",
   "execution_count": null,
   "metadata": {},
   "outputs": [],
   "source": [
    "#Check for duplicates again, to see if it worked\n",
    "duplicate_counts = df_hourly_measurement.groupby(['date', 'time']).size().reset_index(name='count')\n",
    "duplicate_counts = duplicate_counts[duplicate_counts['count'] > 1]\n",
    "print(duplicate_counts)"
   ]
  },
  {
   "cell_type": "code",
   "execution_count": null,
   "metadata": {
    "scrolled": true
   },
   "outputs": [],
   "source": [
    "#Sort array, since 00:53 was always on the end of a day, even if it has to be first\n",
    "# Reset index since after sorting it might change \n",
    "df_hourly_measurement = df_hourly_measurement.sort_values(by=['date', 'time'])\n",
    "df_hourly_measurement.reset_index(inplace = True, drop = True)\n",
    "df_hourly_measurement.head()"
   ]
  },
  {
   "cell_type": "code",
   "execution_count": null,
   "metadata": {},
   "outputs": [],
   "source": [
    "print('Number of missing Hours: ',(365*24)- len(df_hourly_measurement))"
   ]
  },
  {
   "cell_type": "code",
   "execution_count": null,
   "metadata": {},
   "outputs": [],
   "source": [
    "# Create reference dataframes for date and time: They contain 24 hours for each day and will be used to compare with our dataframe \n",
    "# Thus helping to identify missing hours\n",
    "\n",
    "ref_dates = pd.date_range(start = \"2017-01-01\", end = \"2017-12-31\", freq = 'D')\n",
    "ref_times = pd.date_range(start = \"00:53\", end = \"23:53\", freq = 'H').time\n",
    "#Create 24 date-time couples, for every date\n",
    "ref_df = pd.DataFrame([(date,time) for date in ref_dates for time in ref_times], columns =['date', 'time'])\n",
    "#convert columns for later combination\n",
    "ref_df['time'] = ref_df['time'].astype(str)\n",
    "ref_df['date'] = ref_df['date'].dt.strftime('%Y-%m-%d')\n",
    "ref_df['date_time'] = pd.to_datetime(ref_df['date'] + ' ' + ref_df['time'])\n",
    "ref_df.head()"
   ]
  },
  {
   "cell_type": "code",
   "execution_count": null,
   "metadata": {},
   "outputs": [],
   "source": [
    "df_hourly_measurement['date_time'] = pd.to_datetime(df_hourly_measurement['date'] + df_hourly_measurement['time'], format='%Y-%m-%d%H:%M')\n",
    "df_hourly_measurement.head()"
   ]
  },
  {
   "cell_type": "code",
   "execution_count": 430,
   "metadata": {},
   "outputs": [
    {
     "name": "stdout",
     "output_type": "stream",
     "text": [
      "             date_time\n",
      "0  2017-10-29 00:53:00\n",
      "1  2017-11-19 13:53:00\n",
      "2  2017-10-28 20:53:00\n",
      "3  2017-11-17 20:53:00\n",
      "4  2017-08-17 04:53:00\n",
      "5  2017-08-17 03:53:00\n",
      "6  2017-08-17 01:53:00\n",
      "7  2017-08-17 00:53:00\n",
      "8  2017-06-18 23:53:00\n",
      "9  2017-07-18 04:53:00\n",
      "10 2017-08-17 02:53:00\n",
      "11 2017-03-25 23:53:00\n",
      "12 2017-10-02 23:53:00\n",
      "13 2017-03-12 00:53:00\n",
      "14 2017-06-18 22:53:00\n",
      "15 2017-03-26 02:53:00\n"
     ]
    }
   ],
   "source": [
    "#convert date_time columns of df_hourly_measurement and ref_df into a list to easily get missing values using .difference function of list\n",
    "current_dt = df_hourly_measurement['date_time'].tolist()\n",
    "expected_dt = ref_df['date_time'].tolist()\n",
    "missing_dt = list(set(expected_dt).difference(current_dt))\n",
    "df_missing = pd.DataFrame({'date_time': missing_dt})\n",
    "print(df_missing)"
   ]
  },
  {
   "cell_type": "code",
   "execution_count": 465,
   "metadata": {},
   "outputs": [],
   "source": [
    "# merge df_hourly_measurement together to obtain a dataframe that contains all hours, but still needs to fill all other columns\n",
    "df_merged = pd.merge(df_hourly_measurement, df_missing, on='date_time', how='outer')\n",
    "df_merged.sort_values(by='date_time', inplace=True)\n",
    "df_merged.reset_index(inplace = True, drop = True)\n",
    "#df_merged.head()"
   ]
  },
  {
   "cell_type": "code",
   "execution_count": 470,
   "metadata": {},
   "outputs": [
    {
     "name": "stdout",
     "output_type": "stream",
     "text": [
      "            date   time   temp dew_point humidity wind wind_speed wind_gust  \\\n",
      "178   2017-01-08  10:53   9 °F     -6 °F    51 °%  NaN     0 °mph    0 °mph   \n",
      "180   2017-01-08  12:53  14 °F     -6 °F    41 °%  NaN     0 °mph    0 °mph   \n",
      "1608  2017-03-09  00:53  37 °F     17 °F    44 °%  NaN     0 °mph    0 °mph   \n",
      "1680         NaN    NaN    NaN       NaN      NaN  NaN        NaN       NaN   \n",
      "2012  2017-03-25  20:53  47 °F     46 °F    97 °%  NaN     0 °mph    0 °mph   \n",
      "2015         NaN    NaN    NaN       NaN      NaN  NaN        NaN       NaN   \n",
      "2018         NaN    NaN    NaN       NaN      NaN  NaN        NaN       NaN   \n",
      "2183  2017-04-01  23:53  45 °F     21 °F    39 °%  NaN     0 °mph    0 °mph   \n",
      "4054         NaN    NaN    NaN       NaN      NaN  NaN        NaN       NaN   \n",
      "4055         NaN    NaN    NaN       NaN      NaN  NaN        NaN       NaN   \n",
      "4756         NaN    NaN    NaN       NaN      NaN  NaN        NaN       NaN   \n",
      "5472         NaN    NaN    NaN       NaN      NaN  NaN        NaN       NaN   \n",
      "5473         NaN    NaN    NaN       NaN      NaN  NaN        NaN       NaN   \n",
      "5474         NaN    NaN    NaN       NaN      NaN  NaN        NaN       NaN   \n",
      "5475         NaN    NaN    NaN       NaN      NaN  NaN        NaN       NaN   \n",
      "5476         NaN    NaN    NaN       NaN      NaN  NaN        NaN       NaN   \n",
      "5747  2017-08-28  11:53  74 °F     60 °F    62 °%  NaN     0 °mph    0 °mph   \n",
      "5769  2017-08-29  09:53  74 °F     62 °F    66 °%  NaN     0 °mph    0 °mph   \n",
      "6599         NaN    NaN    NaN       NaN      NaN  NaN        NaN       NaN   \n",
      "7220         NaN    NaN    NaN       NaN      NaN  NaN        NaN       NaN   \n",
      "7224         NaN    NaN    NaN       NaN      NaN  NaN        NaN       NaN   \n",
      "7700         NaN    NaN    NaN       NaN      NaN  NaN        NaN       NaN   \n",
      "7741         NaN    NaN    NaN       NaN      NaN  NaN        NaN       NaN   \n",
      "\n",
      "       pressure   precip      condition           date_time  \n",
      "178   30.05 °in  0.0 °in           Fair 2017-01-08 10:53:00  \n",
      "180   29.99 °in  0.0 °in  Partly Cloudy 2017-01-08 12:53:00  \n",
      "1608  29.49 °in  0.0 °in         Cloudy 2017-03-09 00:53:00  \n",
      "1680        NaN      NaN            NaN 2017-03-12 00:53:00  \n",
      "2012  29.30 °in  0.0 °in     Light Rain 2017-03-25 20:53:00  \n",
      "2015        NaN      NaN            NaN 2017-03-25 23:53:00  \n",
      "2018        NaN      NaN            NaN 2017-03-26 02:53:00  \n",
      "2183  29.55 °in  0.0 °in  Mostly Cloudy 2017-04-01 23:53:00  \n",
      "4054        NaN      NaN            NaN 2017-06-18 22:53:00  \n",
      "4055        NaN      NaN            NaN 2017-06-18 23:53:00  \n",
      "4756        NaN      NaN            NaN 2017-07-18 04:53:00  \n",
      "5472        NaN      NaN            NaN 2017-08-17 00:53:00  \n",
      "5473        NaN      NaN            NaN 2017-08-17 01:53:00  \n",
      "5474        NaN      NaN            NaN 2017-08-17 02:53:00  \n",
      "5475        NaN      NaN            NaN 2017-08-17 03:53:00  \n",
      "5476        NaN      NaN            NaN 2017-08-17 04:53:00  \n",
      "5747  29.35 °in  0.0 °in  Mostly Cloudy 2017-08-28 11:53:00  \n",
      "5769  29.38 °in  0.0 °in  Mostly Cloudy 2017-08-29 09:53:00  \n",
      "6599        NaN      NaN            NaN 2017-10-02 23:53:00  \n",
      "7220        NaN      NaN            NaN 2017-10-28 20:53:00  \n",
      "7224        NaN      NaN            NaN 2017-10-29 00:53:00  \n",
      "7700        NaN      NaN            NaN 2017-11-17 20:53:00  \n",
      "7741        NaN      NaN            NaN 2017-11-19 13:53:00  \n",
      "          time   temp dew_point humidity  wind wind_speed wind_gust  \\\n",
      "1679  10:53 AM  42 °F     31 °F    65 °%     S     5 °mph    0 °mph   \n",
      "2014  10:53 PM  25 °F     -5 °F    27 °%     N     9 °mph    0 °mph   \n",
      "2017   1:53 AM  22 °F     -7 °F    28 °%     N    14 °mph    0 °mph   \n",
      "4053   6:53 AM  44 °F     40 °F    85 °%   NNE    24 °mph    0 °mph   \n",
      "4054   7:53 AM  45 °F     39 °F    80 °%   NNE    23 °mph   30 °mph   \n",
      "4755   2:44 PM  80 °F     73 °F    79 °%   VAR     5 °mph    0 °mph   \n",
      "5471   4:53 AM  74 °F     70 °F    87 °%   NNW     6 °mph    0 °mph   \n",
      "5472   5:53 AM  72 °F     70 °F    93 °%     W     3 °mph    0 °mph   \n",
      "5473   6:53 AM  74 °F     70 °F    87 °%   NNW     7 °mph    0 °mph   \n",
      "5474   7:53 AM  77 °F     70 °F    79 °%  CALM     0 °mph    0 °mph   \n",
      "5475   8:53 AM  78 °F     70 °F    76 °%  CALM     0 °mph    0 °mph   \n",
      "6598   6:39 AM  71 °F     68 °F    90 °%   WSW     9 °mph    0 °mph   \n",
      "7219   1:53 PM  86 °F     60 °F    41 °%     S    14 °mph    0 °mph   \n",
      "7223   5:53 PM  86 °F     59 °F    40 °%   SSE    10 °mph    0 °mph   \n",
      "7699   2:53 PM  70 °F     57 °F    63 °%   SSW     6 °mph    0 °mph   \n",
      "7740   3:38 AM  62 °F     60 °F    93 °%    NE     8 °mph    0 °mph   \n",
      "1680  11:53 AM  46 °F     32 °F    58 °%     S     9 °mph   18 °mph   \n",
      "2015  11:53 PM  24 °F     -5 °F    28 °%   NNW     8 °mph    0 °mph   \n",
      "2018   2:53 AM  22 °F     -7 °F    28 °%     N     8 °mph   20 °mph   \n",
      "4054   7:53 AM  45 °F     39 °F    80 °%   NNE    23 °mph   30 °mph   \n",
      "4055   8:53 AM  45 °F     41 °F    86 °%    NE    16 °mph   25 °mph   \n",
      "4756   2:53 PM  81 °F     74 °F    79 °%     E     7 °mph    0 °mph   \n",
      "5472   5:53 AM  72 °F     70 °F    93 °%     W     3 °mph    0 °mph   \n",
      "5473   6:53 AM  74 °F     70 °F    87 °%   NNW     7 °mph    0 °mph   \n",
      "5474   7:53 AM  77 °F     70 °F    79 °%  CALM     0 °mph    0 °mph   \n",
      "5475   8:53 AM  78 °F     70 °F    76 °%  CALM     0 °mph    0 °mph   \n",
      "5476   9:31 AM  79 °F     70 °F    74 °%   SSE     3 °mph    0 °mph   \n",
      "6599   6:53 AM  71 °F     68 °F    90 °%     W     9 °mph    0 °mph   \n",
      "7220   2:53 PM  87 °F     58 °F    37 °%    SW    10 °mph    0 °mph   \n",
      "7224   6:53 PM  84 °F     59 °F    43 °%     S     7 °mph    0 °mph   \n",
      "7700   3:53 PM  71 °F     56 °F    59 °%   SSW     6 °mph    0 °mph   \n",
      "7741   3:53 AM  62 °F     60 °F    93 °%    NE     6 °mph    0 °mph   \n",
      "1681  12:53 PM  48 °F     33 °F    56 °%   SSW    12 °mph   20 °mph   \n",
      "2016  12:53 AM  23 °F     -6 °F    28 °%   NNW    17 °mph    0 °mph   \n",
      "2019   3:53 AM  21 °F     -4 °F    33 °%   VAR     7 °mph   18 °mph   \n",
      "4055   8:53 AM  45 °F     41 °F    86 °%    NE    16 °mph   25 °mph   \n",
      "4056   9:35 AM  45 °F     40 °F    82 °%   NNE    16 °mph    0 °mph   \n",
      "4757   3:08 PM  78 °F     71 °F    79 °%     E    16 °mph    0 °mph   \n",
      "5473   6:53 AM  74 °F     70 °F    87 °%   NNW     7 °mph    0 °mph   \n",
      "5474   7:53 AM  77 °F     70 °F    79 °%  CALM     0 °mph    0 °mph   \n",
      "5475   8:53 AM  78 °F     70 °F    76 °%  CALM     0 °mph    0 °mph   \n",
      "5476   9:31 AM  79 °F     70 °F    74 °%   SSE     3 °mph    0 °mph   \n",
      "5477   9:53 AM  79 °F     71 °F    77 °%  CALM     0 °mph    0 °mph   \n",
      "6600   7:42 AM  71 °F     68 °F    90 °%    SW    12 °mph    0 °mph   \n",
      "7221   3:53 PM  87 °F     59 °F    39 °%   SSE    12 °mph    0 °mph   \n",
      "7225   7:53 PM  82 °F     59 °F    45 °%   SSE     8 °mph    0 °mph   \n",
      "7701   4:53 PM  72 °F     56 °F    57 °%    SW     7 °mph    0 °mph   \n",
      "7742   4:15 AM  62 °F     60 °F    93 °%    NE     6 °mph    0 °mph   \n",
      "\n",
      "       pressure   precip                condition       date  \n",
      "1679  29.50 °in  0.0 °in                     Fair  27.2.2017  \n",
      "2014  29.75 °in  0.0 °in            Partly Cloudy  10.3.2017  \n",
      "2017  29.76 °in  0.0 °in                   Cloudy  11.3.2017  \n",
      "4053  29.42 °in  0.0 °in           Cloudy / Windy  19.5.2017  \n",
      "4054  29.43 °in  0.0 °in           Cloudy / Windy  19.5.2017  \n",
      "4755  29.18 °in  0.2 °in  Light Rain with Thunder  14.6.2017  \n",
      "5471  29.18 °in  0.0 °in                     Fair  11.7.2017  \n",
      "5472  29.19 °in  0.0 °in            Mostly Cloudy  11.7.2017  \n",
      "5473  29.20 °in  0.0 °in            Partly Cloudy  11.7.2017  \n",
      "5474  29.21 °in  0.0 °in                   Cloudy  11.7.2017  \n",
      "5475  29.21 °in  0.0 °in            Mostly Cloudy  11.7.2017  \n",
      "6598  29.21 °in  0.0 °in                   Cloudy  22.8.2017  \n",
      "7219  29.33 °in  0.0 °in                     Fair  15.9.2017  \n",
      "7223  29.32 °in  0.0 °in                     Fair  15.9.2017  \n",
      "7699  29.58 °in  0.0 °in            Mostly Cloudy  4.10.2017  \n",
      "7740  29.36 °in  0.0 °in            Light Drizzle  6.10.2017  \n",
      "1680  29.49 °in  0.0 °in                     Fair  27.2.2017  \n",
      "2015  29.75 °in  0.0 °in                   Cloudy  10.3.2017  \n",
      "2018  29.75 °in  0.0 °in                   Cloudy  11.3.2017  \n",
      "4054  29.43 °in  0.0 °in           Cloudy / Windy  19.5.2017  \n",
      "4055  29.44 °in  0.0 °in                   Cloudy  19.5.2017  \n",
      "4756  29.15 °in  0.2 °in                  Thunder  14.6.2017  \n",
      "5472  29.19 °in  0.0 °in            Mostly Cloudy  11.7.2017  \n",
      "5473  29.20 °in  0.0 °in            Partly Cloudy  11.7.2017  \n",
      "5474  29.21 °in  0.0 °in                   Cloudy  11.7.2017  \n",
      "5475  29.21 °in  0.0 °in            Mostly Cloudy  11.7.2017  \n",
      "5476  29.21 °in  0.0 °in                   Cloudy  11.7.2017  \n",
      "6599  29.22 °in  0.0 °in                   Cloudy  22.8.2017  \n",
      "7220  29.32 °in  0.0 °in                     Fair  15.9.2017  \n",
      "7224  29.32 °in  0.0 °in                     Fair  15.9.2017  \n",
      "7700  29.58 °in  0.0 °in            Mostly Cloudy  4.10.2017  \n",
      "7741  29.36 °in  0.0 °in            Light Drizzle  6.10.2017  \n",
      "1681  29.48 °in  0.0 °in            Mostly Cloudy  27.2.2017  \n",
      "2016  29.76 °in  0.0 °in                   Cloudy  10.3.2017  \n",
      "2019  29.76 °in  0.0 °in                   Cloudy  11.3.2017  \n",
      "4055  29.44 °in  0.0 °in                   Cloudy  19.5.2017  \n",
      "4056  29.46 °in  0.0 °in               Light Rain  19.5.2017  \n",
      "4757  29.13 °in  0.0 °in               Light Rain  14.6.2017  \n",
      "5473  29.20 °in  0.0 °in            Partly Cloudy  11.7.2017  \n",
      "5474  29.21 °in  0.0 °in                   Cloudy  11.7.2017  \n",
      "5475  29.21 °in  0.0 °in            Mostly Cloudy  11.7.2017  \n",
      "5476  29.21 °in  0.0 °in                   Cloudy  11.7.2017  \n",
      "5477  29.21 °in  0.0 °in                   Cloudy  11.7.2017  \n",
      "6600  29.22 °in  0.0 °in                   Cloudy  22.8.2017  \n",
      "7221  29.31 °in  0.0 °in                     Fair  15.9.2017  \n",
      "7225  29.33 °in  0.0 °in                     Fair  15.9.2017  \n",
      "7701  29.56 °in  0.0 °in            Mostly Cloudy  4.10.2017  \n",
      "7742  29.36 °in  0.0 °in            Light Drizzle  6.10.2017  \n"
     ]
    }
   ],
   "source": [
    "# get all rows that have NaN values => all, which only have the date_time defined are the added missing values\n",
    "nan_rows = df_merged[df_merged.isna().any(axis=1)]\n",
    "print(nan_rows)\n",
    "\n",
    "#there are rows with one NaN\n",
    "nan_counts = df_merged.isna().sum(axis=1)\n",
    "inserted_rows = df_merged[nan_counts > 1]\n",
    "\n",
    "nan_indices = inserted_rows.index\n",
    "\n",
    "\n",
    "rows_to_view = df.iloc[np.concatenate([nan_indices - 1, nan_indices, nan_indices + 1])]\n",
    "\n",
    "print(rows_to_view)"
   ]
  },
  {
   "cell_type": "code",
   "execution_count": null,
   "metadata": {},
   "outputs": [],
   "source": []
  }
 ],
 "metadata": {
  "kernelspec": {
   "display_name": "Python 3 (ipykernel)",
   "language": "python",
   "name": "python3"
  },
  "language_info": {
   "codemirror_mode": {
    "name": "ipython",
    "version": 3
   },
   "file_extension": ".py",
   "mimetype": "text/x-python",
   "name": "python",
   "nbconvert_exporter": "python",
   "pygments_lexer": "ipython3",
   "version": "3.9.13"
  }
 },
 "nbformat": 4,
 "nbformat_minor": 2
}
