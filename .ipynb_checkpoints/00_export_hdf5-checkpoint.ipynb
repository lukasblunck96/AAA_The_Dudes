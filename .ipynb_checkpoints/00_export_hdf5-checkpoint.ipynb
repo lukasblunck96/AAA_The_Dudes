{
 "cells": [
  {
   "cell_type": "code",
   "execution_count": null,
   "metadata": {},
   "outputs": [],
   "source": [
    "### ONLY EXECUTE IF HDF5 FILES NOT EXPORTED ALREADY ###\n",
    "import vaex\n",
    "#for i, df in enumerate(vaex.read_csv('./data/Taxi_Trips_-_2017.csv', chunk_size=1_000_000, parse_dates=['Trip Start Timestamp', 'Trip End Timestamp'])):\n",
    "    #df.export_hdf5(f'./chunks/taxi_{i:02}.hdf5')\n",
    "df = vaex.from_csv('./data/Taxi_Trips_-_2017.csv', convert = './data/trips.hdf5', progress=True)"
   ]
  }
 ],
 "metadata": {
  "kernelspec": {
   "display_name": "AAproject",
   "language": "python",
   "name": "python3"
  },
  "language_info": {
   "name": "python",
   "version": "3.9.15"
  },
  "orig_nbformat": 4
 },
 "nbformat": 4,
 "nbformat_minor": 2
}
