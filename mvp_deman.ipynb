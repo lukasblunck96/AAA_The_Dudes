{
 "cells": [
  {
   "cell_type": "code",
   "execution_count": 19,
   "metadata": {},
   "outputs": [],
   "source": [
    "import vaex\n",
    "import h3\n"
   ]
  },
  {
   "cell_type": "code",
   "execution_count": 22,
   "metadata": {},
   "outputs": [],
   "source": [
    "def geo_to_h3(row1, row2, resolution ):\n",
    "    return h3.geo_to_h3(row1,row2, resolution)"
   ]
  },
  {
   "cell_type": "code",
   "execution_count": 6,
   "metadata": {},
   "outputs": [
    {
     "data": {
      "text/html": [
       "<table>\n",
       "<thead>\n",
       "<tr><th>#                            </th><th>trip_id                                 </th><th>taxi_id                                            </th><th>trip_start_timestamp      </th><th>trip_end_timestamp        </th><th style=\"text-align: right;\">  trip_seconds</th><th style=\"text-align: right;\">  trip_miles</th><th style=\"text-align: right;\">  pickup_census_tract</th><th style=\"text-align: right;\">  dropoff_census_tract</th><th style=\"text-align: right;\">  pickup_community_area</th><th style=\"text-align: right;\">  dropoff_community_area</th><th style=\"text-align: right;\">  fare</th><th style=\"text-align: right;\">  tips</th><th style=\"text-align: right;\">  tolls</th><th style=\"text-align: right;\">  extras</th><th style=\"text-align: right;\">  trip_total</th><th>payment_type  </th><th>company                          </th><th style=\"text-align: right;\">  pickup_centroid_latitude</th><th style=\"text-align: right;\">  pickup_centroid_longitude</th><th style=\"text-align: right;\">  dropoff_centroid_latitude</th><th style=\"text-align: right;\">  dropoff_centroid_longitude</th><th style=\"text-align: right;\">  trip_start_hour</th><th style=\"text-align: right;\">  trip_end_hour</th><th style=\"text-align: right;\">  trip_start_4h_period</th><th style=\"text-align: right;\">  trip_end_4h_period</th><th style=\"text-align: right;\">  hour</th><th style=\"text-align: right;\">  minutes</th><th style=\"text-align: right;\">  month</th><th style=\"text-align: right;\">  day</th></tr>\n",
       "</thead>\n",
       "<tbody>\n",
       "<tr><td><i style='opacity: 0.6'>0</i></td><td>1b545d0be27b195076e5d2a7d4fc0ebef6ef20ac</td><td>&#x27;56a1119c6ca57e39525cf06829f9ecff553cf4b5ac24821...</td><td>2017-01-01 00:00:00.000000</td><td>2017-01-01 00:00:00.000000</td><td style=\"text-align: right;\">           240</td><td style=\"text-align: right;\">         1.3</td><td style=\"text-align: right;\">          1.70318e+10</td><td style=\"text-align: right;\">           1.70318e+10</td><td style=\"text-align: right;\">                     32</td><td style=\"text-align: right;\">                      28</td><td style=\"text-align: right;\">  6.25</td><td style=\"text-align: right;\">  0   </td><td style=\"text-align: right;\">      0</td><td style=\"text-align: right;\">     0  </td><td style=\"text-align: right;\">        6.25</td><td>Cash          </td><td>Taxi Affiliation Services        </td><td style=\"text-align: right;\">                   41.881 </td><td style=\"text-align: right;\">                   -87.6327</td><td style=\"text-align: right;\">                    41.8853</td><td style=\"text-align: right;\">                    -87.6572</td><td style=\"text-align: right;\">                0</td><td style=\"text-align: right;\">              0</td><td style=\"text-align: right;\">                     0</td><td style=\"text-align: right;\">                   0</td><td style=\"text-align: right;\">     0</td><td style=\"text-align: right;\">        0</td><td style=\"text-align: right;\">      1</td><td style=\"text-align: right;\">    1</td></tr>\n",
       "<tr><td><i style='opacity: 0.6'>1</i></td><td>c3ee40051c5643c54064a8b9df3686d2d411518d</td><td>&#x27;7987cfe5e3b2c9869665f70fe35dbe7423e7fc5852f2d6f...</td><td>2017-01-01 00:00:00.000000</td><td>2017-01-01 00:15:00.000000</td><td style=\"text-align: right;\">          1500</td><td style=\"text-align: right;\">         0.4</td><td style=\"text-align: right;\">          1.70318e+10</td><td style=\"text-align: right;\">           1.70311e+10</td><td style=\"text-align: right;\">                     32</td><td style=\"text-align: right;\">                       8</td><td style=\"text-align: right;\"> 22.75</td><td style=\"text-align: right;\">  4.85</td><td style=\"text-align: right;\">      0</td><td style=\"text-align: right;\">     1.5</td><td style=\"text-align: right;\">       29.1 </td><td>Credit Card   </td><td>Blue Ribbon Taxi Association Inc.</td><td style=\"text-align: right;\">                   41.881 </td><td style=\"text-align: right;\">                   -87.6327</td><td style=\"text-align: right;\">                    41.8983</td><td style=\"text-align: right;\">                    -87.6208</td><td style=\"text-align: right;\">                0</td><td style=\"text-align: right;\">              0</td><td style=\"text-align: right;\">                     0</td><td style=\"text-align: right;\">                   0</td><td style=\"text-align: right;\">     0</td><td style=\"text-align: right;\">        0</td><td style=\"text-align: right;\">      1</td><td style=\"text-align: right;\">    1</td></tr>\n",
       "<tr><td><i style='opacity: 0.6'>2</i></td><td>29f30c8a6bbc028f5d63aa18c708d31b47267a9f</td><td>&#x27;0b269137bd94b55212311226d9e1554423e12bcc16a432c...</td><td>2017-01-01 00:00:00.000000</td><td>2017-01-01 00:30:00.000000</td><td style=\"text-align: right;\">          1620</td><td style=\"text-align: right;\">         0.9</td><td style=\"text-align: right;\">          1.70318e+10</td><td style=\"text-align: right;\">           1.70311e+10</td><td style=\"text-align: right;\">                     32</td><td style=\"text-align: right;\">                       8</td><td style=\"text-align: right;\"> 12.25</td><td style=\"text-align: right;\">  2.85</td><td style=\"text-align: right;\">      0</td><td style=\"text-align: right;\">     2  </td><td style=\"text-align: right;\">       17.1 </td><td>Credit Card   </td><td>Taxi Affiliation Services        </td><td style=\"text-align: right;\">                   41.881 </td><td style=\"text-align: right;\">                   -87.6327</td><td style=\"text-align: right;\">                    41.8925</td><td style=\"text-align: right;\">                    -87.6262</td><td style=\"text-align: right;\">                0</td><td style=\"text-align: right;\">              0</td><td style=\"text-align: right;\">                     0</td><td style=\"text-align: right;\">                   0</td><td style=\"text-align: right;\">     0</td><td style=\"text-align: right;\">        0</td><td style=\"text-align: right;\">      1</td><td style=\"text-align: right;\">    1</td></tr>\n",
       "<tr><td><i style='opacity: 0.6'>3</i></td><td>55ae4fa955e6bc8705b995248c34f4183d848c27</td><td>&#x27;d1d781b6807176ed53fbb9d0010dd0a87e29c073984bda6...</td><td>2017-01-01 00:00:00.000000</td><td>2017-01-01 00:00:00.000000</td><td style=\"text-align: right;\">           540</td><td style=\"text-align: right;\">         1  </td><td style=\"text-align: right;\">          1.70311e+10</td><td style=\"text-align: right;\">           1.70311e+10</td><td style=\"text-align: right;\">                      8</td><td style=\"text-align: right;\">                       8</td><td style=\"text-align: right;\">  6.75</td><td style=\"text-align: right;\">  0   </td><td style=\"text-align: right;\">      0</td><td style=\"text-align: right;\">     2  </td><td style=\"text-align: right;\">        8.75</td><td>Cash          </td><td>Dispatch Taxi Affiliation        </td><td style=\"text-align: right;\">                   41.9028</td><td style=\"text-align: right;\">                   -87.6261</td><td style=\"text-align: right;\">                    41.8909</td><td style=\"text-align: right;\">                    -87.6189</td><td style=\"text-align: right;\">                0</td><td style=\"text-align: right;\">              0</td><td style=\"text-align: right;\">                     0</td><td style=\"text-align: right;\">                   0</td><td style=\"text-align: right;\">     0</td><td style=\"text-align: right;\">        0</td><td style=\"text-align: right;\">      1</td><td style=\"text-align: right;\">    1</td></tr>\n",
       "<tr><td><i style='opacity: 0.6'>4</i></td><td>ce908cd441e28d08dfb22bf168102beabb5e16e4</td><td>&#x27;f7630edc68a131c4a97382dd93206949da80ec1443d8da7...</td><td>2017-01-01 00:00:00.000000</td><td>2017-01-01 00:15:00.000000</td><td style=\"text-align: right;\">           480</td><td style=\"text-align: right;\">         0.5</td><td style=\"text-align: right;\">          1.70311e+10</td><td style=\"text-align: right;\">           1.70311e+10</td><td style=\"text-align: right;\">                      8</td><td style=\"text-align: right;\">                       8</td><td style=\"text-align: right;\">  6.25</td><td style=\"text-align: right;\">  2   </td><td style=\"text-align: right;\">      0</td><td style=\"text-align: right;\">     1.5</td><td style=\"text-align: right;\">        9.75</td><td>Credit Card   </td><td>Taxi Affiliation Services        </td><td style=\"text-align: right;\">                   41.8925</td><td style=\"text-align: right;\">                   -87.6262</td><td style=\"text-align: right;\">                    41.8909</td><td style=\"text-align: right;\">                    -87.6189</td><td style=\"text-align: right;\">                0</td><td style=\"text-align: right;\">              0</td><td style=\"text-align: right;\">                     0</td><td style=\"text-align: right;\">                   0</td><td style=\"text-align: right;\">     0</td><td style=\"text-align: right;\">        0</td><td style=\"text-align: right;\">      1</td><td style=\"text-align: right;\">    1</td></tr>\n",
       "<tr><td><i style='opacity: 0.6'>5</i></td><td>fd25560e18dab95225999c264586a331dc3283f5</td><td>&#x27;9ff153898c75dbd960a207b660a71f92f79b666dcec98e1...</td><td>2017-01-01 00:00:00.000000</td><td>2017-01-01 00:30:00.000000</td><td style=\"text-align: right;\">          1980</td><td style=\"text-align: right;\">         3.4</td><td style=\"text-align: right;\">          1.70318e+10</td><td style=\"text-align: right;\">           1.70311e+10</td><td style=\"text-align: right;\">                     32</td><td style=\"text-align: right;\">                       8</td><td style=\"text-align: right;\"> 16.75</td><td style=\"text-align: right;\">  3.65</td><td style=\"text-align: right;\">      0</td><td style=\"text-align: right;\">     1.5</td><td style=\"text-align: right;\">       21.9 </td><td>Credit Card   </td><td>Taxi Affiliation Services        </td><td style=\"text-align: right;\">                   41.881 </td><td style=\"text-align: right;\">                   -87.6327</td><td style=\"text-align: right;\">                    41.895 </td><td style=\"text-align: right;\">                    -87.6197</td><td style=\"text-align: right;\">                0</td><td style=\"text-align: right;\">              0</td><td style=\"text-align: right;\">                     0</td><td style=\"text-align: right;\">                   0</td><td style=\"text-align: right;\">     0</td><td style=\"text-align: right;\">        0</td><td style=\"text-align: right;\">      1</td><td style=\"text-align: right;\">    1</td></tr>\n",
       "<tr><td><i style='opacity: 0.6'>6</i></td><td>2504e0bf058ff310ac4c197618a843f88fc1c0c6</td><td>&#x27;d3a5f1452b4a1db2a547e7a0aabfe28d67c62b0e40155fa...</td><td>2017-01-01 00:00:00.000000</td><td>2017-01-01 00:15:00.000000</td><td style=\"text-align: right;\">           960</td><td style=\"text-align: right;\">         5.9</td><td style=\"text-align: right;\">          1.70313e+10</td><td style=\"text-align: right;\">           1.70311e+10</td><td style=\"text-align: right;\">                     32</td><td style=\"text-align: right;\">                       6</td><td style=\"text-align: right;\"> 17.5 </td><td style=\"text-align: right;\">  0   </td><td style=\"text-align: right;\">      0</td><td style=\"text-align: right;\">     1  </td><td style=\"text-align: right;\">       18.5 </td><td>Cash          </td><td>Northwest Management LLC         </td><td style=\"text-align: right;\">                   41.8774</td><td style=\"text-align: right;\">                   -87.622 </td><td style=\"text-align: right;\">                    41.9427</td><td style=\"text-align: right;\">                    -87.6518</td><td style=\"text-align: right;\">                0</td><td style=\"text-align: right;\">              0</td><td style=\"text-align: right;\">                     0</td><td style=\"text-align: right;\">                   0</td><td style=\"text-align: right;\">     0</td><td style=\"text-align: right;\">        0</td><td style=\"text-align: right;\">      1</td><td style=\"text-align: right;\">    1</td></tr>\n",
       "<tr><td><i style='opacity: 0.6'>7</i></td><td>4ca1087133dfd8bde2483cb2aaa609fff2654f7c</td><td>&#x27;0083fcde0fb490b4ec424c63d1d750378f6ad11154d1d4a...</td><td>2017-01-01 00:00:00.000000</td><td>2017-01-01 00:15:00.000000</td><td style=\"text-align: right;\">           780</td><td style=\"text-align: right;\">         0.1</td><td style=\"text-align: right;\">          1.70312e+10</td><td style=\"text-align: right;\">           1.70311e+10</td><td style=\"text-align: right;\">                     24</td><td style=\"text-align: right;\">                       8</td><td style=\"text-align: right;\">  9.5 </td><td style=\"text-align: right;\">  2.1 </td><td style=\"text-align: right;\">      0</td><td style=\"text-align: right;\">     1  </td><td style=\"text-align: right;\">       12.6 </td><td>Credit Card   </td><td>Taxi Affiliation Services        </td><td style=\"text-align: right;\">                   41.8997</td><td style=\"text-align: right;\">                   -87.665 </td><td style=\"text-align: right;\">                    41.892 </td><td style=\"text-align: right;\">                    -87.6319</td><td style=\"text-align: right;\">                0</td><td style=\"text-align: right;\">              0</td><td style=\"text-align: right;\">                     0</td><td style=\"text-align: right;\">                   0</td><td style=\"text-align: right;\">     0</td><td style=\"text-align: right;\">        0</td><td style=\"text-align: right;\">      1</td><td style=\"text-align: right;\">    1</td></tr>\n",
       "<tr><td><i style='opacity: 0.6'>8</i></td><td>04bc3089a41c33afc9b6cbf5a9beac4fed91da7c</td><td>&#x27;785ef52cff80fe78a7ee899453036c0be6ac8fef4d10068...</td><td>2017-01-01 00:00:00.000000</td><td>2017-01-01 00:00:00.000000</td><td style=\"text-align: right;\">           120</td><td style=\"text-align: right;\">         0.4</td><td style=\"text-align: right;\">          1.70318e+10</td><td style=\"text-align: right;\">           1.70318e+10</td><td style=\"text-align: right;\">                     32</td><td style=\"text-align: right;\">                      32</td><td style=\"text-align: right;\">  4.25</td><td style=\"text-align: right;\">  2   </td><td style=\"text-align: right;\">      0</td><td style=\"text-align: right;\">     1  </td><td style=\"text-align: right;\">        7.25</td><td>Credit Card   </td><td>Chicago Medallion Leasing INC    </td><td style=\"text-align: right;\">                   41.881 </td><td style=\"text-align: right;\">                   -87.6327</td><td style=\"text-align: right;\">                    41.881 </td><td style=\"text-align: right;\">                    -87.6327</td><td style=\"text-align: right;\">                0</td><td style=\"text-align: right;\">              0</td><td style=\"text-align: right;\">                     0</td><td style=\"text-align: right;\">                   0</td><td style=\"text-align: right;\">     0</td><td style=\"text-align: right;\">        0</td><td style=\"text-align: right;\">      1</td><td style=\"text-align: right;\">    1</td></tr>\n",
       "<tr><td><i style='opacity: 0.6'>9</i></td><td>e09945909ae154d6b0ce433468baddcf79f79973</td><td>&#x27;b329626db30d23db0e6620de7d1a3036dd3c2ca3e139fd4...</td><td>2017-01-01 00:00:00.000000</td><td>2017-01-01 00:00:00.000000</td><td style=\"text-align: right;\">           180</td><td style=\"text-align: right;\">         0.7</td><td style=\"text-align: right;\">          1.70318e+10</td><td style=\"text-align: right;\">           1.70318e+10</td><td style=\"text-align: right;\">                     32</td><td style=\"text-align: right;\">                      28</td><td style=\"text-align: right;\">  5   </td><td style=\"text-align: right;\">  0   </td><td style=\"text-align: right;\">      0</td><td style=\"text-align: right;\">     2  </td><td style=\"text-align: right;\">        7   </td><td>Cash          </td><td>Dispatch Taxi Affiliation        </td><td style=\"text-align: right;\">                   41.881 </td><td style=\"text-align: right;\">                   -87.6327</td><td style=\"text-align: right;\">                    41.8853</td><td style=\"text-align: right;\">                    -87.6572</td><td style=\"text-align: right;\">                0</td><td style=\"text-align: right;\">              0</td><td style=\"text-align: right;\">                     0</td><td style=\"text-align: right;\">                   0</td><td style=\"text-align: right;\">     0</td><td style=\"text-align: right;\">        0</td><td style=\"text-align: right;\">      1</td><td style=\"text-align: right;\">    1</td></tr>\n",
       "</tbody>\n",
       "</table>"
      ],
      "text/plain": [
       "  #  trip_id                                   taxi_id                                              trip_start_timestamp        trip_end_timestamp            trip_seconds    trip_miles    pickup_census_tract    dropoff_census_tract    pickup_community_area    dropoff_community_area    fare    tips    tolls    extras    trip_total  payment_type    company                              pickup_centroid_latitude    pickup_centroid_longitude    dropoff_centroid_latitude    dropoff_centroid_longitude    trip_start_hour    trip_end_hour    trip_start_4h_period    trip_end_4h_period    hour    minutes    month    day\n",
       "  0  1b545d0be27b195076e5d2a7d4fc0ebef6ef20ac  '56a1119c6ca57e39525cf06829f9ecff553cf4b5ac24821...  2017-01-01 00:00:00.000000  2017-01-01 00:00:00.000000             240           1.3            1.70318e+10             1.70318e+10                       32                        28    6.25    0           0       0            6.25  Cash            Taxi Affiliation Services                             41.881                      -87.6327                      41.8853                      -87.6572                  0                0                       0                     0       0          0        1      1\n",
       "  1  c3ee40051c5643c54064a8b9df3686d2d411518d  '7987cfe5e3b2c9869665f70fe35dbe7423e7fc5852f2d6f...  2017-01-01 00:00:00.000000  2017-01-01 00:15:00.000000            1500           0.4            1.70318e+10             1.70311e+10                       32                         8   22.75    4.85        0       1.5         29.1   Credit Card     Blue Ribbon Taxi Association Inc.                     41.881                      -87.6327                      41.8983                      -87.6208                  0                0                       0                     0       0          0        1      1\n",
       "  2  29f30c8a6bbc028f5d63aa18c708d31b47267a9f  '0b269137bd94b55212311226d9e1554423e12bcc16a432c...  2017-01-01 00:00:00.000000  2017-01-01 00:30:00.000000            1620           0.9            1.70318e+10             1.70311e+10                       32                         8   12.25    2.85        0       2           17.1   Credit Card     Taxi Affiliation Services                             41.881                      -87.6327                      41.8925                      -87.6262                  0                0                       0                     0       0          0        1      1\n",
       "  3  55ae4fa955e6bc8705b995248c34f4183d848c27  'd1d781b6807176ed53fbb9d0010dd0a87e29c073984bda6...  2017-01-01 00:00:00.000000  2017-01-01 00:00:00.000000             540           1              1.70311e+10             1.70311e+10                        8                         8    6.75    0           0       2            8.75  Cash            Dispatch Taxi Affiliation                             41.9028                     -87.6261                      41.8909                      -87.6189                  0                0                       0                     0       0          0        1      1\n",
       "  4  ce908cd441e28d08dfb22bf168102beabb5e16e4  'f7630edc68a131c4a97382dd93206949da80ec1443d8da7...  2017-01-01 00:00:00.000000  2017-01-01 00:15:00.000000             480           0.5            1.70311e+10             1.70311e+10                        8                         8    6.25    2           0       1.5          9.75  Credit Card     Taxi Affiliation Services                             41.8925                     -87.6262                      41.8909                      -87.6189                  0                0                       0                     0       0          0        1      1\n",
       "  5  fd25560e18dab95225999c264586a331dc3283f5  '9ff153898c75dbd960a207b660a71f92f79b666dcec98e1...  2017-01-01 00:00:00.000000  2017-01-01 00:30:00.000000            1980           3.4            1.70318e+10             1.70311e+10                       32                         8   16.75    3.65        0       1.5         21.9   Credit Card     Taxi Affiliation Services                             41.881                      -87.6327                      41.895                       -87.6197                  0                0                       0                     0       0          0        1      1\n",
       "  6  2504e0bf058ff310ac4c197618a843f88fc1c0c6  'd3a5f1452b4a1db2a547e7a0aabfe28d67c62b0e40155fa...  2017-01-01 00:00:00.000000  2017-01-01 00:15:00.000000             960           5.9            1.70313e+10             1.70311e+10                       32                         6   17.5     0           0       1           18.5   Cash            Northwest Management LLC                              41.8774                     -87.622                       41.9427                      -87.6518                  0                0                       0                     0       0          0        1      1\n",
       "  7  4ca1087133dfd8bde2483cb2aaa609fff2654f7c  '0083fcde0fb490b4ec424c63d1d750378f6ad11154d1d4a...  2017-01-01 00:00:00.000000  2017-01-01 00:15:00.000000             780           0.1            1.70312e+10             1.70311e+10                       24                         8    9.5     2.1         0       1           12.6   Credit Card     Taxi Affiliation Services                             41.8997                     -87.665                       41.892                       -87.6319                  0                0                       0                     0       0          0        1      1\n",
       "  8  04bc3089a41c33afc9b6cbf5a9beac4fed91da7c  '785ef52cff80fe78a7ee899453036c0be6ac8fef4d10068...  2017-01-01 00:00:00.000000  2017-01-01 00:00:00.000000             120           0.4            1.70318e+10             1.70318e+10                       32                        32    4.25    2           0       1            7.25  Credit Card     Chicago Medallion Leasing INC                         41.881                      -87.6327                      41.881                       -87.6327                  0                0                       0                     0       0          0        1      1\n",
       "  9  e09945909ae154d6b0ce433468baddcf79f79973  'b329626db30d23db0e6620de7d1a3036dd3c2ca3e139fd4...  2017-01-01 00:00:00.000000  2017-01-01 00:00:00.000000             180           0.7            1.70318e+10             1.70318e+10                       32                        28    5       0           0       2            7     Cash            Dispatch Taxi Affiliation                             41.881                      -87.6327                      41.8853                      -87.6572                  0                0                       0                     0       0          0        1      1"
      ]
     },
     "execution_count": 6,
     "metadata": {},
     "output_type": "execute_result"
    }
   ],
   "source": [
    "df_taxi = vaex.open('./data/trips_prepared.hdf5')\n",
    "df_taxi['hour'] = df_taxi['trip_start_timestamp'].dt.hour\n",
    "df_taxi['minutes'] = df_taxi['trip_start_timestamp'].dt.minute\n",
    "df_taxi['month'] = df_taxi['trip_start_timestamp'].dt.month\n",
    "df_taxi['day'] = df_taxi['trip_start_timestamp'].dt.day\n",
    "df_taxi.head()"
   ]
  },
  {
   "cell_type": "code",
   "execution_count": 23,
   "metadata": {},
   "outputs": [
    {
     "data": {
      "text/html": [
       "<table>\n",
       "<thead>\n",
       "<tr><th>#                                </th><th>hour  </th><th>month  </th><th>day  </th><th>demand  </th></tr>\n",
       "</thead>\n",
       "<tbody>\n",
       "<tr><td><i style='opacity: 0.6'>0</i>    </td><td>0     </td><td>1      </td><td>1    </td><td>1831    </td></tr>\n",
       "<tr><td><i style='opacity: 0.6'>1</i>    </td><td>0     </td><td>1      </td><td>2    </td><td>335     </td></tr>\n",
       "<tr><td><i style='opacity: 0.6'>2</i>    </td><td>0     </td><td>1      </td><td>3    </td><td>113     </td></tr>\n",
       "<tr><td><i style='opacity: 0.6'>3</i>    </td><td>0     </td><td>1      </td><td>4    </td><td>107     </td></tr>\n",
       "<tr><td><i style='opacity: 0.6'>4</i>    </td><td>0     </td><td>1      </td><td>5    </td><td>148     </td></tr>\n",
       "<tr><td>...                              </td><td>...   </td><td>...    </td><td>...  </td><td>...     </td></tr>\n",
       "<tr><td><i style='opacity: 0.6'>8,754</i></td><td>23    </td><td>12     </td><td>27   </td><td>305     </td></tr>\n",
       "<tr><td><i style='opacity: 0.6'>8,755</i></td><td>23    </td><td>12     </td><td>28   </td><td>440     </td></tr>\n",
       "<tr><td><i style='opacity: 0.6'>8,756</i></td><td>23    </td><td>12     </td><td>29   </td><td>695     </td></tr>\n",
       "<tr><td><i style='opacity: 0.6'>8,757</i></td><td>23    </td><td>12     </td><td>30   </td><td>654     </td></tr>\n",
       "<tr><td><i style='opacity: 0.6'>8,758</i></td><td>23    </td><td>12     </td><td>31   </td><td>777     </td></tr>\n",
       "</tbody>\n",
       "</table>"
      ],
      "text/plain": [
       "#      hour    month    day    demand\n",
       "0      0       1        1      1831\n",
       "1      0       1        2      335\n",
       "2      0       1        3      113\n",
       "3      0       1        4      107\n",
       "4      0       1        5      148\n",
       "...    ...     ...      ...    ...\n",
       "8,754  23      12       27     305\n",
       "8,755  23      12       28     440\n",
       "8,756  23      12       29     695\n",
       "8,757  23      12       30     654\n",
       "8,758  23      12       31     777"
      ]
     },
     "execution_count": 23,
     "metadata": {},
     "output_type": "execute_result"
    }
   ],
   "source": [
    "grouped_df = df_taxi.groupby(['hour', 'month', 'day']).agg({'demand': 'count'})\n",
    "grouped_df"
   ]
  },
  {
   "cell_type": "code",
   "execution_count": 24,
   "metadata": {},
   "outputs": [],
   "source": [
    "# Step 1: For each pickup and drop-off calculate the correct hexagon in the resolution 7\n",
    "df_taxi['pickup_hex'] = df_taxi.apply(geo_to_h3, [df_taxi['pickup_centroid_latitude'], df_taxi['pickup_centroid_longitude']])\n",
    "df_taxi['dropoff_hex'] = df_taxi.apply(geo_to_h3, [df_taxi['dropoff_centroid_latitude'], df_taxi['dropoff_centroid_longitude']])"
   ]
  },
  {
   "cell_type": "markdown",
   "metadata": {},
   "source": [
    "# Previous Demand Features"
   ]
  }
 ],
 "metadata": {
  "kernelspec": {
   "display_name": "aaa_dudes",
   "language": "python",
   "name": "aaa_dudes"
  },
  "language_info": {
   "codemirror_mode": {
    "name": "ipython",
    "version": 3
   },
   "file_extension": ".py",
   "mimetype": "text/x-python",
   "name": "python",
   "nbconvert_exporter": "python",
   "pygments_lexer": "ipython3",
   "version": "3.10.11"
  },
  "orig_nbformat": 4
 },
 "nbformat": 4,
 "nbformat_minor": 2
}
