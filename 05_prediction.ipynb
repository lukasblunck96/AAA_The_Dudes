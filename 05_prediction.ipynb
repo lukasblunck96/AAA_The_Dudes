{
 "cells": [
  {
   "cell_type": "code",
   "execution_count": 27,
   "metadata": {},
   "outputs": [],
   "source": [
    "from datetime import datetime\n",
    "import local_helpers as lh\n",
    "import vaex\n",
    "import h3\n",
    "import pandas as pd\n",
    "import numpy as np\n",
    "import seaborn as sns\n",
    "import matplotlib.pyplot as plt\n",
    "import geopandas as gpd\n",
    "import shapely\n",
    "from shapely import wkt\n",
    "from sklearn.preprocessing import TargetEncoder"
   ]
  },
  {
   "cell_type": "markdown",
   "metadata": {},
   "source": [
    "# Feature Engineering\n",
    "\n",
    "### Previous demand as input\n",
    "\n",
    "As we have given time series data, it is a common approach to use the demand of previous hours (or days etc.) as an input for the prediction. The assumption we hereby make is that the factors that influence the demand have not changed dramatically within the used time frames. We have decided to construct the following features from previous demand:\n",
    "\n",
    "* 2 hour: The asssumption is that the demand should not change dramatically between three hours.\n",
    "* 24 hours: The asssumption is that the current demand should be comparable to the demand exactly one day ago, as factors such as season, time of the day are the same.\n",
    "* Average demand of the past week at the same day time: This feature is the average of all 7 demand observations of the past week at same time of the day. "
   ]
  },
  {
   "cell_type": "code",
   "execution_count": 5,
   "metadata": {},
   "outputs": [],
   "source": [
    "# This functions loads the dataset either with hexagons or census tract\n",
    "def load_dataset_to_pandas(resolution=10, location_type_hexagon = True):\n",
    "    df = vaex.open('./data/trips_prepared.hdf5')\n",
    "    df.head()\n",
    "\n",
    "    df[\"trip_start_day\"] = df.trip_start_timestamp.dt.day\n",
    "    df[\"trip_start_month\"] = df.trip_start_timestamp.dt.month\n",
    "    df[\"trip_start_hour\"] = df.trip_start_timestamp.dt.hour\n",
    "    df[\"trip_start_minute\"] = df.trip_start_timestamp.dt.minute\n",
    "\n",
    "    if location_type_hexagon:\n",
    "        \n",
    "        \n",
    "    \n",
    "        RESOLUTION = resolution\n",
    "        def geo_to_h3(row1, row2):\n",
    "            return h3.geo_to_h3(row1,row2, RESOLUTION)\n",
    "\n",
    "        # Step 1: For each pickup and drop-off calculate the correct hexagon in the resolution\n",
    "        df['pickup_loc'] = df.apply(geo_to_h3, [df['pickup_centroid_latitude'], df['pickup_centroid_longitude']])\n",
    "    else:\n",
    "        df.rename('pickup_census_tract', 'pickup_loc')\n",
    "\n",
    "    ### Group by hour\n",
    "    df_demand = df.groupby(['trip_start_hour', 'trip_start_month', 'trip_start_day', 'pickup_loc']).agg({'demand': 'count'})\n",
    "    # Add timestamp as preparation for resampling\n",
    "    df_demand['timestamp'] = pd.to_datetime({'year': 2017, 'month': df_demand['trip_start_month'].to_numpy(), 'day': df_demand['trip_start_day'].to_numpy(), 'hour': df_demand['trip_start_hour'].to_numpy()}).to_numpy()\n",
    "\n",
    "    # convert to pandas df\n",
    "    df_demand = df_demand.to_pandas_df()\n",
    "    return df_demand\n"
   ]
  },
  {
   "cell_type": "code",
   "execution_count": 6,
   "metadata": {},
   "outputs": [],
   "source": [
    "def resample_to_hourly(df):\n",
    "    ### Creation of dummy df which contains hourly data dummy data over an entire year per hexagon\n",
    "    # Create a DateTimeIndex with hourly intervals for the year 2017\n",
    "    start_date = '2017-01-01 00:00:00'\n",
    "    end_date = '2017-12-31 23:00:00'\n",
    "    hourly_range = pd.date_range(start=start_date, end=end_date, freq='H')\n",
    "    num_entries_per_year = len(hourly_range)\n",
    "    hour_range = np.tile(hourly_range.hour,len(np.unique(df.pickup_loc)))\n",
    "    month_range = np.tile(hourly_range.month,len(np.unique(df.pickup_loc)))\n",
    "    day_range = np.tile(hourly_range.day,len(np.unique(df.pickup_loc)))\n",
    "    hourly_range = np.tile(hourly_range,len(np.unique(df.pickup_loc)))\n",
    "\n",
    "    # -1 values will indacte that these rows were artificially generated later on\n",
    "    data = {\n",
    "        'trip_start_hour': hour_range,\n",
    "        'trip_start_month': month_range,\n",
    "        'trip_start_day': day_range,\n",
    "        'pickup_loc': np.repeat(np.unique(df.pickup_loc), num_entries_per_year),\n",
    "        'demand': 0,\n",
    "    }\n",
    "\n",
    "    df_hourly = pd.DataFrame(data, index=hourly_range)\n",
    "    df_hourly= df_hourly.set_index([df_hourly.index, 'pickup_loc'])\n",
    "\n",
    "    # introduce multiindex for filling up the df with hourly index later on\n",
    "    df=df.set_index(['timestamp', 'pickup_loc'])\n",
    "\n",
    "    # insert df \n",
    "    df_hourly.update(df)\n",
    "\n",
    "    # clear up multi-index\n",
    "    df_hourly=df_hourly.reset_index()\n",
    "    df_hourly.columns = ['timestamp','pickup_loc','trip_start_hour','trip_start_month','trip_start_day','demand']\n",
    "    return df_hourly\n",
    "    "
   ]
  },
  {
   "cell_type": "code",
   "execution_count": 7,
   "metadata": {},
   "outputs": [],
   "source": [
    "def get_target_time_bucket_demand(df):\n",
    "    \n",
    "    demand_cols = [f'demand_n-{num}' for num in list(range(0,25))]\n",
    "    \n",
    "    for shift in list(range(0,25)):\n",
    "        df[f'demand_n-{shift}'] =  df.sort_values('timestamp').groupby('pickup_loc')['demand'].shift((-1)*shift)\n",
    "        \n",
    "    two_hours = ['demand_n-0','demand_n-1']\n",
    "    six_hours = [f'demand_n-{num}' for num in list(range(0,6))]\n",
    "    twentyfour_hours = [f'demand_n-{num}' for num in list(range(0,24))]\n",
    "    \n",
    "    df['demand_target_bucket_1'] = df['demand_n-0']\n",
    "    df['demand_target_bucket_2'] = df[two_hours].sum(axis=1)\n",
    "    df['demand_target_bucket_6'] = df[six_hours].sum(axis=1)\n",
    "    df['demand_target_bucket_24'] = df[twentyfour_hours].sum(axis=1)\n",
    "    df = df.drop(labels=demand_cols, axis=1)\n",
    "       \n",
    "    \n",
    "    return df"
   ]
  },
  {
   "cell_type": "code",
   "execution_count": 8,
   "metadata": {},
   "outputs": [],
   "source": [
    "def get_past_time_bucket_demand(df):\n",
    "    \n",
    "    demand_cols = [f'demand_p-{num}' for num in list(range(0,24))]\n",
    "    \n",
    "    for shift in list(range(0,25)):\n",
    "        df[f'demand_p-{shift}'] =  df.sort_values('timestamp').groupby('pickup_loc')['demand'].shift(shift)\n",
    "        \n",
    "    two_hours = ['demand_p-24', 'demand_p-23']\n",
    "    six_hours = [f'demand_p-{num}' for num in list(range((24-5),25))]\n",
    "    twentyfour_hours = [f'demand_p-{num}' for num in list(range(1,25))]\n",
    "    \n",
    "    df['demand_bucket_2'] = df[two_hours].sum(axis=1)\n",
    "    df['demand_bucket_6'] = df[six_hours].sum(axis=1)\n",
    "    df['demand_bucket_24'] = df[twentyfour_hours].sum(axis=1)\n",
    "    df = df.drop(labels=demand_cols, axis=1)\n",
    "    \n",
    "    \n",
    "    \n",
    "    return df"
   ]
  },
  {
   "cell_type": "code",
   "execution_count": 9,
   "metadata": {},
   "outputs": [],
   "source": [
    "def get_past_single_hour_demand(df):\n",
    "    # insert features 1, 2 and 24 hours previous demand\n",
    "    df['demand_h-1'] = df.sort_values('timestamp').groupby('pickup_loc')['demand'].shift(1)\n",
    "    df['demand_h-2'] = df.sort_values('timestamp').groupby('pickup_loc')['demand'].shift(2)\n",
    "    df['demand_h-24'] = df.sort_values('timestamp').groupby('pickup_loc')['demand'].shift(24)\n",
    "    return df"
   ]
  },
  {
   "cell_type": "markdown",
   "metadata": {},
   "source": [
    "# Weather features\n",
    "In the descriptive analysis, particularly the analysis of temporal demand patterns, we found that the temperature and demand curves follow similar directions. Therefore, we construct features based on temperature to enable models that capture this relationship."
   ]
  },
  {
   "cell_type": "markdown",
   "metadata": {},
   "source": [
    "### Include weather data\n",
    "First, we have to include the weather data into the dataframe. For this we just need to merge the two datasets, as both are already in hourly frequency. The weather data propose data for minute 53 of an hour. Therefore, we round up to the nearest hour for each row. We suppose that the weather changes in seven minutes can be disregarded."
   ]
  },
  {
   "cell_type": "code",
   "execution_count": 22,
   "metadata": {},
   "outputs": [],
   "source": [
    "def weather_categories(weather):\n",
    "    if \"Fair\" in weather:\n",
    "        return \"Clear/Sunny\"\n",
    "    elif \"Cloudy\" in weather:\n",
    "        return \"Cloudy\"\n",
    "    elif \"Rain\" in weather or \"Drizzle\" in weather or \"T-Storm\" in weather or \"Thunder\" in weather:\n",
    "        return \"Rain/Storms\"\n",
    "    elif \"Snow\" in weather or \"Wintry\" in weather:\n",
    "        return \"Snow/Winter Conditions\"\n",
    "    elif weather in [\"Fog\", \"Haze\", \"Smoke\", \"Widespread Dust / Windy\"]:\n",
    "        return \"Other\"\n",
    "    else:\n",
    "        return \"Miscellaneous\"\n",
    "    \n",
    "def merge_weather(df):\n",
    "    # read and merge weather data\n",
    "    df_weather = pd.read_csv('data/weather_data_final.csv')\n",
    "    df_weather['date_time'] = pd.to_datetime(df_weather['date_time'])\n",
    "    df_weather['date_time'] = df_weather['date_time'].dt.ceil('H')\n",
    "    df_weather.rename(columns={'date_time': 'timestamp'}, inplace=True)\n",
    "\n",
    "    # cast data types\n",
    "    df_weather['temp'] = df_weather['temp'].str.replace('\\xa0°F', '').astype(float).fillna(np.nan)\n",
    "    df_weather['dew_point'] = df_weather['dew_point'].str.replace('\\xa0°F', '').astype(float).fillna(np.nan)\n",
    "    df_weather['humidity'] = df_weather['humidity'].str.replace('\\xa0°%', '').astype(float).fillna(np.nan)\n",
    "    df_weather['wind_speed'] = df_weather['wind_speed'].str.replace('\\xa0°mph', '').astype(float).fillna(np.nan)\n",
    "    df_weather['wind_gust'] = df_weather['wind_gust'].str.replace('\\xa0°mph', '').astype(float).fillna(np.nan)\n",
    "    df_weather['pressure'] = df_weather['pressure'].str.replace('\\xa0°in', '').astype(float).fillna(np.nan)\n",
    "    df_weather['precip'] = df_weather['precip'].str.replace('\\xa0°in', '').astype(float).fillna(np.nan)\n",
    "    df_weather = df_weather.drop(['time','date', 'dew_point'], axis=1)\n",
    "    df_weather['condition'] = df_weather[\"condition\"].apply(weather_categories)\n",
    "    \n",
    "    dummies = pd.get_dummies(df_weather['condition']).astype(int)\n",
    "    df_weather = pd.concat([df_weather.drop(['condition'], axis=1), dummies], axis=1)\n",
    "    df = df.merge(df_weather, on='timestamp', how='left')\n",
    "    return df"
   ]
  },
  {
   "cell_type": "markdown",
   "metadata": {},
   "source": [
    "### Temperature features\n",
    "In addition to the current temperature, we are add the temperature from 1, 2, and 3 hours prior to the time of taxi demand. We suggest that past temperature conditions could potentially impact the decision to hire a taxi."
   ]
  },
  {
   "cell_type": "code",
   "execution_count": 11,
   "metadata": {},
   "outputs": [],
   "source": [
    "def get_past_temperature(df):\n",
    "    df['temp_h-1'] = df.sort_values('timestamp').groupby('pickup_loc')['temp'].shift(1)\n",
    "    df['temp_h-2'] = df.sort_values('timestamp').groupby('pickup_loc')['temp'].shift(2)\n",
    "    df['temp_h-3'] = df.sort_values('timestamp').groupby('pickup_loc')['temp'].shift(3)\n",
    "    return df"
   ]
  },
  {
   "cell_type": "markdown",
   "metadata": {},
   "source": [
    "### Precipitation\n",
    "We hypothesize that precipitation has a significant impact on demand. Therefore, we construct features that describe whether it has rained in the last 1-3 hours."
   ]
  },
  {
   "cell_type": "code",
   "execution_count": 12,
   "metadata": {},
   "outputs": [],
   "source": [
    "def get_past_precip(df):\n",
    "    df['precip_h-1'] = df.sort_values('timestamp').groupby('pickup_loc')['precip'].shift(1)\n",
    "    df['precip_h-2'] = df.sort_values('timestamp').groupby('pickup_loc')['precip'].shift(2)\n",
    "    df['precip_h-3'] = df.sort_values('timestamp').groupby('pickup_loc')['precip'].shift(3)\n",
    "    return df"
   ]
  },
  {
   "cell_type": "markdown",
   "metadata": {},
   "source": [
    "### Season\n",
    "We suggest that demand changes over seasons."
   ]
  },
  {
   "cell_type": "code",
   "execution_count": 39,
   "metadata": {},
   "outputs": [],
   "source": [
    "def date_to_season(date):\n",
    "    if pd.Timestamp(2017, 12, 22) <= date or date < pd.Timestamp(2017, 3, 20):\n",
    "        return 'winter'\n",
    "    elif pd.Timestamp(2017, 3, 20) <= date < pd.Timestamp(2017, 6, 21):\n",
    "        return 'spring'\n",
    "    elif pd.Timestamp(2017, 6, 21) <= date < pd.Timestamp(2017, 9, 23):\n",
    "        return 'summer'\n",
    "    else:\n",
    "        return 'autumn'\n",
    "\n",
    "def get_season(df):\n",
    "    # Vectorize the date_to_season function\n",
    "    date_to_season_vec = np.vectorize(date_to_season)\n",
    "    \n",
    "    # Apply the vectorized function to the 'timestamp' column\n",
    "    df['season'] = date_to_season_vec(df['timestamp'])\n",
    "    \n",
    "    # Create dummies\n",
    "    dummies = pd.get_dummies(df['season']).astype(int)\n",
    "    df = pd.concat([df.drop(['season'], axis=1), dummies], axis=1)    \n",
    "    return df"
   ]
  },
  {
   "cell_type": "markdown",
   "metadata": {},
   "source": [
    "### Weekend feature\n",
    "In the descriptive analysis we have seen that demand changes depending on weekend or not. Hence we engineer a feature \"weekend\" which is 1 for all rides on saturday & sunday and zero for all other days."
   ]
  },
  {
   "cell_type": "code",
   "execution_count": 14,
   "metadata": {},
   "outputs": [],
   "source": [
    "def get_weekend(df):\n",
    "    df['weekend'] = (df['timestamp'].dt.weekday >= 5).astype(int)\n",
    "    return df"
   ]
  },
  {
   "cell_type": "markdown",
   "metadata": {},
   "source": [
    "### Daytime features\n",
    "In addition, descriptive analysis has shown that the time of day, i.e., whether it is night, morning, afternoon, or evening, plays an important role in determining demand. Therefore, we developed four characteristics, each indicating whether a trip occurs during the following times.\n",
    "* Morning: 6 a.m. - 12 p.m.\n",
    "* Afternoon: 12 noon - 6 p.m.\n",
    "* Evening: 6 p.m. - 11 p.m.\n",
    "* Night: 12 a.m. - 6 a.m."
   ]
  },
  {
   "cell_type": "code",
   "execution_count": 15,
   "metadata": {},
   "outputs": [],
   "source": [
    "def get_pnt_day_with_pnt_week(dt):\n",
    "    dt = pd.to_datetime(dt)  \n",
    "    time_of_week = \"week\" if dt.weekday() < 5 else \"weekend\"\n",
    "    hour = dt.hour\n",
    "\n",
    "    if 6 <= hour < 12:\n",
    "        return \"morning_\" + time_of_week\n",
    "    elif 12 <= hour < 18:\n",
    "        return \"afternoon_\" + time_of_week\n",
    "    elif 18 <= hour < 23:\n",
    "        return \"evening_\" + time_of_week\n",
    "    else:\n",
    "        return \"night_\" + time_of_week\n",
    "\n",
    "def get_daytime(df):\n",
    "    vfunc = np.vectorize(get_pnt_day_with_pnt_week)\n",
    "    df['daytime'] = vfunc(df['timestamp'])\n",
    "    dummies = pd.get_dummies(df['daytime']).astype(int)\n",
    "    df = pd.concat([df.drop(['daytime'], axis=1), dummies], axis=1)\n",
    "    return df\n"
   ]
  },
  {
   "cell_type": "markdown",
   "metadata": {},
   "source": [
    "### Event Features\n",
    "Events such as public holidays might influence the demand. In order to capture these patterns we introduce the public holiday feature\n",
    "\n",
    "There were several public holidays in Boston:\n",
    "* Martin Luther King Day: Monday, January 16, 2017\n",
    "* Lincoln's Birthday: Monday, February 13, 2017\n",
    "* Washington's Birthday (President's Day): Monday, February 20, 2017\n",
    "* Memorial Day: Monday, May 29, 2017\n",
    "* Independence Day: Tuesday, July 04, 2017\n",
    "* Labor Day: Monday, September 04, 2017\n",
    "* Columbus Day: Monday, October 09, 2017\n",
    "* Veterans' Day: Friday, November 10, 2017\n",
    "* Thanksgiving Day: Thursday, November 23, 2017\n",
    "* Thanksgiving Day: Friday, November 24, 2017\n",
    "* Christmas Day: Monday, December 25, 2017\n",
    "\n",
    "These events might have influenced the demand"
   ]
  },
  {
   "cell_type": "code",
   "execution_count": 16,
   "metadata": {},
   "outputs": [],
   "source": [
    "holiday_dates = [\n",
    "    datetime(2017, 1, 2),   # New Year's Day\n",
    "    datetime(2017, 1, 16),  # Martin Luther King Day\n",
    "    datetime(2017, 2, 13),  # Lincoln's Birthday\n",
    "    datetime(2017, 2, 20),  # Washington's Birthday (President's Day)\n",
    "    datetime(2017, 5, 29),  # Memorial Day\n",
    "    datetime(2017, 7, 4),   # Independence Day\n",
    "    datetime(2017, 9, 4),   # Labor Day\n",
    "    datetime(2017, 10, 9),  # Columbus Day\n",
    "    datetime(2017, 11, 10), # Veterans' Day\n",
    "    datetime(2017, 11, 23), # Thanksgiving Day\n",
    "    datetime(2017, 11, 24), # Day after Thanksgiving\n",
    "    datetime(2017, 12, 25), # Christmas Day\n",
    "]\n",
    "\n",
    "def get_holiday_dates(df):\n",
    "    df['is_holiday'] = df['timestamp'].isin(holiday_dates).astype(int)\n",
    "    return df"
   ]
  },
  {
   "cell_type": "markdown",
   "metadata": {},
   "source": [
    "### Neighbor demand feature\n",
    "We expect a high correlation between the demand of one hexagon and the demand in the surrounding hexagons. With this feature we can observe demand patterns in a greater radius than only in the observed location."
   ]
  },
  {
   "cell_type": "code",
   "execution_count": 17,
   "metadata": {},
   "outputs": [],
   "source": [
    "def get_neighbor_demand(df):\n",
    "\n",
    "    if h3.h3_is_valid(df[\"pickup_loc\"].iloc[0]):\n",
    "        pickup_locs = df[\"pickup_loc\"].unique()\n",
    "        neighbors_dict = {}\n",
    "        for loc in pickup_locs:\n",
    "            neighbors_dict[loc] = h3.k_ring(loc, k=1)\n",
    "    else:\n",
    "        df_census_tracts = pd.read_csv(\"data/chicago_census_tracts.csv\")\n",
    "        df_census_tracts['the_geom'] = df_census_tracts['the_geom'].apply(shapely.wkt.loads)\n",
    "        df_census_tracts = df_census_tracts.rename(columns={'the_geom': 'geometry'})\n",
    "        df_census_tracts.head()\n",
    "        df_census_tracts = df_census_tracts[[\"geometry\", \"GEOID10\"]]\n",
    "\n",
    "        gdf = gpd.GeoDataFrame(df_census_tracts, geometry='geometry')\n",
    "        gdf = gdf.set_crs(epsg=4326, allow_override=True)\n",
    "        gdf = gdf.to_crs(epsg=3857)\n",
    "\n",
    "        buffer_distance = 500  # buffer distance in meters (500 m here)\n",
    "        gdf_buffered = gdf.copy()\n",
    "        gdf_buffered['geometry'] = gdf.buffer(buffer_distance)\n",
    "        gdf['geometry'] = gdf_buffered.geometry  # Replace original geometry with buffered one\n",
    "        census_tract_neighbors = gpd.sjoin(gdf, gdf, how='left', predicate='intersects')\n",
    "        \n",
    "        # Remove self-matches (where polygons intersect with themselves)\n",
    "        census_tract_neighbors = census_tract_neighbors[census_tract_neighbors.index != census_tract_neighbors.index_right]\n",
    "        census_tract_neighbors_grouped = census_tract_neighbors.groupby('GEOID10_left')['GEOID10_right'].apply(list)\n",
    "        neighbors_dict = census_tract_neighbors_grouped.to_dict()\n",
    "    \n",
    "\n",
    "\n",
    "    def get_neighbor_demand_by_ID(df_timestamp, pickup_loc):\n",
    "        neighbors = neighbors_dict[pickup_loc]\n",
    "        neighbor_demand = df_timestamp[df_timestamp['pickup_loc'].isin(neighbors)]['demand_h-1'].mean()\n",
    "        return neighbor_demand\n",
    "\n",
    "    \n",
    "    df['neighbor_demand_h-1'] = df.apply(lambda row: get_neighbor_demand_by_ID(df[df['timestamp'] == row['timestamp']], row['pickup_loc']), axis=1)\n",
    "    return df"
   ]
  },
  {
   "cell_type": "markdown",
   "metadata": {},
   "source": [
    "### Prepare dataset helpers"
   ]
  },
  {
   "cell_type": "code",
   "execution_count": 18,
   "metadata": {},
   "outputs": [],
   "source": [
    "def get_prepared_data(location_type_hexagon=True, resolution=10):\n",
    "    df = load_dataset_to_pandas(location_type_hexagon=location_type_hexagon, resolution=resolution)\n",
    "    \n",
    "    df = resample_to_hourly(df)\n",
    "    df = merge_weather(df)\n",
    "    df = get_past_temperature(df)\n",
    "    df = get_past_precip(df)\n",
    "    df = get_season(df)\n",
    "    df = get_weekend(df)\n",
    "    df = get_daytime(df)    \n",
    "    df = get_holiday_dates(df)\n",
    "    df = get_past_single_hour_demand(df)\n",
    "    df = get_past_time_bucket_demand(df)    \n",
    "    df = get_target_time_bucket_demand(df)    \n",
    "    # df = get_neighbor_demand(df)\n",
    "    \n",
    "    return df"
   ]
  },
  {
   "cell_type": "markdown",
   "metadata": {},
   "source": [
    "# Correlation Analysis\n"
   ]
  },
  {
   "cell_type": "markdown",
   "metadata": {},
   "source": [
    "We have different measurement scales:\n",
    "\n",
    "Ordinal (natural order, but no quantifiable difference between values or binary):\n",
    "- season_x \n",
    "- trip_start_hour\n",
    "- trip_start_month\n",
    "- trip_start_day\n",
    "Metric (equidistant scale):\n",
    "- temp\n",
    "- demand\n",
    "- precipitation\n",
    "- humidity\n",
    "- wind_speed\n",
    "- wind_gust\n",
    "- pressure\n",
    "Nominal:\n",
    "- public_holiday\n",
    "- weekend\n",
    "- condition_Clear/Sunny etc.\n",
    "\n",
    "We do 2 different analysis:\n",
    "- Metric <-> Metric (Pearson)\n",
    "- Ordinal & Nominal <-> Metric, Ordinal & Nominal <-> Ordinal & Nominal (Spearman)"
   ]
  },
  {
   "cell_type": "code",
   "execution_count": 19,
   "metadata": {},
   "outputs": [
    {
     "ename": "NameError",
     "evalue": "name 'df_census' is not defined",
     "output_type": "error",
     "traceback": [
      "\u001b[0;31m---------------------------------------------------------------------------\u001b[0m",
      "\u001b[0;31mNameError\u001b[0m                                 Traceback (most recent call last)",
      "Cell \u001b[0;32mIn[16], line 1\u001b[0m\n\u001b[0;32m----> 1\u001b[0m metric \u001b[38;5;241m=\u001b[39m \u001b[43mdf_census\u001b[49m[[\u001b[38;5;124m\"\u001b[39m\u001b[38;5;124mdemand\u001b[39m\u001b[38;5;124m\"\u001b[39m, \u001b[38;5;124m\"\u001b[39m\u001b[38;5;124mdemand_h-1\u001b[39m\u001b[38;5;124m\"\u001b[39m, \u001b[38;5;124m\"\u001b[39m\u001b[38;5;124mdemand_h-2\u001b[39m\u001b[38;5;124m\"\u001b[39m, \u001b[38;5;124m\"\u001b[39m\u001b[38;5;124mdemand_h-24\u001b[39m\u001b[38;5;124m\"\u001b[39m, \u001b[38;5;124m\"\u001b[39m\u001b[38;5;124mtemp\u001b[39m\u001b[38;5;124m\"\u001b[39m, \u001b[38;5;124m\"\u001b[39m\u001b[38;5;124mtemp_h-1\u001b[39m\u001b[38;5;124m\"\u001b[39m, \u001b[38;5;124m\"\u001b[39m\u001b[38;5;124mtemp_h-2\u001b[39m\u001b[38;5;124m\"\u001b[39m, \u001b[38;5;124m\"\u001b[39m\u001b[38;5;124mtemp_h-3\u001b[39m\u001b[38;5;124m\"\u001b[39m, \u001b[38;5;124m'\u001b[39m\u001b[38;5;124mprecip\u001b[39m\u001b[38;5;124m'\u001b[39m, \u001b[38;5;124m'\u001b[39m\u001b[38;5;124mprecip_h-1\u001b[39m\u001b[38;5;124m'\u001b[39m, \u001b[38;5;124m'\u001b[39m\u001b[38;5;124mprecip_h-2\u001b[39m\u001b[38;5;124m'\u001b[39m, \u001b[38;5;124m'\u001b[39m\u001b[38;5;124mprecip_h-3\u001b[39m\u001b[38;5;124m'\u001b[39m, \u001b[38;5;124m'\u001b[39m\u001b[38;5;124mhumidity\u001b[39m\u001b[38;5;124m'\u001b[39m, \u001b[38;5;124m'\u001b[39m\u001b[38;5;124mwind_speed\u001b[39m\u001b[38;5;124m'\u001b[39m, \u001b[38;5;124m'\u001b[39m\u001b[38;5;124mwind_gust\u001b[39m\u001b[38;5;124m'\u001b[39m, \u001b[38;5;124m'\u001b[39m\u001b[38;5;124mpressure\u001b[39m\u001b[38;5;124m'\u001b[39m]]\n\u001b[1;32m      2\u001b[0m plt\u001b[38;5;241m.\u001b[39mfigure(figsize\u001b[38;5;241m=\u001b[39m(\u001b[38;5;241m12\u001b[39m, \u001b[38;5;241m10\u001b[39m))\n\u001b[1;32m      3\u001b[0m sns\u001b[38;5;241m.\u001b[39mheatmap(metric\u001b[38;5;241m.\u001b[39mcorr(method\u001b[38;5;241m=\u001b[39m\u001b[38;5;124m\"\u001b[39m\u001b[38;5;124mpearson\u001b[39m\u001b[38;5;124m\"\u001b[39m), annot\u001b[38;5;241m=\u001b[39m\u001b[38;5;28;01mTrue\u001b[39;00m, cmap\u001b[38;5;241m=\u001b[39m\u001b[38;5;124m\"\u001b[39m\u001b[38;5;124mRdYlGn\u001b[39m\u001b[38;5;124m\"\u001b[39m)\n",
      "\u001b[0;31mNameError\u001b[0m: name 'df_census' is not defined"
     ]
    }
   ],
   "source": [
    "metric = df_census[[\"demand\", \"demand_h-1\", \"demand_h-2\", \"demand_h-24\", \"temp\", \"temp_h-1\", \"temp_h-2\", \"temp_h-3\", 'precip', 'precip_h-1', 'precip_h-2', 'precip_h-3', 'humidity', 'wind_speed', 'wind_gust', 'pressure']]\n",
    "plt.figure(figsize=(12, 10))\n",
    "sns.heatmap(metric.corr(method=\"pearson\"), annot=True, cmap=\"RdYlGn\")"
   ]
  },
  {
   "cell_type": "code",
   "execution_count": 20,
   "metadata": {},
   "outputs": [],
   "source": [
    "ordinal_and_nominal = df_census[\n",
    "        [\"season_autumn\", \"season_spring\", \"season_summer\", \"season_winter\", \"daytime_morning_week\",\n",
    "        \"daytime_afternoon_week\", \"daytime_evening_week\", \"daytime_night_week\", \"daytime_morning_weekend\",\n",
    "        \"daytime_afternoon_weekend\", \"daytime_evening_weekend\", \"daytime_night_weekend\", \"public_holiday\",\n",
    "        \"weekend\"]] #\"hour\"\n",
    "plt.figure(figsize=(20, 20))\n",
    "sns.heatmap(pd.concat([ordinal_and_nominal, metric], axis=1).corr(method=\"spearman\"), annot=True, cmap=\"RdYlGn\")"
   ]
  },
  {
   "cell_type": "markdown",
   "metadata": {},
   "source": [
    "# Prediction Models"
   ]
  },
  {
   "cell_type": "markdown",
   "metadata": {},
   "source": [
    "## Preparation functions"
   ]
  },
  {
   "cell_type": "markdown",
   "metadata": {},
   "source": [
    "### K-Fold Target encoding\n",
    "With `pickup_loc` we still have a categorical feature in the dataset. As we we have more than 500 census tracts it does not make sense to do One hot encoding as we would obtain sparse data. Hence, we do k-fold target encoding with scikit-learn, which essentially uses a weighted sum of the mean of the target of each `pickup_loc` instead of the categorical `pickup_loc` value and the global mean. As this leads to leakage, we do this in combination with 5-fold cross fitting, as described under https://scikit-learn.org/stable/modules/preprocessing.html#target-encoder. This minimizes the impact of leakage and risk of overfitting. We fit the encoder only on the training data and apply the learnt transformation also to the test set, such that we have a consistent encoding."
   ]
  },
  {
   "cell_type": "code",
   "execution_count": 34,
   "metadata": {},
   "outputs": [],
   "source": [
    "def encode_pickup(df_train, df_test, target, encoding_name):\n",
    "    encoder = TargetEncoder(target_type='continuous', cv=5, smooth='auto')\n",
    "    encoder.fit(df_train['pickup_loc'].values.reshape(-1,1), df_train[target].values.reshape(-1,))\n",
    "    df_train[encoding_name] = encoder.transform(df_train['pickup_loc'].values.reshape(-1,1))\n",
    "    df_test[encoding_name] = encoder.transform(df_test['pickup_loc'].values.reshape(-1,1))\n",
    "    return df_train, df_test"
   ]
  },
  {
   "cell_type": "markdown",
   "metadata": {},
   "source": [
    "## Split the dataset\n",
    "We split into 70, 15, 15"
   ]
  },
  {
   "cell_type": "code",
   "execution_count": 21,
   "metadata": {},
   "outputs": [],
   "source": [
    "def train_test_split(df, train_ratio=0.8):\n",
    "    def split_data(df, train_ratio):\n",
    "        # First, we'll sort the dataframe just in case it isn't sorted\n",
    "        df = df.dropna()\n",
    "        df = df.sort_values('timestamp')\n",
    "        \n",
    "        # calculate the size of each section\n",
    "        train_size = int(len(df) * train_ratio)\n",
    "        \n",
    "        # split the data\n",
    "        train_df = df.iloc[:train_size]\n",
    "        test_df = df.iloc[train_size:]\n",
    "        \n",
    "        return train_df, test_df\n",
    "\n",
    "    # Apply the function for each 'pickup_loc' category\n",
    "    train_dfs = []\n",
    "    test_dfs = []\n",
    "\n",
    "    for pickup_loc in df['pickup_loc'].unique():\n",
    "        df_loc = df[df['pickup_loc'] == pickup_loc]\n",
    "        train_df_loc, test_df_loc = split_data(df_loc, train_ratio)\n",
    "        \n",
    "        train_dfs.append(train_df_loc)\n",
    "        test_dfs.append(test_df_loc)\n",
    "\n",
    "    # Concatenate the dataframes\n",
    "    train_df = pd.concat(train_dfs)\n",
    "    test_df = pd.concat(test_dfs)\n",
    "    \n",
    "    return train_df, test_df\n"
   ]
  },
  {
   "cell_type": "markdown",
   "metadata": {},
   "source": [
    "## Export Datasets\n",
    "\n",
    "Now we export the dataset, such that we can use it "
   ]
  },
  {
   "cell_type": "code",
   "execution_count": 24,
   "metadata": {},
   "outputs": [
    {
     "name": "stdout",
     "output_type": "stream",
     "text": [
      "Processing census tract data.\n",
      "Census tract data saved.\n"
     ]
    }
   ],
   "source": [
    "# # For hexagons\n",
    "# for resolution in list(range(3, 10)):\n",
    "#     print(f\"Processing resolution: {resolution}\")\n",
    "#     df = get_prepared_data(location_type_hexagon=True, resolution=resolution)\n",
    "#     train_df, test_df = train_test_split(df)\n",
    "    \n",
    "#     for target in ['demand_target_bucket_1', 'demand_target_bucket_2', 'demand_target_bucket_6', 'demand_target_bucket_24']:\n",
    "#         train_df, test_df = encode_pickup(train_df, test_df, target, f'pickup_{target}')\n",
    "#     train_df.to_csv(f'./data/model_input/{resolution}_res_train.csv', index=False)\n",
    "#     test_df.to_csv(f'./data/model_input/{resolution}_res_test.csv', index=False)\n",
    "#     print(f\"Resolution {resolution} data saved.\")\n",
    "\n",
    "# Now for census tract\n",
    "print(\"Processing census tract data.\")\n",
    "df = get_prepared_data(location_type_hexagon=False)\n",
    "train_df, test_df = train_test_split(df)\n",
    "for target in ['demand_target_bucket_1', 'demand_target_bucket_2', 'demand_target_bucket_6', 'demand_target_bucket_24']:\n",
    "    train_df, test_df = encode_pickup(train_df, test_df, target, f'pickup_{target}')\n",
    "train_df.to_csv(f'./data/model_input/0_res_train.csv', index=False)\n",
    "test_df.to_csv(f'./data/model_input/0_res_test.csv', index=False)\n",
    "print(\"Census tract data saved.\")\n"
   ]
  }
 ],
 "metadata": {
  "kernelspec": {
   "display_name": "Python 3.10 (aaadev)",
   "language": "python",
   "name": "aaa_dev"
  },
  "language_info": {
   "codemirror_mode": {
    "name": "ipython",
    "version": 3
   },
   "file_extension": ".py",
   "mimetype": "text/x-python",
   "name": "python",
   "nbconvert_exporter": "python",
   "pygments_lexer": "ipython3",
   "version": "3.10.12"
  }
 },
 "nbformat": 4,
 "nbformat_minor": 4
}
