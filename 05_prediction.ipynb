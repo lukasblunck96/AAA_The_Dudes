{
 "cells": [
  {
   "cell_type": "code",
   "execution_count": 38,
   "metadata": {},
   "outputs": [],
   "source": [
    "import vaex\n",
    "import h3\n",
    "\n",
    "df_taxi_trips = vaex.open('./data/trips_prepared.hdf5')\n",
    "df_taxi_trips.head()\n",
    "\n",
    "df_taxi_trips[\"trip_start_day\"] = df_taxi_trips.trip_start_timestamp.dt.day\n",
    "df_taxi_trips[\"trip_end_day\"] = df_taxi_trips.trip_end_timestamp.dt.day\n",
    "df_taxi_trips[\"trip_start_month\"] = df_taxi_trips.trip_start_timestamp.dt.month\n",
    "df_taxi_trips[\"trip_end_month\"] = df_taxi_trips.trip_end_timestamp.dt.month"
   ]
  },
  {
   "cell_type": "code",
   "execution_count": 39,
   "metadata": {},
   "outputs": [],
   "source": [
    "def geo_to_h3(row1, row2, resolution):\n",
    "    return h3.geo_to_h3(row1,row2, resolution)\n",
    "\n",
    "# Step 1: For each pickup and drop-off calculate the correct hexagon in the resolution\n",
    "df_taxi_trips['pickup_hex'] = df_taxi_trips.apply(geo_to_h3, [df_taxi_trips['pickup_centroid_latitude'], df_taxi_trips['pickup_centroid_longitude']])\n",
    "df_taxi_trips['dropoff_hex'] = df_taxi_trips.apply(geo_to_h3, [df_taxi_trips['dropoff_centroid_latitude'], df_taxi_trips['dropoff_centroid_longitude']])"
   ]
  },
  {
   "cell_type": "code",
   "execution_count": 37,
   "metadata": {},
   "outputs": [],
   "source": [
    "grouped_df = df_taxi_trips.groupby(['trip_start_hour', 'trip_start_month', 'trip_start_day']).agg({'demand': 'count'})"
   ]
  },
  {
   "cell_type": "code",
   "execution_count": null,
   "metadata": {},
   "outputs": [],
   "source": [
    "\n",
    "\n"
   ]
  },
  {
   "cell_type": "code",
   "execution_count": 13,
   "metadata": {},
   "outputs": [
    {
     "data": {
      "text/html": [
       "<table>\n",
       "<thead>\n",
       "<tr><th>#                                     </th><th>trip_id                                 </th><th>taxi_id                                            </th><th>trip_start_timestamp      </th><th>trip_end_timestamp        </th><th>trip_seconds  </th><th>trip_miles  </th><th>pickup_census_tract  </th><th>dropoff_census_tract  </th><th>pickup_community_area  </th><th>dropoff_community_area  </th><th>fare  </th><th>tips  </th><th>tolls  </th><th>extras  </th><th>trip_total  </th><th>payment_type  </th><th>company                          </th><th>pickup_centroid_latitude  </th><th>pickup_centroid_longitude  </th><th>dropoff_centroid_latitude  </th><th>dropoff_centroid_longitude  </th><th>trip_start_hour  </th><th>trip_end_hour  </th><th>trip_start_4h_period  </th><th>trip_end_4h_period  </th></tr>\n",
       "</thead>\n",
       "<tbody>\n",
       "<tr><td><i style='opacity: 0.6'>0</i>         </td><td>1b545d0be27b195076e5d2a7d4fc0ebef6ef20ac</td><td>&#x27;56a1119c6ca57e39525cf06829f9ecff553cf4b5ac24821...</td><td>2017-01-01 00:00:00.000000</td><td>2017-01-01 00:00:00.000000</td><td>240.0         </td><td>1.3         </td><td>17031839100.0        </td><td>17031833000.0         </td><td>32.0                   </td><td>28.0                    </td><td>6.25  </td><td>0.0   </td><td>0.0    </td><td>0.0     </td><td>6.25        </td><td>Cash          </td><td>Taxi Affiliation Services        </td><td>41.880994471              </td><td>-87.632746489              </td><td>41.88528132                </td><td>-87.6572332                 </td><td>0                </td><td>0              </td><td>0                     </td><td>0                   </td></tr>\n",
       "<tr><td><i style='opacity: 0.6'>1</i>         </td><td>c3ee40051c5643c54064a8b9df3686d2d411518d</td><td>&#x27;7987cfe5e3b2c9869665f70fe35dbe7423e7fc5852f2d6f...</td><td>2017-01-01 00:00:00.000000</td><td>2017-01-01 00:15:00.000000</td><td>1500.0        </td><td>0.4         </td><td>17031839100.0        </td><td>17031081300.0         </td><td>32.0                   </td><td>8.0                     </td><td>22.75 </td><td>4.85  </td><td>0.0    </td><td>1.5     </td><td>29.1        </td><td>Credit Card   </td><td>Blue Ribbon Taxi Association Inc.</td><td>41.880994471              </td><td>-87.632746489              </td><td>41.898331794               </td><td>-87.620762865               </td><td>0                </td><td>0              </td><td>0                     </td><td>0                   </td></tr>\n",
       "<tr><td><i style='opacity: 0.6'>2</i>         </td><td>29f30c8a6bbc028f5d63aa18c708d31b47267a9f</td><td>&#x27;0b269137bd94b55212311226d9e1554423e12bcc16a432c...</td><td>2017-01-01 00:00:00.000000</td><td>2017-01-01 00:30:00.000000</td><td>1620.0        </td><td>0.9         </td><td>17031839100.0        </td><td>17031081500.0         </td><td>32.0                   </td><td>8.0                     </td><td>12.25 </td><td>2.85  </td><td>0.0    </td><td>2.0     </td><td>17.1        </td><td>Credit Card   </td><td>Taxi Affiliation Services        </td><td>41.880994471              </td><td>-87.632746489              </td><td>41.892507781               </td><td>-87.626214906               </td><td>0                </td><td>0              </td><td>0                     </td><td>0                   </td></tr>\n",
       "<tr><td><i style='opacity: 0.6'>3</i>         </td><td>55ae4fa955e6bc8705b995248c34f4183d848c27</td><td>&#x27;d1d781b6807176ed53fbb9d0010dd0a87e29c073984bda6...</td><td>2017-01-01 00:00:00.000000</td><td>2017-01-01 00:00:00.000000</td><td>540.0         </td><td>1.0         </td><td>17031081202.0        </td><td>17031081403.0         </td><td>8.0                    </td><td>8.0                     </td><td>6.75  </td><td>0.0   </td><td>0.0    </td><td>2.0     </td><td>8.75        </td><td>Cash          </td><td>Dispatch Taxi Affiliation        </td><td>41.902788048              </td><td>-87.62614559               </td><td>41.890922026               </td><td>-87.618868355               </td><td>0                </td><td>0              </td><td>0                     </td><td>0                   </td></tr>\n",
       "<tr><td><i style='opacity: 0.6'>4</i>         </td><td>ce908cd441e28d08dfb22bf168102beabb5e16e4</td><td>&#x27;f7630edc68a131c4a97382dd93206949da80ec1443d8da7...</td><td>2017-01-01 00:00:00.000000</td><td>2017-01-01 00:15:00.000000</td><td>480.0         </td><td>0.5         </td><td>17031081500.0        </td><td>17031081403.0         </td><td>8.0                    </td><td>8.0                     </td><td>6.25  </td><td>2.0   </td><td>0.0    </td><td>1.5     </td><td>9.75        </td><td>Credit Card   </td><td>Taxi Affiliation Services        </td><td>41.892507781              </td><td>-87.626214906              </td><td>41.890922026               </td><td>-87.618868355               </td><td>0                </td><td>0              </td><td>0                     </td><td>0                   </td></tr>\n",
       "<tr><td>...                                   </td><td>...                                     </td><td>...                                                </td><td>...                       </td><td>...                       </td><td>...           </td><td>...         </td><td>...                  </td><td>...                   </td><td>...                    </td><td>...                     </td><td>...   </td><td>...   </td><td>...    </td><td>...     </td><td>...         </td><td>...           </td><td>...                              </td><td>...                       </td><td>...                        </td><td>...                        </td><td>...                         </td><td>...              </td><td>...            </td><td>...                   </td><td>...                 </td></tr>\n",
       "<tr><td><i style='opacity: 0.6'>10,980,705</i></td><td>ee84ddee043ef4937e10000139b096c9eccd0dc9</td><td>&#x27;ca85563c7c46f07258ff388e8a43a1502115d1824dd00b5...</td><td>2017-12-31 23:45:00.000000</td><td>2017-12-31 23:45:00.000000</td><td>622.0         </td><td>0.96        </td><td>17031081700.0        </td><td>17031081401.0         </td><td>8.0                    </td><td>8.0                     </td><td>7.25  </td><td>2.0   </td><td>0.0    </td><td>1.0     </td><td>10.75       </td><td>Credit Card   </td><td>Taxi Affiliation Service Yellow  </td><td>41.892042136              </td><td>-87.63186395               </td><td>41.89503345                </td><td>-87.619710672               </td><td>23               </td><td>23             </td><td>5                     </td><td>5                   </td></tr>\n",
       "<tr><td><i style='opacity: 0.6'>10,980,706</i></td><td>1e3d7f719c6f360d070b4b02bb5a237fd70be799</td><td>&#x27;c4a594a1f522860a7f91aca9a3cccbef723a1178f1fde92...</td><td>2017-12-31 23:45:00.000000</td><td>2017-12-31 23:45:00.000000</td><td>300.0         </td><td>1.2         </td><td>17031081500.0        </td><td>17031080100.0         </td><td>8.0                    </td><td>8.0                     </td><td>6.25  </td><td>0.0   </td><td>0.0    </td><td>0.0     </td><td>6.25        </td><td>Cash          </td><td>Taxi Affiliation Service Yellow  </td><td>41.892507781              </td><td>-87.626214906              </td><td>41.907520075               </td><td>-87.6266589                 </td><td>23               </td><td>23             </td><td>5                     </td><td>5                   </td></tr>\n",
       "<tr><td><i style='opacity: 0.6'>10,980,707</i></td><td>70fa927cfd759f5f9e6d0ca7606cb3b2112a6ca8</td><td>&#x27;111ced8a81014a3a549105d512397282b1a96f487a65c18...</td><td>2017-12-31 23:45:00.000000</td><td>2018-01-01 00:00:00.000000</td><td>644.0         </td><td>1.01        </td><td>17031081402.0        </td><td>17031081300.0         </td><td>8.0                    </td><td>8.0                     </td><td>7.25  </td><td>0.0   </td><td>0.0    </td><td>1.0     </td><td>8.25        </td><td>Cash          </td><td>Taxi Affiliation Service Yellow  </td><td>41.891971508              </td><td>-87.612945414              </td><td>41.898331794               </td><td>-87.620762865               </td><td>23               </td><td>0              </td><td>5                     </td><td>0                   </td></tr>\n",
       "<tr><td><i style='opacity: 0.6'>10,980,708</i></td><td>1a3504d474e1eee8d80283edbb2df4f20b18420d</td><td>&#x27;1b7aef0344f45914e7942efad05553934fe222c880a1cb1...</td><td>2017-12-31 23:45:00.000000</td><td>2017-12-31 23:45:00.000000</td><td>381.0         </td><td>1.52        </td><td>17031241400.0        </td><td>17031842200.0         </td><td>24.0                   </td><td>8.0                     </td><td>7.25  </td><td>0.0   </td><td>0.0    </td><td>1.5     </td><td>8.75        </td><td>Cash          </td><td>Nova Taxi Affiliation Llc        </td><td>41.906025969              </td><td>-87.675311622              </td><td>41.904935302               </td><td>-87.649907226               </td><td>23               </td><td>23             </td><td>5                     </td><td>5                   </td></tr>\n",
       "<tr><td><i style='opacity: 0.6'>10,980,709</i></td><td>5b092a5bc8961179298190180ad6277cd4a16e0c</td><td>&#x27;bc38e7a06ef6fb44cebc048a2ee5b95e4895317666910e4...</td><td>2017-12-31 23:45:00.000000</td><td>2018-01-01 00:00:00.000000</td><td>926.0         </td><td>0.2         </td><td>17031081500.0        </td><td>17031081600.0         </td><td>8.0                    </td><td>8.0                     </td><td>8.25  </td><td>0.0   </td><td>0.0    </td><td>0.0     </td><td>8.25        </td><td>Cash          </td><td>Taxi Affiliation Service Yellow  </td><td>41.892507781              </td><td>-87.626214906              </td><td>41.892072635               </td><td>-87.628874157               </td><td>23               </td><td>0              </td><td>5                     </td><td>0                   </td></tr>\n",
       "</tbody>\n",
       "</table>"
      ],
      "text/plain": [
       "#           trip_id                                   taxi_id                                              trip_start_timestamp        trip_end_timestamp          trip_seconds    trip_miles    pickup_census_tract    dropoff_census_tract    pickup_community_area    dropoff_community_area    fare    tips    tolls    extras    trip_total    payment_type    company                            pickup_centroid_latitude    pickup_centroid_longitude    dropoff_centroid_latitude    dropoff_centroid_longitude    trip_start_hour    trip_end_hour    trip_start_4h_period    trip_end_4h_period\n",
       "0           1b545d0be27b195076e5d2a7d4fc0ebef6ef20ac  '56a1119c6ca57e39525cf06829f9ecff553cf4b5ac24821...  2017-01-01 00:00:00.000000  2017-01-01 00:00:00.000000  240.0           1.3           17031839100.0          17031833000.0           32.0                     28.0                      6.25    0.0     0.0      0.0       6.25          Cash            Taxi Affiliation Services          41.880994471                -87.632746489                41.88528132                  -87.6572332                   0                  0                0                       0\n",
       "1           c3ee40051c5643c54064a8b9df3686d2d411518d  '7987cfe5e3b2c9869665f70fe35dbe7423e7fc5852f2d6f...  2017-01-01 00:00:00.000000  2017-01-01 00:15:00.000000  1500.0          0.4           17031839100.0          17031081300.0           32.0                     8.0                       22.75   4.85    0.0      1.5       29.1          Credit Card     Blue Ribbon Taxi Association Inc.  41.880994471                -87.632746489                41.898331794                 -87.620762865                 0                  0                0                       0\n",
       "2           29f30c8a6bbc028f5d63aa18c708d31b47267a9f  '0b269137bd94b55212311226d9e1554423e12bcc16a432c...  2017-01-01 00:00:00.000000  2017-01-01 00:30:00.000000  1620.0          0.9           17031839100.0          17031081500.0           32.0                     8.0                       12.25   2.85    0.0      2.0       17.1          Credit Card     Taxi Affiliation Services          41.880994471                -87.632746489                41.892507781                 -87.626214906                 0                  0                0                       0\n",
       "3           55ae4fa955e6bc8705b995248c34f4183d848c27  'd1d781b6807176ed53fbb9d0010dd0a87e29c073984bda6...  2017-01-01 00:00:00.000000  2017-01-01 00:00:00.000000  540.0           1.0           17031081202.0          17031081403.0           8.0                      8.0                       6.75    0.0     0.0      2.0       8.75          Cash            Dispatch Taxi Affiliation          41.902788048                -87.62614559                 41.890922026                 -87.618868355                 0                  0                0                       0\n",
       "4           ce908cd441e28d08dfb22bf168102beabb5e16e4  'f7630edc68a131c4a97382dd93206949da80ec1443d8da7...  2017-01-01 00:00:00.000000  2017-01-01 00:15:00.000000  480.0           0.5           17031081500.0          17031081403.0           8.0                      8.0                       6.25    2.0     0.0      1.5       9.75          Credit Card     Taxi Affiliation Services          41.892507781                -87.626214906                41.890922026                 -87.618868355                 0                  0                0                       0\n",
       "...         ...                                       ...                                                  ...                         ...                         ...             ...           ...                    ...                     ...                      ...                       ...     ...     ...      ...       ...           ...             ...                                ...                         ...                          ...                          ...                           ...                ...              ...                     ...\n",
       "10,980,705  ee84ddee043ef4937e10000139b096c9eccd0dc9  'ca85563c7c46f07258ff388e8a43a1502115d1824dd00b5...  2017-12-31 23:45:00.000000  2017-12-31 23:45:00.000000  622.0           0.96          17031081700.0          17031081401.0           8.0                      8.0                       7.25    2.0     0.0      1.0       10.75         Credit Card     Taxi Affiliation Service Yellow    41.892042136                -87.63186395                 41.89503345                  -87.619710672                 23                 23               5                       5\n",
       "10,980,706  1e3d7f719c6f360d070b4b02bb5a237fd70be799  'c4a594a1f522860a7f91aca9a3cccbef723a1178f1fde92...  2017-12-31 23:45:00.000000  2017-12-31 23:45:00.000000  300.0           1.2           17031081500.0          17031080100.0           8.0                      8.0                       6.25    0.0     0.0      0.0       6.25          Cash            Taxi Affiliation Service Yellow    41.892507781                -87.626214906                41.907520075                 -87.6266589                   23                 23               5                       5\n",
       "10,980,707  70fa927cfd759f5f9e6d0ca7606cb3b2112a6ca8  '111ced8a81014a3a549105d512397282b1a96f487a65c18...  2017-12-31 23:45:00.000000  2018-01-01 00:00:00.000000  644.0           1.01          17031081402.0          17031081300.0           8.0                      8.0                       7.25    0.0     0.0      1.0       8.25          Cash            Taxi Affiliation Service Yellow    41.891971508                -87.612945414                41.898331794                 -87.620762865                 23                 0                5                       0\n",
       "10,980,708  1a3504d474e1eee8d80283edbb2df4f20b18420d  '1b7aef0344f45914e7942efad05553934fe222c880a1cb1...  2017-12-31 23:45:00.000000  2017-12-31 23:45:00.000000  381.0           1.52          17031241400.0          17031842200.0           24.0                     8.0                       7.25    0.0     0.0      1.5       8.75          Cash            Nova Taxi Affiliation Llc          41.906025969                -87.675311622                41.904935302                 -87.649907226                 23                 23               5                       5\n",
       "10,980,709  5b092a5bc8961179298190180ad6277cd4a16e0c  'bc38e7a06ef6fb44cebc048a2ee5b95e4895317666910e4...  2017-12-31 23:45:00.000000  2018-01-01 00:00:00.000000  926.0           0.2           17031081500.0          17031081600.0           8.0                      8.0                       8.25    0.0     0.0      0.0       8.25          Cash            Taxi Affiliation Service Yellow    41.892507781                -87.626214906                41.892072635                 -87.628874157                 23                 0                5                       0"
      ]
     },
     "execution_count": 13,
     "metadata": {},
     "output_type": "execute_result"
    }
   ],
   "source": [
    "# df_demand = df_taxi_trips.resample(rule='H', on='trip_start_hour').size().reset_index(name='demand')\n",
    "# df_demand.columns = ['date_time', 'demand']\n",
    "# df_demand.head()\n",
    "\n",
    "df_taxi_trips.groupby(by='trip_start_hour')\n",
    "df_taxi_trips"
   ]
  },
  {
   "cell_type": "code",
   "execution_count": 35,
   "metadata": {},
   "outputs": [],
   "source": [
    "df_weather = pd.read_csv('./data/weather_data_final.csv')\n",
    "df_weather['date_time'] = pd.to_datetime(df_weather['date_time'], format='%Y-%m-%d %X')"
   ]
  },
  {
   "cell_type": "code",
   "execution_count": null,
   "metadata": {},
   "outputs": [],
   "source": [
    "df_weather = pd.read_csv('./data/weather_data_final.csv')\n",
    "df_weather['date_time'] = pd.to_datetime(df_weather['date_time'], format='%Y-%m-%d %X')\n",
    "df_demand = df_demand.merge(df_weather, how='left', on='date_time')\n",
    "\n",
    "df_hourly_demand = df_demand.copy()\n",
    "df_demand.head()"
   ]
  },
  {
   "cell_type": "markdown",
   "metadata": {},
   "source": [
    "# Feature Engineering\n",
    "\n",
    "### Previous demand as input\n",
    "\n",
    "As we have given time series data, it is a common approach to use the demand of previous hours (or days etc.) as an input for the prediction. The assumption we hereby make is that the factors that influence the demand have not changed dramatically within the used time frames. We have decided to construct the following features from previous demand:\n",
    "\n",
    "* 2 hour: The asssumption is that the demand should not change dramatically between three hours.\n",
    "* 24 hours: The asssumption is that the current demand should be comparable to the demand exactly one day ago, as factors such as season, time of the day are the same.\n",
    "* Average demand of the past week at the same day time: This feature is the average of all 7 demand observations of the past week at same time of the day. "
   ]
  },
  {
   "cell_type": "code",
   "execution_count": null,
   "metadata": {},
   "outputs": [],
   "source": [
    "df_taxi_trips['demand_h-2'] = df_taxi_trips.demand.shift(periods=2)\n",
    "df_taxi_trips['demand_h-24'] = df_taxi_trips.demand.shift(periods=24)"
   ]
  }
 ],
 "metadata": {
  "kernelspec": {
   "display_name": "Python 3",
   "language": "python",
   "name": "python3"
  },
  "language_info": {
   "codemirror_mode": {
    "name": "ipython",
    "version": 3
   },
   "file_extension": ".py",
   "mimetype": "text/x-python",
   "name": "python",
   "nbconvert_exporter": "python",
   "pygments_lexer": "ipython3",
   "version": "3.10.6"
  },
  "orig_nbformat": 4
 },
 "nbformat": 4,
 "nbformat_minor": 2
}
