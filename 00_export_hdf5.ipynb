{
 "cells": [
  {
   "cell_type": "code",
   "execution_count": null,
   "metadata": {},
   "outputs": [],
   "source": [
    "### ONLY EXECUTE IF HDF5 FILES NOT EXPORTED ALREADY ###\n",
    "import vaex\n",
    "#for i, df in enumerate(vaex.read_csv('./data/Taxi_Trips_-_2017.csv', chunk_size=1_000_000, parse_dates=['Trip Start Timestamp', 'Trip End Timestamp'])):\n",
    "    #df.export_hdf5(f'./chunks/taxi_{i:02}.hdf5')\n",
    "#df = vaex.from_csv('./data/Taxi_Trips_-_2017.csv', convert = './data/trips.hdf5', progress=True)\n",
    "df = vaex.open('./data/my_big_file.csv', convert='./my_data/my_big_file.hdf5')\n"
   ]
  }
 ],
 "metadata": {
  "kernelspec": {
   "display_name": "Python 3 (ipykernel)",
   "language": "python",
   "name": "python3"
  },
  "language_info": {
   "codemirror_mode": {
    "name": "ipython",
    "version": 3
   },
   "file_extension": ".py",
   "mimetype": "text/x-python",
   "name": "python",
   "nbconvert_exporter": "python",
   "pygments_lexer": "ipython3",
   "version": "3.10.6"
  }
 },
 "nbformat": 4,
 "nbformat_minor": 4
}
