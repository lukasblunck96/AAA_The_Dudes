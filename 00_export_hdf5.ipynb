{
 "cells": [
  {
   "cell_type": "code",
   "execution_count": 1,
   "metadata": {},
   "outputs": [
    {
     "name": "stdout",
     "output_type": "stream",
     "text": [
      "Converting csv to chunk files\n",
      "Saved chunk #0 to ./data/trips_chunk_0.hdf5\n",
      "Saved chunk #1 to ./data/trips_chunk_1.hdf5\n",
      "Saved chunk #2 to ./data/trips_chunk_2.hdf5\n",
      "Saved chunk #3 to ./data/trips_chunk_3.hdf5\n",
      "Saved chunk #4 to ./data/trips_chunk_4.hdf5\n",
      "Converting 5 chunks into single file ./data/trips.hdf5\n",
      "export(hdf5) [########################################] 100.00% elapsed time  :   378.47s =  6.3m =  0.1h          \n",
      " "
     ]
    }
   ],
   "source": [
    "import vaex\n",
    "#for i, df in enumerate(vaex.read_csv('./data/Taxi_Trips_-_2017.csv', chunk_size=1_000_000, parse_dates=['Trip Start Timestamp', 'Trip End Timestamp'])):\n",
    "    #df.export_hdf5(f'./chunks/taxi_{i:02}.hdf5')\n",
    "df = vaex.from_csv('./data/Taxi_Trips_-_2017.csv', convert = './data/trips.hdf5', progress=True)"
   ]
  },
  {
   "cell_type": "code",
   "execution_count": null,
   "metadata": {},
   "outputs": [],
   "source": []
  }
 ],
 "metadata": {
  "kernelspec": {
   "display_name": "Python 3 (ipykernel)",
   "language": "python",
   "name": "python3"
  },
  "language_info": {
   "codemirror_mode": {
    "name": "ipython",
    "version": 3
   },
   "file_extension": ".py",
   "mimetype": "text/x-python",
   "name": "python",
   "nbconvert_exporter": "python",
   "pygments_lexer": "ipython3",
   "version": "3.10.12"
  }
 },
 "nbformat": 4,
 "nbformat_minor": 4
}
