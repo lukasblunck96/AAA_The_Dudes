{
 "cells": [
  {
   "cell_type": "markdown",
   "id": "ce746fcf-eb82-4a35-ba41-b51b982d6662",
   "metadata": {},
   "source": [
    "# Smart Charging Using Reinforcement Learning"
   ]
  },
  {
   "cell_type": "code",
   "execution_count": 112,
   "id": "d6e09303",
   "metadata": {},
   "outputs": [],
   "source": [
    "import numpy as np\n",
    "from gym import Env\n",
    "from gym.spaces import Box, Discrete\n",
    "import random\n",
    "import math\n",
    "from keras.models import Sequential\n",
    "from keras.layers import Dense, Flatten\n",
    "from tensorflow.keras.optimizers.legacy import Adam\n",
    "\n",
    "from rl.agents import DQNAgent\n",
    "from rl.policy import BoltzmannQPolicy\n",
    "from rl.memory import SequentialMemory\n",
    "import matplotlib.pyplot as plt \n",
    "import pandas as pd\n",
    "import tensorflow as tf\n",
    "#%matplotlib inline"
   ]
  },
  {
   "cell_type": "code",
   "execution_count": 138,
   "id": "bd9903f2",
   "metadata": {},
   "outputs": [],
   "source": [
    "from tensorflow.keras.optimizers import SGD"
   ]
  },
  {
   "cell_type": "markdown",
   "id": "d95bd7b5",
   "metadata": {},
   "source": [
    "## Electric Vehicle Charging Environment\n",
    "We start by creating the environment for simulating electric vehicle (EV) charging using the OpenAI Gym framework. The environment defines a Markov decision process, including states, actions and a reward function with different charging rates and time-dependent energy prices."
   ]
  },
  {
   "cell_type": "markdown",
   "id": "69fca89f",
   "metadata": {},
   "source": [
    "## Electric Vehicle Charging Environment\n",
    "\n",
    "This code defines a custom environment for simulating electric vehicle (EV) charging using the OpenAI Gym framework. The environment models the charging process of an EV with different charging rates and time-dependent energy prices.\n",
    "\n",
    "### Key Components\n",
    "\n",
    "- `action_space`: The environment offers four charging actions: no charge, low, medium, and high charging.\n",
    "\n",
    "- `battery_limit`: Represents the EV's battery capacity, assumed to be 100 kWh.\n",
    "\n",
    "- `battery_level`: Initialized to the battery's full capacity at the start.\n",
    "\n",
    "- `observation_space`: A state consists of the battery level and the current time interval.\n",
    "\n",
    "- `current_time_index`: Tracks the time interval (0-7) for charging intervals.\n",
    "\n",
    "- `time_coefficients`: Coefficients representing volatile energy prices from 2pm to 4pm ranging from 47$/MWh to 50$/MWh or 0.94 to 1. (Source: https://www.researchgate.net/profile/Torjus-Bolkesjo/publication/310021998/figure/fig3/AS:431952714047493@1479996960479/Hourly-intra-day-variation-of-the-electricity-price-for-Germany-in-MWh-and-the.png)\n",
    "\n",
    "- `charging_rates`: Charging rates for different actions (0, 1.75, 3.5, 5.5 kWh).\n",
    "\n",
    "### Functions\n",
    "\n",
    "- `step(action)`: Simulates one time step in the environment. The agent's action determines the charging rate, and the environment updates the battery level, calculates rewards based on energy prices, and applies penalties for insufficient battery levels.\n",
    "\n",
    "- `reset()`: Resets the environment to the initial state, including battery level and time.\n",
    "\n",
    "### Objective\n",
    "\n",
    "The agent's objective is to make charging decisions that minimize costs, considering time of day and charging rate. By interacting with this environment, the agent can learn strategies to optimize the charging process and manage the EV's battery effectively.\n"
   ]
  },
  {
   "cell_type": "code",
   "execution_count": 113,
   "id": "70646c43",
   "metadata": {},
   "outputs": [],
   "source": [
    "class EVChargingEnvironment(Env):\n",
    "    def __init__(self):\n",
    "        self.action_space = Discrete(4) # Action space contains 4 actions: zero, low, medium, high charging\n",
    "        self.battery_limit = 58 # Assumption: 58 kWh (Netto) battery capacity (VW ID.3 Pro)\n",
    "        self.battery_level = self.battery_limit # Assumption: Battery fully charged at initialization\n",
    "\n",
    "        # A state in the environment consists of battery level (0-100 kWh) and time interval (0-7) \n",
    "        self.observation_space = np.array([Box(low=np.array([0]), high = np.array([self.battery_limit])), Box(low=np.array([0]), high = np.array([8]))])\n",
    "\n",
    "        # Initialize first state\n",
    "        self.current_time_index = 0\n",
    "        self.state = np.array([self.battery_level, self.current_time_index]) \n",
    "\n",
    "        # Electricity price distribution: Starting at $50/MWh, decreasing to $47/MWh after 4 intervals, then increasing back to $50/MWh\n",
    "        self.time_coefficients = [1.0, 0.98, 0.96, 0.94, 0.94, 0.96, 0.98, 1.0]\n",
    "\n",
    "        # Charging rates in range 0, 7, 14, 22 kWh divided by 4 (because we charge only 15 minutes)\n",
    "        self.charging_rates = [0, 1.75, 3.5, 5.5]\n",
    "\n",
    "    def step(self, action):\n",
    "\n",
    "        # Set time attribute of state to \n",
    "        self.state[1] = self.current_time_index\n",
    "\n",
    "        # Get current time coefficient and charging rate\n",
    "        time_coefficient = self.time_coefficients[self.current_time_index]\n",
    "        charging_rate = self.charging_rates[action]\n",
    "        \n",
    "        # If the charging rate exceeds the limit, we only charge the amount of difference\n",
    "        if self.battery_level + charging_rate > self.battery_limit:\n",
    "            charging_rate = self.battery_limit - self.battery_level\n",
    "        \n",
    "        # Increase battery level\n",
    "        self.battery_level += charging_rate\n",
    "        self.state[0] = self.battery_level\n",
    "        \n",
    "        # Reward function\n",
    "        reward = time_coefficient * math.exp(charging_rate) * (-1)\n",
    "\n",
    "        # Assumption: Reward should be Zero for Zero charging\n",
    "        if charging_rate == 0:\n",
    "            reward = 0\n",
    "\n",
    "        # Update time index\n",
    "        self.current_time_index = (self.current_time_index + 1) % 8\n",
    "\n",
    "        # Check if simulation is complete\n",
    "        done = self.current_time_index == 0\n",
    "\n",
    "        if done:\n",
    "\n",
    "            # Set energy demand\n",
    "            energy_demand = np.random.normal(30, 5)\n",
    "\n",
    "            # Set new battery level\n",
    "            self.battery_level = self.battery_level - energy_demand\n",
    "            \n",
    "            # Set penalty if battery level is too low for energy demand\n",
    "            if self.battery_level < 0:\n",
    "                # We set a very high penalty of 10,000 because of the cost function resulting in high costs\n",
    "                reward -= 10000.0\n",
    "                self.battery_level = 0 # Set Battery Level to Zero\n",
    "                self.state[0] = self.battery_level\n",
    "\n",
    "        # Setting the placeholder for info\n",
    "        info = {}\n",
    "        \n",
    "        return self.state, reward, done, info\n",
    "\n",
    "    def reset(self):\n",
    "\n",
    "        # Set current time index to Zero\n",
    "        self.current_time_index = 0\n",
    "\n",
    "        # Initialize first state of episode\n",
    "        # We use the current battery level resulting from the last episode (after demand subtraction)\n",
    "        self.state = np.array([self.battery_level, self.current_time_index])\n",
    "\n",
    "        return self.state"
   ]
  },
  {
   "cell_type": "code",
   "execution_count": 114,
   "id": "1fff4f43",
   "metadata": {},
   "outputs": [
    {
     "name": "stderr",
     "output_type": "stream",
     "text": [
      "/home/lukas/.local/lib/python3.10/site-packages/gym/spaces/box.py:127: UserWarning: \u001b[33mWARN: Box bound precision lowered by casting to float32\u001b[0m\n",
      "  logger.warn(f\"Box bound precision lowered by casting to {self.dtype}\")\n"
     ]
    }
   ],
   "source": [
    "env = EVChargingEnvironment()"
   ]
  },
  {
   "cell_type": "markdown",
   "id": "1c44e2bd",
   "metadata": {},
   "source": [
    "### Environment Exploration"
   ]
  },
  {
   "cell_type": "code",
   "execution_count": 115,
   "id": "c06bbdd6",
   "metadata": {},
   "outputs": [],
   "source": [
    "episodes = 10\n",
    "\n",
    "for episode in range(1, episodes+1):\n",
    "    state = env.reset()\n",
    "    done = False\n",
    "    score = 0\n",
    "\n",
    "    while not done:\n",
    "        action = env.action_space.sample()\n",
    "        n_state, reward, done, info = env.step(action)\n",
    "        score += reward"
   ]
  },
  {
   "cell_type": "code",
   "execution_count": 116,
   "id": "98096b85",
   "metadata": {},
   "outputs": [
    {
     "name": "stdout",
     "output_type": "stream",
     "text": [
      "Episode 10\n",
      "Initial State: [0 0]\n",
      "Action: 2 | New State: [3 0] | Reward: -33.11545195869231 | Done: False\n",
      "Action: 0 | New State: [3 1] | Reward: 0 | Done: False\n",
      "Action: 3 | New State: [9 2] | Reward: -234.90425497365155 | Done: False\n",
      "Action: 2 | New State: [12  3] | Reward: -31.128524841170773 | Done: False\n",
      "Action: 0 | New State: [12  4] | Reward: 0 | Done: False\n",
      "Action: 2 | New State: [16  5] | Reward: -31.790833880344618 | Done: False\n",
      "Action: 3 | New State: [21  6] | Reward: -239.79809361893598 | Done: False\n",
      "Action: 2 | New State: [0 7] | Reward: -10033.115451958693 | Done: True\n",
      "Episode 10 - Score: -10603.852611231488\n",
      "**************************************************\n"
     ]
    }
   ],
   "source": [
    "episodes = 10\n",
    "\n",
    "for episode in range(1, episodes+1):\n",
    "    state = env.reset()\n",
    "    done = False\n",
    "    score = 0\n",
    "\n",
    "    if episode % 10 == 0:\n",
    "        print(f\"Episode {episode}\\nInitial State: {state}\")\n",
    "\n",
    "    while not done:\n",
    "        action = env.action_space.sample()\n",
    "        n_state, reward, done, info = env.step(action)\n",
    "        score += reward\n",
    "\n",
    "        if episode % 10 == 0:\n",
    "            print(f\"Action: {action} | New State: {n_state} | Reward: {reward} | Done: {done}\")\n",
    "    \n",
    "    if episode % 10 == 0:\n",
    "        print(f\"Episode {episode} - Score: {score}\\n{'*' * 50}\")\n"
   ]
  },
  {
   "cell_type": "markdown",
   "id": "4a4df2b4",
   "metadata": {},
   "source": [
    "We can see how the agent performs actions in the environment and gets the rewards. Without a learnt policy, the agent is not able to meet the energy demand. Therefore, the rewards suffer from high penalties."
   ]
  },
  {
   "cell_type": "markdown",
   "id": "f084755e",
   "metadata": {},
   "source": [
    "## Deep Q-Network using Keras"
   ]
  },
  {
   "cell_type": "markdown",
   "id": "e1267938",
   "metadata": {},
   "source": [
    "In the next step we create a deep Q-Network for approximating the Q-values in our environment. With Q-Learning we are able to learn about the greedy policy, while using a different behaviour policy for acting in the environment. The behaviour policy is usually an e-greedy policy, that selects the greedy action with probability 1 - e and a random action with probability e to ensure good coverage of the state-action space."
   ]
  },
  {
   "cell_type": "code",
   "execution_count": 117,
   "id": "bab62b7d",
   "metadata": {},
   "outputs": [
    {
     "name": "stdout",
     "output_type": "stream",
     "text": [
      "Actions: 4 | States: (2,)\n"
     ]
    }
   ],
   "source": [
    "# Get shpaes of states and actions of our environment\n",
    "states = env.observation_space.shape\n",
    "actions = env.action_space.n\n",
    "print(\"Actions: \" + str(actions) + \" | States: \" + str(states))"
   ]
  },
  {
   "cell_type": "code",
   "execution_count": 118,
   "id": "0c7b481e",
   "metadata": {},
   "outputs": [],
   "source": [
    "# build the model for Q- and target network. We define one flatten layer and three dense layers with ReLU activation function\n",
    "def build_model(states, actions):\n",
    "    model = Sequential()   \n",
    "    model.add(Flatten(input_shape=(1,2)))\n",
    "    model.add(Dense(24, activation='relu'))\n",
    "    model.add(Dense(24, activation='relu'))\n",
    "    model.add(Dense(actions, activation='linear'))\n",
    "    return model"
   ]
  },
  {
   "cell_type": "code",
   "execution_count": 119,
   "id": "d9d37555",
   "metadata": {},
   "outputs": [],
   "source": [
    "# Instantiate model\n",
    "model = build_model(states, actions)\n",
    "model.summary()"
   ]
  },
  {
   "cell_type": "markdown",
   "id": "45df08f3",
   "metadata": {},
   "source": [
    "**build_agent**: In this function, we define our policy using the **BoltzmannQPolicy**. This policy constructs a probability distribution based on the Q-values and randomly selects an action according to this distribution. The DQNAgent uses Sequential Memory to store various states, actions and rewards."
   ]
  },
  {
   "cell_type": "code",
   "execution_count": 122,
   "id": "def50195",
   "metadata": {},
   "outputs": [],
   "source": [
    "def build_agent(model, actions):\n",
    "    policy = BoltzmannQPolicy()\n",
    "    memory = SequentialMemory(limit=50000, window_length=1)\n",
    "    dqn = DQNAgent(model=model, memory=memory, policy=policy, \n",
    "                  nb_actions=actions, nb_steps_warmup=10000, target_model_update=1e-2)\n",
    "    return dqn"
   ]
  },
  {
   "cell_type": "markdown",
   "id": "36938fb2",
   "metadata": {},
   "source": [
    "Now we can create an agent that learns a policy through minimizing the loss between the target Q-network (actual Q-values) and the Q-network (approximated Q-values). We employ the Adam optimizer with a learning rate of 0.001 and use mean squared error (MSE) as the loss function. The agent is trained for 60,000 steps."
   ]
  },
  {
   "cell_type": "code",
   "execution_count": 160,
   "id": "0a059b3d",
   "metadata": {},
   "outputs": [
    {
     "name": "stderr",
     "output_type": "stream",
     "text": [
      "/home/lukas/.local/lib/python3.10/site-packages/keras/src/optimizers/legacy/adam.py:118: UserWarning: The `lr` argument is deprecated, use `learning_rate` instead.\n",
      "  super().__init__(name, **kwargs)\n",
      "2023-08-14 10:41:38.130227: W tensorflow/c/c_api.cc:304] Operation '{name:'dense_16_7/bias/Assign' id:6708 op device:{requested: '', assigned: ''} def:{{{node dense_16_7/bias/Assign}} = AssignVariableOp[_has_manual_control_dependencies=true, dtype=DT_FLOAT, validate_shape=false](dense_16_7/bias, dense_16_7/bias/Initializer/zeros)}}' was changed by setting attribute after it was run by a session. This mutation will have no effect, and will trigger an error in the future. Either don't modify nodes after running them or create a new session.\n"
     ]
    },
    {
     "name": "stdout",
     "output_type": "stream",
     "text": [
      "Training for 100000 steps ...\n",
      "Interval 1 (0 steps performed)\n"
     ]
    },
    {
     "name": "stderr",
     "output_type": "stream",
     "text": [
      "/home/lukas/.local/lib/python3.10/site-packages/keras/src/engine/training_v1.py:2359: UserWarning: `Model.state_updates` will be removed in a future version. This property should not be used in TensorFlow 2.0, as `updates` are applied automatically.\n",
      "  updates=self.state_updates,\n",
      "2023-08-14 10:41:38.646735: W tensorflow/c/c_api.cc:304] Operation '{name:'dense_17/BiasAdd' id:4189 op device:{requested: '', assigned: ''} def:{{{node dense_17/BiasAdd}} = BiasAdd[T=DT_FLOAT, _has_manual_control_dependencies=true, data_format=\"NHWC\"](dense_17/MatMul, dense_17/BiasAdd/ReadVariableOp)}}' was changed by setting attribute after it was run by a session. This mutation will have no effect, and will trigger an error in the future. Either don't modify nodes after running them or create a new session.\n",
      "2023-08-14 10:41:38.831387: W tensorflow/c/c_api.cc:304] Operation '{name:'total_51/Assign' id:6890 op device:{requested: '', assigned: ''} def:{{{node total_51/Assign}} = AssignVariableOp[_has_manual_control_dependencies=true, dtype=DT_FLOAT, validate_shape=false](total_51, total_51/Initializer/zeros)}}' was changed by setting attribute after it was run by a session. This mutation will have no effect, and will trigger an error in the future. Either don't modify nodes after running them or create a new session.\n"
     ]
    },
    {
     "name": "stdout",
     "output_type": "stream",
     "text": [
      "10000/10000 [==============================] - 26s 3ms/step - reward: -1088.8753\n",
      "1250 episodes - episode_reward: -8711.003 [-11419.213, -127.826]\n",
      "\n",
      "Interval 2 (10000 steps performed)\n",
      "    1/10000 [..............................] - ETA: 33s - reward: -244.6919"
     ]
    },
    {
     "name": "stderr",
     "output_type": "stream",
     "text": [
      "2023-08-14 10:42:05.108331: W tensorflow/c/c_api.cc:304] Operation '{name:'dense_17_7/BiasAdd' id:6737 op device:{requested: '', assigned: ''} def:{{{node dense_17_7/BiasAdd}} = BiasAdd[T=DT_FLOAT, _has_manual_control_dependencies=true, data_format=\"NHWC\"](dense_17_7/MatMul, dense_17_7/BiasAdd/ReadVariableOp)}}' was changed by setting attribute after it was run by a session. This mutation will have no effect, and will trigger an error in the future. Either don't modify nodes after running them or create a new session.\n",
      "2023-08-14 10:42:05.538801: W tensorflow/c/c_api.cc:304] Operation '{name:'loss_56/AddN' id:6991 op device:{requested: '', assigned: ''} def:{{{node loss_56/AddN}} = AddN[N=2, T=DT_FLOAT, _has_manual_control_dependencies=true](loss_56/mul, loss_56/mul_1)}}' was changed by setting attribute after it was run by a session. This mutation will have no effect, and will trigger an error in the future. Either don't modify nodes after running them or create a new session.\n",
      "2023-08-14 10:42:05.725487: W tensorflow/c/c_api.cc:304] Operation '{name:'training_14/Adam/dense_16/kernel/m/Assign' id:7161 op device:{requested: '', assigned: ''} def:{{{node training_14/Adam/dense_16/kernel/m/Assign}} = AssignVariableOp[_has_manual_control_dependencies=true, dtype=DT_FLOAT, validate_shape=false](training_14/Adam/dense_16/kernel/m, training_14/Adam/dense_16/kernel/m/Initializer/zeros)}}' was changed by setting attribute after it was run by a session. This mutation will have no effect, and will trigger an error in the future. Either don't modify nodes after running them or create a new session.\n"
     ]
    },
    {
     "name": "stdout",
     "output_type": "stream",
     "text": [
      "10000/10000 [==============================] - 160s 16ms/step - reward: -980.3658\n",
      "1250 episodes - episode_reward: -7842.927 [-11433.895, -118.593] - loss: 602834.370 - mae: 3680.083 - mean_q: -3932.900\n",
      "\n",
      "Interval 3 (20000 steps performed)\n",
      "10000/10000 [==============================] - 168s 17ms/step - reward: -978.7174\n",
      "1250 episodes - episode_reward: -7829.740 [-11231.959, -86.342] - loss: 607183.500 - mae: 3795.903 - mean_q: -4097.817\n",
      "\n",
      "Interval 4 (30000 steps performed)\n",
      "10000/10000 [==============================] - 170s 17ms/step - reward: -1067.2898\n",
      "1250 episodes - episode_reward: -8538.318 [-11433.895, -113.933] - loss: 618792.688 - mae: 3683.406 - mean_q: -3933.358\n",
      "\n",
      "Interval 5 (40000 steps performed)\n",
      "10000/10000 [==============================] - 158s 16ms/step - reward: -1090.8036\n",
      "1250 episodes - episode_reward: -8726.429 [-11455.898, -172.537] - loss: 628287.562 - mae: 3746.326 - mean_q: -4014.556\n",
      "\n",
      "Interval 6 (50000 steps performed)\n",
      "10000/10000 [==============================] - 173s 17ms/step - reward: -1092.4960\n",
      "1250 episodes - episode_reward: -8739.968 [-11465.769, -123.455] - loss: 634209.750 - mae: 3841.833 - mean_q: -4149.207\n",
      "\n",
      "Interval 7 (60000 steps performed)\n",
      "10000/10000 [==============================] - 186s 19ms/step - reward: -1055.0490\n",
      "1250 episodes - episode_reward: -8440.392 [-11225.887, -86.802] - loss: 648235.938 - mae: 3908.337 - mean_q: -4225.550\n",
      "\n",
      "Interval 8 (70000 steps performed)\n",
      "10000/10000 [==============================] - 185s 18ms/step - reward: -1025.1158\n",
      "1250 episodes - episode_reward: -8200.927 [-11419.213, -64.850] - loss: 660739.562 - mae: 3830.155 - mean_q: -4094.362\n",
      "\n",
      "Interval 9 (80000 steps performed)\n",
      "10000/10000 [==============================] - 187s 19ms/step - reward: -1058.0266\n",
      "1250 episodes - episode_reward: -8464.213 [-11223.147, -92.211] - loss: 649789.625 - mae: 3805.696 - mean_q: -4073.816\n",
      "\n",
      "Interval 10 (90000 steps performed)\n",
      "10000/10000 [==============================] - 186s 19ms/step - reward: -923.6947\n",
      "done, took 1599.619 seconds\n"
     ]
    }
   ],
   "source": [
    "dqn = build_agent(model, actions)\n",
    "dqn.compile(Adam(lr=1e-3), metrics=['mae'])\n",
    "training_results = dqn.fit(env, nb_steps=100000, visualize=False, verbose=1)"
   ]
  },
  {
   "cell_type": "markdown",
   "id": "2165badc",
   "metadata": {},
   "source": [
    "### Loss and Metrics Plotting"
   ]
  },
  {
   "cell_type": "code",
   "execution_count": 163,
   "id": "3c781687",
   "metadata": {},
   "outputs": [
    {
     "data": {
      "image/png": "[encoded data removed]",
      "text/plain": [
       "<Figure size 1000x600 with 1 Axes>"
      ]
     },
     "metadata": {},
     "output_type": "display_data"
    }
   ],
   "source": [
    "episode_rewards = training_results.history['episode_reward']\n",
    "\n",
    "window_size = 1000\n",
    "averages = [np.mean(episode_rewards[i:i+window_size]) for i in range(0, len(episode_rewards) - window_size + 1)]\n",
    "\n",
    "plt.figure(figsize=(10, 6))\n",
    "plt.plot(averages)\n",
    "plt.title(f'Average Episode Rewards (Window Size = {window_size})')\n",
    "plt.xlabel('Window (Each Window Represents 100 Episodes)')\n",
    "plt.ylabel('Average Episode Reward')\n",
    "plt.show()"
   ]
  },
  {
   "cell_type": "code",
   "execution_count": 162,
   "id": "57d5f1a2",
   "metadata": {},
   "outputs": [
    {
     "name": "stdout",
     "output_type": "stream",
     "text": [
      "Testing for 10 episodes ...\n",
      "Episode 1: reward: -1898.809, steps: 8\n",
      "Episode 2: reward: -1077.893, steps: 8\n",
      "Episode 3: reward: -1492.583, steps: 8\n",
      "Episode 4: reward: -256.976, steps: 8\n",
      "Episode 5: reward: -256.976, steps: 8\n",
      "Episode 6: reward: -256.976, steps: 8\n",
      "Episode 7: reward: -256.976, steps: 8\n",
      "Episode 8: reward: -256.976, steps: 8\n",
      "Episode 9: reward: -230.162, steps: 8\n",
      "Episode 10: reward: -256.976, steps: 8\n"
     ]
    },
    {
     "data": {
      "text/plain": [
       "[-1898.8093943703502,\n",
       " -1077.8926507849012,\n",
       " -1492.5825521837364,\n",
       " -256.9759071994523,\n",
       " -256.9759071994523,\n",
       " -256.9759071994523,\n",
       " -256.9759071994523,\n",
       " -256.9759071994523,\n",
       " -230.16227490241948,\n",
       " -256.9759071994523]"
      ]
     },
     "execution_count": 162,
     "metadata": {},
     "output_type": "execute_result"
    }
   ],
   "source": [
    "results = dqn.test(env, nb_episodes=10, visualize=False)\n",
    "results.history['episode_reward']"
   ]
  },
  {
   "cell_type": "markdown",
   "id": "5331d4d9",
   "metadata": {},
   "source": [
    "### Testing EV Charging Environment\n",
    "After training our policy, we now can test it and see the actions taken by the learnt policy."
   ]
  },
  {
   "cell_type": "code",
   "execution_count": 145,
   "id": "947ecd01",
   "metadata": {},
   "outputs": [
    {
     "name": "stdout",
     "output_type": "stream",
     "text": [
      "Episode 1: Initial battery level: 19.496086354570252\n"
     ]
    },
    {
     "name": "stderr",
     "output_type": "stream",
     "text": [
      "/home/lukas/.local/lib/python3.10/site-packages/keras/src/engine/training_v1.py:2359: UserWarning: `Model.state_updates` will be removed in a future version. This property should not be used in TensorFlow 2.0, as `updates` are applied automatically.\n",
      "  updates=self.state_updates,\n",
      "2023-08-14 10:34:58.559820: W tensorflow/c/c_api.cc:304] Operation '{name:'dense_17/BiasAdd' id:4189 op device:{requested: '', assigned: ''} def:{{{node dense_17/BiasAdd}} = BiasAdd[T=DT_FLOAT, _has_manual_control_dependencies=true, data_format=\"NHWC\"](dense_17/MatMul, dense_17/BiasAdd/ReadVariableOp)}}' was changed by setting attribute after it was run by a session. This mutation will have no effect, and will trigger an error in the future. Either don't modify nodes after running them or create a new session.\n"
     ]
    },
    {
     "name": "stdout",
     "output_type": "stream",
     "text": [
      "Episode 1: Learned Policy: [3, 2, 2, 2, 2, 2, 2, 3]\n",
      "Episode 1: Score: -680.1288678105085\n",
      "Episode 101: Initial battery level: 30.03553536171595\n",
      "Episode 101: Learned Policy: [1, 1, 1, 1, 2, 2, 2, 2]\n",
      "Episode 101: Score: -150.81581198262842\n",
      "Episode 201: Initial battery level: 22.127482035437424\n",
      "Episode 201: Learned Policy: [3, 1, 2, 2, 2, 2, 2, 2]\n",
      "Episode 201: Score: -441.7387552079475\n",
      "Episode 301: Initial battery level: 19.129428843048824\n",
      "Episode 301: Learned Policy: [3, 2, 2, 2, 2, 2, 3, 2]\n",
      "Episode 301: Score: -675.897338204398\n",
      "Episode 401: Initial battery level: 20.29632886380765\n",
      "Episode 401: Learned Policy: [3, 2, 2, 2, 2, 2, 2, 2]\n",
      "Episode 401: Score: -468.5523875049804\n",
      "Episode 501: Initial battery level: 22.844819412239165\n",
      "Episode 501: Learned Policy: [2, 2, 2, 2, 2, 2, 2, 2]\n",
      "Episode 501: Score: -256.9759071994523\n",
      "Episode 601: Initial battery level: 14.130715249168524\n",
      "Episode 601: Learned Policy: [3, 3, 3, 2, 3, 2, 2, 2]\n",
      "Episode 601: Score: -1077.8926507849012\n",
      "Episode 701: Initial battery level: 20.57508311900065\n",
      "Episode 701: Learned Policy: [3, 2, 2, 2, 2, 2, 2, 2]\n",
      "Episode 701: Score: -468.5523875049804\n",
      "Episode 801: Initial battery level: 13.477327799819463\n",
      "Episode 801: Learned Policy: [3, 3, 3, 3, 2, 2, 2, 3]\n",
      "Episode 801: Score: -1289.4691310904293\n",
      "Episode 901: Initial battery level: 22.459564975296345\n",
      "Episode 901: Learned Policy: [2, 2, 2, 2, 2, 2, 2, 2]\n",
      "Episode 901: Score: -256.9759071994523\n"
     ]
    }
   ],
   "source": [
    "num_episodes = 1000\n",
    "\n",
    "for episode in range(num_episodes):\n",
    "    learned_policy = []\n",
    "    scores = 0\n",
    "    state = env.reset()\n",
    "    done = False\n",
    "    battery_level = state[0]\n",
    "    if episode % 100 == 0:\n",
    "        print(f\"Episode {episode + 1}: Initial battery level: {battery_level}\") \n",
    "\n",
    "    while not done:\n",
    "        state = np.expand_dims(state, axis=0)\n",
    "        q_values = dqn.compute_q_values(state)  # Get Q-values from the DQN\n",
    "        learned_action = np.argmax(q_values)  # Choose action with highest Q-value\n",
    "        learned_policy.append(learned_action)\n",
    "        state, reward, done, _ = env.step(learned_action)\n",
    "        scores += reward\n",
    "    if episode % 100 == 0:\n",
    "        print(f\"Episode {episode + 1}: Learned Policy: {learned_policy}\")\n",
    "        print(f\"Episode {episode + 1}: Score: {scores}\")"
   ]
  },
  {
   "cell_type": "markdown",
   "id": "d38fdce4",
   "metadata": {},
   "source": [
    "From these results we can obtain that the optimal charging policy is to avoid charging in the first two intervals. We know from the energy price market, that energy prices are high at this time. The agent uses the lower energy prices in the middle of the time period (around 3pm). The agent has also learnt to charge with a higher rate when the initial battery level is low. Therefore, it avoids that the vehicle runs out of energy.\n",
    "\n",
    "A possible reason for the agent to charge with a high charging rate at the end of the episode is to avoid the penalty for running out of energy. Another reason could be the discount factor used in the calculation of the target Q-values. The discount factor makes the agent prioritize immediate rewards over delayed rewards."
   ]
  },
  {
   "cell_type": "code",
   "execution_count": null,
   "id": "d9965d40",
   "metadata": {},
   "outputs": [],
   "source": []
  }
 ],
 "metadata": {
  "kernelspec": {
   "display_name": "Python 3 (ipykernel)",
   "language": "python",
   "name": "python3"
  },
  "language_info": {
   "codemirror_mode": {
    "name": "ipython",
    "version": 3
   },
   "file_extension": ".py",
   "mimetype": "text/x-python",
   "name": "python",
   "nbconvert_exporter": "python",
   "pygments_lexer": "ipython3",
   "version": "3.10.12"
  }
 },
 "nbformat": 4,
 "nbformat_minor": 5
}
