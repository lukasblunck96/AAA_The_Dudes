{
 "cells": [
  {
   "cell_type": "markdown",
   "metadata": {},
   "source": [
    "# PoI\n",
    "\n",
    "Script creates for different spacial resolutions 4 count-values for different categories of point of interests using the overpass open-street-map api.\n",
    "\n",
    "Those categories contain the following places:\n",
    "\n",
    "Catering:\n",
    "- cafe\n",
    "- fast_food\n",
    "- food_court\n",
    "- restaurant\n",
    "- supermarket\n",
    "\n",
    "Transportation:\n",
    "- bicycle_parking\n",
    "- bus_station\n",
    "- taxi\n",
    "- railway_stations\n",
    "- airports\n",
    "\n",
    "Hans Entertainment:\n",
    "- arts_centre\n",
    "- brothel\n",
    "- cinema\n",
    "- conference_centre\n",
    "- events_venue\n",
    "- music_venue\n",
    "- nightclub\n",
    "- stripclub\n",
    "- swingerclub\n",
    "- theatre\n",
    "- bar\n",
    "- pub\n",
    "\n",
    "Healthcare:\n",
    "- clinic\n",
    "- dentist\n",
    "- doctors\n",
    "- hospital\n",
    "- pharmacy"
   ]
  },
  {
   "cell_type": "code",
   "execution_count": 67,
   "metadata": {},
   "outputs": [],
   "source": [
    "import requests\n",
    "from shapely.geometry import Polygon\n",
    "import h3\n",
    "import pandas as pd\n",
    "import vaex\n",
    "import shapely\n",
    "from shapely.ops import unary_union\n",
    "import shapely.wkt"
   ]
  },
  {
   "cell_type": "code",
   "execution_count": 4,
   "metadata": {},
   "outputs": [
    {
     "name": "stdout",
     "output_type": "stream",
     "text": [
      "Anzahl der Restaurants: 71\n"
     ]
    }
   ],
   "source": [
    "\n",
    "\n",
    "query = \"\"\"\n",
    "[out:json];\n",
    "(\n",
    "  node[railway=station](poly:\"50.7 7.1 50.7 7.2 50.75 7.15\");\n",
    "  node[shop=supermarket](poly:\"50.7 7.1 50.7 7.2 50.75 7.15\");\n",
    "  node[aeroway](poly:\"50.7 7.1 50.7 7.2 50.75 7.15\");\n",
    ");\n",
    "out count;\n",
    "\"\"\"\n",
    "response = requests.post('http://overpass-api.de/api/interpreter', data={'data': create_api_body_catering('poly:\"50.7 7.1 50.7 7.2 50.75 7.15\"')})\n",
    "\n",
    "if response.status_code == 200:\n",
    "    result = response.json()\n",
    "    print(\"Anzahl der Restaurants:\", result['elements'][0]['tags']['nodes']) \n"
   ]
  },
  {
   "cell_type": "markdown",
   "metadata": {},
   "source": [
    "## Create Dataframes with Polygons"
   ]
  },
  {
   "cell_type": "code",
   "execution_count": 95,
   "metadata": {},
   "outputs": [],
   "source": [
    "df_cleaned = vaex.open('./data/trips_prepared.hdf5')\n",
    "\n",
    "df_hexagons_res_3 = create_hexagon_polygon_df(3, df_cleaned)\n",
    "df_hexagons_res_4 = create_hexagon_polygon_df(4, df_cleaned)\n",
    "df_hexagons_res_5 = create_hexagon_polygon_df(5, df_cleaned)\n",
    "df_hexagons_res_6 = create_hexagon_polygon_df(6, df_cleaned)\n",
    "df_hexagons_res_7 = create_hexagon_polygon_df(7, df_cleaned)\n",
    "df_hexagons_res_8 = create_hexagon_polygon_df(8, df_cleaned)\n",
    "df_hexagons_res_9 = create_hexagon_polygon_df(9, df_cleaned)\n",
    "df_census_tracts = create_census_tracts_df()\n"
   ]
  },
  {
   "cell_type": "code",
   "execution_count": 84,
   "metadata": {},
   "outputs": [
    {
     "data": {
      "text/plain": [
       "'poly:\"-88.57218361194573 42.93995835635918 -89.19419148461513 42.52425433231279 -88.97404515054635 41.9303291379041 -88.14871909648664 41.74670899892555 -87.52625462013384 42.15291741074851 -87.72933357467593 42.75216662666623 -88.57218361194573 42.93995835635918\"'"
      ]
     },
     "execution_count": 84,
     "metadata": {},
     "output_type": "execute_result"
    }
   ],
   "source": [
    "df_hexagons_res_3.iloc[0]['geometry']"
   ]
  },
  {
   "cell_type": "markdown",
   "metadata": {},
   "source": [
    "## API Calls"
   ]
  },
  {
   "cell_type": "code",
   "execution_count": 94,
   "metadata": {},
   "outputs": [],
   "source": [
    "data = [[df_hexagons_res_4, 'hexagons_res_4'], [df_hexagons_res_5, 'hexagons_res_5'], [df_hexagons_res_6, 'hexagons_res_6'], [df_hexagons_res_7, 'hexagons_res_7'], [df_hexagons_res_8, 'hexagons_res_8'], [df_hexagons_res_9, 'hexagons_res_9'], [df_census_tracts, 'census_tracts']]\n",
    "\n",
    "for d in data:\n",
    "    create_output_csv(d[0], d[1])"
   ]
  },
  {
   "cell_type": "code",
   "execution_count": 92,
   "metadata": {},
   "outputs": [],
   "source": [
    "def create_output_csv(df, file):\n",
    "    result = pd.DataFrame(columns=['id', 'catering', 'transportation', 'entertainment', 'healthcare'])\n",
    "\n",
    "    for index, row in df.iterrows():\n",
    "\n",
    "        catering = call_overpass_api(create_api_body_catering(row['geometry']))\n",
    "        transportation = call_overpass_api(create_api_body_transportation(row['geometry']))\n",
    "        entertainment = call_overpass_api(create_api_body_entertainment(row['geometry']))\n",
    "        healthcare = call_overpass_api(create_api_body_healthcare(row['geometry']))\n",
    "\n",
    "        result.loc[len(result)] = [row['id'], catering, transportation, entertainment, healthcare]\n",
    "\n",
    "\n",
    "\n",
    "    result.to_csv(f'./data/poi_output/{file}.csv')\n"
   ]
  },
  {
   "cell_type": "markdown",
   "metadata": {},
   "source": [
    "## Helper Functions"
   ]
  },
  {
   "cell_type": "code",
   "execution_count": 74,
   "metadata": {},
   "outputs": [],
   "source": [
    "def call_overpass_api(body):\n",
    "    response = requests.post('http://overpass-api.de/api/interpreter', data={'data': body})\n",
    "\n",
    "    if response.status_code == 200:\n",
    "        result = response.json()\n",
    "        return result['elements'][0]['tags']['nodes']"
   ]
  },
  {
   "cell_type": "code",
   "execution_count": 73,
   "metadata": {},
   "outputs": [],
   "source": [
    "def create_census_tracts_df():\n",
    "    df_census_tracts = pd.read_csv(\"./data/chicago_census_tracts.csv\")\n",
    "    poly_df = pd.DataFrame(columns=['id', 'geometry'])\n",
    "\n",
    "    for index, row in df_census_tracts.iterrows():\n",
    "        polygon = row['the_geom']\n",
    "        multi_poly = shapely.wkt.loads(polygon)\n",
    "        poly = unary_union(multi_poly)\n",
    "        poly_df.loc[len(poly_df)] = [row['NAMELSAD10'], polygon_to_overpass(poly)]\n",
    "\n",
    "    return poly_df"
   ]
  },
  {
   "cell_type": "code",
   "execution_count": 86,
   "metadata": {},
   "outputs": [],
   "source": [
    "\n",
    "def create_hexagon_polygon_df(res, trip_df):\n",
    "\n",
    "    global resolution\n",
    "    resolution = res\n",
    "\n",
    "    tmp_df = trip_df.copy()\n",
    "    poly_df = pd.DataFrame(columns=['id', 'geometry'])\n",
    "    \n",
    "    tmp_df['hex'] = tmp_df.apply(geo_to_h3, [tmp_df['pickup_centroid_latitude'], tmp_df['pickup_centroid_longitude']])\n",
    "    \n",
    "    unique_pickup_values = tmp_df['hex'].unique()\n",
    "\n",
    "    for nh in unique_pickup_values:\n",
    "        poly_df.loc[len(poly_df)] = [nh, polygon_to_overpass(hex_geo_id_to_polygon(nh))]\n",
    "\n",
    "    return poly_df"
   ]
  },
  {
   "cell_type": "code",
   "execution_count": 53,
   "metadata": {},
   "outputs": [],
   "source": [
    "def geo_to_h3(col1, col2):\n",
    "    return h3.geo_to_h3(col1, col2, resolution)"
   ]
  },
  {
   "cell_type": "code",
   "execution_count": 6,
   "metadata": {},
   "outputs": [],
   "source": [
    "def hex_geo_id_to_polygon(hex_id):\n",
    "    return Polygon(h3.h3_to_geo_boundary(h=hex_id, geo_json=True))"
   ]
  },
  {
   "cell_type": "code",
   "execution_count": 85,
   "metadata": {},
   "outputs": [],
   "source": [
    "def polygon_to_overpass(poly):\n",
    "    exterior_coords = poly.exterior.coords\n",
    "    \n",
    "    coords_str = ' '.join(f'{lon} {lat}' for lat, lon in exterior_coords)\n",
    "    \n",
    "    return f'poly:\"{coords_str}\"'"
   ]
  },
  {
   "cell_type": "code",
   "execution_count": 77,
   "metadata": {},
   "outputs": [],
   "source": [
    "def create_api_body_catering(poly_string):\n",
    "    return f\"\"\"\n",
    "        [out:json];\n",
    "        (\n",
    "        node[shop=supermarket]({poly_string});\n",
    "        node[amenity=cafe]({poly_string});\n",
    "        node[amenity=fast_food]({poly_string});\n",
    "        node[amenity=restaurant]({poly_string});\n",
    "        );\n",
    "        out count;\n",
    "        \"\"\""
   ]
  },
  {
   "cell_type": "code",
   "execution_count": 79,
   "metadata": {},
   "outputs": [],
   "source": [
    "def create_api_body_transportation(poly_string):\n",
    "    return f\"\"\"\n",
    "        [out:json];\n",
    "        (\n",
    "        node[railway=station]({poly_string});\n",
    "        node[aeroway]({poly_string});\n",
    "        node[amenity=bicycle_parking]({poly_string});\n",
    "        node[amenity=bus_station]({poly_string});\n",
    "        node[amenity=taxi]({poly_string});\n",
    "        );\n",
    "        out count;\n",
    "        \"\"\""
   ]
  },
  {
   "cell_type": "code",
   "execution_count": 80,
   "metadata": {},
   "outputs": [],
   "source": [
    "def create_api_body_entertainment(poly_string):\n",
    "    return f\"\"\"\n",
    "        [out:json];\n",
    "        (\n",
    "        node[amenity=arts_centre]({poly_string});\n",
    "        node[amenity=brothel]({poly_string});\n",
    "        node[amenity=cinema]({poly_string});\n",
    "        node[amenity=conference_centre]({poly_string});\n",
    "        node[amenity=events_venue]({poly_string});\n",
    "        node[amenity=music_venue]({poly_string});\n",
    "        node[amenity=nightclub]({poly_string});\n",
    "        node[amenity=stripclub]({poly_string});\n",
    "        node[amenity=swingerclub]({poly_string});\n",
    "        node[amenity=theatre]({poly_string});\n",
    "        node[amenity=bar]({poly_string});\n",
    "        node[amenity=pub]({poly_string});\n",
    "        );\n",
    "        out count;\n",
    "        \"\"\""
   ]
  },
  {
   "cell_type": "code",
   "execution_count": 81,
   "metadata": {},
   "outputs": [],
   "source": [
    "def create_api_body_healthcare(poly_string):\n",
    "    return f\"\"\"\n",
    "        [out:json];\n",
    "        (\n",
    "        node[amenity=clinic]({poly_string});\n",
    "        node[amenity=dentist]({poly_string});\n",
    "        node[amenity=doctors]({poly_string});\n",
    "        node[amenity=hospital]({poly_string});\n",
    "        node[amenity=pharmacy]({poly_string});\n",
    "        );\n",
    "        out count;\n",
    "        \"\"\""
   ]
  }
 ],
 "metadata": {
  "kernelspec": {
   "display_name": "AAA_The_Dudes",
   "language": "python",
   "name": "python3"
  },
  "language_info": {
   "codemirror_mode": {
    "name": "ipython",
    "version": 3
   },
   "file_extension": ".py",
   "mimetype": "text/x-python",
   "name": "python",
   "nbconvert_exporter": "python",
   "pygments_lexer": "ipython3",
   "version": "3.10.11"
  },
  "orig_nbformat": 4
 },
 "nbformat": 4,
 "nbformat_minor": 2
}
