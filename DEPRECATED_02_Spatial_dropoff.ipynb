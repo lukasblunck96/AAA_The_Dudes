{
 "cells": [
  {
   "cell_type": "code",
   "execution_count": 1,
   "id": "a4dd5882",
   "metadata": {},
   "outputs": [],
   "source": [
    "import numpy as np\n",
    "from matplotlib import pyplot\n",
    "from geojson.feature import *\n",
    "import os\n",
    "from tqdm import tqdm\n",
    "import h3\n",
    "import geopandas as gpd\n",
    "import json\n",
    "from sklearn.preprocessing import StandardScaler\n",
    "from sklearn.cluster import MiniBatchKMeans\n",
    "import folium\n",
    "from folium import Map, Marker, GeoJson\n",
    "import branca.colormap as cm\n",
    "from branca.colormap import LinearColormap\n",
    "import vaex\n",
    "import pandas as pd\n",
    "from math import pi, cos, sin\n",
    "import matplotlib.pyplot as plt\n",
    "import datetime\n",
    "import seaborn as sns\n",
    "from shapely.geometry import Polygon\n",
    "from folium.features import Choropleth\n",
    "from branca.colormap import linear\n",
    "from sklearn.preprocessing import MinMaxScaler"
   ]
  },
  {
   "cell_type": "code",
   "execution_count": 2,
   "id": "91239cbc",
   "metadata": {},
   "outputs": [],
   "source": [
    "df_cleaned = vaex.open('./data/trips_prepared.hdf5')"
   ]
  },
  {
   "cell_type": "code",
   "execution_count": 49,
   "id": "445dbe70",
   "metadata": {},
   "outputs": [
    {
     "data": {
      "text/html": [
       "<table>\n",
       "<thead>\n",
       "<tr><th>#                            </th><th>trip_id                                 </th><th>taxi_id                                            </th><th>trip_start_timestamp      </th><th>trip_end_timestamp        </th><th style=\"text-align: right;\">  trip_seconds</th><th style=\"text-align: right;\">  trip_miles</th><th style=\"text-align: right;\">  pickup_census_tract</th><th style=\"text-align: right;\">  dropoff_census_tract</th><th style=\"text-align: right;\">  pickup_community_area</th><th style=\"text-align: right;\">  dropoff_community_area</th><th style=\"text-align: right;\">  fare</th><th style=\"text-align: right;\">  tips</th><th style=\"text-align: right;\">  tolls</th><th style=\"text-align: right;\">  extras</th><th style=\"text-align: right;\">  trip_total</th><th>payment_type  </th><th>company                          </th><th style=\"text-align: right;\">  pickup_centroid_latitude</th><th style=\"text-align: right;\">  pickup_centroid_longitude</th><th style=\"text-align: right;\">  dropoff_centroid_latitude</th><th style=\"text-align: right;\">  dropoff_centroid_longitude</th><th style=\"text-align: right;\">  trip_start_hour</th><th style=\"text-align: right;\">  trip_end_hour</th><th style=\"text-align: right;\">  trip_start_4h_period</th><th style=\"text-align: right;\">  trip_end_4h_period</th><th>pickup_hex     </th><th>dropoff_hex    </th></tr>\n",
       "</thead>\n",
       "<tbody>\n",
       "<tr><td><i style='opacity: 0.6'>0</i></td><td>1b545d0be27b195076e5d2a7d4fc0ebef6ef20ac</td><td>&#x27;56a1119c6ca57e39525cf06829f9ecff553cf4b5ac24821...</td><td>2017-01-01 00:00:00.000000</td><td>2017-01-01 00:00:00.000000</td><td style=\"text-align: right;\">           240</td><td style=\"text-align: right;\">         1.3</td><td style=\"text-align: right;\">          1.70318e+10</td><td style=\"text-align: right;\">           1.70318e+10</td><td style=\"text-align: right;\">                     32</td><td style=\"text-align: right;\">                      28</td><td style=\"text-align: right;\">  6.25</td><td style=\"text-align: right;\">  0   </td><td style=\"text-align: right;\">      0</td><td style=\"text-align: right;\">     0  </td><td style=\"text-align: right;\">        6.25</td><td>Cash          </td><td>Taxi Affiliation Services        </td><td style=\"text-align: right;\">                   41.881 </td><td style=\"text-align: right;\">                   -87.6327</td><td style=\"text-align: right;\">                    41.8853</td><td style=\"text-align: right;\">                    -87.6572</td><td style=\"text-align: right;\">                0</td><td style=\"text-align: right;\">              0</td><td style=\"text-align: right;\">                     0</td><td style=\"text-align: right;\">                   0</td><td>872664c1affffff</td><td>872664cadffffff</td></tr>\n",
       "<tr><td><i style='opacity: 0.6'>1</i></td><td>c3ee40051c5643c54064a8b9df3686d2d411518d</td><td>&#x27;7987cfe5e3b2c9869665f70fe35dbe7423e7fc5852f2d6f...</td><td>2017-01-01 00:00:00.000000</td><td>2017-01-01 00:15:00.000000</td><td style=\"text-align: right;\">          1500</td><td style=\"text-align: right;\">         0.4</td><td style=\"text-align: right;\">          1.70318e+10</td><td style=\"text-align: right;\">           1.70311e+10</td><td style=\"text-align: right;\">                     32</td><td style=\"text-align: right;\">                       8</td><td style=\"text-align: right;\"> 22.75</td><td style=\"text-align: right;\">  4.85</td><td style=\"text-align: right;\">      0</td><td style=\"text-align: right;\">     1.5</td><td style=\"text-align: right;\">       29.1 </td><td>Credit Card   </td><td>Blue Ribbon Taxi Association Inc.</td><td style=\"text-align: right;\">                   41.881 </td><td style=\"text-align: right;\">                   -87.6327</td><td style=\"text-align: right;\">                    41.8983</td><td style=\"text-align: right;\">                    -87.6208</td><td style=\"text-align: right;\">                0</td><td style=\"text-align: right;\">              0</td><td style=\"text-align: right;\">                     0</td><td style=\"text-align: right;\">                   0</td><td>872664c1affffff</td><td>872664c1effffff</td></tr>\n",
       "<tr><td><i style='opacity: 0.6'>2</i></td><td>29f30c8a6bbc028f5d63aa18c708d31b47267a9f</td><td>&#x27;0b269137bd94b55212311226d9e1554423e12bcc16a432c...</td><td>2017-01-01 00:00:00.000000</td><td>2017-01-01 00:30:00.000000</td><td style=\"text-align: right;\">          1620</td><td style=\"text-align: right;\">         0.9</td><td style=\"text-align: right;\">          1.70318e+10</td><td style=\"text-align: right;\">           1.70311e+10</td><td style=\"text-align: right;\">                     32</td><td style=\"text-align: right;\">                       8</td><td style=\"text-align: right;\"> 12.25</td><td style=\"text-align: right;\">  2.85</td><td style=\"text-align: right;\">      0</td><td style=\"text-align: right;\">     2  </td><td style=\"text-align: right;\">       17.1 </td><td>Credit Card   </td><td>Taxi Affiliation Services        </td><td style=\"text-align: right;\">                   41.881 </td><td style=\"text-align: right;\">                   -87.6327</td><td style=\"text-align: right;\">                    41.8925</td><td style=\"text-align: right;\">                    -87.6262</td><td style=\"text-align: right;\">                0</td><td style=\"text-align: right;\">              0</td><td style=\"text-align: right;\">                     0</td><td style=\"text-align: right;\">                   0</td><td>872664c1affffff</td><td>872664c1effffff</td></tr>\n",
       "<tr><td><i style='opacity: 0.6'>3</i></td><td>55ae4fa955e6bc8705b995248c34f4183d848c27</td><td>&#x27;d1d781b6807176ed53fbb9d0010dd0a87e29c073984bda6...</td><td>2017-01-01 00:00:00.000000</td><td>2017-01-01 00:00:00.000000</td><td style=\"text-align: right;\">           540</td><td style=\"text-align: right;\">         1  </td><td style=\"text-align: right;\">          1.70311e+10</td><td style=\"text-align: right;\">           1.70311e+10</td><td style=\"text-align: right;\">                      8</td><td style=\"text-align: right;\">                       8</td><td style=\"text-align: right;\">  6.75</td><td style=\"text-align: right;\">  0   </td><td style=\"text-align: right;\">      0</td><td style=\"text-align: right;\">     2  </td><td style=\"text-align: right;\">        8.75</td><td>Cash          </td><td>Dispatch Taxi Affiliation        </td><td style=\"text-align: right;\">                   41.9028</td><td style=\"text-align: right;\">                   -87.6261</td><td style=\"text-align: right;\">                    41.8909</td><td style=\"text-align: right;\">                    -87.6189</td><td style=\"text-align: right;\">                0</td><td style=\"text-align: right;\">              0</td><td style=\"text-align: right;\">                     0</td><td style=\"text-align: right;\">                   0</td><td>872664c1effffff</td><td>872664c1effffff</td></tr>\n",
       "<tr><td><i style='opacity: 0.6'>4</i></td><td>ce908cd441e28d08dfb22bf168102beabb5e16e4</td><td>&#x27;f7630edc68a131c4a97382dd93206949da80ec1443d8da7...</td><td>2017-01-01 00:00:00.000000</td><td>2017-01-01 00:15:00.000000</td><td style=\"text-align: right;\">           480</td><td style=\"text-align: right;\">         0.5</td><td style=\"text-align: right;\">          1.70311e+10</td><td style=\"text-align: right;\">           1.70311e+10</td><td style=\"text-align: right;\">                      8</td><td style=\"text-align: right;\">                       8</td><td style=\"text-align: right;\">  6.25</td><td style=\"text-align: right;\">  2   </td><td style=\"text-align: right;\">      0</td><td style=\"text-align: right;\">     1.5</td><td style=\"text-align: right;\">        9.75</td><td>Credit Card   </td><td>Taxi Affiliation Services        </td><td style=\"text-align: right;\">                   41.8925</td><td style=\"text-align: right;\">                   -87.6262</td><td style=\"text-align: right;\">                    41.8909</td><td style=\"text-align: right;\">                    -87.6189</td><td style=\"text-align: right;\">                0</td><td style=\"text-align: right;\">              0</td><td style=\"text-align: right;\">                     0</td><td style=\"text-align: right;\">                   0</td><td>872664c1effffff</td><td>872664c1effffff</td></tr>\n",
       "<tr><td><i style='opacity: 0.6'>5</i></td><td>fd25560e18dab95225999c264586a331dc3283f5</td><td>&#x27;9ff153898c75dbd960a207b660a71f92f79b666dcec98e1...</td><td>2017-01-01 00:00:00.000000</td><td>2017-01-01 00:30:00.000000</td><td style=\"text-align: right;\">          1980</td><td style=\"text-align: right;\">         3.4</td><td style=\"text-align: right;\">          1.70318e+10</td><td style=\"text-align: right;\">           1.70311e+10</td><td style=\"text-align: right;\">                     32</td><td style=\"text-align: right;\">                       8</td><td style=\"text-align: right;\"> 16.75</td><td style=\"text-align: right;\">  3.65</td><td style=\"text-align: right;\">      0</td><td style=\"text-align: right;\">     1.5</td><td style=\"text-align: right;\">       21.9 </td><td>Credit Card   </td><td>Taxi Affiliation Services        </td><td style=\"text-align: right;\">                   41.881 </td><td style=\"text-align: right;\">                   -87.6327</td><td style=\"text-align: right;\">                    41.895 </td><td style=\"text-align: right;\">                    -87.6197</td><td style=\"text-align: right;\">                0</td><td style=\"text-align: right;\">              0</td><td style=\"text-align: right;\">                     0</td><td style=\"text-align: right;\">                   0</td><td>872664c1affffff</td><td>872664c1effffff</td></tr>\n",
       "<tr><td><i style='opacity: 0.6'>6</i></td><td>2504e0bf058ff310ac4c197618a843f88fc1c0c6</td><td>&#x27;d3a5f1452b4a1db2a547e7a0aabfe28d67c62b0e40155fa...</td><td>2017-01-01 00:00:00.000000</td><td>2017-01-01 00:15:00.000000</td><td style=\"text-align: right;\">           960</td><td style=\"text-align: right;\">         5.9</td><td style=\"text-align: right;\">          1.70313e+10</td><td style=\"text-align: right;\">           1.70311e+10</td><td style=\"text-align: right;\">                     32</td><td style=\"text-align: right;\">                       6</td><td style=\"text-align: right;\"> 17.5 </td><td style=\"text-align: right;\">  0   </td><td style=\"text-align: right;\">      0</td><td style=\"text-align: right;\">     1  </td><td style=\"text-align: right;\">       18.5 </td><td>Cash          </td><td>Northwest Management LLC         </td><td style=\"text-align: right;\">                   41.8774</td><td style=\"text-align: right;\">                   -87.622 </td><td style=\"text-align: right;\">                    41.9427</td><td style=\"text-align: right;\">                    -87.6518</td><td style=\"text-align: right;\">                0</td><td style=\"text-align: right;\">              0</td><td style=\"text-align: right;\">                     0</td><td style=\"text-align: right;\">                   0</td><td>872664c1affffff</td><td>872664c16ffffff</td></tr>\n",
       "<tr><td><i style='opacity: 0.6'>7</i></td><td>4ca1087133dfd8bde2483cb2aaa609fff2654f7c</td><td>&#x27;0083fcde0fb490b4ec424c63d1d750378f6ad11154d1d4a...</td><td>2017-01-01 00:00:00.000000</td><td>2017-01-01 00:15:00.000000</td><td style=\"text-align: right;\">           780</td><td style=\"text-align: right;\">         0.1</td><td style=\"text-align: right;\">          1.70312e+10</td><td style=\"text-align: right;\">           1.70311e+10</td><td style=\"text-align: right;\">                     24</td><td style=\"text-align: right;\">                       8</td><td style=\"text-align: right;\">  9.5 </td><td style=\"text-align: right;\">  2.1 </td><td style=\"text-align: right;\">      0</td><td style=\"text-align: right;\">     1  </td><td style=\"text-align: right;\">       12.6 </td><td>Credit Card   </td><td>Taxi Affiliation Services        </td><td style=\"text-align: right;\">                   41.8997</td><td style=\"text-align: right;\">                   -87.665 </td><td style=\"text-align: right;\">                    41.892 </td><td style=\"text-align: right;\">                    -87.6319</td><td style=\"text-align: right;\">                0</td><td style=\"text-align: right;\">              0</td><td style=\"text-align: right;\">                     0</td><td style=\"text-align: right;\">                   0</td><td>872664cadffffff</td><td>872664c1effffff</td></tr>\n",
       "<tr><td><i style='opacity: 0.6'>8</i></td><td>04bc3089a41c33afc9b6cbf5a9beac4fed91da7c</td><td>&#x27;785ef52cff80fe78a7ee899453036c0be6ac8fef4d10068...</td><td>2017-01-01 00:00:00.000000</td><td>2017-01-01 00:00:00.000000</td><td style=\"text-align: right;\">           120</td><td style=\"text-align: right;\">         0.4</td><td style=\"text-align: right;\">          1.70318e+10</td><td style=\"text-align: right;\">           1.70318e+10</td><td style=\"text-align: right;\">                     32</td><td style=\"text-align: right;\">                      32</td><td style=\"text-align: right;\">  4.25</td><td style=\"text-align: right;\">  2   </td><td style=\"text-align: right;\">      0</td><td style=\"text-align: right;\">     1  </td><td style=\"text-align: right;\">        7.25</td><td>Credit Card   </td><td>Chicago Medallion Leasing INC    </td><td style=\"text-align: right;\">                   41.881 </td><td style=\"text-align: right;\">                   -87.6327</td><td style=\"text-align: right;\">                    41.881 </td><td style=\"text-align: right;\">                    -87.6327</td><td style=\"text-align: right;\">                0</td><td style=\"text-align: right;\">              0</td><td style=\"text-align: right;\">                     0</td><td style=\"text-align: right;\">                   0</td><td>872664c1affffff</td><td>872664c1affffff</td></tr>\n",
       "<tr><td><i style='opacity: 0.6'>9</i></td><td>e09945909ae154d6b0ce433468baddcf79f79973</td><td>&#x27;b329626db30d23db0e6620de7d1a3036dd3c2ca3e139fd4...</td><td>2017-01-01 00:00:00.000000</td><td>2017-01-01 00:00:00.000000</td><td style=\"text-align: right;\">           180</td><td style=\"text-align: right;\">         0.7</td><td style=\"text-align: right;\">          1.70318e+10</td><td style=\"text-align: right;\">           1.70318e+10</td><td style=\"text-align: right;\">                     32</td><td style=\"text-align: right;\">                      28</td><td style=\"text-align: right;\">  5   </td><td style=\"text-align: right;\">  0   </td><td style=\"text-align: right;\">      0</td><td style=\"text-align: right;\">     2  </td><td style=\"text-align: right;\">        7   </td><td>Cash          </td><td>Dispatch Taxi Affiliation        </td><td style=\"text-align: right;\">                   41.881 </td><td style=\"text-align: right;\">                   -87.6327</td><td style=\"text-align: right;\">                    41.8853</td><td style=\"text-align: right;\">                    -87.6572</td><td style=\"text-align: right;\">                0</td><td style=\"text-align: right;\">              0</td><td style=\"text-align: right;\">                     0</td><td style=\"text-align: right;\">                   0</td><td>872664c1affffff</td><td>872664cadffffff</td></tr>\n",
       "</tbody>\n",
       "</table>"
      ],
      "text/plain": [
       "  #  trip_id                                   taxi_id                                              trip_start_timestamp        trip_end_timestamp            trip_seconds    trip_miles    pickup_census_tract    dropoff_census_tract    pickup_community_area    dropoff_community_area    fare    tips    tolls    extras    trip_total  payment_type    company                              pickup_centroid_latitude    pickup_centroid_longitude    dropoff_centroid_latitude    dropoff_centroid_longitude    trip_start_hour    trip_end_hour    trip_start_4h_period    trip_end_4h_period  pickup_hex       dropoff_hex\n",
       "  0  1b545d0be27b195076e5d2a7d4fc0ebef6ef20ac  '56a1119c6ca57e39525cf06829f9ecff553cf4b5ac24821...  2017-01-01 00:00:00.000000  2017-01-01 00:00:00.000000             240           1.3            1.70318e+10             1.70318e+10                       32                        28    6.25    0           0       0            6.25  Cash            Taxi Affiliation Services                             41.881                      -87.6327                      41.8853                      -87.6572                  0                0                       0                     0  872664c1affffff  872664cadffffff\n",
       "  1  c3ee40051c5643c54064a8b9df3686d2d411518d  '7987cfe5e3b2c9869665f70fe35dbe7423e7fc5852f2d6f...  2017-01-01 00:00:00.000000  2017-01-01 00:15:00.000000            1500           0.4            1.70318e+10             1.70311e+10                       32                         8   22.75    4.85        0       1.5         29.1   Credit Card     Blue Ribbon Taxi Association Inc.                     41.881                      -87.6327                      41.8983                      -87.6208                  0                0                       0                     0  872664c1affffff  872664c1effffff\n",
       "  2  29f30c8a6bbc028f5d63aa18c708d31b47267a9f  '0b269137bd94b55212311226d9e1554423e12bcc16a432c...  2017-01-01 00:00:00.000000  2017-01-01 00:30:00.000000            1620           0.9            1.70318e+10             1.70311e+10                       32                         8   12.25    2.85        0       2           17.1   Credit Card     Taxi Affiliation Services                             41.881                      -87.6327                      41.8925                      -87.6262                  0                0                       0                     0  872664c1affffff  872664c1effffff\n",
       "  3  55ae4fa955e6bc8705b995248c34f4183d848c27  'd1d781b6807176ed53fbb9d0010dd0a87e29c073984bda6...  2017-01-01 00:00:00.000000  2017-01-01 00:00:00.000000             540           1              1.70311e+10             1.70311e+10                        8                         8    6.75    0           0       2            8.75  Cash            Dispatch Taxi Affiliation                             41.9028                     -87.6261                      41.8909                      -87.6189                  0                0                       0                     0  872664c1effffff  872664c1effffff\n",
       "  4  ce908cd441e28d08dfb22bf168102beabb5e16e4  'f7630edc68a131c4a97382dd93206949da80ec1443d8da7...  2017-01-01 00:00:00.000000  2017-01-01 00:15:00.000000             480           0.5            1.70311e+10             1.70311e+10                        8                         8    6.25    2           0       1.5          9.75  Credit Card     Taxi Affiliation Services                             41.8925                     -87.6262                      41.8909                      -87.6189                  0                0                       0                     0  872664c1effffff  872664c1effffff\n",
       "  5  fd25560e18dab95225999c264586a331dc3283f5  '9ff153898c75dbd960a207b660a71f92f79b666dcec98e1...  2017-01-01 00:00:00.000000  2017-01-01 00:30:00.000000            1980           3.4            1.70318e+10             1.70311e+10                       32                         8   16.75    3.65        0       1.5         21.9   Credit Card     Taxi Affiliation Services                             41.881                      -87.6327                      41.895                       -87.6197                  0                0                       0                     0  872664c1affffff  872664c1effffff\n",
       "  6  2504e0bf058ff310ac4c197618a843f88fc1c0c6  'd3a5f1452b4a1db2a547e7a0aabfe28d67c62b0e40155fa...  2017-01-01 00:00:00.000000  2017-01-01 00:15:00.000000             960           5.9            1.70313e+10             1.70311e+10                       32                         6   17.5     0           0       1           18.5   Cash            Northwest Management LLC                              41.8774                     -87.622                       41.9427                      -87.6518                  0                0                       0                     0  872664c1affffff  872664c16ffffff\n",
       "  7  4ca1087133dfd8bde2483cb2aaa609fff2654f7c  '0083fcde0fb490b4ec424c63d1d750378f6ad11154d1d4a...  2017-01-01 00:00:00.000000  2017-01-01 00:15:00.000000             780           0.1            1.70312e+10             1.70311e+10                       24                         8    9.5     2.1         0       1           12.6   Credit Card     Taxi Affiliation Services                             41.8997                     -87.665                       41.892                       -87.6319                  0                0                       0                     0  872664cadffffff  872664c1effffff\n",
       "  8  04bc3089a41c33afc9b6cbf5a9beac4fed91da7c  '785ef52cff80fe78a7ee899453036c0be6ac8fef4d10068...  2017-01-01 00:00:00.000000  2017-01-01 00:00:00.000000             120           0.4            1.70318e+10             1.70318e+10                       32                        32    4.25    2           0       1            7.25  Credit Card     Chicago Medallion Leasing INC                         41.881                      -87.6327                      41.881                       -87.6327                  0                0                       0                     0  872664c1affffff  872664c1affffff\n",
       "  9  e09945909ae154d6b0ce433468baddcf79f79973  'b329626db30d23db0e6620de7d1a3036dd3c2ca3e139fd4...  2017-01-01 00:00:00.000000  2017-01-01 00:00:00.000000             180           0.7            1.70318e+10             1.70318e+10                       32                        28    5       0           0       2            7     Cash            Dispatch Taxi Affiliation                             41.881                      -87.6327                      41.8853                      -87.6572                  0                0                       0                     0  872664c1affffff  872664cadffffff"
      ]
     },
     "execution_count": 49,
     "metadata": {},
     "output_type": "execute_result"
    }
   ],
   "source": [
    "df_cleaned.head()"
   ]
  },
  {
   "cell_type": "code",
   "execution_count": 51,
   "id": "d22bebcc",
   "metadata": {},
   "outputs": [],
   "source": [
    "df_compromised = df_cleaned['dropoff_hex','trip_seconds', 'trip_miles']"
   ]
  },
  {
   "cell_type": "code",
   "execution_count": 3,
   "id": "22b43064",
   "metadata": {},
   "outputs": [],
   "source": [
    "resolution = 7"
   ]
  },
  {
   "cell_type": "code",
   "execution_count": 4,
   "id": "fda18ac6",
   "metadata": {},
   "outputs": [],
   "source": [
    "def convert_to_h3(lat,long):\n",
    "    return h3.geo_to_h3(lat, long, resolution)"
   ]
  },
  {
   "cell_type": "code",
   "execution_count": 5,
   "id": "acd6553c",
   "metadata": {},
   "outputs": [],
   "source": [
    "df_cleaned['pickup_hex'] = df_cleaned.apply(convert_to_h3, [df_cleaned['pickup_centroid_latitude'], df_cleaned['pickup_centroid_longitude']])"
   ]
  },
  {
   "cell_type": "code",
   "execution_count": 6,
   "id": "d4518b68",
   "metadata": {},
   "outputs": [],
   "source": [
    "df_cleaned['dropoff_hex'] = df_cleaned.apply(convert_to_h3, [df_cleaned['dropoff_centroid_latitude'], df_cleaned['dropoff_centroid_longitude']])"
   ]
  },
  {
   "cell_type": "code",
   "execution_count": null,
   "id": "6ae058df",
   "metadata": {},
   "outputs": [],
   "source": [
    "df_cleaned = df_cleaned.groupby(by='dropoff_hex').agg({'Count': vaex.agg.count('dropoff_hex')}) \n",
    "df_cleaned.sort(by='Count', ascending= False)"
   ]
  },
  {
   "cell_type": "code",
   "execution_count": 7,
   "id": "f1e350bd",
   "metadata": {},
   "outputs": [],
   "source": [
    "def h3_to_poly(row):\n",
    "    points = h3.h3_to_geo_boundary(\n",
    "        row, geo_json=True)\n",
    "    return Polygon(points)"
   ]
  },
  {
   "cell_type": "code",
   "execution_count": null,
   "id": "8ccf0b66",
   "metadata": {},
   "outputs": [],
   "source": [
    "df_cleaned[\"Geometry\"] = df_cleaned[\"dropoff_hex\"].apply(\n",
    "    h3_to_poly)"
   ]
  },
  {
   "cell_type": "code",
   "execution_count": null,
   "id": "fc8b9c9f",
   "metadata": {},
   "outputs": [],
   "source": [
    "df_cleaned = df_cleaned.to_pandas_df()\n",
    "df_cleaned['Count'] = df_cleaned['Count'].astype(\"float\")"
   ]
  },
  {
   "cell_type": "code",
   "execution_count": null,
   "id": "e634b9a5",
   "metadata": {},
   "outputs": [],
   "source": [
    "legend_drop = linear.YlOrRd_09.scale(min(df_cleaned['Count']), max(df_cleaned['Count']))"
   ]
  },
  {
   "cell_type": "code",
   "execution_count": null,
   "id": "7d50d336",
   "metadata": {},
   "outputs": [],
   "source": [
    "df_cleaned['Count_scaled'] = np.log1p(df_cleaned['Count'])"
   ]
  },
  {
   "cell_type": "code",
   "execution_count": null,
   "id": "4364623c",
   "metadata": {},
   "outputs": [],
   "source": [
    "cm_drop = linear.YlOrRd_09.scale(min(df_cleaned['Count_scaled']), max(df_cleaned['Count_scaled']))"
   ]
  },
  {
   "cell_type": "code",
   "execution_count": null,
   "id": "fff14e1e",
   "metadata": {},
   "outputs": [],
   "source": [
    "m = folium.Map(location=[41.8781, -87.6298], zoom_start=11)\n",
    "\n",
    "list_features = []\n",
    "\n",
    "for i in range(1, len(df_cleaned)):\n",
    "    count = df_cleaned.iloc[i]['Count']\n",
    "    feature = Feature(geometry= df_cleaned.iloc[i]['Geometry'],\n",
    "                      id = df_cleaned.iloc[i]['dropoff_hex'],\n",
    "                      properties = {\"resolution\": resolution, \"count\": count })\n",
    "    list_features.append(feature)\n",
    "\n",
    "\n",
    "feat_collection = FeatureCollection(list_features)\n",
    "geojson_result = json.dumps(feat_collection)\n",
    "\n",
    "\n",
    "GeoJson(\n",
    "        geojson_result,\n",
    "        style_function = lambda feature: {\n",
    "           #cm_drop(float(feature['properties']['count'])),\n",
    "            'color': cm_drop(float(feature['properties']['count'])),\n",
    "            'weight': 2,\n",
    "            'fillOpacity': 0.5,\n",
    "            'fillColor': cm_drop(float(feature['properties']['count'])),\n",
    "        },\n",
    "        name = \"Example\"\n",
    "    ).add_to(m)\n",
    "legend_drop.add_to(m)"
   ]
  },
  {
   "cell_type": "code",
   "execution_count": null,
   "id": "09240821",
   "metadata": {},
   "outputs": [],
   "source": [
    "m"
   ]
  },
  {
   "cell_type": "code",
   "execution_count": null,
   "id": "234f76b4",
   "metadata": {},
   "outputs": [],
   "source": [
    "df_cleaned.head()"
   ]
  },
  {
   "cell_type": "code",
   "execution_count": 21,
   "id": "9bbccbc5",
   "metadata": {},
   "outputs": [],
   "source": [
    "df_time = df_cleaned['pickup_hex', 'dropoff_hex', 'trip_seconds', 'trip_miles']"
   ]
  },
  {
   "cell_type": "code",
   "execution_count": 22,
   "id": "bf39e5f9",
   "metadata": {},
   "outputs": [],
   "source": [
    "#time per mile is expressed in miles per second\n",
    "df_time['time_per_mile'] = df_time['trip_miles'] / df_time['trip_seconds']"
   ]
  },
  {
   "cell_type": "code",
   "execution_count": 10,
   "id": "89c416e7",
   "metadata": {},
   "outputs": [
    {
     "name": "stderr",
     "output_type": "stream",
     "text": [
      "Process SpawnPoolWorker-7:\n",
      "Process SpawnPoolWorker-8:\n",
      "Process SpawnPoolWorker-6:\n",
      "Process SpawnPoolWorker-4:\n",
      "Process SpawnPoolWorker-3:\n",
      "Process SpawnPoolWorker-5:\n",
      "Process SpawnPoolWorker-1:\n",
      "Process SpawnPoolWorker-2:\n",
      "Traceback (most recent call last):\n",
      "Traceback (most recent call last):\n",
      "Traceback (most recent call last):\n",
      "Traceback (most recent call last):\n",
      "  File \"/Users/vincent/opt/anaconda3/lib/python3.9/multiprocessing/process.py\", line 315, in _bootstrap\n",
      "    self.run()\n",
      "  File \"/Users/vincent/opt/anaconda3/lib/python3.9/multiprocessing/process.py\", line 315, in _bootstrap\n",
      "    self.run()\n",
      "  File \"/Users/vincent/opt/anaconda3/lib/python3.9/multiprocessing/process.py\", line 108, in run\n",
      "    self._target(*self._args, **self._kwargs)\n",
      "  File \"/Users/vincent/opt/anaconda3/lib/python3.9/multiprocessing/process.py\", line 108, in run\n",
      "    self._target(*self._args, **self._kwargs)\n",
      "  File \"/Users/vincent/opt/anaconda3/lib/python3.9/multiprocessing/pool.py\", line 114, in worker\n",
      "    task = get()\n",
      "  File \"/Users/vincent/opt/anaconda3/lib/python3.9/multiprocessing/pool.py\", line 114, in worker\n",
      "    task = get()\n",
      "  File \"/Users/vincent/opt/anaconda3/lib/python3.9/multiprocessing/queues.py\", line 364, in get\n",
      "    with self._rlock:\n",
      "  File \"/Users/vincent/opt/anaconda3/lib/python3.9/multiprocessing/process.py\", line 315, in _bootstrap\n",
      "    self.run()\n",
      "  File \"/Users/vincent/opt/anaconda3/lib/python3.9/multiprocessing/process.py\", line 315, in _bootstrap\n",
      "    self.run()\n",
      "  File \"/Users/vincent/opt/anaconda3/lib/python3.9/multiprocessing/process.py\", line 108, in run\n",
      "    self._target(*self._args, **self._kwargs)\n",
      "  File \"/Users/vincent/opt/anaconda3/lib/python3.9/multiprocessing/pool.py\", line 114, in worker\n",
      "    task = get()\n",
      "  File \"/Users/vincent/opt/anaconda3/lib/python3.9/multiprocessing/queues.py\", line 364, in get\n",
      "    with self._rlock:\n",
      "  File \"/Users/vincent/opt/anaconda3/lib/python3.9/multiprocessing/synchronize.py\", line 95, in __enter__\n",
      "    return self._semlock.__enter__()\n",
      "  File \"/Users/vincent/opt/anaconda3/lib/python3.9/multiprocessing/process.py\", line 108, in run\n",
      "    self._target(*self._args, **self._kwargs)\n",
      "  File \"/Users/vincent/opt/anaconda3/lib/python3.9/multiprocessing/pool.py\", line 114, in worker\n",
      "    task = get()\n",
      "  File \"/Users/vincent/opt/anaconda3/lib/python3.9/multiprocessing/queues.py\", line 364, in get\n",
      "    with self._rlock:\n",
      "  File \"/Users/vincent/opt/anaconda3/lib/python3.9/multiprocessing/queues.py\", line 364, in get\n",
      "    with self._rlock:\n",
      "  File \"/Users/vincent/opt/anaconda3/lib/python3.9/multiprocessing/synchronize.py\", line 95, in __enter__\n",
      "    return self._semlock.__enter__()\n",
      "  File \"/Users/vincent/opt/anaconda3/lib/python3.9/multiprocessing/synchronize.py\", line 95, in __enter__\n",
      "    return self._semlock.__enter__()\n",
      "KeyboardInterrupt\n",
      "  File \"/Users/vincent/opt/anaconda3/lib/python3.9/multiprocessing/synchronize.py\", line 95, in __enter__\n",
      "    return self._semlock.__enter__()\n",
      "KeyboardInterrupt\n",
      "KeyboardInterrupt\n",
      "Traceback (most recent call last):\n",
      "KeyboardInterrupt\n",
      "  File \"/Users/vincent/opt/anaconda3/lib/python3.9/multiprocessing/process.py\", line 315, in _bootstrap\n",
      "    self.run()\n",
      "  File \"/Users/vincent/opt/anaconda3/lib/python3.9/multiprocessing/process.py\", line 108, in run\n",
      "    self._target(*self._args, **self._kwargs)\n",
      "  File \"/Users/vincent/opt/anaconda3/lib/python3.9/multiprocessing/pool.py\", line 114, in worker\n",
      "    task = get()\n",
      "  File \"/Users/vincent/opt/anaconda3/lib/python3.9/multiprocessing/queues.py\", line 364, in get\n",
      "    with self._rlock:\n",
      "  File \"/Users/vincent/opt/anaconda3/lib/python3.9/multiprocessing/synchronize.py\", line 95, in __enter__\n",
      "    return self._semlock.__enter__()\n",
      "Traceback (most recent call last):\n",
      "KeyboardInterrupt\n",
      "  File \"/Users/vincent/opt/anaconda3/lib/python3.9/multiprocessing/process.py\", line 315, in _bootstrap\n",
      "    self.run()\n",
      "  File \"/Users/vincent/opt/anaconda3/lib/python3.9/multiprocessing/process.py\", line 108, in run\n",
      "    self._target(*self._args, **self._kwargs)\n",
      "  File \"/Users/vincent/opt/anaconda3/lib/python3.9/multiprocessing/pool.py\", line 114, in worker\n",
      "    task = get()\n",
      "  File \"/Users/vincent/opt/anaconda3/lib/python3.9/multiprocessing/queues.py\", line 364, in get\n",
      "    with self._rlock:\n",
      "  File \"/Users/vincent/opt/anaconda3/lib/python3.9/multiprocessing/synchronize.py\", line 95, in __enter__\n",
      "    return self._semlock.__enter__()\n",
      "KeyboardInterrupt\n",
      "Traceback (most recent call last):\n",
      "  File \"/Users/vincent/opt/anaconda3/lib/python3.9/multiprocessing/process.py\", line 315, in _bootstrap\n",
      "    self.run()\n",
      "  File \"/Users/vincent/opt/anaconda3/lib/python3.9/multiprocessing/process.py\", line 108, in run\n",
      "    self._target(*self._args, **self._kwargs)\n",
      "  File \"/Users/vincent/opt/anaconda3/lib/python3.9/multiprocessing/pool.py\", line 114, in worker\n",
      "    task = get()\n",
      "  File \"/Users/vincent/opt/anaconda3/lib/python3.9/multiprocessing/queues.py\", line 365, in get\n",
      "    res = self._reader.recv_bytes()\n",
      "  File \"/Users/vincent/opt/anaconda3/lib/python3.9/multiprocessing/connection.py\", line 221, in recv_bytes\n",
      "    buf = self._recv_bytes(maxlength)\n",
      "  File \"/Users/vincent/opt/anaconda3/lib/python3.9/multiprocessing/connection.py\", line 419, in _recv_bytes\n",
      "    buf = self._recv(4)\n",
      "  File \"/Users/vincent/opt/anaconda3/lib/python3.9/multiprocessing/connection.py\", line 384, in _recv\n",
      "    chunk = read(handle, remaining)\n",
      "KeyboardInterrupt\n",
      "Traceback (most recent call last):\n",
      "  File \"/Users/vincent/opt/anaconda3/lib/python3.9/multiprocessing/process.py\", line 315, in _bootstrap\n",
      "    self.run()\n",
      "  File \"/Users/vincent/opt/anaconda3/lib/python3.9/multiprocessing/process.py\", line 108, in run\n",
      "    self._target(*self._args, **self._kwargs)\n",
      "  File \"/Users/vincent/opt/anaconda3/lib/python3.9/multiprocessing/pool.py\", line 114, in worker\n",
      "    task = get()\n",
      "  File \"/Users/vincent/opt/anaconda3/lib/python3.9/multiprocessing/queues.py\", line 367, in get\n",
      "    return _ForkingPickler.loads(res)\n",
      "  File \"/Users/vincent/opt/anaconda3/lib/python3.9/site-packages/vaex/__init__.py\", line 815, in <module>\n",
      "    add_namespace = entry.load()\n",
      "  File \"/Users/vincent/opt/anaconda3/lib/python3.9/site-packages/pkg_resources/__init__.py\", line 2471, in load\n",
      "    return self.resolve()\n",
      "  File \"/Users/vincent/opt/anaconda3/lib/python3.9/site-packages/pkg_resources/__init__.py\", line 2477, in resolve\n",
      "    module = __import__(self.module_name, fromlist=['__name__'], level=0)\n",
      "  File \"/Users/vincent/opt/anaconda3/lib/python3.9/site-packages/vaex/viz/__init__.py\", line 7, in <module>\n",
      "    from . import mpl\n",
      "  File \"/Users/vincent/opt/anaconda3/lib/python3.9/site-packages/vaex/viz/mpl.py\", line 14, in <module>\n",
      "    from .contour import plot2d_contour\n",
      "  File \"/Users/vincent/opt/anaconda3/lib/python3.9/site-packages/vaex/viz/contour.py\", line 4, in <module>\n",
      "    import matplotlib.pyplot as plt\n",
      "  File \"/Users/vincent/opt/anaconda3/lib/python3.9/site-packages/matplotlib/pyplot.py\", line 57, in <module>\n",
      "    from matplotlib.figure import Figure, figaspect\n",
      "  File \"/Users/vincent/opt/anaconda3/lib/python3.9/site-packages/matplotlib/figure.py\", line 25, in <module>\n",
      "    from matplotlib import _blocking_input, docstring, projections\n",
      "  File \"/Users/vincent/opt/anaconda3/lib/python3.9/site-packages/matplotlib/projections/__init__.py\", line 55, in <module>\n",
      "    from .. import axes, docstring\n",
      "  File \"/Users/vincent/opt/anaconda3/lib/python3.9/site-packages/matplotlib/axes/__init__.py\", line 1, in <module>\n",
      "    from ._subplots import *\n",
      "  File \"/Users/vincent/opt/anaconda3/lib/python3.9/site-packages/matplotlib/axes/_subplots.py\", line 3, in <module>\n",
      "    from matplotlib.axes._axes import Axes\n",
      "  File \"/Users/vincent/opt/anaconda3/lib/python3.9/site-packages/matplotlib/axes/_axes.py\", line 47, in <module>\n",
      "    class Axes(_AxesBase):\n",
      "  File \"/Users/vincent/opt/anaconda3/lib/python3.9/site-packages/matplotlib/axes/_axes.py\", line 2684, in Axes\n",
      "    def broken_barh(self, xranges, yrange, **kwargs):\n",
      "  File \"/Users/vincent/opt/anaconda3/lib/python3.9/site-packages/matplotlib/docstring.py\", line 84, in __call__\n",
      "    super().__call__(obj)\n",
      "  File \"/Users/vincent/opt/anaconda3/lib/python3.9/site-packages/matplotlib/docstring.py\", line 38, in __call__\n",
      "    func.__doc__ = inspect.cleandoc(func.__doc__) % self.params\n",
      "  File \"/Users/vincent/opt/anaconda3/lib/python3.9/site-packages/matplotlib/docstring.py\", line 65, in __missing__\n",
      "    return self.setdefault(key, kwdoc(cls))\n",
      "  File \"/Users/vincent/opt/anaconda3/lib/python3.9/site-packages/matplotlib/artist.py\", line 1749, in kwdoc\n",
      "    'Properties:\\n' + '\\n'.join(ai.pprint_setters(leadingspace=4)))\n",
      "  File \"/Users/vincent/opt/anaconda3/lib/python3.9/site-packages/matplotlib/artist.py\", line 1510, in pprint_setters\n",
      "    accepts = self.get_valid_values(prop)\n",
      "  File \"/Users/vincent/opt/anaconda3/lib/python3.9/site-packages/matplotlib/artist.py\", line 1405, in get_valid_values\n",
      "    match = re.search(r\"(?m)^ *\\*?{} : (.+)\".format(param_name), docstring)\n",
      "  File \"/Users/vincent/opt/anaconda3/lib/python3.9/re.py\", line 201, in search\n",
      "    return _compile(pattern, flags).search(string)\n",
      "KeyboardInterrupt\n"
     ]
    },
    {
     "data": {
      "text/html": [
       "<table>\n",
       "<thead>\n",
       "<tr><th>#                            </th><th>pickup_hex     </th><th>dropoff_hex    </th><th style=\"text-align: right;\">  trip_seconds</th><th style=\"text-align: right;\">  trip_miles</th><th style=\"text-align: right;\">  time_per_mile</th></tr>\n",
       "</thead>\n",
       "<tbody>\n",
       "<tr><td><i style='opacity: 0.6'>0</i></td><td>872664c1affffff</td><td>872664cadffffff</td><td style=\"text-align: right;\">           240</td><td style=\"text-align: right;\">         1.3</td><td style=\"text-align: right;\">    0.00541667 </td></tr>\n",
       "<tr><td><i style='opacity: 0.6'>1</i></td><td>872664c1affffff</td><td>872664c1effffff</td><td style=\"text-align: right;\">          1500</td><td style=\"text-align: right;\">         0.4</td><td style=\"text-align: right;\">    0.000266667</td></tr>\n",
       "<tr><td><i style='opacity: 0.6'>2</i></td><td>872664c1affffff</td><td>872664c1effffff</td><td style=\"text-align: right;\">          1620</td><td style=\"text-align: right;\">         0.9</td><td style=\"text-align: right;\">    0.000555556</td></tr>\n",
       "<tr><td><i style='opacity: 0.6'>3</i></td><td>872664c1effffff</td><td>872664c1effffff</td><td style=\"text-align: right;\">           540</td><td style=\"text-align: right;\">         1  </td><td style=\"text-align: right;\">    0.00185185 </td></tr>\n",
       "<tr><td><i style='opacity: 0.6'>4</i></td><td>872664c1effffff</td><td>872664c1effffff</td><td style=\"text-align: right;\">           480</td><td style=\"text-align: right;\">         0.5</td><td style=\"text-align: right;\">    0.00104167 </td></tr>\n",
       "<tr><td><i style='opacity: 0.6'>5</i></td><td>872664c1affffff</td><td>872664c1effffff</td><td style=\"text-align: right;\">          1980</td><td style=\"text-align: right;\">         3.4</td><td style=\"text-align: right;\">    0.00171717 </td></tr>\n",
       "<tr><td><i style='opacity: 0.6'>6</i></td><td>872664c1affffff</td><td>872664c16ffffff</td><td style=\"text-align: right;\">           960</td><td style=\"text-align: right;\">         5.9</td><td style=\"text-align: right;\">    0.00614583 </td></tr>\n",
       "<tr><td><i style='opacity: 0.6'>7</i></td><td>872664cadffffff</td><td>872664c1effffff</td><td style=\"text-align: right;\">           780</td><td style=\"text-align: right;\">         0.1</td><td style=\"text-align: right;\">    0.000128205</td></tr>\n",
       "<tr><td><i style='opacity: 0.6'>8</i></td><td>872664c1affffff</td><td>872664c1affffff</td><td style=\"text-align: right;\">           120</td><td style=\"text-align: right;\">         0.4</td><td style=\"text-align: right;\">    0.00333333 </td></tr>\n",
       "<tr><td><i style='opacity: 0.6'>9</i></td><td>872664c1affffff</td><td>872664cadffffff</td><td style=\"text-align: right;\">           180</td><td style=\"text-align: right;\">         0.7</td><td style=\"text-align: right;\">    0.00388889 </td></tr>\n",
       "</tbody>\n",
       "</table>"
      ],
      "text/plain": [
       "  #  pickup_hex       dropoff_hex        trip_seconds    trip_miles    time_per_mile\n",
       "  0  872664c1affffff  872664cadffffff             240           1.3      0.00541667\n",
       "  1  872664c1affffff  872664c1effffff            1500           0.4      0.000266667\n",
       "  2  872664c1affffff  872664c1effffff            1620           0.9      0.000555556\n",
       "  3  872664c1effffff  872664c1effffff             540           1        0.00185185\n",
       "  4  872664c1effffff  872664c1effffff             480           0.5      0.00104167\n",
       "  5  872664c1affffff  872664c1effffff            1980           3.4      0.00171717\n",
       "  6  872664c1affffff  872664c16ffffff             960           5.9      0.00614583\n",
       "  7  872664cadffffff  872664c1effffff             780           0.1      0.000128205\n",
       "  8  872664c1affffff  872664c1affffff             120           0.4      0.00333333\n",
       "  9  872664c1affffff  872664cadffffff             180           0.7      0.00388889"
      ]
     },
     "execution_count": 10,
     "metadata": {},
     "output_type": "execute_result"
    }
   ],
   "source": [
    "df_time.head()"
   ]
  },
  {
   "cell_type": "code",
   "execution_count": 24,
   "id": "f6bb812b",
   "metadata": {},
   "outputs": [],
   "source": [
    "df_time = df_time['dropoff_hex', 'time_per_mile']"
   ]
  },
  {
   "cell_type": "code",
   "execution_count": 27,
   "id": "8dea4ec7",
   "metadata": {},
   "outputs": [
    {
     "data": {
      "text/html": [
       "<table>\n",
       "<thead>\n",
       "<tr><th>#                              </th><th>dropoff_hex    </th><th>Avg_time_per_mile   </th></tr>\n",
       "</thead>\n",
       "<tbody>\n",
       "<tr><td><i style='opacity: 0.6'>0</i>  </td><td>872664ca2ffffff</td><td>0.01248265918892055 </td></tr>\n",
       "<tr><td><i style='opacity: 0.6'>1</i>  </td><td>87275934effffff</td><td>0.010034830232119962</td></tr>\n",
       "<tr><td><i style='opacity: 0.6'>2</i>  </td><td>872664cccffffff</td><td>0.009737280963759457</td></tr>\n",
       "<tr><td><i style='opacity: 0.6'>3</i>  </td><td>872664ca0ffffff</td><td>0.009450609598429964</td></tr>\n",
       "<tr><td><i style='opacity: 0.6'>4</i>  </td><td>872664c8bffffff</td><td>0.009259259259259259</td></tr>\n",
       "<tr><td>...                            </td><td>...            </td><td>...                 </td></tr>\n",
       "<tr><td><i style='opacity: 0.6'>103</i></td><td>872664cadffffff</td><td>0.003271797003412384</td></tr>\n",
       "<tr><td><i style='opacity: 0.6'>104</i></td><td>872664ccbffffff</td><td>0.003121376811594203</td></tr>\n",
       "<tr><td><i style='opacity: 0.6'>105</i></td><td>872664c88ffffff</td><td>0.002698412698412698</td></tr>\n",
       "<tr><td><i style='opacity: 0.6'>106</i></td><td>872664cdeffffff</td><td>0.00101056268797771 </td></tr>\n",
       "<tr><td><i style='opacity: 0.6'>107</i></td><td>872664cd3ffffff</td><td>0.0005              </td></tr>\n",
       "</tbody>\n",
       "</table>"
      ],
      "text/plain": [
       "#    dropoff_hex      Avg_time_per_mile\n",
       "0    872664ca2ffffff  0.01248265918892055\n",
       "1    87275934effffff  0.010034830232119962\n",
       "2    872664cccffffff  0.009737280963759457\n",
       "3    872664ca0ffffff  0.009450609598429964\n",
       "4    872664c8bffffff  0.009259259259259259\n",
       "...  ...              ...\n",
       "103  872664cadffffff  0.003271797003412384\n",
       "104  872664ccbffffff  0.003121376811594203\n",
       "105  872664c88ffffff  0.002698412698412698\n",
       "106  872664cdeffffff  0.00101056268797771\n",
       "107  872664cd3ffffff  0.0005"
      ]
     },
     "execution_count": 27,
     "metadata": {},
     "output_type": "execute_result"
    }
   ],
   "source": [
    "df_time = df_time.groupby(by='dropoff_hex').agg({'Avg_time_per_mile': vaex.agg.mean('Avg_time_per_mile')}) \n",
    "df_time.sort(by='Avg_time_per_mile', ascending= False)"
   ]
  },
  {
   "cell_type": "code",
   "execution_count": 30,
   "id": "85442d5c",
   "metadata": {},
   "outputs": [],
   "source": [
    "df_time['Geometry'] = df_time['dropoff_hex'].apply(h3_to_poly)"
   ]
  },
  {
   "cell_type": "code",
   "execution_count": 31,
   "id": "fa81ef8e",
   "metadata": {},
   "outputs": [
    {
     "data": {
      "text/html": [
       "<table>\n",
       "<thead>\n",
       "<tr><th>#                            </th><th>dropoff_hex    </th><th style=\"text-align: right;\">  Avg_time_per_mile</th><th>Geometry                                           </th></tr>\n",
       "</thead>\n",
       "<tbody>\n",
       "<tr><td><i style='opacity: 0.6'>0</i></td><td>872664ca8ffffff</td><td style=\"text-align: right;\">         0.00407085</td><td>&#x27;&lt;POLYGON ((-87.69 41.899, -87.702 41.891, -87.6...</td></tr>\n",
       "<tr><td><i style='opacity: 0.6'>1</i></td><td>872664d88ffffff</td><td style=\"text-align: right;\">         0.00657911</td><td>&#x27;&lt;POLYGON ((-87.676 41.997, -87.689 41.988, -87....</td></tr>\n",
       "<tr><td><i style='opacity: 0.6'>2</i></td><td>872664d83ffffff</td><td style=\"text-align: right;\">         0.00587944</td><td>&#x27;&lt;POLYGON ((-87.718 42.029, -87.731 42.02, -87.7...</td></tr>\n",
       "<tr><td><i style='opacity: 0.6'>3</i></td><td>872664c86ffffff</td><td style=\"text-align: right;\">         0.00525067</td><td>&#x27;&lt;POLYGON ((-87.791 41.922, -87.803 41.914, -87....</td></tr>\n",
       "<tr><td><i style='opacity: 0.6'>4</i></td><td>872664cc8ffffff</td><td style=\"text-align: right;\">         0.00476913</td><td>&#x27;&lt;POLYGON ((-87.59 41.741, -87.603 41.733, -87.5...</td></tr>\n",
       "<tr><td><i style='opacity: 0.6'>5</i></td><td>872664d8cffffff</td><td style=\"text-align: right;\">         0.00586006</td><td>&#x27;&lt;POLYGON ((-87.667 42.017, -87.68 42.009, -87.6...</td></tr>\n",
       "<tr><td><i style='opacity: 0.6'>6</i></td><td>872664cf0ffffff</td><td style=\"text-align: right;\">         0.00522097</td><td>&#x27;&lt;POLYGON ((-87.656 41.846, -87.669 41.838, -87....</td></tr>\n",
       "<tr><td><i style='opacity: 0.6'>7</i></td><td>872664ca4ffffff</td><td style=\"text-align: right;\">         0.00576825</td><td>&#x27;&lt;POLYGON ((-87.714 41.972, -87.727 41.963, -87....</td></tr>\n",
       "<tr><td><i style='opacity: 0.6'>8</i></td><td>872664cabffffff</td><td style=\"text-align: right;\">         0.00434091</td><td>&#x27;&lt;POLYGON ((-87.698 41.878, -87.711 41.87, -87.7...</td></tr>\n",
       "<tr><td><i style='opacity: 0.6'>9</i></td><td>8726641b2ffffff</td><td style=\"text-align: right;\">         0.00623669</td><td>&#x27;&lt;POLYGON ((-87.54 41.73, -87.553 41.722, -87.54...</td></tr>\n",
       "</tbody>\n",
       "</table>"
      ],
      "text/plain": [
       "  #  dropoff_hex        Avg_time_per_mile  Geometry\n",
       "  0  872664ca8ffffff           0.00407085  '<POLYGON ((-87.69 41.899, -87.702 41.891, -87.6...\n",
       "  1  872664d88ffffff           0.00657911  '<POLYGON ((-87.676 41.997, -87.689 41.988, -87....\n",
       "  2  872664d83ffffff           0.00587944  '<POLYGON ((-87.718 42.029, -87.731 42.02, -87.7...\n",
       "  3  872664c86ffffff           0.00525067  '<POLYGON ((-87.791 41.922, -87.803 41.914, -87....\n",
       "  4  872664cc8ffffff           0.00476913  '<POLYGON ((-87.59 41.741, -87.603 41.733, -87.5...\n",
       "  5  872664d8cffffff           0.00586006  '<POLYGON ((-87.667 42.017, -87.68 42.009, -87.6...\n",
       "  6  872664cf0ffffff           0.00522097  '<POLYGON ((-87.656 41.846, -87.669 41.838, -87....\n",
       "  7  872664ca4ffffff           0.00576825  '<POLYGON ((-87.714 41.972, -87.727 41.963, -87....\n",
       "  8  872664cabffffff           0.00434091  '<POLYGON ((-87.698 41.878, -87.711 41.87, -87.7...\n",
       "  9  8726641b2ffffff           0.00623669  '<POLYGON ((-87.54 41.73, -87.553 41.722, -87.54..."
      ]
     },
     "execution_count": 31,
     "metadata": {},
     "output_type": "execute_result"
    }
   ],
   "source": [
    "df_time.head()"
   ]
  },
  {
   "cell_type": "code",
   "execution_count": 41,
   "id": "8e640de8",
   "metadata": {},
   "outputs": [],
   "source": [
    "df2 = df_time.to_pandas_df()\n",
    "#df_cleaned['time_per_mile'] = df_cleaned['time_per_mile'].astype(\"float\")"
   ]
  },
  {
   "cell_type": "code",
   "execution_count": 42,
   "id": "abdc9956",
   "metadata": {},
   "outputs": [
    {
     "data": {
      "text/html": [
       "<div>\n",
       "<style scoped>\n",
       "    .dataframe tbody tr th:only-of-type {\n",
       "        vertical-align: middle;\n",
       "    }\n",
       "\n",
       "    .dataframe tbody tr th {\n",
       "        vertical-align: top;\n",
       "    }\n",
       "\n",
       "    .dataframe thead th {\n",
       "        text-align: right;\n",
       "    }\n",
       "</style>\n",
       "<table border=\"1\" class=\"dataframe\">\n",
       "  <thead>\n",
       "    <tr style=\"text-align: right;\">\n",
       "      <th></th>\n",
       "      <th>dropoff_hex</th>\n",
       "      <th>Avg_time_per_mile</th>\n",
       "      <th>Geometry</th>\n",
       "    </tr>\n",
       "  </thead>\n",
       "  <tbody>\n",
       "    <tr>\n",
       "      <th>0</th>\n",
       "      <td>872664ca8ffffff</td>\n",
       "      <td>0.004071</td>\n",
       "      <td>POLYGON ((-87.68960859632769 41.89878991031961...</td>\n",
       "    </tr>\n",
       "    <tr>\n",
       "      <th>1</th>\n",
       "      <td>872664d88ffffff</td>\n",
       "      <td>0.006579</td>\n",
       "      <td>POLYGON ((-87.67608158738066 41.99655455296839...</td>\n",
       "    </tr>\n",
       "    <tr>\n",
       "      <th>2</th>\n",
       "      <td>872664d83ffffff</td>\n",
       "      <td>0.005879</td>\n",
       "      <td>POLYGON ((-87.71807315668339 42.02864962011406...</td>\n",
       "    </tr>\n",
       "    <tr>\n",
       "      <th>3</th>\n",
       "      <td>872664c86ffffff</td>\n",
       "      <td>0.005251</td>\n",
       "      <td>POLYGON ((-87.79063432740574 41.92202849176213...</td>\n",
       "    </tr>\n",
       "    <tr>\n",
       "      <th>4</th>\n",
       "      <td>872664cc8ffffff</td>\n",
       "      <td>0.004769</td>\n",
       "      <td>POLYGON ((-87.59011429862058 41.74143783571094...</td>\n",
       "    </tr>\n",
       "  </tbody>\n",
       "</table>\n",
       "</div>"
      ],
      "text/plain": [
       "       dropoff_hex  Avg_time_per_mile  \\\n",
       "0  872664ca8ffffff           0.004071   \n",
       "1  872664d88ffffff           0.006579   \n",
       "2  872664d83ffffff           0.005879   \n",
       "3  872664c86ffffff           0.005251   \n",
       "4  872664cc8ffffff           0.004769   \n",
       "\n",
       "                                            Geometry  \n",
       "0  POLYGON ((-87.68960859632769 41.89878991031961...  \n",
       "1  POLYGON ((-87.67608158738066 41.99655455296839...  \n",
       "2  POLYGON ((-87.71807315668339 42.02864962011406...  \n",
       "3  POLYGON ((-87.79063432740574 41.92202849176213...  \n",
       "4  POLYGON ((-87.59011429862058 41.74143783571094...  "
      ]
     },
     "execution_count": 42,
     "metadata": {},
     "output_type": "execute_result"
    }
   ],
   "source": [
    "df2.head()"
   ]
  },
  {
   "cell_type": "code",
   "execution_count": 43,
   "id": "a83c3b5f",
   "metadata": {},
   "outputs": [],
   "source": [
    "df2['Avg_time_per_mile'] = df2['Avg_time_per_mile'].astype(\"float\")"
   ]
  },
  {
   "cell_type": "code",
   "execution_count": 44,
   "id": "bd1f379c",
   "metadata": {},
   "outputs": [],
   "source": [
    "cm = linear.YlOrRd_09.scale(min(df2['Avg_time_per_mile']), max(df2['Avg_time_per_mile']))"
   ]
  },
  {
   "cell_type": "code",
   "execution_count": 47,
   "id": "1982921d",
   "metadata": {},
   "outputs": [
    {
     "data": {
      "text/plain": [
       "<folium.features.GeoJson at 0x7f822777da90>"
      ]
     },
     "execution_count": 47,
     "metadata": {},
     "output_type": "execute_result"
    }
   ],
   "source": [
    "m = folium.Map(location=[41.8781, -87.6298], zoom_start=11)\n",
    "\n",
    "list_features = []\n",
    "\n",
    "for i in range(1, len(df2)):\n",
    "    Avg_time_per_mile = df2.iloc[i]['Avg_time_per_mile']\n",
    "    feature = Feature(geometry= df2.iloc[i]['Geometry'],\n",
    "                      id = df2.iloc[i]['dropoff_hex'],\n",
    "                      properties = {\"resolution\": resolution, \"avg_time\": Avg_time_per_mile })\n",
    "    list_features.append(feature)\n",
    "\n",
    "\n",
    "feat_collection = FeatureCollection(list_features)\n",
    "geojson_result = json.dumps(feat_collection)\n",
    "\n",
    "\n",
    "GeoJson(\n",
    "        geojson_result,\n",
    "        style_function = lambda feature: {\n",
    "            'color': cm(float(feature['properties']['avg_time'])),\n",
    "            'weight': 2,\n",
    "            'fillOpacity': 0.5,\n",
    "            'fillColor': cm(float(feature['properties']['avg_time'])),\n",
    "        },\n",
    "        name = \"Example\"\n",
    "    ).add_to(m)\n",
    "#legend_drop.add_to(m)"
   ]
  },
  {
   "cell_type": "markdown",
   "id": "a96f0d00",
   "metadata": {},
   "source": [
    "## Dropoff points with the highest average Time per Mile"
   ]
  },
  {
   "cell_type": "code",
   "execution_count": 48,
   "id": "a6bd9221",
   "metadata": {
    "scrolled": true
   },
   "outputs": [
    {
     "data": {
      "text/html": [
       "<div style=\"width:100%;\"><div style=\"position:relative;width:100%;height:0;padding-bottom:60%;\"><span style=\"color:#565656\">Make this Notebook Trusted to load map: File -> Trust Notebook</span><iframe srcdoc=\"&lt;!DOCTYPE html&gt;\n",
       "&lt;html&gt;\n",
       "&lt;head&gt;\n",
       "    \n",
       "    &lt;meta http-equiv=&quot;content-type&quot; content=&quot;text/html; charset=UTF-8&quot; /&gt;\n",
       "    \n",
       "        &lt;script&gt;\n",
       "            L_NO_TOUCH = false;\n",
       "            L_DISABLE_3D = false;\n",
       "        &lt;/script&gt;\n",
       "    \n",
       "    &lt;style&gt;html, body {width: 100%;height: 100%;margin: 0;padding: 0;}&lt;/style&gt;\n",
       "    &lt;style&gt;#map {position:absolute;top:0;bottom:0;right:0;left:0;}&lt;/style&gt;\n",
       "    &lt;script src=&quot;https://cdn.jsdelivr.net/npm/leaflet@1.9.3/dist/leaflet.js&quot;&gt;&lt;/script&gt;\n",
       "    &lt;script src=&quot;https://code.jquery.com/jquery-1.12.4.min.js&quot;&gt;&lt;/script&gt;\n",
       "    &lt;script src=&quot;https://cdn.jsdelivr.net/npm/bootstrap@5.2.2/dist/js/bootstrap.bundle.min.js&quot;&gt;&lt;/script&gt;\n",
       "    &lt;script src=&quot;https://cdnjs.cloudflare.com/ajax/libs/Leaflet.awesome-markers/2.0.2/leaflet.awesome-markers.js&quot;&gt;&lt;/script&gt;\n",
       "    &lt;link rel=&quot;stylesheet&quot; href=&quot;https://cdn.jsdelivr.net/npm/leaflet@1.9.3/dist/leaflet.css&quot;/&gt;\n",
       "    &lt;link rel=&quot;stylesheet&quot; href=&quot;https://cdn.jsdelivr.net/npm/bootstrap@5.2.2/dist/css/bootstrap.min.css&quot;/&gt;\n",
       "    &lt;link rel=&quot;stylesheet&quot; href=&quot;https://netdna.bootstrapcdn.com/bootstrap/3.0.0/css/bootstrap.min.css&quot;/&gt;\n",
       "    &lt;link rel=&quot;stylesheet&quot; href=&quot;https://cdn.jsdelivr.net/npm/@fortawesome/fontawesome-free@6.2.0/css/all.min.css&quot;/&gt;\n",
       "    &lt;link rel=&quot;stylesheet&quot; href=&quot;https://cdnjs.cloudflare.com/ajax/libs/Leaflet.awesome-markers/2.0.2/leaflet.awesome-markers.css&quot;/&gt;\n",
       "    &lt;link rel=&quot;stylesheet&quot; href=&quot;https://cdn.jsdelivr.net/gh/python-visualization/folium/folium/templates/leaflet.awesome.rotate.min.css&quot;/&gt;\n",
       "    \n",
       "            &lt;meta name=&quot;viewport&quot; content=&quot;width=device-width,\n",
       "                initial-scale=1.0, maximum-scale=1.0, user-scalable=no&quot; /&gt;\n",
       "            &lt;style&gt;\n",
       "                #map_41ea88926ee302e45c1e5e38e649cfed {\n",
       "                    position: relative;\n",
       "                    width: 100.0%;\n",
       "                    height: 100.0%;\n",
       "                    left: 0.0%;\n",
       "                    top: 0.0%;\n",
       "                }\n",
       "                .leaflet-container { font-size: 1rem; }\n",
       "            &lt;/style&gt;\n",
       "        \n",
       "&lt;/head&gt;\n",
       "&lt;body&gt;\n",
       "    \n",
       "    \n",
       "            &lt;div class=&quot;folium-map&quot; id=&quot;map_41ea88926ee302e45c1e5e38e649cfed&quot; &gt;&lt;/div&gt;\n",
       "        \n",
       "&lt;/body&gt;\n",
       "&lt;script&gt;\n",
       "    \n",
       "    \n",
       "            var map_41ea88926ee302e45c1e5e38e649cfed = L.map(\n",
       "                &quot;map_41ea88926ee302e45c1e5e38e649cfed&quot;,\n",
       "                {\n",
       "                    center: [41.8781, -87.6298],\n",
       "                    crs: L.CRS.EPSG3857,\n",
       "                    zoom: 11,\n",
       "                    zoomControl: true,\n",
       "                    preferCanvas: false,\n",
       "                }\n",
       "            );\n",
       "\n",
       "            \n",
       "\n",
       "        \n",
       "    \n",
       "            var tile_layer_2fb84d71de68528e882f3fd1bd877455 = L.tileLayer(\n",
       "                &quot;https://{s}.tile.openstreetmap.org/{z}/{x}/{y}.png&quot;,\n",
       "                {&quot;attribution&quot;: &quot;Data by \\u0026copy; \\u003ca target=\\&quot;_blank\\&quot; href=\\&quot;http://openstreetmap.org\\&quot;\\u003eOpenStreetMap\\u003c/a\\u003e, under \\u003ca target=\\&quot;_blank\\&quot; href=\\&quot;http://www.openstreetmap.org/copyright\\&quot;\\u003eODbL\\u003c/a\\u003e.&quot;, &quot;detectRetina&quot;: false, &quot;maxNativeZoom&quot;: 18, &quot;maxZoom&quot;: 18, &quot;minZoom&quot;: 0, &quot;noWrap&quot;: false, &quot;opacity&quot;: 1, &quot;subdomains&quot;: &quot;abc&quot;, &quot;tms&quot;: false}\n",
       "            ).addTo(map_41ea88926ee302e45c1e5e38e649cfed);\n",
       "        \n",
       "    \n",
       "        function geo_json_49ca05219811248e4f966603bff9338d_styler(feature) {\n",
       "            switch(feature.id) {\n",
       "                case &quot;872664d88ffffff&quot;: \n",
       "                    return {&quot;color&quot;: &quot;#fd893bff&quot;, &quot;fillColor&quot;: &quot;#fd893bff&quot;, &quot;fillOpacity&quot;: 0.5, &quot;weight&quot;: 2};\n",
       "                case &quot;872664d83ffffff&quot;: \n",
       "                    return {&quot;color&quot;: &quot;#fe9c42ff&quot;, &quot;fillColor&quot;: &quot;#fe9c42ff&quot;, &quot;fillOpacity&quot;: 0.5, &quot;weight&quot;: 2};\n",
       "                case &quot;872664c86ffffff&quot;: \n",
       "                    return {&quot;color&quot;: &quot;#feac49ff&quot;, &quot;fillColor&quot;: &quot;#feac49ff&quot;, &quot;fillOpacity&quot;: 0.5, &quot;weight&quot;: 2};\n",
       "                case &quot;872664cc8ffffff&quot;: case &quot;872664cd0ffffff&quot;: \n",
       "                    return {&quot;color&quot;: &quot;#feb852ff&quot;, &quot;fillColor&quot;: &quot;#feb852ff&quot;, &quot;fillOpacity&quot;: 0.5, &quot;weight&quot;: 2};\n",
       "                case &quot;872664d8cffffff&quot;: \n",
       "                    return {&quot;color&quot;: &quot;#fe9d43ff&quot;, &quot;fillColor&quot;: &quot;#fe9d43ff&quot;, &quot;fillOpacity&quot;: 0.5, &quot;weight&quot;: 2};\n",
       "                case &quot;872664cf0ffffff&quot;: \n",
       "                    return {&quot;color&quot;: &quot;#fead49ff&quot;, &quot;fillColor&quot;: &quot;#fead49ff&quot;, &quot;fillOpacity&quot;: 0.5, &quot;weight&quot;: 2};\n",
       "                case &quot;872664ca4ffffff&quot;: case &quot;872664cb5ffffff&quot;: \n",
       "                    return {&quot;color&quot;: &quot;#fe9f43ff&quot;, &quot;fillColor&quot;: &quot;#fe9f43ff&quot;, &quot;fillOpacity&quot;: 0.5, &quot;weight&quot;: 2};\n",
       "                case &quot;872664cabffffff&quot;: \n",
       "                    return {&quot;color&quot;: &quot;#fec35eff&quot;, &quot;fillColor&quot;: &quot;#fec35eff&quot;, &quot;fillOpacity&quot;: 0.5, &quot;weight&quot;: 2};\n",
       "                case &quot;8726641b2ffffff&quot;: \n",
       "                    return {&quot;color&quot;: &quot;#fe933eff&quot;, &quot;fillColor&quot;: &quot;#fe933eff&quot;, &quot;fillOpacity&quot;: 0.5, &quot;weight&quot;: 2};\n",
       "                case &quot;872664cc4ffffff&quot;: case &quot;872664cf3ffffff&quot;: \n",
       "                    return {&quot;color&quot;: &quot;#fd7735ff&quot;, &quot;fillColor&quot;: &quot;#fd7735ff&quot;, &quot;fillOpacity&quot;: 0.5, &quot;weight&quot;: 2};\n",
       "                case &quot;872664c1bffffff&quot;: case &quot;872664cf6ffffff&quot;: \n",
       "                    return {&quot;color&quot;: &quot;#febc56ff&quot;, &quot;fillColor&quot;: &quot;#febc56ff&quot;, &quot;fillOpacity&quot;: 0.5, &quot;weight&quot;: 2};\n",
       "                case &quot;872664cacffffff&quot;: \n",
       "                    return {&quot;color&quot;: &quot;#febb56ff&quot;, &quot;fillColor&quot;: &quot;#febb56ff&quot;, &quot;fillOpacity&quot;: 0.5, &quot;weight&quot;: 2};\n",
       "                case &quot;87275936dffffff&quot;: case &quot;872664ceaffffff&quot;: \n",
       "                    return {&quot;color&quot;: &quot;#fd6e33ff&quot;, &quot;fillColor&quot;: &quot;#fd6e33ff&quot;, &quot;fillOpacity&quot;: 0.5, &quot;weight&quot;: 2};\n",
       "                case &quot;872664520ffffff&quot;: case &quot;872664c10ffffff&quot;: \n",
       "                    return {&quot;color&quot;: &quot;#feae4aff&quot;, &quot;fillColor&quot;: &quot;#feae4aff&quot;, &quot;fillOpacity&quot;: 0.5, &quot;weight&quot;: 2};\n",
       "                case &quot;872664d9effffff&quot;: \n",
       "                    return {&quot;color&quot;: &quot;#fd602fff&quot;, &quot;fillColor&quot;: &quot;#fd602fff&quot;, &quot;fillOpacity&quot;: 0.5, &quot;weight&quot;: 2};\n",
       "                case &quot;872664c84ffffff&quot;: \n",
       "                    return {&quot;color&quot;: &quot;#feb24cff&quot;, &quot;fillColor&quot;: &quot;#feb24cff&quot;, &quot;fillOpacity&quot;: 0.5, &quot;weight&quot;: 2};\n",
       "                case &quot;872664ca3ffffff&quot;: \n",
       "                    return {&quot;color&quot;: &quot;#feb44dff&quot;, &quot;fillColor&quot;: &quot;#feb44dff&quot;, &quot;fillOpacity&quot;: 0.5, &quot;weight&quot;: 2};\n",
       "                case &quot;872664c13ffffff&quot;: \n",
       "                    return {&quot;color&quot;: &quot;#feca66ff&quot;, &quot;fillColor&quot;: &quot;#feca66ff&quot;, &quot;fillOpacity&quot;: 0.5, &quot;weight&quot;: 2};\n",
       "                case &quot;872664d99ffffff&quot;: \n",
       "                    return {&quot;color&quot;: &quot;#fd8038ff&quot;, &quot;fillColor&quot;: &quot;#fd8038ff&quot;, &quot;fillOpacity&quot;: 0.5, &quot;weight&quot;: 2};\n",
       "                case &quot;87266452dffffff&quot;: \n",
       "                    return {&quot;color&quot;: &quot;#fed773ff&quot;, &quot;fillColor&quot;: &quot;#fed773ff&quot;, &quot;fillOpacity&quot;: 0.5, &quot;weight&quot;: 2};\n",
       "                case &quot;872664cd5ffffff&quot;: case &quot;872664c14ffffff&quot;: \n",
       "                    return {&quot;color&quot;: &quot;#fea847ff&quot;, &quot;fillColor&quot;: &quot;#fea847ff&quot;, &quot;fillOpacity&quot;: 0.5, &quot;weight&quot;: 2};\n",
       "                case &quot;872664ca1ffffff&quot;: case &quot;872664ca6ffffff&quot;: \n",
       "                    return {&quot;color&quot;: &quot;#feaa48ff&quot;, &quot;fillColor&quot;: &quot;#feaa48ff&quot;, &quot;fillOpacity&quot;: 0.5, &quot;weight&quot;: 2};\n",
       "                case &quot;872664cc5ffffff&quot;: \n",
       "                    return {&quot;color&quot;: &quot;#fc4d2aff&quot;, &quot;fillColor&quot;: &quot;#fc4d2aff&quot;, &quot;fillOpacity&quot;: 0.5, &quot;weight&quot;: 2};\n",
       "                case &quot;872664196ffffff&quot;: \n",
       "                    return {&quot;color&quot;: &quot;#fd6931ff&quot;, &quot;fillColor&quot;: &quot;#fd6931ff&quot;, &quot;fillOpacity&quot;: 0.5, &quot;weight&quot;: 2};\n",
       "                case &quot;872664ccbffffff&quot;: \n",
       "                    return {&quot;color&quot;: &quot;#ffde80ff&quot;, &quot;fillColor&quot;: &quot;#ffde80ff&quot;, &quot;fillOpacity&quot;: 0.5, &quot;weight&quot;: 2};\n",
       "                case &quot;872664cf4ffffff&quot;: \n",
       "                    return {&quot;color&quot;: &quot;#fed471ff&quot;, &quot;fillColor&quot;: &quot;#fed471ff&quot;, &quot;fillOpacity&quot;: 0.5, &quot;weight&quot;: 2};\n",
       "                case &quot;872664ca2ffffff&quot;: \n",
       "                    return {&quot;color&quot;: &quot;#800026ff&quot;, &quot;fillColor&quot;: &quot;#800026ff&quot;, &quot;fillOpacity&quot;: 0.5, &quot;weight&quot;: 2};\n",
       "                case &quot;872664cd6ffffff&quot;: \n",
       "                    return {&quot;color&quot;: &quot;#fe9a41ff&quot;, &quot;fillColor&quot;: &quot;#fe9a41ff&quot;, &quot;fillOpacity&quot;: 0.5, &quot;weight&quot;: 2};\n",
       "                case &quot;872759369ffffff&quot;: \n",
       "                    return {&quot;color&quot;: &quot;#fe8f3dff&quot;, &quot;fillColor&quot;: &quot;#fe8f3dff&quot;, &quot;fillOpacity&quot;: 0.5, &quot;weight&quot;: 2};\n",
       "                case &quot;872664cebffffff&quot;: \n",
       "                    return {&quot;color&quot;: &quot;#fd7c37ff&quot;, &quot;fillColor&quot;: &quot;#fd7c37ff&quot;, &quot;fillOpacity&quot;: 0.5, &quot;weight&quot;: 2};\n",
       "                case &quot;872664523ffffff&quot;: case &quot;87275936cffffff&quot;: \n",
       "                    return {&quot;color&quot;: &quot;#fd8d3cff&quot;, &quot;fillColor&quot;: &quot;#fd8d3cff&quot;, &quot;fillOpacity&quot;: 0.5, &quot;weight&quot;: 2};\n",
       "                case &quot;872664cb0ffffff&quot;: \n",
       "                    return {&quot;color&quot;: &quot;#fe8e3cff&quot;, &quot;fillColor&quot;: &quot;#fe8e3cff&quot;, &quot;fillOpacity&quot;: 0.5, &quot;weight&quot;: 2};\n",
       "                case &quot;872664cb4ffffff&quot;: \n",
       "                    return {&quot;color&quot;: &quot;#fd7334ff&quot;, &quot;fillColor&quot;: &quot;#fd7334ff&quot;, &quot;fillOpacity&quot;: 0.5, &quot;weight&quot;: 2};\n",
       "                case &quot;872664cc3ffffff&quot;: case &quot;872664c8bffffff&quot;: \n",
       "                    return {&quot;color&quot;: &quot;#e7221eff&quot;, &quot;fillColor&quot;: &quot;#e7221eff&quot;, &quot;fillOpacity&quot;: 0.5, &quot;weight&quot;: 2};\n",
       "                case &quot;872664d89ffffff&quot;: \n",
       "                    return {&quot;color&quot;: &quot;#fd7e37ff&quot;, &quot;fillColor&quot;: &quot;#fd7e37ff&quot;, &quot;fillOpacity&quot;: 0.5, &quot;weight&quot;: 2};\n",
       "                case &quot;872664d98ffffff&quot;: \n",
       "                    return {&quot;color&quot;: &quot;#fd7936ff&quot;, &quot;fillColor&quot;: &quot;#fd7936ff&quot;, &quot;fillOpacity&quot;: 0.5, &quot;weight&quot;: 2};\n",
       "                case &quot;872664cd2ffffff&quot;: \n",
       "                    return {&quot;color&quot;: &quot;#fe9840ff&quot;, &quot;fillColor&quot;: &quot;#fe9840ff&quot;, &quot;fillOpacity&quot;: 0.5, &quot;weight&quot;: 2};\n",
       "                case &quot;872664d8dffffff&quot;: case &quot;872664d9bffffff&quot;: \n",
       "                    return {&quot;color&quot;: &quot;#fe903dff&quot;, &quot;fillColor&quot;: &quot;#fe903dff&quot;, &quot;fillOpacity&quot;: 0.5, &quot;weight&quot;: 2};\n",
       "                case &quot;872664c88ffffff&quot;: \n",
       "                    return {&quot;color&quot;: &quot;#ffe48cff&quot;, &quot;fillColor&quot;: &quot;#ffe48cff&quot;, &quot;fillOpacity&quot;: 0.5, &quot;weight&quot;: 2};\n",
       "                case &quot;872664c1effffff&quot;: \n",
       "                    return {&quot;color&quot;: &quot;#fed672ff&quot;, &quot;fillColor&quot;: &quot;#fed672ff&quot;, &quot;fillOpacity&quot;: 0.5, &quot;weight&quot;: 2};\n",
       "                case &quot;872664c16ffffff&quot;: \n",
       "                    return {&quot;color&quot;: &quot;#feb34dff&quot;, &quot;fillColor&quot;: &quot;#feb34dff&quot;, &quot;fillOpacity&quot;: 0.5, &quot;weight&quot;: 2};\n",
       "                case &quot;872664d8affffff&quot;: case &quot;872664d81ffffff&quot;: \n",
       "                    return {&quot;color&quot;: &quot;#fea546ff&quot;, &quot;fillColor&quot;: &quot;#fea546ff&quot;, &quot;fillOpacity&quot;: 0.5, &quot;weight&quot;: 2};\n",
       "                case &quot;872664ca0ffffff&quot;: \n",
       "                    return {&quot;color&quot;: &quot;#e41b1cff&quot;, &quot;fillColor&quot;: &quot;#e41b1cff&quot;, &quot;fillOpacity&quot;: 0.5, &quot;weight&quot;: 2};\n",
       "                case &quot;872664c8dffffff&quot;: case &quot;872664ce2ffffff&quot;: \n",
       "                    return {&quot;color&quot;: &quot;#fea647ff&quot;, &quot;fillColor&quot;: &quot;#fea647ff&quot;, &quot;fillOpacity&quot;: 0.5, &quot;weight&quot;: 2};\n",
       "                case &quot;872664cc9ffffff&quot;: \n",
       "                    return {&quot;color&quot;: &quot;#fecd69ff&quot;, &quot;fillColor&quot;: &quot;#fecd69ff&quot;, &quot;fillOpacity&quot;: 0.5, &quot;weight&quot;: 2};\n",
       "                case &quot;87275936bffffff&quot;: \n",
       "                    return {&quot;color&quot;: &quot;#fd8239ff&quot;, &quot;fillColor&quot;: &quot;#fd8239ff&quot;, &quot;fillOpacity&quot;: 0.5, &quot;weight&quot;: 2};\n",
       "                case &quot;872664cddffffff&quot;: case &quot;872664ce3ffffff&quot;: \n",
       "                    return {&quot;color&quot;: &quot;#fd7635ff&quot;, &quot;fillColor&quot;: &quot;#fd7635ff&quot;, &quot;fillOpacity&quot;: 0.5, &quot;weight&quot;: 2};\n",
       "                case &quot;872664d9affffff&quot;: \n",
       "                    return {&quot;color&quot;: &quot;#fe9640ff&quot;, &quot;fillColor&quot;: &quot;#fe9640ff&quot;, &quot;fillOpacity&quot;: 0.5, &quot;weight&quot;: 2};\n",
       "                case &quot;872664cadffffff&quot;: \n",
       "                    return {&quot;color&quot;: &quot;#ffdc7cff&quot;, &quot;fillColor&quot;: &quot;#ffdc7cff&quot;, &quot;fillOpacity&quot;: 0.5, &quot;weight&quot;: 2};\n",
       "                case &quot;872664d8bffffff&quot;: \n",
       "                    return {&quot;color&quot;: &quot;#fd8a3bff&quot;, &quot;fillColor&quot;: &quot;#fd8a3bff&quot;, &quot;fillOpacity&quot;: 0.5, &quot;weight&quot;: 2};\n",
       "                case &quot;872664caaffffff&quot;: \n",
       "                    return {&quot;color&quot;: &quot;#fec45fff&quot;, &quot;fillColor&quot;: &quot;#fec45fff&quot;, &quot;fillOpacity&quot;: 0.5, &quot;weight&quot;: 2};\n",
       "                case &quot;872664cccffffff&quot;: \n",
       "                    return {&quot;color&quot;: &quot;#dd151dff&quot;, &quot;fillColor&quot;: &quot;#dd151dff&quot;, &quot;fillOpacity&quot;: 0.5, &quot;weight&quot;: 2};\n",
       "                case &quot;87266452cffffff&quot;: \n",
       "                    return {&quot;color&quot;: &quot;#fd863aff&quot;, &quot;fillColor&quot;: &quot;#fd863aff&quot;, &quot;fillOpacity&quot;: 0.5, &quot;weight&quot;: 2};\n",
       "                case &quot;872664cc2ffffff&quot;: \n",
       "                    return {&quot;color&quot;: &quot;#ffda76ff&quot;, &quot;fillColor&quot;: &quot;#ffda76ff&quot;, &quot;fillOpacity&quot;: 0.5, &quot;weight&quot;: 2};\n",
       "                case &quot;872664521ffffff&quot;: \n",
       "                    return {&quot;color&quot;: &quot;#fd612fff&quot;, &quot;fillColor&quot;: &quot;#fd612fff&quot;, &quot;fillOpacity&quot;: 0.5, &quot;weight&quot;: 2};\n",
       "                case &quot;872664d8effffff&quot;: \n",
       "                    return {&quot;color&quot;: &quot;#fea446ff&quot;, &quot;fillColor&quot;: &quot;#fea446ff&quot;, &quot;fillOpacity&quot;: 0.5, &quot;weight&quot;: 2};\n",
       "                case &quot;872664cd1ffffff&quot;: \n",
       "                    return {&quot;color&quot;: &quot;#fd5e2eff&quot;, &quot;fillColor&quot;: &quot;#fd5e2eff&quot;, &quot;fillOpacity&quot;: 0.5, &quot;weight&quot;: 2};\n",
       "                case &quot;87275934effffff&quot;: \n",
       "                    return {&quot;color&quot;: &quot;#d5101fff&quot;, &quot;fillColor&quot;: &quot;#d5101fff&quot;, &quot;fillOpacity&quot;: 0.5, &quot;weight&quot;: 2};\n",
       "                case &quot;872664ca9ffffff&quot;: \n",
       "                    return {&quot;color&quot;: &quot;#fecb66ff&quot;, &quot;fillColor&quot;: &quot;#fecb66ff&quot;, &quot;fillOpacity&quot;: 0.5, &quot;weight&quot;: 2};\n",
       "                case &quot;872664cf2ffffff&quot;: \n",
       "                    return {&quot;color&quot;: &quot;#fd5f2fff&quot;, &quot;fillColor&quot;: &quot;#fd5f2fff&quot;, &quot;fillOpacity&quot;: 0.5, &quot;weight&quot;: 2};\n",
       "                case &quot;872664575ffffff&quot;: \n",
       "                    return {&quot;color&quot;: &quot;#fd6731ff&quot;, &quot;fillColor&quot;: &quot;#fd6731ff&quot;, &quot;fillOpacity&quot;: 0.5, &quot;weight&quot;: 2};\n",
       "                case &quot;872664cd9ffffff&quot;: \n",
       "                    return {&quot;color&quot;: &quot;#ee3022ff&quot;, &quot;fillColor&quot;: &quot;#ee3022ff&quot;, &quot;fillOpacity&quot;: 0.5, &quot;weight&quot;: 2};\n",
       "                case &quot;872664c11ffffff&quot;: \n",
       "                    return {&quot;color&quot;: &quot;#fec762ff&quot;, &quot;fillColor&quot;: &quot;#fec762ff&quot;, &quot;fillOpacity&quot;: 0.5, &quot;weight&quot;: 2};\n",
       "                case &quot;872664cd8ffffff&quot;: case &quot;872759340ffffff&quot;: \n",
       "                    return {&quot;color&quot;: &quot;#fe9f44ff&quot;, &quot;fillColor&quot;: &quot;#fe9f44ff&quot;, &quot;fillOpacity&quot;: 0.5, &quot;weight&quot;: 2};\n",
       "                case &quot;872664ccaffffff&quot;: \n",
       "                    return {&quot;color&quot;: &quot;#f13523ff&quot;, &quot;fillColor&quot;: &quot;#f13523ff&quot;, &quot;fillOpacity&quot;: 0.5, &quot;weight&quot;: 2};\n",
       "                case &quot;872664525ffffff&quot;: case &quot;872664d9dffffff&quot;: \n",
       "                    return {&quot;color&quot;: &quot;#fe943fff&quot;, &quot;fillColor&quot;: &quot;#fe943fff&quot;, &quot;fillOpacity&quot;: 0.5, &quot;weight&quot;: 2};\n",
       "                case &quot;872664cd3ffffff&quot;: \n",
       "                    return {&quot;color&quot;: &quot;#ffffccff&quot;, &quot;fillColor&quot;: &quot;#ffffccff&quot;, &quot;fillOpacity&quot;: 0.5, &quot;weight&quot;: 2};\n",
       "                case &quot;872664c80ffffff&quot;: \n",
       "                    return {&quot;color&quot;: &quot;#fed370ff&quot;, &quot;fillColor&quot;: &quot;#fed370ff&quot;, &quot;fillOpacity&quot;: 0.5, &quot;weight&quot;: 2};\n",
       "                case &quot;872664cc0ffffff&quot;: \n",
       "                    return {&quot;color&quot;: &quot;#f13723ff&quot;, &quot;fillColor&quot;: &quot;#f13723ff&quot;, &quot;fillOpacity&quot;: 0.5, &quot;weight&quot;: 2};\n",
       "                case &quot;872664cb3ffffff&quot;: \n",
       "                    return {&quot;color&quot;: &quot;#feb650ff&quot;, &quot;fillColor&quot;: &quot;#feb650ff&quot;, &quot;fillOpacity&quot;: 0.5, &quot;weight&quot;: 2};\n",
       "                case &quot;872664cb1ffffff&quot;: \n",
       "                    return {&quot;color&quot;: &quot;#feb953ff&quot;, &quot;fillColor&quot;: &quot;#feb953ff&quot;, &quot;fillOpacity&quot;: 0.5, &quot;weight&quot;: 2};\n",
       "                case &quot;872664cceffffff&quot;: \n",
       "                    return {&quot;color&quot;: &quot;#fed16dff&quot;, &quot;fillColor&quot;: &quot;#fed16dff&quot;, &quot;fillOpacity&quot;: 0.5, &quot;weight&quot;: 2};\n",
       "                case &quot;872664c85ffffff&quot;: \n",
       "                    return {&quot;color&quot;: &quot;#fea948ff&quot;, &quot;fillColor&quot;: &quot;#fea948ff&quot;, &quot;fillOpacity&quot;: 0.5, &quot;weight&quot;: 2};\n",
       "                case &quot;872664cd4ffffff&quot;: \n",
       "                    return {&quot;color&quot;: &quot;#f74327ff&quot;, &quot;fillColor&quot;: &quot;#f74327ff&quot;, &quot;fillOpacity&quot;: 0.5, &quot;weight&quot;: 2};\n",
       "                case &quot;872664cdeffffff&quot;: \n",
       "                    return {&quot;color&quot;: &quot;#fff9bdff&quot;, &quot;fillColor&quot;: &quot;#fff9bdff&quot;, &quot;fillOpacity&quot;: 0.5, &quot;weight&quot;: 2};\n",
       "                case &quot;872664c8effffff&quot;: \n",
       "                    return {&quot;color&quot;: &quot;#e8241eff&quot;, &quot;fillColor&quot;: &quot;#e8241eff&quot;, &quot;fillOpacity&quot;: 0.5, &quot;weight&quot;: 2};\n",
       "                case &quot;872664cc1ffffff&quot;: \n",
       "                    return {&quot;color&quot;: &quot;#fd6430ff&quot;, &quot;fillColor&quot;: &quot;#fd6430ff&quot;, &quot;fillOpacity&quot;: 0.5, &quot;weight&quot;: 2};\n",
       "                case &quot;872664cdbffffff&quot;: \n",
       "                    return {&quot;color&quot;: &quot;#fea044ff&quot;, &quot;fillColor&quot;: &quot;#fea044ff&quot;, &quot;fillOpacity&quot;: 0.5, &quot;weight&quot;: 2};\n",
       "                case &quot;872664cf5ffffff&quot;: \n",
       "                    return {&quot;color&quot;: &quot;#fea345ff&quot;, &quot;fillColor&quot;: &quot;#fea345ff&quot;, &quot;fillOpacity&quot;: 0.5, &quot;weight&quot;: 2};\n",
       "                case &quot;872664c83ffffff&quot;: \n",
       "                    return {&quot;color&quot;: &quot;#fd532bff&quot;, &quot;fillColor&quot;: &quot;#fd532bff&quot;, &quot;fillOpacity&quot;: 0.5, &quot;weight&quot;: 2};\n",
       "                case &quot;872664c8cffffff&quot;: \n",
       "                    return {&quot;color&quot;: &quot;#fea245ff&quot;, &quot;fillColor&quot;: &quot;#fea245ff&quot;, &quot;fillOpacity&quot;: 0.5, &quot;weight&quot;: 2};\n",
       "                case &quot;872664cc6ffffff&quot;: \n",
       "                    return {&quot;color&quot;: &quot;#ea261fff&quot;, &quot;fillColor&quot;: &quot;#ea261fff&quot;, &quot;fillOpacity&quot;: 0.5, &quot;weight&quot;: 2};\n",
       "                case &quot;872664c1affffff&quot;: \n",
       "                    return {&quot;color&quot;: &quot;#fed976ff&quot;, &quot;fillColor&quot;: &quot;#fed976ff&quot;, &quot;fillOpacity&quot;: 0.5, &quot;weight&quot;: 2};\n",
       "                case &quot;872664566ffffff&quot;: \n",
       "                    return {&quot;color&quot;: &quot;#ed2e21ff&quot;, &quot;fillColor&quot;: &quot;#ed2e21ff&quot;, &quot;fillOpacity&quot;: 0.5, &quot;weight&quot;: 2};\n",
       "                case &quot;872664c12ffffff&quot;: \n",
       "                    return {&quot;color&quot;: &quot;#feb44eff&quot;, &quot;fillColor&quot;: &quot;#feb44eff&quot;, &quot;fillOpacity&quot;: 0.5, &quot;weight&quot;: 2};\n",
       "                case &quot;872664562ffffff&quot;: \n",
       "                    return {&quot;color&quot;: &quot;#fd8539ff&quot;, &quot;fillColor&quot;: &quot;#fd8539ff&quot;, &quot;fillOpacity&quot;: 0.5, &quot;weight&quot;: 2};\n",
       "                case &quot;872664caeffffff&quot;: \n",
       "                    return {&quot;color&quot;: &quot;#fec560ff&quot;, &quot;fillColor&quot;: &quot;#fec560ff&quot;, &quot;fillOpacity&quot;: 0.5, &quot;weight&quot;: 2};\n",
       "                case &quot;872664c89ffffff&quot;: \n",
       "                    return {&quot;color&quot;: &quot;#feb04bff&quot;, &quot;fillColor&quot;: &quot;#feb04bff&quot;, &quot;fillOpacity&quot;: 0.5, &quot;weight&quot;: 2};\n",
       "                default:\n",
       "                    return {&quot;color&quot;: &quot;#feb14bff&quot;, &quot;fillColor&quot;: &quot;#feb14bff&quot;, &quot;fillOpacity&quot;: 0.5, &quot;weight&quot;: 2};\n",
       "            }\n",
       "        }\n",
       "\n",
       "        function geo_json_49ca05219811248e4f966603bff9338d_onEachFeature(feature, layer) {\n",
       "            layer.on({\n",
       "            });\n",
       "        };\n",
       "        var geo_json_49ca05219811248e4f966603bff9338d = L.geoJson(null, {\n",
       "                onEachFeature: geo_json_49ca05219811248e4f966603bff9338d_onEachFeature,\n",
       "            \n",
       "                style: geo_json_49ca05219811248e4f966603bff9338d_styler,\n",
       "        });\n",
       "\n",
       "        function geo_json_49ca05219811248e4f966603bff9338d_add (data) {\n",
       "            geo_json_49ca05219811248e4f966603bff9338d\n",
       "                .addData(data)\n",
       "                .addTo(map_41ea88926ee302e45c1e5e38e649cfed);\n",
       "        }\n",
       "            geo_json_49ca05219811248e4f966603bff9338d_add({&quot;features&quot;: [{&quot;geometry&quot;: {&quot;coordinates&quot;: [[[-87.676082, 41.996555], [-87.68883, 41.988275], [-87.684712, 41.976114], [-87.667854, 41.972229], [-87.655106, 41.980505], [-87.659216, 41.992668], [-87.676082, 41.996555]]], &quot;type&quot;: &quot;Polygon&quot;}, &quot;id&quot;: &quot;872664d88ffffff&quot;, &quot;properties&quot;: {&quot;avg_time&quot;: 0.00657911353824133, &quot;resolution&quot;: 7}, &quot;type&quot;: &quot;Feature&quot;}, {&quot;geometry&quot;: {&quot;coordinates&quot;: [[[-87.718073, 42.02865], [-87.730821, 42.020362], [-87.72669, 42.008198], [-87.709819, 42.00432], [-87.697071, 42.012603], [-87.701194, 42.024769], [-87.718073, 42.02865]]], &quot;type&quot;: &quot;Polygon&quot;}, &quot;id&quot;: &quot;872664d83ffffff&quot;, &quot;properties&quot;: {&quot;avg_time&quot;: 0.005879435577303139, &quot;resolution&quot;: 7}, &quot;type&quot;: &quot;Feature&quot;}, {&quot;geometry&quot;: {&quot;coordinates&quot;: [[[-87.790634, 41.922028], [-87.803338, 41.913746], [-87.799198, 41.901601], [-87.782362, 41.897736], [-87.769659, 41.906014], [-87.773791, 41.918162], [-87.790634, 41.922028]]], &quot;type&quot;: &quot;Polygon&quot;}, &quot;id&quot;: &quot;872664c86ffffff&quot;, &quot;properties&quot;: {&quot;avg_time&quot;: 0.005250673060743733, &quot;resolution&quot;: 7}, &quot;type&quot;: &quot;Feature&quot;}, {&quot;geometry&quot;: {&quot;coordinates&quot;: [[[-87.590114, 41.741438], [-87.60281, 41.733196], [-87.598737, 41.721066], [-87.581975, 41.717176], [-87.56928, 41.725413], [-87.573346, 41.737545], [-87.590114, 41.741438]]], &quot;type&quot;: &quot;Polygon&quot;}, &quot;id&quot;: &quot;872664cc8ffffff&quot;, &quot;properties&quot;: {&quot;avg_time&quot;: 0.004769126024360599, &quot;resolution&quot;: 7}, &quot;type&quot;: &quot;Feature&quot;}, {&quot;geometry&quot;: {&quot;coordinates&quot;: [[[-87.667443, 42.017], [-87.680199, 42.008719], [-87.676082, 41.996555], [-87.659216, 41.992668], [-87.646461, 42.000945], [-87.650571, 42.013112], [-87.667443, 42.017]]], &quot;type&quot;: &quot;Polygon&quot;}, &quot;id&quot;: &quot;872664d8cffffff&quot;, &quot;properties&quot;: {&quot;avg_time&quot;: 0.005860058759504507, &quot;resolution&quot;: 7}, &quot;type&quot;: &quot;Feature&quot;}, {&quot;geometry&quot;: {&quot;coordinates&quot;: [[[-87.656371, 41.84632], [-87.669082, 41.83806], [-87.664983, 41.825918], [-87.64818, 41.822035], [-87.63547, 41.830291], [-87.639562, 41.842435], [-87.656371, 41.84632]]], &quot;type&quot;: &quot;Polygon&quot;}, &quot;id&quot;: &quot;872664cf0ffffff&quot;, &quot;properties&quot;: {&quot;avg_time&quot;: 0.005220972546495329, &quot;resolution&quot;: 7}, &quot;type&quot;: &quot;Feature&quot;}, {&quot;geometry&quot;: {&quot;coordinates&quot;: [[[-87.714311, 41.971715], [-87.727044, 41.963435], [-87.722919, 41.951279], [-87.706068, 41.947401], [-87.693335, 41.955677], [-87.697453, 41.967836], [-87.714311, 41.971715]]], &quot;type&quot;: &quot;Polygon&quot;}, &quot;id&quot;: &quot;872664ca4ffffff&quot;, &quot;properties&quot;: {&quot;avg_time&quot;: 0.005768246980874244, &quot;resolution&quot;: 7}, &quot;type&quot;: &quot;Feature&quot;}, {&quot;geometry&quot;: {&quot;coordinates&quot;: [[[-87.698215, 41.878373], [-87.710925, 41.870105], [-87.706813, 41.857961], [-87.689997, 41.854083], [-87.677286, 41.862347], [-87.681392, 41.874493], [-87.698215, 41.878373]]], &quot;type&quot;: &quot;Polygon&quot;}, &quot;id&quot;: &quot;872664cabffffff&quot;, &quot;properties&quot;: {&quot;avg_time&quot;: 0.004340910603094133, &quot;resolution&quot;: 7}, &quot;type&quot;: &quot;Feature&quot;}, {&quot;geometry&quot;: {&quot;coordinates&quot;: [[[-87.539814, 41.729753], [-87.552518, 41.721518], [-87.548458, 41.709387], [-87.531703, 41.705489], [-87.519, 41.71372], [-87.523052, 41.725853], [-87.539814, 41.729753]]], &quot;type&quot;: &quot;Polygon&quot;}, &quot;id&quot;: &quot;8726641b2ffffff&quot;, &quot;properties&quot;: {&quot;avg_time&quot;: 0.006236694245324364, &quot;resolution&quot;: 7}, &quot;type&quot;: &quot;Feature&quot;}, {&quot;geometry&quot;: {&quot;coordinates&quot;: [[[-87.614581, 41.814261], [-87.627292, 41.806008], [-87.623207, 41.793869], [-87.606417, 41.78998], [-87.593707, 41.798229], [-87.597785, 41.81037], [-87.614581, 41.814261]]], &quot;type&quot;: &quot;Polygon&quot;}, &quot;id&quot;: &quot;872664cc4ffffff&quot;, &quot;properties&quot;: {&quot;avg_time&quot;: 0.007023990269245257, &quot;resolution&quot;: 7}, &quot;type&quot;: &quot;Feature&quot;}, {&quot;geometry&quot;: {&quot;coordinates&quot;: [[[-87.618209, 41.871098], [-87.630935, 41.862839], [-87.626843, 41.850692], [-87.610033, 41.846803], [-87.597308, 41.855058], [-87.601392, 41.867207], [-87.618209, 41.871098]]], &quot;type&quot;: &quot;Polygon&quot;}, &quot;id&quot;: &quot;872664c1bffffff&quot;, &quot;properties&quot;: {&quot;avg_time&quot;: 0.00462309123522133, &quot;resolution&quot;: 7}, &quot;type&quot;: &quot;Feature&quot;}, {&quot;geometry&quot;: {&quot;coordinates&quot;: [[[-87.680995, 41.919211], [-87.69372, 41.91094], [-87.689609, 41.89879], [-87.672778, 41.894908], [-87.660053, 41.903175], [-87.664157, 41.915328], [-87.680995, 41.919211]]], &quot;type&quot;: &quot;Polygon&quot;}, &quot;id&quot;: &quot;872664cacffffff&quot;, &quot;properties&quot;: {&quot;avg_time&quot;: 0.004642293639126182, &quot;resolution&quot;: 7}, &quot;type&quot;: &quot;Feature&quot;}, {&quot;geometry&quot;: {&quot;coordinates&quot;: [[[-87.806929, 42.015395], [-87.819654, 42.0071], [-87.815502, 41.994943], [-87.798632, 41.991078], [-87.785906, 41.999368], [-87.790051, 42.011528], [-87.806929, 42.015395]]], &quot;type&quot;: &quot;Polygon&quot;}, &quot;id&quot;: &quot;87275936dffffff&quot;, &quot;properties&quot;: {&quot;avg_time&quot;: 0.007232879677532574, &quot;resolution&quot;: 7}, &quot;type&quot;: &quot;Feature&quot;}, {&quot;geometry&quot;: {&quot;coordinates&quot;: [[[-87.782959, 41.808357], [-87.795632, 41.800089], [-87.791505, 41.787959], [-87.774711, 41.784096], [-87.762037, 41.79236], [-87.766158, 41.804492], [-87.782959, 41.808357]]], &quot;type&quot;: &quot;Polygon&quot;}, &quot;id&quot;: &quot;872664520ffffff&quot;, &quot;properties&quot;: {&quot;avg_time&quot;: 0.005166817632850242, &quot;resolution&quot;: 7}, &quot;type&quot;: &quot;Feature&quot;}, {&quot;geometry&quot;: {&quot;coordinates&quot;: [[[-87.777318, 42.01982], [-87.790051, 42.011528], [-87.785906, 41.999368], [-87.769035, 41.995499], [-87.756302, 42.003787], [-87.76044, 42.015949], [-87.777318, 42.01982]]], &quot;type&quot;: &quot;Polygon&quot;}, &quot;id&quot;: &quot;872664d9effffff&quot;, &quot;properties&quot;: {&quot;avg_time&quot;: 0.0075679126395997885, &quot;resolution&quot;: 7}, &quot;type&quot;: &quot;Feature&quot;}, {&quot;geometry&quot;: {&quot;coordinates&quot;: [[[-87.761081, 41.926441], [-87.773791, 41.918162], [-87.769659, 41.906014], [-87.752823, 41.902144], [-87.740112, 41.91042], [-87.744237, 41.92257], [-87.761081, 41.926441]]], &quot;type&quot;: &quot;Polygon&quot;}, &quot;id&quot;: &quot;872664c84ffffff&quot;, &quot;properties&quot;: {&quot;avg_time&quot;: 0.004997751094314798, &quot;resolution&quot;: 7}, &quot;type&quot;: &quot;Feature&quot;}, {&quot;geometry&quot;: {&quot;coordinates&quot;: [[[-87.731519, 41.930847], [-87.744237, 41.92257], [-87.740112, 41.91042], [-87.723275, 41.906546], [-87.710557, 41.914819], [-87.714676, 41.926971], [-87.731519, 41.930847]]], &quot;type&quot;: &quot;Polygon&quot;}, &quot;id&quot;: &quot;872664ca3ffffff&quot;, &quot;properties&quot;: {&quot;avg_time&quot;: 0.004937436484719092, &quot;resolution&quot;: 7}, &quot;type&quot;: &quot;Feature&quot;}, {&quot;geometry&quot;: {&quot;coordinates&quot;: [[[-87.651424, 41.923596], [-87.664157, 41.915328], [-87.660053, 41.903175], [-87.643222, 41.899289], [-87.630489, 41.907554], [-87.634587, 41.919708], [-87.651424, 41.923596]]], &quot;type&quot;: &quot;Polygon&quot;}, &quot;id&quot;: &quot;872664c13ffffff&quot;, &quot;properties&quot;: {&quot;avg_time&quot;: 0.00407427510671591, &quot;resolution&quot;: 7}, &quot;type&quot;: &quot;Feature&quot;}, {&quot;geometry&quot;: {&quot;coordinates&quot;: [[[-87.853642, 41.970062], [-87.866345, 41.961768], [-87.862185, 41.949619], [-87.845329, 41.945762], [-87.832626, 41.954053], [-87.836778, 41.966204], [-87.853642, 41.970062]]], &quot;type&quot;: &quot;Polygon&quot;}, &quot;id&quot;: &quot;87275934dffffff&quot;, &quot;properties&quot;: {&quot;avg_time&quot;: 0.005040840140023338, &quot;resolution&quot;: 7}, &quot;type&quot;: &quot;Feature&quot;}, {&quot;geometry&quot;: {&quot;coordinates&quot;: [[[-87.7353, 41.987752], [-87.748033, 41.979468], [-87.743901, 41.96731], [-87.727044, 41.963435], [-87.714311, 41.971715], [-87.718435, 41.983875], [-87.7353, 41.987752]]], &quot;type&quot;: &quot;Polygon&quot;}, &quot;id&quot;: &quot;872664d99ffffff&quot;, &quot;properties&quot;: {&quot;avg_time&quot;: 0.006794801966438375, &quot;resolution&quot;: 7}, &quot;type&quot;: &quot;Feature&quot;}, {&quot;geometry&quot;: {&quot;coordinates&quot;: [[[-87.720234, 41.760361], [-87.732907, 41.752105], [-87.7288, 41.739979], [-87.712026, 41.736107], [-87.699352, 41.74436], [-87.703453, 41.756488], [-87.720234, 41.760361]]], &quot;type&quot;: &quot;Polygon&quot;}, &quot;id&quot;: &quot;87266452dffffff&quot;, &quot;properties&quot;: {&quot;avg_time&quot;: 0.0036025222231608985, &quot;resolution&quot;: 7}, &quot;type&quot;: &quot;Feature&quot;}, {&quot;geometry&quot;: {&quot;coordinates&quot;: [[[-87.673587, 41.805521], [-87.686283, 41.797264], [-87.682183, 41.785129], [-87.665395, 41.78125], [-87.652699, 41.789503], [-87.656791, 41.80164], [-87.673587, 41.805521]]], &quot;type&quot;: &quot;Polygon&quot;}, &quot;id&quot;: &quot;872664cd5ffffff&quot;, &quot;properties&quot;: {&quot;avg_time&quot;: 0.005404322115942118, &quot;resolution&quot;: 7}, &quot;type&quot;: &quot;Feature&quot;}, {&quot;geometry&quot;: {&quot;coordinates&quot;: [[[-87.642788, 41.944022], [-87.655529, 41.935752], [-87.651424, 41.923596], [-87.634587, 41.919708], [-87.621846, 41.927975], [-87.625943, 41.940133], [-87.642788, 41.944022]]], &quot;type&quot;: &quot;Polygon&quot;}, &quot;id&quot;: &quot;872664c10ffffff&quot;, &quot;properties&quot;: {&quot;avg_time&quot;: 0.005176863189529631, &quot;resolution&quot;: 7}, &quot;type&quot;: &quot;Feature&quot;}, {&quot;geometry&quot;: {&quot;coordinates&quot;: [[[-87.70195, 41.935246], [-87.714676, 41.926971], [-87.710557, 41.914819], [-87.69372, 41.91094], [-87.680995, 41.919211], [-87.685106, 41.931365], [-87.70195, 41.935246]]], &quot;type&quot;: &quot;Polygon&quot;}, &quot;id&quot;: &quot;872664ca1ffffff&quot;, &quot;properties&quot;: {&quot;avg_time&quot;: 0.005314785728525096, &quot;resolution&quot;: 7}, &quot;type&quot;: &quot;Feature&quot;}, {&quot;geometry&quot;: {&quot;coordinates&quot;: [[[-87.572845, 41.782195], [-87.585556, 41.773951], [-87.581484, 41.761814], [-87.564708, 41.75792], [-87.551997, 41.76616], [-87.556063, 41.778299], [-87.572845, 41.782195]]], &quot;type&quot;: &quot;Polygon&quot;}, &quot;id&quot;: &quot;872664ceaffffff&quot;, &quot;properties&quot;: {&quot;avg_time&quot;: 0.007216281340076895, &quot;resolution&quot;: 7}, &quot;type&quot;: &quot;Feature&quot;}, {&quot;geometry&quot;: {&quot;coordinates&quot;: [[[-87.593707, 41.798229], [-87.606417, 41.78998], [-87.602338, 41.777842], [-87.585556, 41.773951], [-87.572845, 41.782195], [-87.576917, 41.794335], [-87.593707, 41.798229]]], &quot;type&quot;: &quot;Polygon&quot;}, &quot;id&quot;: &quot;872664cc5ffffff&quot;, &quot;properties&quot;: {&quot;avg_time&quot;: 0.008005568917513316, &quot;resolution&quot;: 7}, &quot;type&quot;: &quot;Feature&quot;}, {&quot;geometry&quot;: {&quot;coordinates&quot;: [[[-87.577909, 41.705047], [-87.590597, 41.696811], [-87.586531, 41.684685], [-87.569783, 41.680794], [-87.557094, 41.689026], [-87.561154, 41.701153], [-87.577909, 41.705047]]], &quot;type&quot;: &quot;Polygon&quot;}, &quot;id&quot;: &quot;872664196ffffff&quot;, &quot;properties&quot;: {&quot;avg_time&quot;: 0.007352941176470588, &quot;resolution&quot;: 7}, &quot;type&quot;: &quot;Feature&quot;}, {&quot;geometry&quot;: {&quot;coordinates&quot;: [[[-87.693335, 41.955677], [-87.706068, 41.947401], [-87.70195, 41.935246], [-87.685106, 41.931365], [-87.672373, 41.939638], [-87.676484, 41.951795], [-87.693335, 41.955677]]], &quot;type&quot;: &quot;Polygon&quot;}, &quot;id&quot;: &quot;872664ca5ffffff&quot;, &quot;properties&quot;: {&quot;avg_time&quot;: 0.005041670539852101, &quot;resolution&quot;: 7}, &quot;type&quot;: &quot;Feature&quot;}, {&quot;geometry&quot;: {&quot;coordinates&quot;: [[[-87.773484, 41.962898], [-87.786202, 41.954613], [-87.782063, 41.942461], [-87.765213, 41.938592], [-87.752495, 41.946873], [-87.756627, 41.959027], [-87.773484, 41.962898]]], &quot;type&quot;: &quot;Polygon&quot;}, &quot;id&quot;: &quot;872664cb5ffffff&quot;, &quot;properties&quot;: {&quot;avg_time&quot;: 0.005773073632830957, &quot;resolution&quot;: 7}, &quot;type&quot;: &quot;Feature&quot;}, {&quot;geometry&quot;: {&quot;coordinates&quot;: [[[-87.598737, 41.721066], [-87.611426, 41.712826], [-87.607352, 41.7007], [-87.590597, 41.696811], [-87.577909, 41.705047], [-87.581975, 41.717176], [-87.598737, 41.721066]]], &quot;type&quot;: &quot;Polygon&quot;}, &quot;id&quot;: &quot;872664ccbffffff&quot;, &quot;properties&quot;: {&quot;avg_time&quot;: 0.003121376811594203, &quot;resolution&quot;: 7}, &quot;type&quot;: &quot;Feature&quot;}, {&quot;geometry&quot;: {&quot;coordinates&quot;: [[[-87.647752, 41.866726], [-87.66047, 41.858465], [-87.656371, 41.84632], [-87.639562, 41.842435], [-87.626843, 41.850692], [-87.630935, 41.862839], [-87.647752, 41.866726]]], &quot;type&quot;: &quot;Polygon&quot;}, &quot;id&quot;: &quot;872664cf4ffffff&quot;, &quot;properties&quot;: {&quot;avg_time&quot;: 0.003681735884119027, &quot;resolution&quot;: 7}, &quot;type&quot;: &quot;Feature&quot;}, {&quot;geometry&quot;: {&quot;coordinates&quot;: [[[-87.752495, 41.946873], [-87.765213, 41.938592], [-87.761081, 41.926441], [-87.744237, 41.92257], [-87.731519, 41.930847], [-87.735644, 41.943], [-87.752495, 41.946873]]], &quot;type&quot;: &quot;Polygon&quot;}, &quot;id&quot;: &quot;872664ca2ffffff&quot;, &quot;properties&quot;: {&quot;avg_time&quot;: 0.01248265918892055, &quot;resolution&quot;: 7}, &quot;type&quot;: &quot;Feature&quot;}, {&quot;geometry&quot;: {&quot;coordinates&quot;: [[[-87.723986, 41.817152], [-87.736675, 41.808888], [-87.732561, 41.796754], [-87.715767, 41.792882], [-87.703078, 41.801141], [-87.707184, 41.813277], [-87.723986, 41.817152]]], &quot;type&quot;: &quot;Polygon&quot;}, &quot;id&quot;: &quot;872664cd6ffffff&quot;, &quot;properties&quot;: {&quot;avg_time&quot;: 0.0059576643524068915, &quot;resolution&quot;: 7}, &quot;type&quot;: &quot;Feature&quot;}, {&quot;geometry&quot;: {&quot;coordinates&quot;: [[[-87.815502, 41.994943], [-87.82822, 41.98665], [-87.824068, 41.974495], [-87.807204, 41.970632], [-87.794486, 41.978921], [-87.798632, 41.991078], [-87.815502, 41.994943]]], &quot;type&quot;: &quot;Polygon&quot;}, &quot;id&quot;: &quot;872759369ffffff&quot;, &quot;properties&quot;: {&quot;avg_time&quot;: 0.006400090268910426, &quot;resolution&quot;: 7}, &quot;type&quot;: &quot;Feature&quot;}, {&quot;geometry&quot;: {&quot;coordinates&quot;: [[[-87.551997, 41.76616], [-87.564708, 41.75792], [-87.560642, 41.745784], [-87.543873, 41.741887], [-87.531163, 41.750124], [-87.535221, 41.762261], [-87.551997, 41.76616]]], &quot;type&quot;: &quot;Polygon&quot;}, &quot;id&quot;: &quot;872664cebffffff&quot;, &quot;properties&quot;: {&quot;avg_time&quot;: 0.006901780155744971, &quot;resolution&quot;: 7}, &quot;type&quot;: &quot;Feature&quot;}, {&quot;geometry&quot;: {&quot;coordinates&quot;: [[[-87.791505, 41.787959], [-87.804171, 41.779692], [-87.800043, 41.767566], [-87.783256, 41.763704], [-87.77059, 41.771967], [-87.774711, 41.784096], [-87.791505, 41.787959]]], &quot;type&quot;: &quot;Polygon&quot;}, &quot;id&quot;: &quot;872664523ffffff&quot;, &quot;properties&quot;: {&quot;avg_time&quot;: 0.0065, &quot;resolution&quot;: 7}, &quot;type&quot;: &quot;Feature&quot;}, {&quot;geometry&quot;: {&quot;coordinates&quot;: [[[-87.803059, 41.958479], [-87.815769, 41.950191], [-87.811623, 41.938041], [-87.794774, 41.934177], [-87.782063, 41.942461], [-87.786202, 41.954613], [-87.803059, 41.958479]]], &quot;type&quot;: &quot;Polygon&quot;}, &quot;id&quot;: &quot;872664cb0ffffff&quot;, &quot;properties&quot;: {&quot;avg_time&quot;: 0.006436212764301114, &quot;resolution&quot;: 7}, &quot;type&quot;: &quot;Feature&quot;}, {&quot;geometry&quot;: {&quot;coordinates&quot;: [[[-87.794486, 41.978921], [-87.807204, 41.970632], [-87.803059, 41.958479], [-87.786202, 41.954613], [-87.773484, 41.962898], [-87.777622, 41.975053], [-87.794486, 41.978921]]], &quot;type&quot;: &quot;Polygon&quot;}, &quot;id&quot;: &quot;872664cb4ffffff&quot;, &quot;properties&quot;: {&quot;avg_time&quot;: 0.007118459007428102, &quot;resolution&quot;: 7}, &quot;type&quot;: &quot;Feature&quot;}, {&quot;geometry&quot;: {&quot;coordinates&quot;: [[[-87.631824, 41.773483], [-87.64452, 41.765233], [-87.640433, 41.753101], [-87.623658, 41.749216], [-87.610962, 41.757461], [-87.615042, 41.769596], [-87.631824, 41.773483]]], &quot;type&quot;: &quot;Polygon&quot;}, &quot;id&quot;: &quot;872664cc3ffffff&quot;, &quot;properties&quot;: {&quot;avg_time&quot;: 0.009247690317812269, &quot;resolution&quot;: 7}, &quot;type&quot;: &quot;Feature&quot;}, {&quot;geometry&quot;: {&quot;coordinates&quot;: [[[-87.655106, 41.980505], [-87.667854, 41.972229], [-87.663743, 41.960069], [-87.646892, 41.956182], [-87.634144, 41.964453], [-87.638248, 41.976616], [-87.655106, 41.980505]]], &quot;type&quot;: &quot;Polygon&quot;}, &quot;id&quot;: &quot;872664d89ffffff&quot;, &quot;properties&quot;: {&quot;avg_time&quot;: 0.006847180462255741, &quot;resolution&quot;: 7}, &quot;type&quot;: &quot;Feature&quot;}, {&quot;geometry&quot;: {&quot;coordinates&quot;: [[[-87.634144, 41.964453], [-87.646892, 41.956182], [-87.642788, 41.944022], [-87.625943, 41.940133], [-87.613196, 41.9484], [-87.617292, 41.960561], [-87.634144, 41.964453]]], &quot;type&quot;: &quot;Polygon&quot;}, &quot;id&quot;: &quot;872664c14ffffff&quot;, &quot;properties&quot;: {&quot;avg_time&quot;: 0.0054098190158562405, &quot;resolution&quot;: 7}, &quot;type&quot;: &quot;Feature&quot;}, {&quot;geometry&quot;: {&quot;coordinates&quot;: [[[-87.756302, 42.003787], [-87.769035, 41.995499], [-87.764897, 41.98334], [-87.748033, 41.979468], [-87.7353, 41.987752], [-87.739431, 41.999913], [-87.756302, 42.003787]]], &quot;type&quot;: &quot;Polygon&quot;}, &quot;id&quot;: &quot;872664d98ffffff&quot;, &quot;properties&quot;: {&quot;avg_time&quot;: 0.006962388513901162, &quot;resolution&quot;: 7}, &quot;type&quot;: &quot;Feature&quot;}, {&quot;geometry&quot;: {&quot;coordinates&quot;: [[[-87.732561, 41.796754], [-87.745242, 41.788492], [-87.741129, 41.776362], [-87.724341, 41.772491], [-87.71166, 41.780749], [-87.715767, 41.792882], [-87.732561, 41.796754]]], &quot;type&quot;: &quot;Polygon&quot;}, &quot;id&quot;: &quot;872664cd2ffffff&quot;, &quot;properties&quot;: {&quot;avg_time&quot;: 0.006052037417156354, &quot;resolution&quot;: 7}, &quot;type&quot;: &quot;Feature&quot;}, {&quot;geometry&quot;: {&quot;coordinates&quot;: [[[-87.646461, 42.000945], [-87.659216, 41.992668], [-87.655106, 41.980505], [-87.638248, 41.976616], [-87.625492, 41.984889], [-87.629595, 41.997054], [-87.646461, 42.000945]]], &quot;type&quot;: &quot;Polygon&quot;}, &quot;id&quot;: &quot;872664d8dffffff&quot;, &quot;properties&quot;: {&quot;avg_time&quot;: 0.006359644337079511, &quot;resolution&quot;: 7}, &quot;type&quot;: &quot;Feature&quot;}, {&quot;geometry&quot;: {&quot;coordinates&quot;: [[[-87.736332, 41.853568], [-87.749028, 41.845299], [-87.744908, 41.833161], [-87.728099, 41.829289], [-87.715404, 41.837554], [-87.719516, 41.849695], [-87.736332, 41.853568]]], &quot;type&quot;: &quot;Polygon&quot;}, &quot;id&quot;: &quot;872664c88ffffff&quot;, &quot;properties&quot;: {&quot;avg_time&quot;: 0.002698412698412698, &quot;resolution&quot;: 7}, &quot;type&quot;: &quot;Feature&quot;}, {&quot;geometry&quot;: {&quot;coordinates&quot;: [[[-87.743901, 41.96731], [-87.756627, 41.959027], [-87.752495, 41.946873], [-87.735644, 41.943], [-87.722919, 41.951279], [-87.727044, 41.963435], [-87.743901, 41.96731]]], &quot;type&quot;: &quot;Polygon&quot;}, &quot;id&quot;: &quot;872664ca6ffffff&quot;, &quot;properties&quot;: {&quot;avg_time&quot;: 0.005309286848280114, &quot;resolution&quot;: 7}, &quot;type&quot;: &quot;Feature&quot;}, {&quot;geometry&quot;: {&quot;coordinates&quot;: [[[-87.630489, 41.907554], [-87.643222, 41.899289], [-87.639124, 41.887138], [-87.622301, 41.883249], [-87.609568, 41.891509], [-87.613658, 41.903663], [-87.630489, 41.907554]]], &quot;type&quot;: &quot;Polygon&quot;}, &quot;id&quot;: &quot;872664c1effffff&quot;, &quot;properties&quot;: {&quot;avg_time&quot;: 0.0036384613456089047, &quot;resolution&quot;: 7}, &quot;type&quot;: &quot;Feature&quot;}, {&quot;geometry&quot;: {&quot;coordinates&quot;: [[[-87.663743, 41.960069], [-87.676484, 41.951795], [-87.672373, 41.939638], [-87.655529, 41.935752], [-87.642788, 41.944022], [-87.646892, 41.956182], [-87.663743, 41.960069]]], &quot;type&quot;: &quot;Polygon&quot;}, &quot;id&quot;: &quot;872664c16ffffff&quot;, &quot;properties&quot;: {&quot;avg_time&quot;: 0.004966581652974388, &quot;resolution&quot;: 7}, &quot;type&quot;: &quot;Feature&quot;}, {&quot;geometry&quot;: {&quot;coordinates&quot;: [[[-87.705694, 41.992157], [-87.718435, 41.983875], [-87.714311, 41.971715], [-87.697453, 41.967836], [-87.684712, 41.976114], [-87.68883, 41.988275], [-87.705694, 41.992157]]], &quot;type&quot;: &quot;Polygon&quot;}, &quot;id&quot;: &quot;872664d8affffff&quot;, &quot;properties&quot;: {&quot;avg_time&quot;: 0.005519179703397422, &quot;resolution&quot;: 7}, &quot;type&quot;: &quot;Feature&quot;}, {&quot;geometry&quot;: {&quot;coordinates&quot;: [[[-87.722919, 41.951279], [-87.735644, 41.943], [-87.731519, 41.930847], [-87.714676, 41.926971], [-87.70195, 41.935246], [-87.706068, 41.947401], [-87.722919, 41.951279]]], &quot;type&quot;: &quot;Polygon&quot;}, &quot;id&quot;: &quot;872664ca0ffffff&quot;, &quot;properties&quot;: {&quot;avg_time&quot;: 0.009450609598429964, &quot;resolution&quot;: 7}, &quot;type&quot;: &quot;Feature&quot;}, {&quot;geometry&quot;: {&quot;coordinates&quot;: [[[-87.677286, 41.862347], [-87.689997, 41.854083], [-87.685891, 41.841941], [-87.669082, 41.83806], [-87.656371, 41.84632], [-87.66047, 41.858465], [-87.677286, 41.862347]]], &quot;type&quot;: &quot;Polygon&quot;}, &quot;id&quot;: &quot;872664cf6ffffff&quot;, &quot;properties&quot;: {&quot;avg_time&quot;: 0.004626275437072155, &quot;resolution&quot;: 7}, &quot;type&quot;: &quot;Feature&quot;}, {&quot;geometry&quot;: {&quot;coordinates&quot;: [[[-87.764897, 41.98334], [-87.777622, 41.975053], [-87.773484, 41.962898], [-87.756627, 41.959027], [-87.743901, 41.96731], [-87.748033, 41.979468], [-87.764897, 41.98334]]], &quot;type&quot;: &quot;Polygon&quot;}, &quot;id&quot;: &quot;872664d9bffffff&quot;, &quot;properties&quot;: {&quot;avg_time&quot;: 0.006361258304724633, &quot;resolution&quot;: 7}, &quot;type&quot;: &quot;Feature&quot;}, {&quot;geometry&quot;: {&quot;coordinates&quot;: [[[-87.706813, 41.857961], [-87.719516, 41.849695], [-87.715404, 41.837554], [-87.698595, 41.833678], [-87.685891, 41.841941], [-87.689997, 41.854083], [-87.706813, 41.857961]]], &quot;type&quot;: &quot;Polygon&quot;}, &quot;id&quot;: &quot;872664c8dffffff&quot;, &quot;properties&quot;: {&quot;avg_time&quot;: 0.005477309947175425, &quot;resolution&quot;: 7}, &quot;type&quot;: &quot;Feature&quot;}, {&quot;geometry&quot;: {&quot;coordinates&quot;: [[[-87.56928, 41.725413], [-87.581975, 41.717176], [-87.577909, 41.705047], [-87.561154, 41.701153], [-87.548458, 41.709387], [-87.552518, 41.721518], [-87.56928, 41.725413]]], &quot;type&quot;: &quot;Polygon&quot;}, &quot;id&quot;: &quot;872664cc9ffffff&quot;, &quot;properties&quot;: {&quot;avg_time&quot;: 0.0039612794612794615, &quot;resolution&quot;: 7}, &quot;type&quot;: &quot;Feature&quot;}, {&quot;geometry&quot;: {&quot;coordinates&quot;: [[[-87.845091, 41.99051], [-87.857801, 41.982214], [-87.853642, 41.970062], [-87.836778, 41.966204], [-87.824068, 41.974495], [-87.82822, 41.98665], [-87.845091, 41.99051]]], &quot;type&quot;: &quot;Polygon&quot;}, &quot;id&quot;: &quot;87275936bffffff&quot;, &quot;properties&quot;: {&quot;avg_time&quot;: 0.006745101770415316, &quot;resolution&quot;: 7}, &quot;type&quot;: &quot;Feature&quot;}, {&quot;geometry&quot;: {&quot;coordinates&quot;: [[[-87.640433, 41.753101], [-87.653122, 41.744853], [-87.649035, 41.732724], [-87.632267, 41.72884], [-87.619579, 41.737084], [-87.623658, 41.749216], [-87.640433, 41.753101]]], &quot;type&quot;: &quot;Polygon&quot;}, &quot;id&quot;: &quot;872664cddffffff&quot;, &quot;properties&quot;: {&quot;avg_time&quot;: 0.007030830995253348, &quot;resolution&quot;: 7}, &quot;type&quot;: &quot;Feature&quot;}, {&quot;geometry&quot;: {&quot;coordinates&quot;: [[[-87.785906, 41.999368], [-87.798632, 41.991078], [-87.794486, 41.978921], [-87.777622, 41.975053], [-87.764897, 41.98334], [-87.769035, 41.995499], [-87.785906, 41.999368]]], &quot;type&quot;: &quot;Polygon&quot;}, &quot;id&quot;: &quot;872664d9affffff&quot;, &quot;properties&quot;: {&quot;avg_time&quot;: 0.006111903473688028, &quot;resolution&quot;: 7}, &quot;type&quot;: &quot;Feature&quot;}, {&quot;geometry&quot;: {&quot;coordinates&quot;: [[[-87.660053, 41.903175], [-87.672778, 41.894908], [-87.668673, 41.882759], [-87.65185, 41.878875], [-87.639124, 41.887138], [-87.643222, 41.899289], [-87.660053, 41.903175]]], &quot;type&quot;: &quot;Polygon&quot;}, &quot;id&quot;: &quot;872664cadffffff&quot;, &quot;properties&quot;: {&quot;avg_time&quot;: 0.003271797003412384, &quot;resolution&quot;: 7}, &quot;type&quot;: &quot;Feature&quot;}, {&quot;geometry&quot;: {&quot;coordinates&quot;: [[[-87.684712, 41.976114], [-87.697453, 41.967836], [-87.693335, 41.955677], [-87.676484, 41.951795], [-87.663743, 41.960069], [-87.667854, 41.972229], [-87.684712, 41.976114]]], &quot;type&quot;: &quot;Polygon&quot;}, &quot;id&quot;: &quot;872664d8bffffff&quot;, &quot;properties&quot;: {&quot;avg_time&quot;: 0.006570984480794368, &quot;resolution&quot;: 7}, &quot;type&quot;: &quot;Feature&quot;}, {&quot;geometry&quot;: {&quot;coordinates&quot;: [[[-87.719157, 41.894397], [-87.731867, 41.886126], [-87.727748, 41.87398], [-87.710925, 41.870105], [-87.698215, 41.878373], [-87.702327, 41.89052], [-87.719157, 41.894397]]], &quot;type&quot;: &quot;Polygon&quot;}, &quot;id&quot;: &quot;872664caaffffff&quot;, &quot;properties&quot;: {&quot;avg_time&quot;: 0.004299622755215821, &quot;resolution&quot;: 7}, &quot;type&quot;: &quot;Feature&quot;}, {&quot;geometry&quot;: {&quot;coordinates&quot;: [[[-87.827965, 42.03142], [-87.840691, 42.023121], [-87.836532, 42.010963], [-87.819654, 42.0071], [-87.806929, 42.015395], [-87.811081, 42.027556], [-87.827965, 42.03142]]], &quot;type&quot;: &quot;Polygon&quot;}, &quot;id&quot;: &quot;87275936cffffff&quot;, &quot;properties&quot;: {&quot;avg_time&quot;: 0.006491228070175439, &quot;resolution&quot;: 7}, &quot;type&quot;: &quot;Feature&quot;}, {&quot;geometry&quot;: {&quot;coordinates&quot;: [[[-87.581484, 41.761814], [-87.594187, 41.753571], [-87.590114, 41.741438], [-87.573346, 41.737545], [-87.560642, 41.745784], [-87.564708, 41.75792], [-87.581484, 41.761814]]], &quot;type&quot;: &quot;Polygon&quot;}, &quot;id&quot;: &quot;872664cccffffff&quot;, &quot;properties&quot;: {&quot;avg_time&quot;: 0.009737280963759457, &quot;resolution&quot;: 7}, &quot;type&quot;: &quot;Feature&quot;}, {&quot;geometry&quot;: {&quot;coordinates&quot;: [[[-87.741129, 41.776362], [-87.753802, 41.768101], [-87.749688, 41.755974], [-87.732907, 41.752105], [-87.720234, 41.760361], [-87.724341, 41.772491], [-87.741129, 41.776362]]], &quot;type&quot;: &quot;Polygon&quot;}, &quot;id&quot;: &quot;87266452cffffff&quot;, &quot;properties&quot;: {&quot;avg_time&quot;: 0.006666666666666666, &quot;resolution&quot;: 7}, &quot;type&quot;: &quot;Feature&quot;}, {&quot;geometry&quot;: {&quot;coordinates&quot;: [[[-87.652699, 41.789503], [-87.665395, 41.78125], [-87.661302, 41.769116], [-87.64452, 41.765233], [-87.631824, 41.773483], [-87.63591, 41.785618], [-87.652699, 41.789503]]], &quot;type&quot;: &quot;Polygon&quot;}, &quot;id&quot;: &quot;872664cc2ffffff&quot;, &quot;properties&quot;: {&quot;avg_time&quot;: 0.0034781266451397543, &quot;resolution&quot;: 7}, &quot;type&quot;: &quot;Feature&quot;}, {&quot;geometry&quot;: {&quot;coordinates&quot;: [[[-87.762037, 41.79236], [-87.774711, 41.784096], [-87.77059, 41.771967], [-87.753802, 41.768101], [-87.741129, 41.776362], [-87.745242, 41.788492], [-87.762037, 41.79236]]], &quot;type&quot;: &quot;Polygon&quot;}, &quot;id&quot;: &quot;872664521ffffff&quot;, &quot;properties&quot;: {&quot;avg_time&quot;: 0.00753258917165184, &quot;resolution&quot;: 7}, &quot;type&quot;: &quot;Feature&quot;}, {&quot;geometry&quot;: {&quot;coordinates&quot;: [[[-87.697071, 42.012603], [-87.709819, 42.00432], [-87.705694, 41.992157], [-87.68883, 41.988275], [-87.676082, 41.996555], [-87.680199, 42.008719], [-87.697071, 42.012603]]], &quot;type&quot;: &quot;Polygon&quot;}, &quot;id&quot;: &quot;872664d8effffff&quot;, &quot;properties&quot;: {&quot;avg_time&quot;: 0.005576774412557352, &quot;resolution&quot;: 7}, &quot;type&quot;: &quot;Feature&quot;}, {&quot;geometry&quot;: {&quot;coordinates&quot;: [[[-87.682183, 41.785129], [-87.694872, 41.776874], [-87.690772, 41.764742], [-87.67399, 41.760864], [-87.661302, 41.769116], [-87.665395, 41.78125], [-87.682183, 41.785129]]], &quot;type&quot;: &quot;Polygon&quot;}, &quot;id&quot;: &quot;872664cd1ffffff&quot;, &quot;properties&quot;: {&quot;avg_time&quot;: 0.007604256272401433, &quot;resolution&quot;: 7}, &quot;type&quot;: &quot;Feature&quot;}, {&quot;geometry&quot;: {&quot;coordinates&quot;: [[[-87.605949, 41.834657], [-87.618667, 41.826403], [-87.614581, 41.814261], [-87.597785, 41.81037], [-87.585067, 41.81862], [-87.589145, 41.830764], [-87.605949, 41.834657]]], &quot;type&quot;: &quot;Polygon&quot;}, &quot;id&quot;: &quot;872664ce2ffffff&quot;, &quot;properties&quot;: {&quot;avg_time&quot;: 0.005486080937966793, &quot;resolution&quot;: 7}, &quot;type&quot;: &quot;Feature&quot;}, {&quot;geometry&quot;: {&quot;coordinates&quot;: [[[-87.703078, 41.801141], [-87.715767, 41.792882], [-87.71166, 41.780749], [-87.694872, 41.776874], [-87.682183, 41.785129], [-87.686283, 41.797264], [-87.703078, 41.801141]]], &quot;type&quot;: &quot;Polygon&quot;}, &quot;id&quot;: &quot;872664cd0ffffff&quot;, &quot;properties&quot;: {&quot;avg_time&quot;: 0.004769089880173664, &quot;resolution&quot;: 7}, &quot;type&quot;: &quot;Feature&quot;}, {&quot;geometry&quot;: {&quot;coordinates&quot;: [[[-87.904243, 41.981624], [-87.916939, 41.973323], [-87.912765, 41.961175], [-87.895903, 41.957326], [-87.883207, 41.965622], [-87.887374, 41.977772], [-87.904243, 41.981624]]], &quot;type&quot;: &quot;Polygon&quot;}, &quot;id&quot;: &quot;87275934effffff&quot;, &quot;properties&quot;: {&quot;avg_time&quot;: 0.010034830232119962, &quot;resolution&quot;: 7}, &quot;type&quot;: &quot;Feature&quot;}, {&quot;geometry&quot;: {&quot;coordinates&quot;: [[[-87.668673, 41.882759], [-87.681392, 41.874493], [-87.677286, 41.862347], [-87.66047, 41.858465], [-87.647752, 41.866726], [-87.65185, 41.878875], [-87.668673, 41.882759]]], &quot;type&quot;: &quot;Polygon&quot;}, &quot;id&quot;: &quot;872664ca9ffffff&quot;, &quot;properties&quot;: {&quot;avg_time&quot;: 0.004047179040079047, &quot;resolution&quot;: 7}, &quot;type&quot;: &quot;Feature&quot;}, {&quot;geometry&quot;: {&quot;coordinates&quot;: [[[-87.685891, 41.841941], [-87.698595, 41.833678], [-87.694489, 41.821539], [-87.677686, 41.81766], [-87.664983, 41.825918], [-87.669082, 41.83806], [-87.685891, 41.841941]]], &quot;type&quot;: &quot;Polygon&quot;}, &quot;id&quot;: &quot;872664cf2ffffff&quot;, &quot;properties&quot;: {&quot;avg_time&quot;: 0.0075806750940512575, &quot;resolution&quot;: 7}, &quot;type&quot;: &quot;Feature&quot;}, {&quot;geometry&quot;: {&quot;coordinates&quot;: [[[-87.687064, 41.707984], [-87.69973, 41.699737], [-87.695635, 41.687616], [-87.678882, 41.683741], [-87.666215, 41.691984], [-87.670303, 41.704107], [-87.687064, 41.707984]]], &quot;type&quot;: &quot;Polygon&quot;}, &quot;id&quot;: &quot;872664575ffffff&quot;, &quot;properties&quot;: {&quot;avg_time&quot;: 0.0073901557606270395, &quot;resolution&quot;: 7}, &quot;type&quot;: &quot;Feature&quot;}, {&quot;geometry&quot;: {&quot;coordinates&quot;: [[[-87.649035, 41.732724], [-87.661716, 41.724478], [-87.657629, 41.712352], [-87.640868, 41.70847], [-87.628187, 41.716713], [-87.632267, 41.72884], [-87.649035, 41.732724]]], &quot;type&quot;: &quot;Polygon&quot;}, &quot;id&quot;: &quot;872664cd9ffffff&quot;, &quot;properties&quot;: {&quot;avg_time&quot;: 0.008834021226415094, &quot;resolution&quot;: 7}, &quot;type&quot;: &quot;Feature&quot;}, {&quot;geometry&quot;: {&quot;coordinates&quot;: [[[-87.621846, 41.927975], [-87.634587, 41.919708], [-87.630489, 41.907554], [-87.613658, 41.903663], [-87.600918, 41.911925], [-87.605008, 41.924082], [-87.621846, 41.927975]]], &quot;type&quot;: &quot;Polygon&quot;}, &quot;id&quot;: &quot;872664c11ffffff&quot;, &quot;properties&quot;: {&quot;avg_time&quot;: 0.004188725102358726, &quot;resolution&quot;: 7}, &quot;type&quot;: &quot;Feature&quot;}, {&quot;geometry&quot;: {&quot;coordinates&quot;: [[[-87.669897, 41.748734], [-87.682578, 41.740483], [-87.678484, 41.728356], [-87.661716, 41.724478], [-87.649035, 41.732724], [-87.653122, 41.744853], [-87.669897, 41.748734]]], &quot;type&quot;: &quot;Polygon&quot;}, &quot;id&quot;: &quot;872664cd8ffffff&quot;, &quot;properties&quot;: {&quot;avg_time&quot;: 0.005762916599226124, &quot;resolution&quot;: 7}, &quot;type&quot;: &quot;Feature&quot;}, {&quot;geometry&quot;: {&quot;coordinates&quot;: [[[-87.619579, 41.737084], [-87.632267, 41.72884], [-87.628187, 41.716713], [-87.611426, 41.712826], [-87.598737, 41.721066], [-87.60281, 41.733196], [-87.619579, 41.737084]]], &quot;type&quot;: &quot;Polygon&quot;}, &quot;id&quot;: &quot;872664ccaffffff&quot;, &quot;properties&quot;: {&quot;avg_time&quot;: 0.008703703703703705, &quot;resolution&quot;: 7}, &quot;type&quot;: &quot;Feature&quot;}, {&quot;geometry&quot;: {&quot;coordinates&quot;: [[[-87.753476, 41.812758], [-87.766158, 41.804492], [-87.762037, 41.79236], [-87.745242, 41.788492], [-87.732561, 41.796754], [-87.736675, 41.808888], [-87.753476, 41.812758]]], &quot;type&quot;: &quot;Polygon&quot;}, &quot;id&quot;: &quot;872664525ffffff&quot;, &quot;properties&quot;: {&quot;avg_time&quot;: 0.006210585948007606, &quot;resolution&quot;: 7}, &quot;type&quot;: &quot;Feature&quot;}, {&quot;geometry&quot;: {&quot;coordinates&quot;: [[[-87.71166, 41.780749], [-87.724341, 41.772491], [-87.720234, 41.760361], [-87.703453, 41.756488], [-87.690772, 41.764742], [-87.694872, 41.776874], [-87.71166, 41.780749]]], &quot;type&quot;: &quot;Polygon&quot;}, &quot;id&quot;: &quot;872664cd3ffffff&quot;, &quot;properties&quot;: {&quot;avg_time&quot;: 0.0005, &quot;resolution&quot;: 7}, &quot;type&quot;: &quot;Feature&quot;}, {&quot;geometry&quot;: {&quot;coordinates&quot;: [[[-87.769659, 41.906014], [-87.782362, 41.897736], [-87.778229, 41.885592], [-87.7614, 41.881724], [-87.748697, 41.889998], [-87.752823, 41.902144], [-87.769659, 41.906014]]], &quot;type&quot;: &quot;Polygon&quot;}, &quot;id&quot;: &quot;872664c80ffffff&quot;, &quot;properties&quot;: {&quot;avg_time&quot;: 0.0037209302325581393, &quot;resolution&quot;: 7}, &quot;type&quot;: &quot;Feature&quot;}, {&quot;geometry&quot;: {&quot;coordinates&quot;: [[[-87.585067, 41.81862], [-87.597785, 41.81037], [-87.593707, 41.798229], [-87.576917, 41.794335], [-87.564199, 41.802581], [-87.568271, 41.814724], [-87.585067, 41.81862]]], &quot;type&quot;: &quot;Polygon&quot;}, &quot;id&quot;: &quot;872664ce3ffffff&quot;, &quot;properties&quot;: {&quot;avg_time&quot;: 0.0070413906866860585, &quot;resolution&quot;: 7}, &quot;type&quot;: &quot;Feature&quot;}, {&quot;geometry&quot;: {&quot;coordinates&quot;: [[[-87.623207, 41.793869], [-87.63591, 41.785618], [-87.631824, 41.773483], [-87.615042, 41.769596], [-87.602338, 41.777842], [-87.606417, 41.78998], [-87.623207, 41.793869]]], &quot;type&quot;: &quot;Polygon&quot;}, &quot;id&quot;: &quot;872664cc0ffffff&quot;, &quot;properties&quot;: {&quot;avg_time&quot;: 0.00865457778978411, &quot;resolution&quot;: 7}, &quot;type&quot;: &quot;Feature&quot;}, {&quot;geometry&quot;: {&quot;coordinates&quot;: [[[-87.811623, 41.938041], [-87.824326, 41.929755], [-87.82018, 41.917609], [-87.803338, 41.913746], [-87.790634, 41.922028], [-87.794774, 41.934177], [-87.811623, 41.938041]]], &quot;type&quot;: &quot;Polygon&quot;}, &quot;id&quot;: &quot;872664cb3ffffff&quot;, &quot;properties&quot;: {&quot;avg_time&quot;: 0.004846364401273817, &quot;resolution&quot;: 7}, &quot;type&quot;: &quot;Feature&quot;}, {&quot;geometry&quot;: {&quot;coordinates&quot;: [[[-87.63547, 41.830291], [-87.64818, 41.822035], [-87.644088, 41.809895], [-87.627292, 41.806008], [-87.614581, 41.814261], [-87.618667, 41.826403], [-87.63547, 41.830291]]], &quot;type&quot;: &quot;Polygon&quot;}, &quot;id&quot;: &quot;872664cf1ffffff&quot;, &quot;properties&quot;: {&quot;avg_time&quot;: 0.005041822994775682, &quot;resolution&quot;: 7}, &quot;type&quot;: &quot;Feature&quot;}, {&quot;geometry&quot;: {&quot;coordinates&quot;: [[[-87.782063, 41.942461], [-87.794774, 41.934177], [-87.790634, 41.922028], [-87.773791, 41.918162], [-87.761081, 41.926441], [-87.765213, 41.938592], [-87.782063, 41.942461]]], &quot;type&quot;: &quot;Polygon&quot;}, &quot;id&quot;: &quot;872664cb1ffffff&quot;, &quot;properties&quot;: {&quot;avg_time&quot;: 0.004741250900220216, &quot;resolution&quot;: 7}, &quot;type&quot;: &quot;Feature&quot;}, {&quot;geometry&quot;: {&quot;coordinates&quot;: [[[-87.610962, 41.757461], [-87.623658, 41.749216], [-87.619579, 41.737084], [-87.60281, 41.733196], [-87.590114, 41.741438], [-87.594187, 41.753571], [-87.610962, 41.757461]]], &quot;type&quot;: &quot;Polygon&quot;}, &quot;id&quot;: &quot;872664cceffffff&quot;, &quot;properties&quot;: {&quot;avg_time&quot;: 0.0038021814264030235, &quot;resolution&quot;: 7}, &quot;type&quot;: &quot;Feature&quot;}, {&quot;geometry&quot;: {&quot;coordinates&quot;: [[[-87.740112, 41.91042], [-87.752823, 41.902144], [-87.748697, 41.889998], [-87.731867, 41.886126], [-87.719157, 41.894397], [-87.723275, 41.906546], [-87.740112, 41.91042]]], &quot;type&quot;: &quot;Polygon&quot;}, &quot;id&quot;: &quot;872664c85ffffff&quot;, &quot;properties&quot;: {&quot;avg_time&quot;: 0.005352919128462872, &quot;resolution&quot;: 7}, &quot;type&quot;: &quot;Feature&quot;}, {&quot;geometry&quot;: {&quot;coordinates&quot;: [[[-87.694489, 41.821539], [-87.707184, 41.813277], [-87.703078, 41.801141], [-87.686283, 41.797264], [-87.673587, 41.805521], [-87.677686, 41.81766], [-87.694489, 41.821539]]], &quot;type&quot;: &quot;Polygon&quot;}, &quot;id&quot;: &quot;872664cd4ffffff&quot;, &quot;properties&quot;: {&quot;avg_time&quot;: 0.008310341698876731, &quot;resolution&quot;: 7}, &quot;type&quot;: &quot;Feature&quot;}, {&quot;geometry&quot;: {&quot;coordinates&quot;: [[[-87.690772, 41.764742], [-87.703453, 41.756488], [-87.699352, 41.74436], [-87.682578, 41.740483], [-87.669897, 41.748734], [-87.67399, 41.760864], [-87.690772, 41.764742]]], &quot;type&quot;: &quot;Polygon&quot;}, &quot;id&quot;: &quot;872664cdeffffff&quot;, &quot;properties&quot;: {&quot;avg_time&quot;: 0.00101056268797771, &quot;resolution&quot;: 7}, &quot;type&quot;: &quot;Feature&quot;}, {&quot;geometry&quot;: {&quot;coordinates&quot;: [[[-87.757274, 41.869581], [-87.76997, 41.861308], [-87.765843, 41.849168], [-87.749028, 41.845299], [-87.736332, 41.853568], [-87.740452, 41.86571], [-87.757274, 41.869581]]], &quot;type&quot;: &quot;Polygon&quot;}, &quot;id&quot;: &quot;872664c8effffff&quot;, &quot;properties&quot;: {&quot;avg_time&quot;: 0.009185995332353009, &quot;resolution&quot;: 7}, &quot;type&quot;: &quot;Feature&quot;}, {&quot;geometry&quot;: {&quot;coordinates&quot;: [[[-87.602338, 41.777842], [-87.615042, 41.769596], [-87.610962, 41.757461], [-87.594187, 41.753571], [-87.581484, 41.761814], [-87.585556, 41.773951], [-87.602338, 41.777842]]], &quot;type&quot;: &quot;Polygon&quot;}, &quot;id&quot;: &quot;872664cc1ffffff&quot;, &quot;properties&quot;: {&quot;avg_time&quot;: 0.007470419678431844, &quot;resolution&quot;: 7}, &quot;type&quot;: &quot;Feature&quot;}, {&quot;geometry&quot;: {&quot;coordinates&quot;: [[[-87.678484, 41.728356], [-87.691158, 41.720108], [-87.687064, 41.707984], [-87.670303, 41.704107], [-87.657629, 41.712352], [-87.661716, 41.724478], [-87.678484, 41.728356]]], &quot;type&quot;: &quot;Polygon&quot;}, &quot;id&quot;: &quot;872664cdbffffff&quot;, &quot;properties&quot;: {&quot;avg_time&quot;: 0.005714460270911883, &quot;resolution&quot;: 7}, &quot;type&quot;: &quot;Feature&quot;}, {&quot;geometry&quot;: {&quot;coordinates&quot;: [[[-87.744908, 41.833161], [-87.757597, 41.824893], [-87.753476, 41.812758], [-87.736675, 41.808888], [-87.723986, 41.817152], [-87.728099, 41.829289], [-87.744908, 41.833161]]], &quot;type&quot;: &quot;Polygon&quot;}, &quot;id&quot;: &quot;872664c8bffffff&quot;, &quot;properties&quot;: {&quot;avg_time&quot;: 0.009259259259259259, &quot;resolution&quot;: 7}, &quot;type&quot;: &quot;Feature&quot;}, {&quot;geometry&quot;: {&quot;coordinates&quot;: [[[-87.626843, 41.850692], [-87.639562, 41.842435], [-87.63547, 41.830291], [-87.618667, 41.826403], [-87.605949, 41.834657], [-87.610033, 41.846803], [-87.626843, 41.850692]]], &quot;type&quot;: &quot;Polygon&quot;}, &quot;id&quot;: &quot;872664cf5ffffff&quot;, &quot;properties&quot;: {&quot;avg_time&quot;: 0.005618660102266807, &quot;resolution&quot;: 7}, &quot;type&quot;: &quot;Feature&quot;}, {&quot;geometry&quot;: {&quot;coordinates&quot;: [[[-87.778229, 41.885592], [-87.790925, 41.877315], [-87.786792, 41.865174], [-87.76997, 41.861308], [-87.757274, 41.869581], [-87.7614, 41.881724], [-87.778229, 41.885592]]], &quot;type&quot;: &quot;Polygon&quot;}, &quot;id&quot;: &quot;872664c83ffffff&quot;, &quot;properties&quot;: {&quot;avg_time&quot;: 0.007857142857142858, &quot;resolution&quot;: 7}, &quot;type&quot;: &quot;Feature&quot;}, {&quot;geometry&quot;: {&quot;coordinates&quot;: [[[-87.727748, 41.87398], [-87.740452, 41.86571], [-87.736332, 41.853568], [-87.719516, 41.849695], [-87.706813, 41.857961], [-87.710925, 41.870105], [-87.727748, 41.87398]]], &quot;type&quot;: &quot;Polygon&quot;}, &quot;id&quot;: &quot;872664c8cffffff&quot;, &quot;properties&quot;: {&quot;avg_time&quot;: 0.005653969084879751, &quot;resolution&quot;: 7}, &quot;type&quot;: &quot;Feature&quot;}, {&quot;geometry&quot;: {&quot;coordinates&quot;: [[[-87.72669, 42.008198], [-87.739431, 41.999913], [-87.7353, 41.987752], [-87.718435, 41.983875], [-87.705694, 41.992157], [-87.709819, 42.00432], [-87.72669, 42.008198]]], &quot;type&quot;: &quot;Polygon&quot;}, &quot;id&quot;: &quot;872664d9dffffff&quot;, &quot;properties&quot;: {&quot;avg_time&quot;: 0.006211469939328902, &quot;resolution&quot;: 7}, &quot;type&quot;: &quot;Feature&quot;}, {&quot;geometry&quot;: {&quot;coordinates&quot;: [[[-87.644088, 41.809895], [-87.656791, 41.80164], [-87.652699, 41.789503], [-87.63591, 41.785618], [-87.623207, 41.793869], [-87.627292, 41.806008], [-87.644088, 41.809895]]], &quot;type&quot;: &quot;Polygon&quot;}, &quot;id&quot;: &quot;872664cc6ffffff&quot;, &quot;properties&quot;: {&quot;avg_time&quot;: 0.009117913832199545, &quot;resolution&quot;: 7}, &quot;type&quot;: &quot;Feature&quot;}, {&quot;geometry&quot;: {&quot;coordinates&quot;: [[[-87.639124, 41.887138], [-87.65185, 41.878875], [-87.647752, 41.866726], [-87.630935, 41.862839], [-87.618209, 41.871098], [-87.622301, 41.883249], [-87.639124, 41.887138]]], &quot;type&quot;: &quot;Polygon&quot;}, &quot;id&quot;: &quot;872664c1affffff&quot;, &quot;properties&quot;: {&quot;avg_time&quot;: 0.003490706769937254, &quot;resolution&quot;: 7}, &quot;type&quot;: &quot;Feature&quot;}, {&quot;geometry&quot;: {&quot;coordinates&quot;: [[[-87.688439, 42.033054], [-87.701194, 42.024769], [-87.697071, 42.012603], [-87.680199, 42.008719], [-87.667443, 42.017], [-87.67156, 42.029168], [-87.688439, 42.033054]]], &quot;type&quot;: &quot;Polygon&quot;}, &quot;id&quot;: &quot;872664d81ffffff&quot;, &quot;properties&quot;: {&quot;avg_time&quot;: 0.005536334638141254, &quot;resolution&quot;: 7}, &quot;type&quot;: &quot;Feature&quot;}, {&quot;geometry&quot;: {&quot;coordinates&quot;: [[[-87.657629, 41.712352], [-87.670303, 41.704107], [-87.666215, 41.691984], [-87.649461, 41.688105], [-87.636788, 41.696345], [-87.640868, 41.70847], [-87.657629, 41.712352]]], &quot;type&quot;: &quot;Polygon&quot;}, &quot;id&quot;: &quot;872664566ffffff&quot;, &quot;properties&quot;: {&quot;avg_time&quot;: 0.008897849462365591, &quot;resolution&quot;: 7}, &quot;type&quot;: &quot;Feature&quot;}, {&quot;geometry&quot;: {&quot;coordinates&quot;: [[[-87.664983, 41.825918], [-87.677686, 41.81766], [-87.673587, 41.805521], [-87.656791, 41.80164], [-87.644088, 41.809895], [-87.64818, 41.822035], [-87.664983, 41.825918]]], &quot;type&quot;: &quot;Polygon&quot;}, &quot;id&quot;: &quot;872664cf3ffffff&quot;, &quot;properties&quot;: {&quot;avg_time&quot;: 0.007022591076370088, &quot;resolution&quot;: 7}, &quot;type&quot;: &quot;Feature&quot;}, {&quot;geometry&quot;: {&quot;coordinates&quot;: [[[-87.672373, 41.939638], [-87.685106, 41.931365], [-87.680995, 41.919211], [-87.664157, 41.915328], [-87.651424, 41.923596], [-87.655529, 41.935752], [-87.672373, 41.939638]]], &quot;type&quot;: &quot;Polygon&quot;}, &quot;id&quot;: &quot;872664c12ffffff&quot;, &quot;properties&quot;: {&quot;avg_time&quot;: 0.004930047241793334, &quot;resolution&quot;: 7}, &quot;type&quot;: &quot;Feature&quot;}, {&quot;geometry&quot;: {&quot;coordinates&quot;: [[[-87.666215, 41.691984], [-87.678882, 41.683741], [-87.674794, 41.671622], [-87.658047, 41.667744], [-87.64538, 41.675983], [-87.649461, 41.688105], [-87.666215, 41.691984]]], &quot;type&quot;: &quot;Polygon&quot;}, &quot;id&quot;: &quot;872664562ffffff&quot;, &quot;properties&quot;: {&quot;avg_time&quot;: 0.006680068226120857, &quot;resolution&quot;: 7}, &quot;type&quot;: &quot;Feature&quot;}, {&quot;geometry&quot;: {&quot;coordinates&quot;: [[[-87.710557, 41.914819], [-87.723275, 41.906546], [-87.719157, 41.894397], [-87.702327, 41.89052], [-87.689609, 41.89879], [-87.69372, 41.91094], [-87.710557, 41.914819]]], &quot;type&quot;: &quot;Polygon&quot;}, &quot;id&quot;: &quot;872664caeffffff&quot;, &quot;properties&quot;: {&quot;avg_time&quot;: 0.004263088227123941, &quot;resolution&quot;: 7}, &quot;type&quot;: &quot;Feature&quot;}, {&quot;geometry&quot;: {&quot;coordinates&quot;: [[[-87.91677, 42.018081], [-87.929473, 42.009776], [-87.925293, 41.997623], [-87.908417, 41.993775], [-87.895714, 42.002077], [-87.899887, 42.014231], [-87.91677, 42.018081]]], &quot;type&quot;: &quot;Polygon&quot;}, &quot;id&quot;: &quot;872759340ffffff&quot;, &quot;properties&quot;: {&quot;avg_time&quot;: 0.005748648463326964, &quot;resolution&quot;: 7}, &quot;type&quot;: &quot;Feature&quot;}, {&quot;geometry&quot;: {&quot;coordinates&quot;: [[[-87.715404, 41.837554], [-87.728099, 41.829289], [-87.723986, 41.817152], [-87.707184, 41.813277], [-87.694489, 41.821539], [-87.698595, 41.833678], [-87.715404, 41.837554]]], &quot;type&quot;: &quot;Polygon&quot;}, &quot;id&quot;: &quot;872664c89ffffff&quot;, &quot;properties&quot;: {&quot;avg_time&quot;: 0.005074852171967089, &quot;resolution&quot;: 7}, &quot;type&quot;: &quot;Feature&quot;}], &quot;type&quot;: &quot;FeatureCollection&quot;});\n",
       "\n",
       "        \n",
       "&lt;/script&gt;\n",
       "&lt;/html&gt;\" style=\"position:absolute;width:100%;height:100%;left:0;top:0;border:none !important;\" allowfullscreen webkitallowfullscreen mozallowfullscreen></iframe></div></div>"
      ],
      "text/plain": [
       "<folium.folium.Map at 0x7f822777d130>"
      ]
     },
     "execution_count": 48,
     "metadata": {},
     "output_type": "execute_result"
    }
   ],
   "source": [
    "m"
   ]
  },
  {
   "cell_type": "markdown",
   "id": "bb128026",
   "metadata": {},
   "source": [
    "## Calculating idle time of each trip"
   ]
  },
  {
   "cell_type": "code",
   "execution_count": 52,
   "id": "4ba39c91",
   "metadata": {},
   "outputs": [
    {
     "ename": "AttributeError",
     "evalue": "'DataFrameLocal' object has no attribute 'merge'",
     "output_type": "error",
     "traceback": [
      "\u001b[0;31m---------------------------------------------------------------------------\u001b[0m",
      "\u001b[0;31mAttributeError\u001b[0m                            Traceback (most recent call last)",
      "\u001b[0;32m/var/folders/hq/f9hjcnyx11b9j8sjwvfmz1lc0000gn/T/ipykernel_31286/892779878.py\u001b[0m in \u001b[0;36m<module>\u001b[0;34m\u001b[0m\n\u001b[0;32m----> 1\u001b[0;31m \u001b[0mmerged_df\u001b[0m \u001b[0;34m=\u001b[0m \u001b[0mdf_compromised\u001b[0m\u001b[0;34m.\u001b[0m\u001b[0mmerge\u001b[0m\u001b[0;34m(\u001b[0m\u001b[0mdf_time\u001b[0m\u001b[0;34m,\u001b[0m \u001b[0mon\u001b[0m\u001b[0;34m=\u001b[0m\u001b[0;34m'dropoff_hex'\u001b[0m\u001b[0;34m,\u001b[0m \u001b[0mhow\u001b[0m\u001b[0;34m=\u001b[0m\u001b[0;34m'left'\u001b[0m\u001b[0;34m)\u001b[0m\u001b[0;34m\u001b[0m\u001b[0;34m\u001b[0m\u001b[0m\n\u001b[0m",
      "\u001b[0;32m~/opt/anaconda3/lib/python3.9/site-packages/vaex/dataframe.py\u001b[0m in \u001b[0;36m__getattr__\u001b[0;34m(self, name)\u001b[0m\n\u001b[1;32m    286\u001b[0m             \u001b[0;32mreturn\u001b[0m \u001b[0mself\u001b[0m\u001b[0;34m.\u001b[0m\u001b[0m__hidden__\u001b[0m\u001b[0;34m[\u001b[0m\u001b[0mname\u001b[0m\u001b[0;34m]\u001b[0m\u001b[0;34m.\u001b[0m\u001b[0m__get__\u001b[0m\u001b[0;34m(\u001b[0m\u001b[0mself\u001b[0m\u001b[0;34m)\u001b[0m\u001b[0;34m\u001b[0m\u001b[0;34m\u001b[0m\u001b[0m\n\u001b[1;32m    287\u001b[0m         \u001b[0;32melse\u001b[0m\u001b[0;34m:\u001b[0m\u001b[0;34m\u001b[0m\u001b[0;34m\u001b[0m\u001b[0m\n\u001b[0;32m--> 288\u001b[0;31m             \u001b[0;32mreturn\u001b[0m \u001b[0mobject\u001b[0m\u001b[0;34m.\u001b[0m\u001b[0m__getattribute__\u001b[0m\u001b[0;34m(\u001b[0m\u001b[0mself\u001b[0m\u001b[0;34m,\u001b[0m \u001b[0mname\u001b[0m\u001b[0;34m)\u001b[0m\u001b[0;34m\u001b[0m\u001b[0;34m\u001b[0m\u001b[0m\n\u001b[0m\u001b[1;32m    289\u001b[0m \u001b[0;34m\u001b[0m\u001b[0m\n\u001b[1;32m    290\u001b[0m     \u001b[0;32mdef\u001b[0m \u001b[0m_ipython_key_completions_\u001b[0m\u001b[0;34m(\u001b[0m\u001b[0mself\u001b[0m\u001b[0;34m)\u001b[0m\u001b[0;34m:\u001b[0m\u001b[0;34m\u001b[0m\u001b[0;34m\u001b[0m\u001b[0m\n",
      "\u001b[0;31mAttributeError\u001b[0m: 'DataFrameLocal' object has no attribute 'merge'"
     ]
    }
   ],
   "source": [
    "merged_df = df_compromised.merge(df_time, on='dropoff_hex', how='left')"
   ]
  },
  {
   "cell_type": "code",
   "execution_count": 53,
   "id": "131c0abc",
   "metadata": {},
   "outputs": [],
   "source": [
    "merged_df = df_compromised.join(df_time, on='dropoff_hex', how='left')"
   ]
  },
  {
   "cell_type": "code",
   "execution_count": 54,
   "id": "0f09a8ec",
   "metadata": {},
   "outputs": [
    {
     "data": {
      "text/html": [
       "<table>\n",
       "<thead>\n",
       "<tr><th>#                            </th><th>dropoff_hex    </th><th style=\"text-align: right;\">  trip_seconds</th><th style=\"text-align: right;\">  trip_miles</th><th style=\"text-align: right;\">  Avg_time_per_mile</th><th>Geometry                                           </th></tr>\n",
       "</thead>\n",
       "<tbody>\n",
       "<tr><td><i style='opacity: 0.6'>0</i></td><td>872664cadffffff</td><td style=\"text-align: right;\">           240</td><td style=\"text-align: right;\">         1.3</td><td style=\"text-align: right;\">         0.0032718 </td><td>&#x27;&lt;POLYGON ((-87.66 41.903, -87.673 41.895, -87.6...</td></tr>\n",
       "<tr><td><i style='opacity: 0.6'>1</i></td><td>872664c1effffff</td><td style=\"text-align: right;\">          1500</td><td style=\"text-align: right;\">         0.4</td><td style=\"text-align: right;\">         0.00363846</td><td>&#x27;&lt;POLYGON ((-87.63 41.908, -87.643 41.899, -87.6...</td></tr>\n",
       "<tr><td><i style='opacity: 0.6'>2</i></td><td>872664c1effffff</td><td style=\"text-align: right;\">          1620</td><td style=\"text-align: right;\">         0.9</td><td style=\"text-align: right;\">         0.00363846</td><td>&#x27;&lt;POLYGON ((-87.63 41.908, -87.643 41.899, -87.6...</td></tr>\n",
       "<tr><td><i style='opacity: 0.6'>3</i></td><td>872664c1effffff</td><td style=\"text-align: right;\">           540</td><td style=\"text-align: right;\">         1  </td><td style=\"text-align: right;\">         0.00363846</td><td>&#x27;&lt;POLYGON ((-87.63 41.908, -87.643 41.899, -87.6...</td></tr>\n",
       "<tr><td><i style='opacity: 0.6'>4</i></td><td>872664c1effffff</td><td style=\"text-align: right;\">           480</td><td style=\"text-align: right;\">         0.5</td><td style=\"text-align: right;\">         0.00363846</td><td>&#x27;&lt;POLYGON ((-87.63 41.908, -87.643 41.899, -87.6...</td></tr>\n",
       "<tr><td><i style='opacity: 0.6'>5</i></td><td>872664c1effffff</td><td style=\"text-align: right;\">          1980</td><td style=\"text-align: right;\">         3.4</td><td style=\"text-align: right;\">         0.00363846</td><td>&#x27;&lt;POLYGON ((-87.63 41.908, -87.643 41.899, -87.6...</td></tr>\n",
       "<tr><td><i style='opacity: 0.6'>6</i></td><td>872664c16ffffff</td><td style=\"text-align: right;\">           960</td><td style=\"text-align: right;\">         5.9</td><td style=\"text-align: right;\">         0.00496658</td><td>&#x27;&lt;POLYGON ((-87.664 41.96, -87.676 41.952, -87.6...</td></tr>\n",
       "<tr><td><i style='opacity: 0.6'>7</i></td><td>872664c1effffff</td><td style=\"text-align: right;\">           780</td><td style=\"text-align: right;\">         0.1</td><td style=\"text-align: right;\">         0.00363846</td><td>&#x27;&lt;POLYGON ((-87.63 41.908, -87.643 41.899, -87.6...</td></tr>\n",
       "<tr><td><i style='opacity: 0.6'>8</i></td><td>872664c1affffff</td><td style=\"text-align: right;\">           120</td><td style=\"text-align: right;\">         0.4</td><td style=\"text-align: right;\">         0.00349071</td><td>&#x27;&lt;POLYGON ((-87.639 41.887, -87.652 41.879, -87....</td></tr>\n",
       "<tr><td><i style='opacity: 0.6'>9</i></td><td>872664cadffffff</td><td style=\"text-align: right;\">           180</td><td style=\"text-align: right;\">         0.7</td><td style=\"text-align: right;\">         0.0032718 </td><td>&#x27;&lt;POLYGON ((-87.66 41.903, -87.673 41.895, -87.6...</td></tr>\n",
       "</tbody>\n",
       "</table>"
      ],
      "text/plain": [
       "  #  dropoff_hex        trip_seconds    trip_miles    Avg_time_per_mile  Geometry\n",
       "  0  872664cadffffff             240           1.3           0.0032718   '<POLYGON ((-87.66 41.903, -87.673 41.895, -87.6...\n",
       "  1  872664c1effffff            1500           0.4           0.00363846  '<POLYGON ((-87.63 41.908, -87.643 41.899, -87.6...\n",
       "  2  872664c1effffff            1620           0.9           0.00363846  '<POLYGON ((-87.63 41.908, -87.643 41.899, -87.6...\n",
       "  3  872664c1effffff             540           1             0.00363846  '<POLYGON ((-87.63 41.908, -87.643 41.899, -87.6...\n",
       "  4  872664c1effffff             480           0.5           0.00363846  '<POLYGON ((-87.63 41.908, -87.643 41.899, -87.6...\n",
       "  5  872664c1effffff            1980           3.4           0.00363846  '<POLYGON ((-87.63 41.908, -87.643 41.899, -87.6...\n",
       "  6  872664c16ffffff             960           5.9           0.00496658  '<POLYGON ((-87.664 41.96, -87.676 41.952, -87.6...\n",
       "  7  872664c1effffff             780           0.1           0.00363846  '<POLYGON ((-87.63 41.908, -87.643 41.899, -87.6...\n",
       "  8  872664c1affffff             120           0.4           0.00349071  '<POLYGON ((-87.639 41.887, -87.652 41.879, -87....\n",
       "  9  872664cadffffff             180           0.7           0.0032718   '<POLYGON ((-87.66 41.903, -87.673 41.895, -87.6..."
      ]
     },
     "execution_count": 54,
     "metadata": {},
     "output_type": "execute_result"
    }
   ],
   "source": [
    "merged_df.head()"
   ]
  },
  {
   "cell_type": "code",
   "execution_count": null,
   "id": "b5749bd7",
   "metadata": {},
   "outputs": [],
   "source": [
    "# wieder time per mile für jeden trip bestimmen \n",
    "# von jeder time per mile, avg time per mile subtrahieren => = expected time - actual time\n",
    "# groupen, nach avg. unterschied zum durchschnitt \n",
    "# Auf map anzeigen"
   ]
  }
 ],
 "metadata": {
  "kernelspec": {
   "display_name": "Python 3 (ipykernel)",
   "language": "python",
   "name": "python3"
  },
  "language_info": {
   "codemirror_mode": {
    "name": "ipython",
    "version": 3
   },
   "file_extension": ".py",
   "mimetype": "text/x-python",
   "name": "python",
   "nbconvert_exporter": "python",
   "pygments_lexer": "ipython3",
   "version": "3.10.6"
  }
 },
 "nbformat": 4,
 "nbformat_minor": 5
}
