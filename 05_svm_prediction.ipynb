{
 "cells": [
  {
   "cell_type": "code",
   "execution_count": 89,
   "id": "9d7b1c2d-baf2-4963-97f7-401930a12cc0",
   "metadata": {},
   "outputs": [],
   "source": [
    "import pandas as pd\n",
    "import matplotlib.pyplot as plt\n",
    "from sklearn.model_selection import GridSearchCV\n",
    "from sklearn.svm import SVR\n",
    "from sklearn.preprocessing import TargetEncoder, StandardScaler\n",
    "import numpy as np\n",
    "from sklearn.svm import SVR\n",
    "from sklearn.metrics import mean_squared_error"
   ]
  },
  {
   "cell_type": "code",
   "execution_count": 118,
   "id": "8c2b9921-e9a1-4982-8575-10e91dfd0b09",
   "metadata": {},
   "outputs": [],
   "source": [
    "KERNELS = ['linear', 'poly', 'rbf', 'sigmoid']\n",
    "\n",
    "# resolution 0 is census tracts\n",
    "RESOLUTIONS = [0, 3, 4, 5, 6, 7, 8, 9]\n",
    "TARGETS = ['demand_target_bucket_1', 'demand_target_bucket_2', 'demand_target_bucket_6', 'demand_target_bucket_24']"
   ]
  },
  {
   "cell_type": "code",
   "execution_count": 82,
   "id": "858b7f49-ec1c-48c6-8bf0-1c198927264a",
   "metadata": {},
   "outputs": [],
   "source": [
    "FEATURES = ['trip_start_hour', 'trip_start_month',\n",
    "       'trip_start_day', 'temp', 'humidity', 'wind_speed',\n",
    "       'wind_gust', 'pressure', 'precip', 'Clear/Sunny',\n",
    "       'Cloudy', 'Other', 'Rain/Storms',\n",
    "       'Snow/Winter Conditions', 'temp_h-1', 'precip_h-1', 'autumn',\n",
    "       'spring', 'summer', 'winter', 'weekend',\n",
    "       'afternoon_week', 'afternoon_weekend', 'evening_week',\n",
    "       'evening_weekend', 'morning_week', 'morning_weekend', 'night_week',\n",
    "       'night_weekend', 'is_holiday', 'demand_h-1', 'demand_h-2',\n",
    "       'demand_h-24', 'demand_p-24', 'demand_bucket_2', 'demand_bucket_6',\n",
    "       'demand_bucket_24']"
   ]
  },
  {
   "cell_type": "code",
   "execution_count": 67,
   "id": "3abbf645-f949-495d-98f6-a2fd5ae05a18",
   "metadata": {},
   "outputs": [],
   "source": [
    "def get_X_y(df, prediction_horizon):\n",
    "    y = df[f'demand_target_bucket_{prediction_horizon}']\n",
    "    X = df[FEATURES +[f'pickup_demand_target_bucket_{prediction_horizon}']]\n",
    "    \n",
    "    return X, y"
   ]
  },
  {
   "cell_type": "code",
   "execution_count": 73,
   "id": "ee077198-338c-4543-92f9-492e280ca065",
   "metadata": {},
   "outputs": [],
   "source": [
    "def scale_data(X_train, X_test=None):\n",
    "    # Create the scaler\n",
    "    scaler = StandardScaler()\n",
    "\n",
    "    # Fit the scaler using the training data\n",
    "    scaler.fit(X_train)\n",
    "\n",
    "    # Transform both the training and test data\n",
    "    X_train_scaled = scaler.transform(X_train)\n",
    "    if X_test:\n",
    "        X_test_scaled = scaler.transform(X_test)\n",
    "        return X_train_scaled, X_test_scaled\n",
    "    return X_train_scaled"
   ]
  },
  {
   "cell_type": "code",
   "execution_count": 72,
   "id": "13eb35fa-8f4e-4ced-b7d5-1c02e3436618",
   "metadata": {},
   "outputs": [],
   "source": [
    "def get_df_by_resolution(resolution, census=False):\n",
    "    if census:\n",
    "        df_train = pd.read_csv('./data/model_input/0_res_train.csv')\n",
    "        df_test = pd.read_csv('./data/model_input/0_res_test.csv')\n",
    "        return df_train, df_test\n",
    "    \n",
    "    df_train = pd.read_csv(f'./data/model_input/{resolution}_res_train.csv')\n",
    "    df_test = pd.read_csv(f'./data/model_input/{resolution}_res_test.csv')\n",
    "    return df_train, df_test\n",
    "    "
   ]
  },
  {
   "cell_type": "code",
   "execution_count": 79,
   "id": "eac6aa29-6c5e-4d32-9bfb-60df8e0e1e91",
   "metadata": {},
   "outputs": [
    {
     "data": {
      "text/plain": [
       "Index(['timestamp', 'pickup_loc', 'trip_start_hour', 'trip_start_month',\n",
       "       'trip_start_day', 'demand', 'temp', 'humidity', 'wind_speed',\n",
       "       'wind_gust', 'pressure', 'precip', 'Clear/Sunny', 'Cloudy', 'Other',\n",
       "       'Rain/Storms', 'Snow/Winter Conditions', 'temp_h-1', 'temp_h-2',\n",
       "       'temp_h-3', 'precip_h-1', 'precip_h-2', 'precip_h-3', 'autumn',\n",
       "       'spring', 'summer', 'winter', 'weekend', 'afternoon_week',\n",
       "       'afternoon_weekend', 'evening_week', 'evening_weekend', 'morning_week',\n",
       "       'morning_weekend', 'night_week', 'night_weekend', 'is_holiday',\n",
       "       'demand_h-1', 'demand_h-2', 'demand_h-24', 'demand_p-24',\n",
       "       'demand_bucket_2', 'demand_bucket_6', 'demand_bucket_24',\n",
       "       'demand_target_bucket_1', 'demand_target_bucket_2',\n",
       "       'demand_target_bucket_6', 'demand_target_bucket_24',\n",
       "       'pickup_demand_target_bucket_1', 'pickup_demand_target_bucket_2',\n",
       "       'pickup_demand_target_bucket_6', 'pickup_demand_target_bucket_24'],\n",
       "      dtype='object')"
      ]
     },
     "execution_count": 79,
     "metadata": {},
     "output_type": "execute_result"
    }
   ],
   "source": [
    "df_train.columns"
   ]
  },
  {
   "cell_type": "markdown",
   "id": "5d1368b8-1d7b-45db-b5c8-34c77510abe4",
   "metadata": {},
   "source": [
    "## Identify best Kernel"
   ]
  },
  {
   "cell_type": "code",
   "execution_count": 117,
   "id": "285d2940-d0f5-41c3-95b6-d926fb30c2ed",
   "metadata": {},
   "outputs": [
    {
     "name": "stdout",
     "output_type": "stream",
     "text": [
      "Fitting 5 folds for each of 18 candidates, totalling 90 fits\n",
      "[CV] END ...............................C=0.1, kernel=linear; total time=   6.3s\n",
      "[CV] END ...............................C=0.1, kernel=linear; total time=   5.5s\n",
      "[CV] END ...............................C=0.1, kernel=linear; total time=   5.3s\n",
      "[CV] END ...............................C=0.1, kernel=linear; total time=   5.3s\n",
      "[CV] END ...............................C=0.1, kernel=linear; total time=   5.5s\n",
      "[CV] END .................................C=1, kernel=linear; total time=   6.5s\n",
      "[CV] END .................................C=1, kernel=linear; total time=   5.7s\n",
      "[CV] END .................................C=1, kernel=linear; total time=   5.7s\n",
      "[CV] END .................................C=1, kernel=linear; total time=   5.6s\n",
      "[CV] END .................................C=1, kernel=linear; total time=   5.6s\n",
      "[CV] END ................................C=10, kernel=linear; total time=   8.1s\n",
      "[CV] END ................................C=10, kernel=linear; total time=   9.7s\n",
      "[CV] END ................................C=10, kernel=linear; total time=   9.4s\n",
      "[CV] END ................................C=10, kernel=linear; total time=   9.2s\n",
      "[CV] END ................................C=10, kernel=linear; total time=   9.2s\n",
      "[CV] END ..........C=0.1, degree=2, gamma=scale, kernel=poly; total time=   7.5s\n",
      "[CV] END ..........C=0.1, degree=2, gamma=scale, kernel=poly; total time=   6.3s\n",
      "[CV] END ..........C=0.1, degree=2, gamma=scale, kernel=poly; total time=   7.1s\n",
      "[CV] END ..........C=0.1, degree=2, gamma=scale, kernel=poly; total time=   5.8s\n",
      "[CV] END ..........C=0.1, degree=2, gamma=scale, kernel=poly; total time=   7.5s\n",
      "[CV] END ..........C=0.1, degree=3, gamma=scale, kernel=poly; total time=   7.4s\n",
      "[CV] END ..........C=0.1, degree=3, gamma=scale, kernel=poly; total time=   7.6s\n",
      "[CV] END ..........C=0.1, degree=3, gamma=scale, kernel=poly; total time=   7.6s\n",
      "[CV] END ..........C=0.1, degree=3, gamma=scale, kernel=poly; total time=   7.6s\n",
      "[CV] END ..........C=0.1, degree=3, gamma=scale, kernel=poly; total time=   7.6s\n",
      "[CV] END ............C=1, degree=2, gamma=scale, kernel=poly; total time=   7.5s\n",
      "[CV] END ............C=1, degree=2, gamma=scale, kernel=poly; total time=   7.6s\n",
      "[CV] END ............C=1, degree=2, gamma=scale, kernel=poly; total time=   7.5s\n",
      "[CV] END ............C=1, degree=2, gamma=scale, kernel=poly; total time=   7.5s\n",
      "[CV] END ............C=1, degree=2, gamma=scale, kernel=poly; total time=   7.6s\n",
      "[CV] END ............C=1, degree=3, gamma=scale, kernel=poly; total time=   7.6s\n",
      "[CV] END ............C=1, degree=3, gamma=scale, kernel=poly; total time=   7.7s\n",
      "[CV] END ............C=1, degree=3, gamma=scale, kernel=poly; total time=   7.5s\n",
      "[CV] END ............C=1, degree=3, gamma=scale, kernel=poly; total time=   7.4s\n",
      "[CV] END ............C=1, degree=3, gamma=scale, kernel=poly; total time=   7.3s\n",
      "[CV] END ...........C=10, degree=2, gamma=scale, kernel=poly; total time=   7.5s\n",
      "[CV] END ...........C=10, degree=2, gamma=scale, kernel=poly; total time=   7.7s\n",
      "[CV] END ...........C=10, degree=2, gamma=scale, kernel=poly; total time=   7.9s\n",
      "[CV] END ...........C=10, degree=2, gamma=scale, kernel=poly; total time=   7.8s\n",
      "[CV] END ...........C=10, degree=2, gamma=scale, kernel=poly; total time=   7.8s\n",
      "[CV] END ...........C=10, degree=3, gamma=scale, kernel=poly; total time=   8.1s\n",
      "[CV] END ...........C=10, degree=3, gamma=scale, kernel=poly; total time=   8.0s\n",
      "[CV] END ...........C=10, degree=3, gamma=scale, kernel=poly; total time=   7.9s\n",
      "[CV] END ...........C=10, degree=3, gamma=scale, kernel=poly; total time=   7.7s\n",
      "[CV] END ...........C=10, degree=3, gamma=scale, kernel=poly; total time=   7.8s\n",
      "[CV] END ......................C=0.1, gamma=auto, kernel=rbf; total time=  10.0s\n",
      "[CV] END ......................C=0.1, gamma=auto, kernel=rbf; total time=   9.9s\n",
      "[CV] END ......................C=0.1, gamma=auto, kernel=rbf; total time=   9.7s\n",
      "[CV] END ......................C=0.1, gamma=auto, kernel=rbf; total time=   9.7s\n",
      "[CV] END ......................C=0.1, gamma=auto, kernel=rbf; total time=   9.8s\n",
      "[CV] END .....................C=0.1, gamma=scale, kernel=rbf; total time=   9.5s\n",
      "[CV] END .....................C=0.1, gamma=scale, kernel=rbf; total time=   9.5s\n",
      "[CV] END .....................C=0.1, gamma=scale, kernel=rbf; total time=   8.1s\n",
      "[CV] END .....................C=0.1, gamma=scale, kernel=rbf; total time=   8.3s\n",
      "[CV] END .....................C=0.1, gamma=scale, kernel=rbf; total time=   9.7s\n",
      "[CV] END ........................C=1, gamma=auto, kernel=rbf; total time=   9.3s\n",
      "[CV] END ........................C=1, gamma=auto, kernel=rbf; total time=   9.5s\n",
      "[CV] END ........................C=1, gamma=auto, kernel=rbf; total time=   9.5s\n",
      "[CV] END ........................C=1, gamma=auto, kernel=rbf; total time=   9.5s\n",
      "[CV] END ........................C=1, gamma=auto, kernel=rbf; total time=   9.6s\n",
      "[CV] END .......................C=1, gamma=scale, kernel=rbf; total time=   9.4s\n",
      "[CV] END .......................C=1, gamma=scale, kernel=rbf; total time=   9.5s\n",
      "[CV] END .......................C=1, gamma=scale, kernel=rbf; total time=   9.6s\n",
      "[CV] END .......................C=1, gamma=scale, kernel=rbf; total time=   9.6s\n",
      "[CV] END .......................C=1, gamma=scale, kernel=rbf; total time=   9.6s\n",
      "[CV] END .......................C=10, gamma=auto, kernel=rbf; total time=   9.4s\n",
      "[CV] END .......................C=10, gamma=auto, kernel=rbf; total time=   9.5s\n",
      "[CV] END .......................C=10, gamma=auto, kernel=rbf; total time=   9.6s\n",
      "[CV] END .......................C=10, gamma=auto, kernel=rbf; total time=   9.5s\n",
      "[CV] END .......................C=10, gamma=auto, kernel=rbf; total time=   9.6s\n",
      "[CV] END ......................C=10, gamma=scale, kernel=rbf; total time=   9.6s\n",
      "[CV] END ......................C=10, gamma=scale, kernel=rbf; total time=   9.6s\n",
      "[CV] END ......................C=10, gamma=scale, kernel=rbf; total time=   9.6s\n",
      "[CV] END ......................C=10, gamma=scale, kernel=rbf; total time=   9.6s\n",
      "[CV] END ......................C=10, gamma=scale, kernel=rbf; total time=   9.6s\n",
      "[CV] END ..................C=0.1, gamma=auto, kernel=sigmoid; total time=  11.8s\n",
      "[CV] END ..................C=0.1, gamma=auto, kernel=sigmoid; total time=  11.8s\n",
      "[CV] END ..................C=0.1, gamma=auto, kernel=sigmoid; total time=  11.9s\n",
      "[CV] END ..................C=0.1, gamma=auto, kernel=sigmoid; total time=  12.0s\n",
      "[CV] END ..................C=0.1, gamma=auto, kernel=sigmoid; total time=  12.0s\n",
      "[CV] END ....................C=1, gamma=auto, kernel=sigmoid; total time=  11.2s\n",
      "[CV] END ....................C=1, gamma=auto, kernel=sigmoid; total time=  11.3s\n",
      "[CV] END ....................C=1, gamma=auto, kernel=sigmoid; total time=  11.3s\n",
      "[CV] END ....................C=1, gamma=auto, kernel=sigmoid; total time=  11.4s\n",
      "[CV] END ....................C=1, gamma=auto, kernel=sigmoid; total time=  11.4s\n",
      "[CV] END ...................C=10, gamma=auto, kernel=sigmoid; total time=  12.0s\n",
      "[CV] END ...................C=10, gamma=auto, kernel=sigmoid; total time=  12.4s\n",
      "[CV] END ...................C=10, gamma=auto, kernel=sigmoid; total time=  12.1s\n",
      "[CV] END ...................C=10, gamma=auto, kernel=sigmoid; total time=  12.1s\n",
      "[CV] END ...................C=10, gamma=auto, kernel=sigmoid; total time=  12.0s\n"
     ]
    },
    {
     "data": {
      "text/html": [
       "<style>#sk-container-id-3 {color: black;}#sk-container-id-3 pre{padding: 0;}#sk-container-id-3 div.sk-toggleable {background-color: white;}#sk-container-id-3 label.sk-toggleable__label {cursor: pointer;display: block;width: 100%;margin-bottom: 0;padding: 0.3em;box-sizing: border-box;text-align: center;}#sk-container-id-3 label.sk-toggleable__label-arrow:before {content: \"▸\";float: left;margin-right: 0.25em;color: #696969;}#sk-container-id-3 label.sk-toggleable__label-arrow:hover:before {color: black;}#sk-container-id-3 div.sk-estimator:hover label.sk-toggleable__label-arrow:before {color: black;}#sk-container-id-3 div.sk-toggleable__content {max-height: 0;max-width: 0;overflow: hidden;text-align: left;background-color: #f0f8ff;}#sk-container-id-3 div.sk-toggleable__content pre {margin: 0.2em;color: black;border-radius: 0.25em;background-color: #f0f8ff;}#sk-container-id-3 input.sk-toggleable__control:checked~div.sk-toggleable__content {max-height: 200px;max-width: 100%;overflow: auto;}#sk-container-id-3 input.sk-toggleable__control:checked~label.sk-toggleable__label-arrow:before {content: \"▾\";}#sk-container-id-3 div.sk-estimator input.sk-toggleable__control:checked~label.sk-toggleable__label {background-color: #d4ebff;}#sk-container-id-3 div.sk-label input.sk-toggleable__control:checked~label.sk-toggleable__label {background-color: #d4ebff;}#sk-container-id-3 input.sk-hidden--visually {border: 0;clip: rect(1px 1px 1px 1px);clip: rect(1px, 1px, 1px, 1px);height: 1px;margin: -1px;overflow: hidden;padding: 0;position: absolute;width: 1px;}#sk-container-id-3 div.sk-estimator {font-family: monospace;background-color: #f0f8ff;border: 1px dotted black;border-radius: 0.25em;box-sizing: border-box;margin-bottom: 0.5em;}#sk-container-id-3 div.sk-estimator:hover {background-color: #d4ebff;}#sk-container-id-3 div.sk-parallel-item::after {content: \"\";width: 100%;border-bottom: 1px solid gray;flex-grow: 1;}#sk-container-id-3 div.sk-label:hover label.sk-toggleable__label {background-color: #d4ebff;}#sk-container-id-3 div.sk-serial::before {content: \"\";position: absolute;border-left: 1px solid gray;box-sizing: border-box;top: 0;bottom: 0;left: 50%;z-index: 0;}#sk-container-id-3 div.sk-serial {display: flex;flex-direction: column;align-items: center;background-color: white;padding-right: 0.2em;padding-left: 0.2em;position: relative;}#sk-container-id-3 div.sk-item {position: relative;z-index: 1;}#sk-container-id-3 div.sk-parallel {display: flex;align-items: stretch;justify-content: center;background-color: white;position: relative;}#sk-container-id-3 div.sk-item::before, #sk-container-id-3 div.sk-parallel-item::before {content: \"\";position: absolute;border-left: 1px solid gray;box-sizing: border-box;top: 0;bottom: 0;left: 50%;z-index: -1;}#sk-container-id-3 div.sk-parallel-item {display: flex;flex-direction: column;z-index: 1;position: relative;background-color: white;}#sk-container-id-3 div.sk-parallel-item:first-child::after {align-self: flex-end;width: 50%;}#sk-container-id-3 div.sk-parallel-item:last-child::after {align-self: flex-start;width: 50%;}#sk-container-id-3 div.sk-parallel-item:only-child::after {width: 0;}#sk-container-id-3 div.sk-dashed-wrapped {border: 1px dashed gray;margin: 0 0.4em 0.5em 0.4em;box-sizing: border-box;padding-bottom: 0.4em;background-color: white;}#sk-container-id-3 div.sk-label label {font-family: monospace;font-weight: bold;display: inline-block;line-height: 1.2em;}#sk-container-id-3 div.sk-label-container {text-align: center;}#sk-container-id-3 div.sk-container {/* jupyter's `normalize.less` sets `[hidden] { display: none; }` but bootstrap.min.css set `[hidden] { display: none !important; }` so we also need the `!important` here to be able to override the default hidden behavior on the sphinx rendered scikit-learn.org. See: https://github.com/scikit-learn/scikit-learn/issues/21755 */display: inline-block !important;position: relative;}#sk-container-id-3 div.sk-text-repr-fallback {display: none;}</style><div id=\"sk-container-id-3\" class=\"sk-top-container\"><div class=\"sk-text-repr-fallback\"><pre>GridSearchCV(cv=5, estimator=SVR(),\n",
       "             param_grid=[{&#x27;C&#x27;: [0.1, 1, 10], &#x27;kernel&#x27;: [&#x27;linear&#x27;]},\n",
       "                         {&#x27;C&#x27;: [0.1, 1, 10], &#x27;degree&#x27;: [2, 3],\n",
       "                          &#x27;gamma&#x27;: [&#x27;scale&#x27;], &#x27;kernel&#x27;: [&#x27;poly&#x27;]},\n",
       "                         {&#x27;C&#x27;: [0.1, 1, 10], &#x27;gamma&#x27;: [&#x27;auto&#x27;, &#x27;scale&#x27;],\n",
       "                          &#x27;kernel&#x27;: [&#x27;rbf&#x27;]},\n",
       "                         {&#x27;C&#x27;: [0.1, 1, 10], &#x27;gamma&#x27;: [&#x27;auto&#x27;],\n",
       "                          &#x27;kernel&#x27;: [&#x27;sigmoid&#x27;]}],\n",
       "             scoring=&#x27;neg_root_mean_squared_error&#x27;, verbose=2)</pre><b>In a Jupyter environment, please rerun this cell to show the HTML representation or trust the notebook. <br />On GitHub, the HTML representation is unable to render, please try loading this page with nbviewer.org.</b></div><div class=\"sk-container\" hidden><div class=\"sk-item sk-dashed-wrapped\"><div class=\"sk-label-container\"><div class=\"sk-label sk-toggleable\"><input class=\"sk-toggleable__control sk-hidden--visually\" id=\"sk-estimator-id-7\" type=\"checkbox\" ><label for=\"sk-estimator-id-7\" class=\"sk-toggleable__label sk-toggleable__label-arrow\">GridSearchCV</label><div class=\"sk-toggleable__content\"><pre>GridSearchCV(cv=5, estimator=SVR(),\n",
       "             param_grid=[{&#x27;C&#x27;: [0.1, 1, 10], &#x27;kernel&#x27;: [&#x27;linear&#x27;]},\n",
       "                         {&#x27;C&#x27;: [0.1, 1, 10], &#x27;degree&#x27;: [2, 3],\n",
       "                          &#x27;gamma&#x27;: [&#x27;scale&#x27;], &#x27;kernel&#x27;: [&#x27;poly&#x27;]},\n",
       "                         {&#x27;C&#x27;: [0.1, 1, 10], &#x27;gamma&#x27;: [&#x27;auto&#x27;, &#x27;scale&#x27;],\n",
       "                          &#x27;kernel&#x27;: [&#x27;rbf&#x27;]},\n",
       "                         {&#x27;C&#x27;: [0.1, 1, 10], &#x27;gamma&#x27;: [&#x27;auto&#x27;],\n",
       "                          &#x27;kernel&#x27;: [&#x27;sigmoid&#x27;]}],\n",
       "             scoring=&#x27;neg_root_mean_squared_error&#x27;, verbose=2)</pre></div></div></div><div class=\"sk-parallel\"><div class=\"sk-parallel-item\"><div class=\"sk-item\"><div class=\"sk-label-container\"><div class=\"sk-label sk-toggleable\"><input class=\"sk-toggleable__control sk-hidden--visually\" id=\"sk-estimator-id-8\" type=\"checkbox\" ><label for=\"sk-estimator-id-8\" class=\"sk-toggleable__label sk-toggleable__label-arrow\">estimator: SVR</label><div class=\"sk-toggleable__content\"><pre>SVR()</pre></div></div></div><div class=\"sk-serial\"><div class=\"sk-item\"><div class=\"sk-estimator sk-toggleable\"><input class=\"sk-toggleable__control sk-hidden--visually\" id=\"sk-estimator-id-9\" type=\"checkbox\" ><label for=\"sk-estimator-id-9\" class=\"sk-toggleable__label sk-toggleable__label-arrow\">SVR</label><div class=\"sk-toggleable__content\"><pre>SVR()</pre></div></div></div></div></div></div></div></div></div></div>"
      ],
      "text/plain": [
       "GridSearchCV(cv=5, estimator=SVR(),\n",
       "             param_grid=[{'C': [0.1, 1, 10], 'kernel': ['linear']},\n",
       "                         {'C': [0.1, 1, 10], 'degree': [2, 3],\n",
       "                          'gamma': ['scale'], 'kernel': ['poly']},\n",
       "                         {'C': [0.1, 1, 10], 'gamma': ['auto', 'scale'],\n",
       "                          'kernel': ['rbf']},\n",
       "                         {'C': [0.1, 1, 10], 'gamma': ['auto'],\n",
       "                          'kernel': ['sigmoid']}],\n",
       "             scoring='neg_root_mean_squared_error', verbose=2)"
      ]
     },
     "execution_count": 117,
     "metadata": {},
     "output_type": "execute_result"
    }
   ],
   "source": [
    "df_train, df_test = get_df_by_resolution(3)\n",
    "X_train, y_train = get_X_y(df_train, 1)\n",
    "X_train_scaled = scale_data(X_train)\n",
    "\n",
    "# Define hyperparameter grid for each kernel\n",
    "param_grid = [\n",
    "    {'kernel': ['linear'], 'C': [0.1, 1, 10]},\n",
    "    {'kernel': ['poly'], 'C': [0.1, 1, 10], 'degree': [2, 3], 'gamma': ['scale']},\n",
    "    {'kernel': ['rbf'], 'C': [0.1, 1, 10], 'gamma': ['auto', 'scale']},\n",
    "    {'kernel': ['sigmoid'], 'C': [0.1, 1, 10], 'gamma': ['auto']}\n",
    "]\n",
    "\n",
    "\n",
    "# Create GridSearchCV object\n",
    "grid_search = GridSearchCV(SVR(epsilon=0.1), param_grid, cv=5, verbose=2, scoring='neg_root_mean_squared_error')\n",
    "\n",
    "# Perform grid search\n",
    "grid_search.fit(X_train_scaled, y_train)"
   ]
  },
  {
   "cell_type": "code",
   "execution_count": 121,
   "id": "8c8591fe-8a14-43ad-8880-772c3d2ebece",
   "metadata": {},
   "outputs": [
    {
     "data": {
      "image/png": "[encoded data removed]",
      "text/plain": [
       "<Figure size 640x480 with 1 Axes>"
      ]
     },
     "metadata": {},
     "output_type": "display_data"
    }
   ],
   "source": [
    "# Extract the results\n",
    "cv_results = grid_search.cv_results_\n",
    "\n",
    "# Create empty lists to hold the results for each kernel\n",
    "scores = []\n",
    "KERNELS = ['linear', 'poly', 'rbf', 'sigmoid']\n",
    "# Iterate over the kernels to find the best score for each\n",
    "for kernel in KERNELS:\n",
    "    kernel_mask = [param['kernel'] == kernel for param in cv_results['params']]\n",
    "    kernel_scores = cv_results['mean_test_score'][kernel_mask]\n",
    "    best_kernel_score = max(kernel_scores)\n",
    "    scores.append(best_kernel_score)\n",
    "\n",
    "# Plot the results\n",
    "plt.bar(KERNELS, [abs(score) for score in scores])\n",
    "plt.ylabel('Root Mean Squared Error')\n",
    "plt.xlabel('Kernel')\n",
    "plt.title('Performance of Best Setup for Each Kernel')\n",
    "plt.show()"
   ]
  },
  {
   "cell_type": "code",
   "execution_count": null,
   "id": "86bad5d3-75da-43b7-ba5f-85e1cef438fa",
   "metadata": {},
   "outputs": [],
   "source": [
    "RESOLUTIONS = [0, 3, 4, 5, 6, 7, 8, 9]\n",
    "TARGET_HORIOZONS = [1, 2, 6, 24]\n",
    "\n",
    "for resolution in RESOLUTIONS:\n",
    "    for horizon in TARGET_HORIOZONS:   \n",
    "        # get data\n",
    "        df_train, df_test = get_df_by_resolution(resolution)\n",
    "        X_train, y_train = get_X_y(df_train, TARGET_HORIOZONS)\n",
    "        X_train, y_train = get_X_y(df_test, TARGET_HORIOZONS)\n",
    "        X_train_scaled, X_test_scaled = scale_data(X_train, X_test)\n",
    "    "
   ]
  },
  {
   "cell_type": "code",
   "execution_count": 131,
   "id": "b6ef057d-e009-4d7d-9a49-629fa3034b38",
   "metadata": {},
   "outputs": [
    {
     "name": "stdout",
     "output_type": "stream",
     "text": [
      "RESOLUTION:0 - HORIZON: 1\n"
     ]
    },
    {
     "ename": "ValueError",
     "evalue": "The truth value of a DataFrame is ambiguous. Use a.empty, a.bool(), a.item(), a.any() or a.all().",
     "output_type": "error",
     "traceback": [
      "\u001b[0;31m---------------------------------------------------------------------------\u001b[0m",
      "\u001b[0;31mValueError\u001b[0m                                Traceback (most recent call last)",
      "Cell \u001b[0;32mIn[131], line 17\u001b[0m\n\u001b[1;32m     15\u001b[0m X_train, y_train \u001b[38;5;241m=\u001b[39m get_X_y(df_train, horizon)\n\u001b[1;32m     16\u001b[0m X_test, y_test \u001b[38;5;241m=\u001b[39m get_X_y(df_test, horizon)\n\u001b[0;32m---> 17\u001b[0m X_train_scaled, X_test_scaled \u001b[38;5;241m=\u001b[39m \u001b[43mscale_data\u001b[49m\u001b[43m(\u001b[49m\u001b[43mX_train\u001b[49m\u001b[43m,\u001b[49m\u001b[43m \u001b[49m\u001b[43mX_test\u001b[49m\u001b[43m)\u001b[49m\n\u001b[1;32m     19\u001b[0m \u001b[38;5;66;03m# Define and train SVR\u001b[39;00m\n\u001b[1;32m     20\u001b[0m param_grid \u001b[38;5;241m=\u001b[39m [\n\u001b[1;32m     21\u001b[0m     {\u001b[38;5;124m'\u001b[39m\u001b[38;5;124mkernel\u001b[39m\u001b[38;5;124m'\u001b[39m: [\u001b[38;5;124m'\u001b[39m\u001b[38;5;124mrbf\u001b[39m\u001b[38;5;124m'\u001b[39m], \u001b[38;5;124m'\u001b[39m\u001b[38;5;124mC\u001b[39m\u001b[38;5;124m'\u001b[39m: [\u001b[38;5;241m0.1\u001b[39m, \u001b[38;5;241m1\u001b[39m, \u001b[38;5;241m10\u001b[39m], \u001b[38;5;124m'\u001b[39m\u001b[38;5;124mgamma\u001b[39m\u001b[38;5;124m'\u001b[39m: [\u001b[38;5;124m'\u001b[39m\u001b[38;5;124mscale\u001b[39m\u001b[38;5;124m'\u001b[39m]}\n\u001b[1;32m     22\u001b[0m ]\n",
      "Cell \u001b[0;32mIn[73], line 10\u001b[0m, in \u001b[0;36mscale_data\u001b[0;34m(X_train, X_test)\u001b[0m\n\u001b[1;32m      8\u001b[0m \u001b[38;5;66;03m# Transform both the training and test data\u001b[39;00m\n\u001b[1;32m      9\u001b[0m X_train_scaled \u001b[38;5;241m=\u001b[39m scaler\u001b[38;5;241m.\u001b[39mtransform(X_train)\n\u001b[0;32m---> 10\u001b[0m \u001b[38;5;28;01mif\u001b[39;00m X_test:\n\u001b[1;32m     11\u001b[0m     X_test_scaled \u001b[38;5;241m=\u001b[39m scaler\u001b[38;5;241m.\u001b[39mtransform(X_test)\n\u001b[1;32m     12\u001b[0m     \u001b[38;5;28;01mreturn\u001b[39;00m X_train_scaled, X_test_scaled\n",
      "File \u001b[0;32m~/miniconda3/envs/aaa_dev/lib/python3.10/site-packages/pandas/core/generic.py:1466\u001b[0m, in \u001b[0;36mNDFrame.__nonzero__\u001b[0;34m(self)\u001b[0m\n\u001b[1;32m   1464\u001b[0m \u001b[38;5;129m@final\u001b[39m\n\u001b[1;32m   1465\u001b[0m \u001b[38;5;28;01mdef\u001b[39;00m \u001b[38;5;21m__nonzero__\u001b[39m(\u001b[38;5;28mself\u001b[39m) \u001b[38;5;241m-\u001b[39m\u001b[38;5;241m>\u001b[39m NoReturn:\n\u001b[0;32m-> 1466\u001b[0m     \u001b[38;5;28;01mraise\u001b[39;00m \u001b[38;5;167;01mValueError\u001b[39;00m(\n\u001b[1;32m   1467\u001b[0m         \u001b[38;5;124mf\u001b[39m\u001b[38;5;124m\"\u001b[39m\u001b[38;5;124mThe truth value of a \u001b[39m\u001b[38;5;132;01m{\u001b[39;00m\u001b[38;5;28mtype\u001b[39m(\u001b[38;5;28mself\u001b[39m)\u001b[38;5;241m.\u001b[39m\u001b[38;5;18m__name__\u001b[39m\u001b[38;5;132;01m}\u001b[39;00m\u001b[38;5;124m is ambiguous. \u001b[39m\u001b[38;5;124m\"\u001b[39m\n\u001b[1;32m   1468\u001b[0m         \u001b[38;5;124m\"\u001b[39m\u001b[38;5;124mUse a.empty, a.bool(), a.item(), a.any() or a.all().\u001b[39m\u001b[38;5;124m\"\u001b[39m\n\u001b[1;32m   1469\u001b[0m     )\n",
      "\u001b[0;31mValueError\u001b[0m: The truth value of a DataFrame is ambiguous. Use a.empty, a.bool(), a.item(), a.any() or a.all()."
     ]
    }
   ],
   "source": [
    "RESOLUTIONS = [0, 3, 4, 5, 6, 7, 8, 9]\n",
    "TARGET_HORIOZONS = [1, 2, 6, 24]\n",
    "\n",
    "RESOLUTIONS = [0, 3]\n",
    "TARGET_HORIOZONS = [1, 2]\n",
    "# DataFrame to store results\n",
    "results_df = pd.DataFrame(columns=['Resolution', 'Target Horizon', 'RMSE'])\n",
    "\n",
    "for resolution in RESOLUTIONS:\n",
    "    rmse_per_horizon = []\n",
    "    for horizon in TARGET_HORIOZONS:\n",
    "        print(f'RESOLUTION:{resolution} - HORIZON: {horizon}')\n",
    "        # Get and preprocess data\n",
    "        df_train, df_test = get_df_by_resolution(resolution)\n",
    "        X_train, y_train = get_X_y(df_train, horizon)\n",
    "        X_test, y_test = get_X_y(df_test, horizon)\n",
    "        X_train_scaled, X_test_scaled = scale_data(X_train, X_test)\n",
    "\n",
    "        # Define and train SVR\n",
    "        param_grid = [\n",
    "            {'kernel': ['rbf'], 'C': [0.1, 1, 10], 'gamma': ['scale']}\n",
    "        ]\n",
    "        grid_search = GridSearchCV(SVR(), param_grid, scoring='neg_root_mean_squared_error', cv=5)\n",
    "        grid_search.fit(X_train_scaled, y_train)\n",
    "\n",
    "        # Calculate RMSE\n",
    "        y_pred = grid_search.predict(X_test_scaled)\n",
    "        rmse = np.sqrt(mean_squared_error(y_test, y_pred))\n",
    "\n",
    "        # Store results\n",
    "        results_df = results_df.append({'Resolution': resolution, 'Target Horizon': horizon, 'RMSE': rmse}, ignore_index=True)\n",
    "        rmse_per_horizon.append(rmse)\n",
    "\n",
    "    # Plot results for current resolution\n",
    "    plt.plot(TARGET_HORIOZONS, rmse_per_horizon, label=f'Resolution {resolution}')\n",
    "    plt.xlabel('Target Horizon')\n",
    "    plt.ylabel('RMSE')\n",
    "    plt.title('RMSE vs Target Horizon')\n",
    "    plt.legend()\n",
    "\n",
    "plt.show()\n"
   ]
  }
 ],
 "metadata": {
  "kernelspec": {
   "display_name": "Python 3.10 (aaadev)",
   "language": "python",
   "name": "aaa_dev"
  },
  "language_info": {
   "codemirror_mode": {
    "name": "ipython",
    "version": 3
   },
   "file_extension": ".py",
   "mimetype": "text/x-python",
   "name": "python",
   "nbconvert_exporter": "python",
   "pygments_lexer": "ipython3",
   "version": "3.10.12"
  }
 },
 "nbformat": 4,
 "nbformat_minor": 5
}
