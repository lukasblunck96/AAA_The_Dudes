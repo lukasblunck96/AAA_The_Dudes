{
 "cells": [
  {
   "attachments": {},
   "cell_type": "markdown",
   "metadata": {},
   "source": [
    "# Data preparation"
   ]
  },
  {
   "cell_type": "code",
   "execution_count": 1,
   "metadata": {},
   "outputs": [
    {
     "data": {
      "text/html": [
       "<table>\n",
       "<thead>\n",
       "<tr><th>#                            </th><th>trip_id                                 </th><th>taxi_id                                            </th><th>trip_start_timestamp         </th><th>trip_end_timestamp           </th><th style=\"text-align: right;\">  trip_seconds</th><th style=\"text-align: right;\">  trip_miles</th><th style=\"text-align: right;\">  pickup_census_tract</th><th style=\"text-align: right;\">  dropoff_census_tract</th><th style=\"text-align: right;\">  pickup_community_area</th><th style=\"text-align: right;\">  dropoff_community_area</th><th style=\"text-align: right;\">  fare</th><th style=\"text-align: right;\">  tips</th><th style=\"text-align: right;\">  tolls</th><th style=\"text-align: right;\">  extras</th><th style=\"text-align: right;\">  trip_total</th><th>payment_type  </th><th>company                          </th><th style=\"text-align: right;\">  pickup_centroid_latitude</th><th style=\"text-align: right;\">  pickup_centroid_longitude</th><th>pickup_centroid_location            </th><th style=\"text-align: right;\">  dropoff_centroid_latitude</th><th style=\"text-align: right;\">  dropoff_centroid_longitude</th><th>dropoff_centroid__location          </th></tr>\n",
       "</thead>\n",
       "<tbody>\n",
       "<tr><td><i style='opacity: 0.6'>0</i></td><td>7ce98ec3d6d2b81bf6a91a5333e84690ec4e94f3</td><td>&#x27;30ac065db3b331d97b0842f0cb1740ed5b8d7fe26530441...</td><td>2017-01-01 00:00:00.000000000</td><td>2017-01-01 00:00:00.000000000</td><td style=\"text-align: right;\">           480</td><td style=\"text-align: right;\">         1.5</td><td style=\"text-align: right;\">        nan          </td><td style=\"text-align: right;\">           1.70311e+10</td><td style=\"text-align: right;\">                    nan</td><td style=\"text-align: right;\">                       8</td><td style=\"text-align: right;\">  7.5 </td><td style=\"text-align: right;\">  0   </td><td style=\"text-align: right;\">      0</td><td style=\"text-align: right;\">     1.5</td><td style=\"text-align: right;\">        9   </td><td>Cash          </td><td>Dispatch Taxi Affiliation        </td><td style=\"text-align: right;\">                  nan     </td><td style=\"text-align: right;\">                   nan     </td><td>--                                  </td><td style=\"text-align: right;\">                    41.9059</td><td style=\"text-align: right;\">                    -87.6309</td><td>POINT (-87.6308650266 41.9058577688)</td></tr>\n",
       "<tr><td><i style='opacity: 0.6'>1</i></td><td>e447e5c2e41c4f6751907d5e686f35b34e315afb</td><td>&#x27;4e902eb187e3942c1da821c8aa349fc848c6ff3f71f1070...</td><td>2017-01-01 00:00:00.000000000</td><td>2017-01-01 00:00:00.000000000</td><td style=\"text-align: right;\">             0</td><td style=\"text-align: right;\">         0  </td><td style=\"text-align: right;\">        nan          </td><td style=\"text-align: right;\">         nan          </td><td style=\"text-align: right;\">                    nan</td><td style=\"text-align: right;\">                     nan</td><td style=\"text-align: right;\"> 27   </td><td style=\"text-align: right;\">  0   </td><td style=\"text-align: right;\">      0</td><td style=\"text-align: right;\">     0  </td><td style=\"text-align: right;\">       27   </td><td>Credit Card   </td><td>Suburban Dispatch LLC            </td><td style=\"text-align: right;\">                  nan     </td><td style=\"text-align: right;\">                   nan     </td><td>--                                  </td><td style=\"text-align: right;\">                   nan     </td><td style=\"text-align: right;\">                    nan     </td><td>--                                  </td></tr>\n",
       "<tr><td><i style='opacity: 0.6'>2</i></td><td>95e39db90a6a468a863f43c8eccce7e26ba3db39</td><td>&#x27;78a7a28fe001257044d5095fcb1ff7156a47411ff93cc5e...</td><td>2017-01-01 00:00:00.000000000</td><td>2017-01-01 00:45:00.000000000</td><td style=\"text-align: right;\">          2280</td><td style=\"text-align: right;\">         0.2</td><td style=\"text-align: right;\">        nan          </td><td style=\"text-align: right;\">         nan          </td><td style=\"text-align: right;\">                    nan</td><td style=\"text-align: right;\">                      76</td><td style=\"text-align: right;\"> 22.25</td><td style=\"text-align: right;\">  0   </td><td style=\"text-align: right;\">      0</td><td style=\"text-align: right;\">     0  </td><td style=\"text-align: right;\">       22.25</td><td>Cash          </td><td>Dispatch Taxi Affiliation        </td><td style=\"text-align: right;\">                  nan     </td><td style=\"text-align: right;\">                   nan     </td><td>--                                  </td><td style=\"text-align: right;\">                    41.9803</td><td style=\"text-align: right;\">                    -87.9136</td><td>POINT (-87.913624596 41.9802643146) </td></tr>\n",
       "<tr><td><i style='opacity: 0.6'>3</i></td><td>b09914181a9bd6a5dcd2e44941d215bc663763df</td><td>&#x27;c157870bbd395a664de1f3e6f7868b3b89472295c4e2d6e...</td><td>2017-01-01 00:00:00.000000000</td><td>2017-01-01 00:00:00.000000000</td><td style=\"text-align: right;\">           480</td><td style=\"text-align: right;\">         1.7</td><td style=\"text-align: right;\">        nan          </td><td style=\"text-align: right;\">         nan          </td><td style=\"text-align: right;\">                    nan</td><td style=\"text-align: right;\">                     nan</td><td style=\"text-align: right;\">  7.5 </td><td style=\"text-align: right;\">  0   </td><td style=\"text-align: right;\">      0</td><td style=\"text-align: right;\">     0  </td><td style=\"text-align: right;\">        7.5 </td><td>Cash          </td><td>4787 - 56058 Reny Cab Co         </td><td style=\"text-align: right;\">                  nan     </td><td style=\"text-align: right;\">                   nan     </td><td>--                                  </td><td style=\"text-align: right;\">                   nan     </td><td style=\"text-align: right;\">                    nan     </td><td>--                                  </td></tr>\n",
       "<tr><td><i style='opacity: 0.6'>4</i></td><td>d039b0e5600d5008f95bd55114fe8acdeba81d99</td><td>&#x27;b5c4dfe366c83cef5604db1afcfbc15c8c38eeefd896b98...</td><td>2017-01-01 00:00:00.000000000</td><td>2017-01-01 00:00:00.000000000</td><td style=\"text-align: right;\">           540</td><td style=\"text-align: right;\">         0  </td><td style=\"text-align: right;\">        nan          </td><td style=\"text-align: right;\">         nan          </td><td style=\"text-align: right;\">                    nan</td><td style=\"text-align: right;\">                     nan</td><td style=\"text-align: right;\">  6.75</td><td style=\"text-align: right;\">  0   </td><td style=\"text-align: right;\">      0</td><td style=\"text-align: right;\">     1  </td><td style=\"text-align: right;\">        7.75</td><td>Cash          </td><td>Blue Ribbon Taxi Association Inc.</td><td style=\"text-align: right;\">                  nan     </td><td style=\"text-align: right;\">                   nan     </td><td>--                                  </td><td style=\"text-align: right;\">                   nan     </td><td style=\"text-align: right;\">                    nan     </td><td>--                                  </td></tr>\n",
       "<tr><td><i style='opacity: 0.6'>5</i></td><td>94291f34710a6ee268b32bd3da208f6cbb65a0de</td><td>&#x27;ff6aa87ad2487541184808bdb9202867f5ec8ff5db6adf5...</td><td>2017-01-01 00:00:00.000000000</td><td>2017-01-01 00:00:00.000000000</td><td style=\"text-align: right;\">             0</td><td style=\"text-align: right;\">         0  </td><td style=\"text-align: right;\">        nan          </td><td style=\"text-align: right;\">         nan          </td><td style=\"text-align: right;\">                    nan</td><td style=\"text-align: right;\">                     nan</td><td style=\"text-align: right;\">  6.25</td><td style=\"text-align: right;\">  0   </td><td style=\"text-align: right;\">      0</td><td style=\"text-align: right;\">     0  </td><td style=\"text-align: right;\">        6.25</td><td>Credit Card   </td><td>Suburban Dispatch LLC            </td><td style=\"text-align: right;\">                  nan     </td><td style=\"text-align: right;\">                   nan     </td><td>--                                  </td><td style=\"text-align: right;\">                   nan     </td><td style=\"text-align: right;\">                    nan     </td><td>--                                  </td></tr>\n",
       "<tr><td><i style='opacity: 0.6'>6</i></td><td>f00546971a3e4c8ab55761a337443a0dfa33f42f</td><td>&#x27;631de3a4ad35b7d7d75949b33ad59e09820b51b3f58225d...</td><td>2017-01-01 00:00:00.000000000</td><td>2017-01-01 00:30:00.000000000</td><td style=\"text-align: right;\">          1800</td><td style=\"text-align: right;\">         0  </td><td style=\"text-align: right;\">          1.70311e+10</td><td style=\"text-align: right;\">           1.70311e+10</td><td style=\"text-align: right;\">                      8</td><td style=\"text-align: right;\">                       8</td><td style=\"text-align: right;\"> 13.25</td><td style=\"text-align: right;\">  4.25</td><td style=\"text-align: right;\">      0</td><td style=\"text-align: right;\">     1  </td><td style=\"text-align: right;\">       18.5 </td><td>Credit Card   </td><td>Taxi Affiliation Services        </td><td style=\"text-align: right;\">                   41.8932</td><td style=\"text-align: right;\">                   -87.6378</td><td>POINT (-87.6378442095 41.8932163595)</td><td style=\"text-align: right;\">                    41.8925</td><td style=\"text-align: right;\">                    -87.6262</td><td>POINT (-87.6262149064 41.8925077809)</td></tr>\n",
       "<tr><td><i style='opacity: 0.6'>7</i></td><td>fe9bfc25af9dffac30370f4e7d57a8c8a8bdbc0d</td><td>&#x27;b7da4d1247a408c100b4964f236760694290aace75c8b87...</td><td>2017-01-01 00:00:00.000000000</td><td>2017-01-01 00:00:00.000000000</td><td style=\"text-align: right;\">           660</td><td style=\"text-align: right;\">         2.7</td><td style=\"text-align: right;\">        nan          </td><td style=\"text-align: right;\">         nan          </td><td style=\"text-align: right;\">                      2</td><td style=\"text-align: right;\">                       3</td><td style=\"text-align: right;\"> 10   </td><td style=\"text-align: right;\">  2   </td><td style=\"text-align: right;\">      0</td><td style=\"text-align: right;\">     0  </td><td style=\"text-align: right;\">       12   </td><td>Credit Card   </td><td>Choice Taxi Association          </td><td style=\"text-align: right;\">                   42.0016</td><td style=\"text-align: right;\">                   -87.695 </td><td>POINT (-87.6950125892 42.001571027) </td><td style=\"text-align: right;\">                    41.9658</td><td style=\"text-align: right;\">                    -87.6559</td><td>POINT (-87.6558787862 41.96581197)  </td></tr>\n",
       "<tr><td><i style='opacity: 0.6'>8</i></td><td>42b662e1238bb7dceccca2b19d395df44dc12dd5</td><td>&#x27;5985b42dd0cbd4492cd51df71c1fd5dbed60edb96d589b7...</td><td>2017-01-01 00:00:00.000000000</td><td>2017-01-01 00:00:00.000000000</td><td style=\"text-align: right;\">             0</td><td style=\"text-align: right;\">         0  </td><td style=\"text-align: right;\">        nan          </td><td style=\"text-align: right;\">         nan          </td><td style=\"text-align: right;\">                    nan</td><td style=\"text-align: right;\">                     nan</td><td style=\"text-align: right;\">  7.5 </td><td style=\"text-align: right;\">  3   </td><td style=\"text-align: right;\">      0</td><td style=\"text-align: right;\">     0  </td><td style=\"text-align: right;\">       10.5 </td><td>Credit Card   </td><td>Suburban Dispatch LLC            </td><td style=\"text-align: right;\">                  nan     </td><td style=\"text-align: right;\">                   nan     </td><td>--                                  </td><td style=\"text-align: right;\">                   nan     </td><td style=\"text-align: right;\">                    nan     </td><td>--                                  </td></tr>\n",
       "<tr><td><i style='opacity: 0.6'>9</i></td><td>89b4ff599f5d23fa177b8bd915b7aa3c2e0608b3</td><td>&#x27;29051a8f04056bb47ab86564c9fec32eb9e15e8ce6aed24...</td><td>2017-01-01 00:00:00.000000000</td><td>2017-01-01 00:00:00.000000000</td><td style=\"text-align: right;\">             0</td><td style=\"text-align: right;\">         0  </td><td style=\"text-align: right;\">        nan          </td><td style=\"text-align: right;\">         nan          </td><td style=\"text-align: right;\">                    nan</td><td style=\"text-align: right;\">                     nan</td><td style=\"text-align: right;\"> 21.75</td><td style=\"text-align: right;\">  3.25</td><td style=\"text-align: right;\">      0</td><td style=\"text-align: right;\">     0  </td><td style=\"text-align: right;\">       25   </td><td>Credit Card   </td><td>T.A.S. - Payment Only            </td><td style=\"text-align: right;\">                  nan     </td><td style=\"text-align: right;\">                   nan     </td><td>--                                  </td><td style=\"text-align: right;\">                   nan     </td><td style=\"text-align: right;\">                    nan     </td><td>--                                  </td></tr>\n",
       "</tbody>\n",
       "</table>"
      ],
      "text/plain": [
       "  #  trip_id                                   taxi_id                                              trip_start_timestamp           trip_end_timestamp               trip_seconds    trip_miles    pickup_census_tract    dropoff_census_tract    pickup_community_area    dropoff_community_area    fare    tips    tolls    extras    trip_total  payment_type    company                              pickup_centroid_latitude    pickup_centroid_longitude  pickup_centroid_location                dropoff_centroid_latitude    dropoff_centroid_longitude  dropoff_centroid__location\n",
       "  0  7ce98ec3d6d2b81bf6a91a5333e84690ec4e94f3  '30ac065db3b331d97b0842f0cb1740ed5b8d7fe26530441...  2017-01-01 00:00:00.000000000  2017-01-01 00:00:00.000000000             480           1.5          nan                       1.70311e+10                      nan                         8    7.5     0           0       1.5          9     Cash            Dispatch Taxi Affiliation                            nan                          nan       --                                                        41.9059                      -87.6309  POINT (-87.6308650266 41.9058577688)\n",
       "  1  e447e5c2e41c4f6751907d5e686f35b34e315afb  '4e902eb187e3942c1da821c8aa349fc848c6ff3f71f1070...  2017-01-01 00:00:00.000000000  2017-01-01 00:00:00.000000000               0           0            nan                     nan                                nan                       nan   27       0           0       0           27     Credit Card     Suburban Dispatch LLC                                nan                          nan       --                                                       nan                           nan       --\n",
       "  2  95e39db90a6a468a863f43c8eccce7e26ba3db39  '78a7a28fe001257044d5095fcb1ff7156a47411ff93cc5e...  2017-01-01 00:00:00.000000000  2017-01-01 00:45:00.000000000            2280           0.2          nan                     nan                                nan                        76   22.25    0           0       0           22.25  Cash            Dispatch Taxi Affiliation                            nan                          nan       --                                                        41.9803                      -87.9136  POINT (-87.913624596 41.9802643146)\n",
       "  3  b09914181a9bd6a5dcd2e44941d215bc663763df  'c157870bbd395a664de1f3e6f7868b3b89472295c4e2d6e...  2017-01-01 00:00:00.000000000  2017-01-01 00:00:00.000000000             480           1.7          nan                     nan                                nan                       nan    7.5     0           0       0            7.5   Cash            4787 - 56058 Reny Cab Co                             nan                          nan       --                                                       nan                           nan       --\n",
       "  4  d039b0e5600d5008f95bd55114fe8acdeba81d99  'b5c4dfe366c83cef5604db1afcfbc15c8c38eeefd896b98...  2017-01-01 00:00:00.000000000  2017-01-01 00:00:00.000000000             540           0            nan                     nan                                nan                       nan    6.75    0           0       1            7.75  Cash            Blue Ribbon Taxi Association Inc.                    nan                          nan       --                                                       nan                           nan       --\n",
       "  5  94291f34710a6ee268b32bd3da208f6cbb65a0de  'ff6aa87ad2487541184808bdb9202867f5ec8ff5db6adf5...  2017-01-01 00:00:00.000000000  2017-01-01 00:00:00.000000000               0           0            nan                     nan                                nan                       nan    6.25    0           0       0            6.25  Credit Card     Suburban Dispatch LLC                                nan                          nan       --                                                       nan                           nan       --\n",
       "  6  f00546971a3e4c8ab55761a337443a0dfa33f42f  '631de3a4ad35b7d7d75949b33ad59e09820b51b3f58225d...  2017-01-01 00:00:00.000000000  2017-01-01 00:30:00.000000000            1800           0              1.70311e+10             1.70311e+10                        8                         8   13.25    4.25        0       1           18.5   Credit Card     Taxi Affiliation Services                             41.8932                     -87.6378  POINT (-87.6378442095 41.8932163595)                      41.8925                      -87.6262  POINT (-87.6262149064 41.8925077809)\n",
       "  7  fe9bfc25af9dffac30370f4e7d57a8c8a8bdbc0d  'b7da4d1247a408c100b4964f236760694290aace75c8b87...  2017-01-01 00:00:00.000000000  2017-01-01 00:00:00.000000000             660           2.7          nan                     nan                                  2                         3   10       2           0       0           12     Credit Card     Choice Taxi Association                               42.0016                     -87.695   POINT (-87.6950125892 42.001571027)                       41.9658                      -87.6559  POINT (-87.6558787862 41.96581197)\n",
       "  8  42b662e1238bb7dceccca2b19d395df44dc12dd5  '5985b42dd0cbd4492cd51df71c1fd5dbed60edb96d589b7...  2017-01-01 00:00:00.000000000  2017-01-01 00:00:00.000000000               0           0            nan                     nan                                nan                       nan    7.5     3           0       0           10.5   Credit Card     Suburban Dispatch LLC                                nan                          nan       --                                                       nan                           nan       --\n",
       "  9  89b4ff599f5d23fa177b8bd915b7aa3c2e0608b3  '29051a8f04056bb47ab86564c9fec32eb9e15e8ce6aed24...  2017-01-01 00:00:00.000000000  2017-01-01 00:00:00.000000000               0           0            nan                     nan                                nan                       nan   21.75    3.25        0       0           25     Credit Card     T.A.S. - Payment Only                                nan                          nan       --                                                       nan                           nan       --"
      ]
     },
     "execution_count": 1,
     "metadata": {},
     "output_type": "execute_result"
    }
   ],
   "source": [
    "import vaex\n",
    "df_taxi_trips_all = vaex.open('./chunks/taxi_*.hdf5')\n",
    "\n",
    "### Replace spaces and uppercases in column names\n",
    "column_names = df_taxi_trips_all.column_names\n",
    "column_names_refactored = [ln.replace(' ', '_').lower() for ln in column_names]\n",
    "\n",
    "for i, column in enumerate(column_names):\n",
    "    df_taxi_trips_all.rename(column, column_names_refactored[i])\n",
    "    \n",
    "df_taxi_trips_all.head()"
   ]
  },
  {
   "cell_type": "code",
   "execution_count": 2,
   "metadata": {},
   "outputs": [
    {
     "data": {
      "text/html": [
       "<table>\n",
       "<thead>\n",
       "<tr><th>#                            </th><th>the_geom                                           </th><th style=\"text-align: right;\">  STATEFP10</th><th style=\"text-align: right;\">  COUNTYFP10</th><th style=\"text-align: right;\">  TRACTCE10</th><th style=\"text-align: right;\">    GEOID10</th><th style=\"text-align: right;\">  NAME10</th><th>NAMELSAD10          </th><th style=\"text-align: right;\">  COMMAREA</th><th style=\"text-align: right;\">  COMMAREA_N</th><th>NOTES  </th></tr>\n",
       "</thead>\n",
       "<tbody>\n",
       "<tr><td><i style='opacity: 0.6'>0</i></td><td>&#x27;MULTIPOLYGON (((-87.62404799998049 41.730216999...</td><td style=\"text-align: right;\">         17</td><td style=\"text-align: right;\">          31</td><td style=\"text-align: right;\">     842400</td><td style=\"text-align: right;\">17031842400</td><td style=\"text-align: right;\"> 8424   </td><td>Census Tract 8424   </td><td style=\"text-align: right;\">        44</td><td style=\"text-align: right;\">          44</td><td>       </td></tr>\n",
       "<tr><td><i style='opacity: 0.6'>1</i></td><td>&#x27;MULTIPOLYGON (((-87.6860799999848 41.8229560000...</td><td style=\"text-align: right;\">         17</td><td style=\"text-align: right;\">          31</td><td style=\"text-align: right;\">     840300</td><td style=\"text-align: right;\">17031840300</td><td style=\"text-align: right;\"> 8403   </td><td>Census Tract 8403   </td><td style=\"text-align: right;\">        59</td><td style=\"text-align: right;\">          59</td><td>       </td></tr>\n",
       "<tr><td><i style='opacity: 0.6'>2</i></td><td>&#x27;MULTIPOLYGON (((-87.62934700001182 41.852797000...</td><td style=\"text-align: right;\">         17</td><td style=\"text-align: right;\">          31</td><td style=\"text-align: right;\">     841100</td><td style=\"text-align: right;\">17031841100</td><td style=\"text-align: right;\"> 8411   </td><td>Census Tract 8411   </td><td style=\"text-align: right;\">        34</td><td style=\"text-align: right;\">          34</td><td>       </td></tr>\n",
       "<tr><td><i style='opacity: 0.6'>3</i></td><td>&#x27;MULTIPOLYGON (((-87.68813499997718 41.855690999...</td><td style=\"text-align: right;\">         17</td><td style=\"text-align: right;\">          31</td><td style=\"text-align: right;\">     841200</td><td style=\"text-align: right;\">17031841200</td><td style=\"text-align: right;\"> 8412   </td><td>Census Tract 8412   </td><td style=\"text-align: right;\">        31</td><td style=\"text-align: right;\">          31</td><td>       </td></tr>\n",
       "<tr><td><i style='opacity: 0.6'>4</i></td><td>&#x27;MULTIPOLYGON (((-87.63312200003458 41.874488000...</td><td style=\"text-align: right;\">         17</td><td style=\"text-align: right;\">          31</td><td style=\"text-align: right;\">     839000</td><td style=\"text-align: right;\">17031839000</td><td style=\"text-align: right;\"> 8390   </td><td>Census Tract 8390   </td><td style=\"text-align: right;\">        32</td><td style=\"text-align: right;\">          32</td><td>       </td></tr>\n",
       "<tr><td><i style='opacity: 0.6'>5</i></td><td>&#x27;MULTIPOLYGON (((-87.6678199999753 41.8741839999...</td><td style=\"text-align: right;\">         17</td><td style=\"text-align: right;\">          31</td><td style=\"text-align: right;\">     838200</td><td style=\"text-align: right;\">17031838200</td><td style=\"text-align: right;\"> 8382   </td><td>Census Tract 8382   </td><td style=\"text-align: right;\">        28</td><td style=\"text-align: right;\">          28</td><td>       </td></tr>\n",
       "<tr><td><i style='opacity: 0.6'>6</i></td><td>&#x27;MULTIPOLYGON (((-87.73706400002477 41.771203999...</td><td style=\"text-align: right;\">         17</td><td style=\"text-align: right;\">          31</td><td style=\"text-align: right;\">     650301</td><td style=\"text-align: right;\">17031650301</td><td style=\"text-align: right;\"> 6503.01</td><td>Census Tract 6503.01</td><td style=\"text-align: right;\">        65</td><td style=\"text-align: right;\">          65</td><td>       </td></tr>\n",
       "<tr><td><i style='opacity: 0.6'>7</i></td><td>&#x27;MULTIPOLYGON (((-87.64386399998179 41.663210000...</td><td style=\"text-align: right;\">         17</td><td style=\"text-align: right;\">          31</td><td style=\"text-align: right;\">     530503</td><td style=\"text-align: right;\">17031530503</td><td style=\"text-align: right;\"> 5305.03</td><td>Census Tract 5305.03</td><td style=\"text-align: right;\">        53</td><td style=\"text-align: right;\">          53</td><td>       </td></tr>\n",
       "<tr><td><i style='opacity: 0.6'>8</i></td><td>&#x27;MULTIPOLYGON (((-87.83844200004106 41.970199999...</td><td style=\"text-align: right;\">         17</td><td style=\"text-align: right;\">          31</td><td style=\"text-align: right;\">     760803</td><td style=\"text-align: right;\">17031760803</td><td style=\"text-align: right;\"> 7608.03</td><td>Census Tract 7608.03</td><td style=\"text-align: right;\">        76</td><td style=\"text-align: right;\">          76</td><td>       </td></tr>\n",
       "<tr><td><i style='opacity: 0.6'>9</i></td><td>&#x27;MULTIPOLYGON (((-87.6543830000042 41.9902020000...</td><td style=\"text-align: right;\">         17</td><td style=\"text-align: right;\">          31</td><td style=\"text-align: right;\">      30601</td><td style=\"text-align: right;\">17031030601</td><td style=\"text-align: right;\">  306.01</td><td>Census Tract 306.01 </td><td style=\"text-align: right;\">        77</td><td style=\"text-align: right;\">          77</td><td>       </td></tr>\n",
       "</tbody>\n",
       "</table>"
      ],
      "text/plain": [
       "  #  the_geom                                               STATEFP10    COUNTYFP10    TRACTCE10      GEOID10    NAME10  NAMELSAD10              COMMAREA    COMMAREA_N  NOTES\n",
       "  0  'MULTIPOLYGON (((-87.62404799998049 41.730216999...           17            31       842400  17031842400   8424     Census Tract 8424             44            44\n",
       "  1  'MULTIPOLYGON (((-87.6860799999848 41.8229560000...           17            31       840300  17031840300   8403     Census Tract 8403             59            59\n",
       "  2  'MULTIPOLYGON (((-87.62934700001182 41.852797000...           17            31       841100  17031841100   8411     Census Tract 8411             34            34\n",
       "  3  'MULTIPOLYGON (((-87.68813499997718 41.855690999...           17            31       841200  17031841200   8412     Census Tract 8412             31            31\n",
       "  4  'MULTIPOLYGON (((-87.63312200003458 41.874488000...           17            31       839000  17031839000   8390     Census Tract 8390             32            32\n",
       "  5  'MULTIPOLYGON (((-87.6678199999753 41.8741839999...           17            31       838200  17031838200   8382     Census Tract 8382             28            28\n",
       "  6  'MULTIPOLYGON (((-87.73706400002477 41.771203999...           17            31       650301  17031650301   6503.01  Census Tract 6503.01          65            65\n",
       "  7  'MULTIPOLYGON (((-87.64386399998179 41.663210000...           17            31       530503  17031530503   5305.03  Census Tract 5305.03          53            53\n",
       "  8  'MULTIPOLYGON (((-87.83844200004106 41.970199999...           17            31       760803  17031760803   7608.03  Census Tract 7608.03          76            76\n",
       "  9  'MULTIPOLYGON (((-87.6543830000042 41.9902020000...           17            31        30601  17031030601    306.01  Census Tract 306.01           77            77"
      ]
     },
     "execution_count": 2,
     "metadata": {},
     "output_type": "execute_result"
    }
   ],
   "source": [
    "# open external data\n",
    "df_census_tracts = vaex.open('./data/chicago_census_tracts.csv')\n",
    "df_census_tracts.head()"
   ]
  },
  {
   "cell_type": "code",
   "execution_count": 3,
   "metadata": {},
   "outputs": [
    {
     "data": {
      "text/html": [
       "<table>\n",
       "<thead>\n",
       "<tr><th>#                            </th><th>the_geom                                           </th><th style=\"text-align: right;\">  PERIMETER</th><th style=\"text-align: right;\">  AREA</th><th style=\"text-align: right;\">  COMAREA_</th><th style=\"text-align: right;\">  COMAREA_ID</th><th style=\"text-align: right;\">  AREA_NUMBE</th><th>COMMUNITY      </th><th style=\"text-align: right;\">  AREA_NUM_1</th><th style=\"text-align: right;\">  SHAPE_AREA</th><th style=\"text-align: right;\">  SHAPE_LEN</th></tr>\n",
       "</thead>\n",
       "<tbody>\n",
       "<tr><td><i style='opacity: 0.6'>0</i></td><td>&#x27;MULTIPOLYGON (((-87.60914087617894 41.844692502...</td><td style=\"text-align: right;\">          0</td><td style=\"text-align: right;\">     0</td><td style=\"text-align: right;\">         0</td><td style=\"text-align: right;\">           0</td><td style=\"text-align: right;\">          35</td><td>DOUGLAS        </td><td style=\"text-align: right;\">          35</td><td style=\"text-align: right;\"> 4.60046e+07</td><td style=\"text-align: right;\">    31027.1</td></tr>\n",
       "<tr><td><i style='opacity: 0.6'>1</i></td><td>&#x27;MULTIPOLYGON (((-87.59215283879394 41.816929346...</td><td style=\"text-align: right;\">          0</td><td style=\"text-align: right;\">     0</td><td style=\"text-align: right;\">         0</td><td style=\"text-align: right;\">           0</td><td style=\"text-align: right;\">          36</td><td>OAKLAND        </td><td style=\"text-align: right;\">          36</td><td style=\"text-align: right;\"> 1.6914e+07 </td><td style=\"text-align: right;\">    19565.5</td></tr>\n",
       "<tr><td><i style='opacity: 0.6'>2</i></td><td>&#x27;MULTIPOLYGON (((-87.62879823733725 41.801893033...</td><td style=\"text-align: right;\">          0</td><td style=\"text-align: right;\">     0</td><td style=\"text-align: right;\">         0</td><td style=\"text-align: right;\">           0</td><td style=\"text-align: right;\">          37</td><td>FULLER PARK    </td><td style=\"text-align: right;\">          37</td><td style=\"text-align: right;\"> 1.99167e+07</td><td style=\"text-align: right;\">    25339.1</td></tr>\n",
       "<tr><td><i style='opacity: 0.6'>3</i></td><td>&#x27;MULTIPOLYGON (((-87.6067081256125 41.8168137705...</td><td style=\"text-align: right;\">          0</td><td style=\"text-align: right;\">     0</td><td style=\"text-align: right;\">         0</td><td style=\"text-align: right;\">           0</td><td style=\"text-align: right;\">          38</td><td>GRAND BOULEVARD</td><td style=\"text-align: right;\">          38</td><td style=\"text-align: right;\"> 4.84925e+07</td><td style=\"text-align: right;\">    28196.8</td></tr>\n",
       "<tr><td><i style='opacity: 0.6'>4</i></td><td>&#x27;MULTIPOLYGON (((-87.59215283879394 41.816929346...</td><td style=\"text-align: right;\">          0</td><td style=\"text-align: right;\">     0</td><td style=\"text-align: right;\">         0</td><td style=\"text-align: right;\">           0</td><td style=\"text-align: right;\">          39</td><td>KENWOOD        </td><td style=\"text-align: right;\">          39</td><td style=\"text-align: right;\"> 2.90717e+07</td><td style=\"text-align: right;\">    23325.2</td></tr>\n",
       "<tr><td><i style='opacity: 0.6'>5</i></td><td>&#x27;MULTIPOLYGON (((-87.6744075678037 41.9761034044...</td><td style=\"text-align: right;\">          0</td><td style=\"text-align: right;\">     0</td><td style=\"text-align: right;\">         0</td><td style=\"text-align: right;\">           0</td><td style=\"text-align: right;\">           4</td><td>LINCOLN SQUARE </td><td style=\"text-align: right;\">           4</td><td style=\"text-align: right;\"> 7.13523e+07</td><td style=\"text-align: right;\">    36624.6</td></tr>\n",
       "<tr><td><i style='opacity: 0.6'>6</i></td><td>&#x27;MULTIPOLYGON (((-87.60603749217005 41.785874064...</td><td style=\"text-align: right;\">          0</td><td style=\"text-align: right;\">     0</td><td style=\"text-align: right;\">         0</td><td style=\"text-align: right;\">           0</td><td style=\"text-align: right;\">          40</td><td>WASHINGTON PARK</td><td style=\"text-align: right;\">          40</td><td style=\"text-align: right;\"> 4.23739e+07</td><td style=\"text-align: right;\">    28175.3</td></tr>\n",
       "<tr><td><i style='opacity: 0.6'>7</i></td><td>&#x27;MULTIPOLYGON (((-87.58037662085418 41.802525022...</td><td style=\"text-align: right;\">          0</td><td style=\"text-align: right;\">     0</td><td style=\"text-align: right;\">         0</td><td style=\"text-align: right;\">           0</td><td style=\"text-align: right;\">          41</td><td>HYDE PARK      </td><td style=\"text-align: right;\">          41</td><td style=\"text-align: right;\"> 4.51054e+07</td><td style=\"text-align: right;\">    29746.7</td></tr>\n",
       "<tr><td><i style='opacity: 0.6'>8</i></td><td>&#x27;MULTIPOLYGON (((-87.57714456891335 41.786146410...</td><td style=\"text-align: right;\">          0</td><td style=\"text-align: right;\">     0</td><td style=\"text-align: right;\">         0</td><td style=\"text-align: right;\">           0</td><td style=\"text-align: right;\">          42</td><td>WOODLAWN       </td><td style=\"text-align: right;\">          42</td><td style=\"text-align: right;\"> 5.78152e+07</td><td style=\"text-align: right;\">    46937  </td></tr>\n",
       "<tr><td><i style='opacity: 0.6'>9</i></td><td>&#x27;MULTIPOLYGON (((-87.65455590025104 41.998166149...</td><td style=\"text-align: right;\">          0</td><td style=\"text-align: right;\">     0</td><td style=\"text-align: right;\">         0</td><td style=\"text-align: right;\">           0</td><td style=\"text-align: right;\">           1</td><td>ROGERS PARK    </td><td style=\"text-align: right;\">           1</td><td style=\"text-align: right;\"> 5.12599e+07</td><td style=\"text-align: right;\">    34052.4</td></tr>\n",
       "</tbody>\n",
       "</table>"
      ],
      "text/plain": [
       "  #  the_geom                                               PERIMETER    AREA    COMAREA_    COMAREA_ID    AREA_NUMBE  COMMUNITY          AREA_NUM_1    SHAPE_AREA    SHAPE_LEN\n",
       "  0  'MULTIPOLYGON (((-87.60914087617894 41.844692502...            0       0           0             0            35  DOUGLAS                    35   4.60046e+07      31027.1\n",
       "  1  'MULTIPOLYGON (((-87.59215283879394 41.816929346...            0       0           0             0            36  OAKLAND                    36   1.6914e+07       19565.5\n",
       "  2  'MULTIPOLYGON (((-87.62879823733725 41.801893033...            0       0           0             0            37  FULLER PARK                37   1.99167e+07      25339.1\n",
       "  3  'MULTIPOLYGON (((-87.6067081256125 41.8168137705...            0       0           0             0            38  GRAND BOULEVARD            38   4.84925e+07      28196.8\n",
       "  4  'MULTIPOLYGON (((-87.59215283879394 41.816929346...            0       0           0             0            39  KENWOOD                    39   2.90717e+07      23325.2\n",
       "  5  'MULTIPOLYGON (((-87.6744075678037 41.9761034044...            0       0           0             0             4  LINCOLN SQUARE              4   7.13523e+07      36624.6\n",
       "  6  'MULTIPOLYGON (((-87.60603749217005 41.785874064...            0       0           0             0            40  WASHINGTON PARK            40   4.23739e+07      28175.3\n",
       "  7  'MULTIPOLYGON (((-87.58037662085418 41.802525022...            0       0           0             0            41  HYDE PARK                  41   4.51054e+07      29746.7\n",
       "  8  'MULTIPOLYGON (((-87.57714456891335 41.786146410...            0       0           0             0            42  WOODLAWN                   42   5.78152e+07      46937\n",
       "  9  'MULTIPOLYGON (((-87.65455590025104 41.998166149...            0       0           0             0             1  ROGERS PARK                 1   5.12599e+07      34052.4"
      ]
     },
     "execution_count": 3,
     "metadata": {},
     "output_type": "execute_result"
    }
   ],
   "source": [
    "df_community_areas = vaex.open('./data/community_areas.csv')\n",
    "df_community_areas.head()"
   ]
  },
  {
   "attachments": {},
   "cell_type": "markdown",
   "metadata": {},
   "source": [
    "### Reduce amount of columns and drop rows with null values in important columns"
   ]
  },
  {
   "cell_type": "code",
   "execution_count": 5,
   "metadata": {},
   "outputs": [
    {
     "name": "stdout",
     "output_type": "stream",
     "text": [
      "Total number of rows: 24988003\n"
     ]
    }
   ],
   "source": [
    "# Display amount of rows before preparation\n",
    "print(\"Total number of rows: \" + str(df_taxi_trips_all.count()))"
   ]
  },
  {
   "cell_type": "code",
   "execution_count": 6,
   "metadata": {},
   "outputs": [],
   "source": [
    "# drop 'dropoff_centroid__location' and 'pickup_centroid_location' because we work with latitude and longitude values\n",
    "df_taxi_trips_all_dropped = df_taxi_trips_all.drop(['dropoff_centroid__location', 'pickup_centroid_location'])"
   ]
  },
  {
   "cell_type": "code",
   "execution_count": 7,
   "metadata": {},
   "outputs": [
    {
     "name": "stdout",
     "output_type": "stream",
     "text": [
      "Number of dropped rows with 'trip_seconds' = 0: 517580\n",
      "Number of dropped rows with 'trip_miles' = 0: 2531945\n",
      "Number of dropped rows with NaN-values in 'pickup_centroid_latitude', 'pickup_centroid_longitude', 'dropoff_centroid_latitude', 'dropoff_centroid_longitude': 2362682\n",
      "Number of dropped rows with NA-values in 'taxi_id', 'trip_seconds', 'trip_miles': 2797\n",
      "Number of rows after data preparation: 19572999\n"
     ]
    }
   ],
   "source": [
    "# drop rows with trip_seconds and trip_miles = 0 seconds and drop several columns with NaN (Not a Number) and NA (Not available) values\n",
    "# We do not drop rows with null values in census tracts and community areas to cover trips which start/end outside of the marked area\n",
    "df_taxi_trips_cleaned_sec = df_taxi_trips_all_dropped[df_taxi_trips_all_dropped['trip_seconds'] != 0.0]\n",
    "print(\"Number of dropped rows with 'trip_seconds' = 0: \" + str(df_taxi_trips_all.count() - df_taxi_trips_cleaned_sec.count()))\n",
    "\n",
    "df_taxi_trips_cleaned_sec_trips = df_taxi_trips_cleaned_sec[df_taxi_trips_cleaned_sec['trip_miles'] != 0.0]\n",
    "print(\"Number of dropped rows with 'trip_miles' = 0: \" + str(df_taxi_trips_cleaned_sec.count() - df_taxi_trips_cleaned_sec_trips.count()))\n",
    "\n",
    "df_taxi_trips_cleaned_sec_trips_location = df_taxi_trips_cleaned_sec_trips.dropnan(column_names=[\"pickup_centroid_latitude\", \"pickup_centroid_longitude\", \"dropoff_centroid_latitude\", \"dropoff_centroid_longitude\"], how='any')\n",
    "print(\"Number of dropped rows with NaN-values in 'pickup_centroid_latitude', 'pickup_centroid_longitude', 'dropoff_centroid_latitude', 'dropoff_centroid_longitude': \" + str(df_taxi_trips_cleaned_sec_trips.count() - df_taxi_trips_cleaned_sec_trips_location.count()))\n",
    "\n",
    "df_taxi_trips_prepared = df_taxi_trips_cleaned_sec_trips_location.dropna(column_names=[\"taxi_id\", \"trip_seconds\", \"trip_miles\"], how='any')\n",
    "print(\"Number of dropped rows with NA-values in 'taxi_id', 'trip_seconds', 'trip_miles': \" + str(df_taxi_trips_cleaned_sec_trips_location.count() - df_taxi_trips_prepared.count()))\n",
    "\n",
    "print(\"Number of rows after data preparation: \" + str(df_taxi_trips_prepared.count()))"
   ]
  },
  {
   "attachments": {},
   "cell_type": "markdown",
   "metadata": {},
   "source": [
    "### Check for consistency"
   ]
  },
  {
   "cell_type": "code",
   "execution_count": 8,
   "metadata": {},
   "outputs": [
    {
     "ename": "KeyboardInterrupt",
     "evalue": "",
     "output_type": "error",
     "traceback": [
      "\u001b[0;31m---------------------------------------------------------------------------\u001b[0m",
      "\u001b[0;31mKeyboardInterrupt\u001b[0m                         Traceback (most recent call last)",
      "\u001b[1;32m/home/lblunck/DEVELOPMENT/AAA_The_Dudes/01_prep.ipynb Cell 10\u001b[0m in \u001b[0;36m2\n\u001b[1;32m      <a href='vscode-notebook-cell://wsl%2Bubuntu-22.04/home/lblunck/DEVELOPMENT/AAA_The_Dudes/01_prep.ipynb#X36sdnNjb2RlLXJlbW90ZQ%3D%3D?line=0'>1</a>\u001b[0m \u001b[39m# check if trip ids are uniqe\u001b[39;00m\n\u001b[0;32m----> <a href='vscode-notebook-cell://wsl%2Bubuntu-22.04/home/lblunck/DEVELOPMENT/AAA_The_Dudes/01_prep.ipynb#X36sdnNjb2RlLXJlbW90ZQ%3D%3D?line=1'>2</a>\u001b[0m \u001b[39mprint\u001b[39m(\u001b[39m\"\u001b[39m\u001b[39mTrip IDs are unique?: \u001b[39m\u001b[39m\"\u001b[39m \u001b[39m+\u001b[39m \u001b[39mstr\u001b[39m(\u001b[39mlen\u001b[39m(df_taxi_trips_prepared) \u001b[39m==\u001b[39m df_taxi_trips_prepared[\u001b[39m'\u001b[39;49m\u001b[39mtrip_id\u001b[39;49m\u001b[39m'\u001b[39;49m]\u001b[39m.\u001b[39;49mnunique()))\n",
      "File \u001b[0;32m~/.local/lib/python3.10/site-packages/vaex/expression.py:1069\u001b[0m, in \u001b[0;36mExpression.nunique\u001b[0;34m(self, dropna, dropnan, dropmissing, selection, axis, limit, limit_raise, progress, delay)\u001b[0m\n\u001b[1;32m   1067\u001b[0m     \u001b[39melse\u001b[39;00m:\n\u001b[1;32m   1068\u001b[0m         \u001b[39mreturn\u001b[39;00m \u001b[39mlen\u001b[39m(value)\n\u001b[0;32m-> 1069\u001b[0m \u001b[39mreturn\u001b[39;00m f()\n",
      "File \u001b[0;32m~/.local/lib/python3.10/site-packages/vaex/cache.py:492\u001b[0m, in \u001b[0;36m_memoize.<locals>.wrapper_top.<locals>.wrapper\u001b[0;34m(*args, **kwargs)\u001b[0m\n\u001b[1;32m    490\u001b[0m             \u001b[39mreturn\u001b[39;00m value\n\u001b[1;32m    491\u001b[0m \u001b[39melse\u001b[39;00m:\n\u001b[0;32m--> 492\u001b[0m     \u001b[39mreturn\u001b[39;00m f(\u001b[39m*\u001b[39;49margs, \u001b[39m*\u001b[39;49m\u001b[39m*\u001b[39;49mkwargs)\n",
      "File \u001b[0;32m~/.local/lib/python3.10/site-packages/vaex/expression.py:1064\u001b[0m, in \u001b[0;36mExpression.nunique.<locals>.f\u001b[0;34m()\u001b[0m\n\u001b[1;32m   1062\u001b[0m \u001b[39m@vaex\u001b[39m\u001b[39m.\u001b[39mcache\u001b[39m.\u001b[39m_memoize(key_function\u001b[39m=\u001b[39mkey_function, delay\u001b[39m=\u001b[39mdelay)\n\u001b[1;32m   1063\u001b[0m \u001b[39mdef\u001b[39;00m \u001b[39mf\u001b[39m():\n\u001b[0;32m-> 1064\u001b[0m     value \u001b[39m=\u001b[39m \u001b[39mself\u001b[39;49m\u001b[39m.\u001b[39;49munique(dropna\u001b[39m=\u001b[39;49mdropna, dropnan\u001b[39m=\u001b[39;49mdropnan, dropmissing\u001b[39m=\u001b[39;49mdropmissing, selection\u001b[39m=\u001b[39;49mselection, axis\u001b[39m=\u001b[39;49maxis, limit\u001b[39m=\u001b[39;49mlimit, limit_raise\u001b[39m=\u001b[39;49mlimit_raise, array_type\u001b[39m=\u001b[39;49m\u001b[39mNone\u001b[39;49;00m, progress\u001b[39m=\u001b[39;49mprogress, delay\u001b[39m=\u001b[39;49mdelay)\n\u001b[1;32m   1065\u001b[0m     \u001b[39mif\u001b[39;00m delay:\n\u001b[1;32m   1066\u001b[0m         \u001b[39mreturn\u001b[39;00m value\u001b[39m.\u001b[39mthen(\u001b[39mlen\u001b[39m)\n",
      "File \u001b[0;32m~/.local/lib/python3.10/site-packages/vaex/expression.py:1043\u001b[0m, in \u001b[0;36mExpression.unique\u001b[0;34m(self, dropna, dropnan, dropmissing, selection, axis, limit, limit_raise, array_type, progress, delay)\u001b[0m\n\u001b[1;32m   1028\u001b[0m \u001b[39m@docsubst\u001b[39m\n\u001b[1;32m   1029\u001b[0m \u001b[39mdef\u001b[39;00m \u001b[39munique\u001b[39m(\u001b[39mself\u001b[39m, dropna\u001b[39m=\u001b[39m\u001b[39mFalse\u001b[39;00m, dropnan\u001b[39m=\u001b[39m\u001b[39mFalse\u001b[39;00m, dropmissing\u001b[39m=\u001b[39m\u001b[39mFalse\u001b[39;00m, selection\u001b[39m=\u001b[39m\u001b[39mNone\u001b[39;00m, axis\u001b[39m=\u001b[39m\u001b[39mNone\u001b[39;00m, limit\u001b[39m=\u001b[39m\u001b[39mNone\u001b[39;00m, limit_raise\u001b[39m=\u001b[39m\u001b[39mTrue\u001b[39;00m, array_type\u001b[39m=\u001b[39m\u001b[39m'\u001b[39m\u001b[39mlist\u001b[39m\u001b[39m'\u001b[39m, progress\u001b[39m=\u001b[39m\u001b[39mNone\u001b[39;00m, delay\u001b[39m=\u001b[39m\u001b[39mFalse\u001b[39;00m):\n\u001b[1;32m   1030\u001b[0m     \u001b[39m\"\"\"Returns all unique values.\u001b[39;00m\n\u001b[1;32m   1031\u001b[0m \n\u001b[1;32m   1032\u001b[0m \u001b[39m    :param dropna: {dropna}\u001b[39;00m\n\u001b[0;32m   (...)\u001b[0m\n\u001b[1;32m   1041\u001b[0m \u001b[39m    :param bool delay: {delay}\u001b[39;00m\n\u001b[1;32m   1042\u001b[0m \u001b[39m    \"\"\"\u001b[39;00m\n\u001b[0;32m-> 1043\u001b[0m     \u001b[39mreturn\u001b[39;00m \u001b[39mself\u001b[39;49m\u001b[39m.\u001b[39;49mds\u001b[39m.\u001b[39;49munique(\u001b[39mself\u001b[39;49m, dropna\u001b[39m=\u001b[39;49mdropna, dropnan\u001b[39m=\u001b[39;49mdropnan, dropmissing\u001b[39m=\u001b[39;49mdropmissing, selection\u001b[39m=\u001b[39;49mselection, array_type\u001b[39m=\u001b[39;49marray_type, axis\u001b[39m=\u001b[39;49maxis, limit\u001b[39m=\u001b[39;49mlimit, limit_raise\u001b[39m=\u001b[39;49mlimit_raise, progress\u001b[39m=\u001b[39;49mprogress, delay\u001b[39m=\u001b[39;49mdelay)\n",
      "File \u001b[0;32m~/.local/lib/python3.10/site-packages/vaex/dataframe.py:681\u001b[0m, in \u001b[0;36mDataFrame.unique\u001b[0;34m(self, expression, return_inverse, dropna, dropnan, dropmissing, progress, selection, axis, delay, limit, limit_raise, array_type)\u001b[0m\n\u001b[1;32m    679\u001b[0m \u001b[39mif\u001b[39;00m return_inverse:\n\u001b[1;32m    680\u001b[0m     progress_inverse \u001b[39m=\u001b[39m progressbar\u001b[39m.\u001b[39madd(\u001b[39m\"\u001b[39m\u001b[39mfind inverse\u001b[39m\u001b[39m\"\u001b[39m)\n\u001b[0;32m--> 681\u001b[0m \u001b[39mreturn\u001b[39;00m \u001b[39mself\u001b[39;49m\u001b[39m.\u001b[39;49m_delay(delay, progressbar\u001b[39m.\u001b[39;49mexit_on(process(hash_map_result)))\n",
      "File \u001b[0;32m~/.local/lib/python3.10/site-packages/vaex/dataframe.py:1780\u001b[0m, in \u001b[0;36mDataFrame._delay\u001b[0;34m(self, delay, task, progressbar)\u001b[0m\n\u001b[1;32m   1778\u001b[0m     \u001b[39mreturn\u001b[39;00m task\n\u001b[1;32m   1779\u001b[0m \u001b[39melse\u001b[39;00m:\n\u001b[0;32m-> 1780\u001b[0m     \u001b[39mself\u001b[39;49m\u001b[39m.\u001b[39;49mexecute()\n\u001b[1;32m   1781\u001b[0m     \u001b[39mreturn\u001b[39;00m task\u001b[39m.\u001b[39mget()\n",
      "File \u001b[0;32m~/.local/lib/python3.10/site-packages/vaex/dataframe.py:421\u001b[0m, in \u001b[0;36mDataFrame.execute\u001b[0;34m(self)\u001b[0m\n\u001b[1;32m    419\u001b[0m         \u001b[39mprint\u001b[39m(\u001b[39mrepr\u001b[39m(task))\n\u001b[1;32m    420\u001b[0m \u001b[39mif\u001b[39;00m \u001b[39mself\u001b[39m\u001b[39m.\u001b[39mexecutor\u001b[39m.\u001b[39mtasks:\n\u001b[0;32m--> 421\u001b[0m     \u001b[39mself\u001b[39;49m\u001b[39m.\u001b[39;49mexecutor\u001b[39m.\u001b[39;49mexecute()\n",
      "File \u001b[0;32m~/.local/lib/python3.10/site-packages/vaex/execution.py:308\u001b[0m, in \u001b[0;36mExecutorLocal.execute\u001b[0;34m(self)\u001b[0m\n\u001b[1;32m    307\u001b[0m \u001b[39mdef\u001b[39;00m \u001b[39mexecute\u001b[39m(\u001b[39mself\u001b[39m):\n\u001b[0;32m--> 308\u001b[0m     \u001b[39mfor\u001b[39;00m _ \u001b[39min\u001b[39;00m \u001b[39mself\u001b[39m\u001b[39m.\u001b[39mexecute_generator():\n\u001b[1;32m    309\u001b[0m         \u001b[39mpass\u001b[39;00m\n",
      "File \u001b[0;32m~/.local/lib/python3.10/site-packages/vaex/execution.py:451\u001b[0m, in \u001b[0;36mExecutorLocal.execute_generator\u001b[0;34m(self, use_async)\u001b[0m\n\u001b[1;32m    449\u001b[0m     \u001b[39mwhile\u001b[39;00m \u001b[39mnot\u001b[39;00m parts_queue\u001b[39m.\u001b[39mempty():\n\u001b[1;32m    450\u001b[0m         parts\u001b[39m.\u001b[39mappend(parts_queue\u001b[39m.\u001b[39mget())\n\u001b[0;32m--> 451\u001b[0m parts[\u001b[39m0\u001b[39;49m]\u001b[39m.\u001b[39;49mreduce(parts[\u001b[39m1\u001b[39;49m:])\n\u001b[1;32m    452\u001b[0m logger\u001b[39m.\u001b[39mdebug(\u001b[39m\"\u001b[39m\u001b[39mwait for task: \u001b[39m\u001b[39m%r\u001b[39;00m\u001b[39m\"\u001b[39m, task)\n\u001b[1;32m    453\u001b[0m task\u001b[39m.\u001b[39m_result \u001b[39m=\u001b[39m parts[\u001b[39m0\u001b[39m]\u001b[39m.\u001b[39mget_result()\n",
      "File \u001b[0;32m~/.local/lib/python3.10/site-packages/vaex/cpu.py:394\u001b[0m, in \u001b[0;36mTaskPartHashmapUniqueCreate.reduce\u001b[0;34m(self, others)\u001b[0m\n\u001b[1;32m    392\u001b[0m             hash_map_unique_merged \u001b[39m=\u001b[39m hash_map_unique_merged\u001b[39m.\u001b[39mlimit(\u001b[39mself\u001b[39m\u001b[39m.\u001b[39mlimit)\n\u001b[1;32m    393\u001b[0m logger\u001b[39m.\u001b[39mdebug(\u001b[39m\"\u001b[39m\u001b[39mflatten hashmap...\u001b[39m\u001b[39m\"\u001b[39m)\n\u001b[0;32m--> 394\u001b[0m \u001b[39mself\u001b[39m\u001b[39m.\u001b[39mhash_map_unique \u001b[39m=\u001b[39m hash_map_unique_merged\u001b[39m.\u001b[39;49mflatten()\n\u001b[1;32m    395\u001b[0m logger\u001b[39m.\u001b[39mdebug(\u001b[39m\"\u001b[39m\u001b[39mflatten hashmap done\u001b[39m\u001b[39m\"\u001b[39m)\n\u001b[1;32m    396\u001b[0m \u001b[39mself\u001b[39m\u001b[39m.\u001b[39mhash_map_unique\u001b[39m.\u001b[39m_internal\u001b[39m.\u001b[39mfingerprint \u001b[39m=\u001b[39m \u001b[39mf\u001b[39m\u001b[39m'\u001b[39m\u001b[39mhash-map-unique-\u001b[39m\u001b[39m{\u001b[39;00m\u001b[39mself\u001b[39m\u001b[39m.\u001b[39mfingerprint\u001b[39m}\u001b[39;00m\u001b[39m'\u001b[39m\n",
      "File \u001b[0;32m~/.local/lib/python3.10/site-packages/vaex/hash.py:78\u001b[0m, in \u001b[0;36mHashMapUnique.flatten\u001b[0;34m(self)\u001b[0m\n\u001b[1;32m     76\u001b[0m \u001b[39mif\u001b[39;00m \u001b[39mself\u001b[39m\u001b[39m.\u001b[39mdtype \u001b[39m==\u001b[39m \u001b[39mobject\u001b[39m:\n\u001b[1;32m     77\u001b[0m     \u001b[39mreturn\u001b[39;00m \u001b[39mself\u001b[39m \u001b[39m# already flat\u001b[39;00m\n\u001b[0;32m---> 78\u001b[0m keys \u001b[39m=\u001b[39m \u001b[39mself\u001b[39;49m\u001b[39m.\u001b[39;49m_internal\u001b[39m.\u001b[39;49mkey_array()\n\u001b[1;32m     79\u001b[0m \u001b[39mmap\u001b[39m \u001b[39m=\u001b[39m \u001b[39mtype\u001b[39m(\u001b[39mself\u001b[39m\u001b[39m.\u001b[39m_internal)(keys, \u001b[39mself\u001b[39m\u001b[39m.\u001b[39mnull_index, \u001b[39mself\u001b[39m\u001b[39m.\u001b[39mnan_count, \u001b[39mself\u001b[39m\u001b[39m.\u001b[39mnull_count, \u001b[39mself\u001b[39m\u001b[39m.\u001b[39mfingerprint)\n\u001b[1;32m     80\u001b[0m \u001b[39mreturn\u001b[39;00m HashMapUnique(\u001b[39mself\u001b[39m\u001b[39m.\u001b[39mdtype, _internal\u001b[39m=\u001b[39m\u001b[39mmap\u001b[39m)\n",
      "\u001b[0;31mKeyboardInterrupt\u001b[0m: "
     ]
    }
   ],
   "source": [
    "# check if trip ids are uniqe\n",
    "print(\"Trip IDs are unique?: \" + str(len(df_taxi_trips_prepared) == df_taxi_trips_prepared['trip_id'].nunique()))"
   ]
  },
  {
   "cell_type": "code",
   "execution_count": null,
   "metadata": {},
   "outputs": [
    {
     "name": "stdout",
     "output_type": "stream",
     "text": [
      "Number of community areas: 77\n",
      "Number of community areas in taxi trip data without NaN-values: 77\n"
     ]
    }
   ],
   "source": [
    "# check for consistency in community areas\n",
    "print(\"Number of community areas: \" + str(df_community_areas.count()))\n",
    "print(\"Number of community areas in taxi trip data without NaN-values: \" + str(df_taxi_trips_all.pickup_community_area.nunique(dropnan=True)))"
   ]
  },
  {
   "cell_type": "code",
   "execution_count": null,
   "metadata": {},
   "outputs": [
    {
     "name": "stdout",
     "output_type": "stream",
     "text": [
      "Do the community area IDs in the taxi trip data match the community area dataset?  True\n"
     ]
    }
   ],
   "source": [
    "import pyarrow as pa\n",
    "community_areas = df_community_areas.AREA_NUMBE.values.unique()\n",
    "community_areas_int = set([area.as_py() for area in community_areas])\n",
    "\n",
    "community_areas_taxi_trips = df_taxi_trips_all.pickup_community_area.unique(dropnan=True)\n",
    "community_areas_taxi_trips_int = set([int(area) for area in community_areas_taxi_trips])\n",
    "\n",
    "print(\"Do the community area IDs in the taxi trip data match the community area dataset? \",community_areas_int == community_areas_taxi_trips_int)"
   ]
  },
  {
   "cell_type": "code",
   "execution_count": null,
   "metadata": {},
   "outputs": [
    {
     "name": "stdout",
     "output_type": "stream",
     "text": [
      "Number of census tracts: 801\n",
      "Number of pickup census tracts in taxi trip data without NaN-values: 952\n",
      "Number of dropoff census tracts in taxi trip data without NaN-values: 1074\n"
     ]
    }
   ],
   "source": [
    "# check for consistency in census tracts\n",
    "print(\"Number of census tracts: \" + str(df_census_tracts.count()))\n",
    "print(\"Number of pickup census tracts in taxi trip data without NaN-values: \" + str(df_taxi_trips_all.pickup_census_tract.nunique(dropnan=True)))\n",
    "print(\"Number of dropoff census tracts in taxi trip data without NaN-values: \" + str(df_taxi_trips_all.dropoff_census_tract.nunique(dropnan=True)))\n",
    "\n",
    "# The results show that the taxi trips contain more census tracts than the dataset from the Chicago Data Portal"
   ]
  },
  {
   "cell_type": "code",
   "execution_count": null,
   "metadata": {},
   "outputs": [
    {
     "name": "stdout",
     "output_type": "stream",
     "text": [
      "Number of known pickup ids: 568\n",
      "Number of unknown pickup ids: 384\n",
      "Number of known dropoff ids: 656\n",
      "Number of unknown dropoff ids: 418\n"
     ]
    }
   ],
   "source": [
    "# check how many of the taxi trips census tracts ids are represented in the official data set\n",
    "df_census_tracts.GEOID10.values\n",
    "census_tracts = set([id.as_py() for id in df_census_tracts.GEOID10.values])\n",
    "census_tracts_taxi_pickups = set([int(id) for id in df_taxi_trips_all.pickup_census_tract.unique(dropnan=True)])\n",
    "census_tracts_taxi_dropoffs = set([int(id) for id in df_taxi_trips_all.dropoff_census_tract.unique(dropnan=True)])\n",
    "\n",
    "known_pickup_ids = census_tracts.intersection(census_tracts_taxi_pickups)\n",
    "known_dropoff_ids = census_tracts.intersection(census_tracts_taxi_dropoffs)\n",
    "\n",
    "unknown_pickup_ids = census_tracts_taxi_pickups - census_tracts\n",
    "unknown_dropoffs_ids = census_tracts_taxi_dropoffs - census_tracts\n",
    "\n",
    "print(\"Number of known pickup ids: \" + str(len(known_pickup_ids)))\n",
    "print(\"Number of unknown pickup ids: \" + str(len(unknown_pickup_ids)))\n",
    "print(\"Number of known dropoff ids: \" + str(len(known_dropoff_ids)))\n",
    "print(\"Number of unknown dropoff ids: \" + str(len(unknown_dropoffs_ids)))"
   ]
  },
  {
   "attachments": {},
   "cell_type": "markdown",
   "metadata": {},
   "source": [
    "### Hourly discretization of taxi trips"
   ]
  },
  {
   "cell_type": "code",
   "execution_count": 9,
   "metadata": {},
   "outputs": [],
   "source": [
    "# create columns for hourly and 4-hourly temporal discretization\n",
    "df_taxi_trips_prepared[\"trip_start_hour\"] = df_taxi_trips_prepared[\"trip_start_timestamp\"].dt.hour\n",
    "df_taxi_trips_prepared[\"trip_end_hour\"] = df_taxi_trips_prepared[\"trip_end_timestamp\"].dt.hour\n",
    "df_taxi_trips_prepared[\"trip_start_4h_period\"] = df_taxi_trips_prepared[\"trip_start_timestamp\"].dt.hour//4\n",
    "df_taxi_trips_prepared[\"trip_end_4h_period\"] = df_taxi_trips_prepared[\"trip_end_timestamp\"].dt.hour//4"
   ]
  },
  {
   "cell_type": "code",
   "execution_count": 10,
   "metadata": {},
   "outputs": [
    {
     "data": {
      "text/html": [
       "<table>\n",
       "<thead>\n",
       "<tr><th>#                            </th><th>trip_id                                 </th><th>taxi_id                                            </th><th>trip_start_timestamp         </th><th>trip_end_timestamp           </th><th style=\"text-align: right;\">  trip_seconds</th><th style=\"text-align: right;\">  trip_miles</th><th style=\"text-align: right;\">  pickup_census_tract</th><th style=\"text-align: right;\">  dropoff_census_tract</th><th style=\"text-align: right;\">  pickup_community_area</th><th style=\"text-align: right;\">  dropoff_community_area</th><th style=\"text-align: right;\">  fare</th><th style=\"text-align: right;\">  tips</th><th style=\"text-align: right;\">  tolls</th><th style=\"text-align: right;\">  extras</th><th style=\"text-align: right;\">  trip_total</th><th>payment_type  </th><th>company                          </th><th style=\"text-align: right;\">  pickup_centroid_latitude</th><th style=\"text-align: right;\">  pickup_centroid_longitude</th><th style=\"text-align: right;\">  dropoff_centroid_latitude</th><th style=\"text-align: right;\">  dropoff_centroid_longitude</th><th style=\"text-align: right;\">  trip_start_hour</th><th style=\"text-align: right;\">  trip_end_hour</th><th style=\"text-align: right;\">  trip_start_4h_period</th><th style=\"text-align: right;\">  trip_end_4h_period</th></tr>\n",
       "</thead>\n",
       "<tbody>\n",
       "<tr><td><i style='opacity: 0.6'>0</i></td><td>fe9bfc25af9dffac30370f4e7d57a8c8a8bdbc0d</td><td>&#x27;b7da4d1247a408c100b4964f236760694290aace75c8b87...</td><td>2017-01-01 00:00:00.000000000</td><td>2017-01-01 00:00:00.000000000</td><td style=\"text-align: right;\">           660</td><td style=\"text-align: right;\">         2.7</td><td style=\"text-align: right;\">        nan          </td><td style=\"text-align: right;\">         nan          </td><td style=\"text-align: right;\">                      2</td><td style=\"text-align: right;\">                       3</td><td style=\"text-align: right;\"> 10   </td><td style=\"text-align: right;\">  2   </td><td style=\"text-align: right;\">      0</td><td style=\"text-align: right;\">     0  </td><td style=\"text-align: right;\">       12   </td><td>Credit Card   </td><td>Choice Taxi Association          </td><td style=\"text-align: right;\">                   42.0016</td><td style=\"text-align: right;\">                   -87.695 </td><td style=\"text-align: right;\">                    41.9658</td><td style=\"text-align: right;\">                    -87.6559</td><td style=\"text-align: right;\">                0</td><td style=\"text-align: right;\">              0</td><td style=\"text-align: right;\">                     0</td><td style=\"text-align: right;\">                   0</td></tr>\n",
       "<tr><td><i style='opacity: 0.6'>1</i></td><td>149f18c2d8b9bce6001cc9e156092aa562c83bc1</td><td>&#x27;b7a562fe2d37014bb47274cb5baa361b97ff9263e3ba526...</td><td>2017-01-01 00:00:00.000000000</td><td>2017-01-01 00:15:00.000000000</td><td style=\"text-align: right;\">           120</td><td style=\"text-align: right;\">         0.5</td><td style=\"text-align: right;\">        nan          </td><td style=\"text-align: right;\">         nan          </td><td style=\"text-align: right;\">                     16</td><td style=\"text-align: right;\">                      16</td><td style=\"text-align: right;\">  4.5 </td><td style=\"text-align: right;\">  0   </td><td style=\"text-align: right;\">      0</td><td style=\"text-align: right;\">     0  </td><td style=\"text-align: right;\">        4.5 </td><td>Cash          </td><td>Taxi Affiliation Services        </td><td style=\"text-align: right;\">                   41.9536</td><td style=\"text-align: right;\">                   -87.7235</td><td style=\"text-align: right;\">                    41.9536</td><td style=\"text-align: right;\">                    -87.7235</td><td style=\"text-align: right;\">                0</td><td style=\"text-align: right;\">              0</td><td style=\"text-align: right;\">                     0</td><td style=\"text-align: right;\">                   0</td></tr>\n",
       "<tr><td><i style='opacity: 0.6'>2</i></td><td>1b545d0be27b195076e5d2a7d4fc0ebef6ef20ac</td><td>&#x27;56a1119c6ca57e39525cf06829f9ecff553cf4b5ac24821...</td><td>2017-01-01 00:00:00.000000000</td><td>2017-01-01 00:00:00.000000000</td><td style=\"text-align: right;\">           240</td><td style=\"text-align: right;\">         1.3</td><td style=\"text-align: right;\">          1.70318e+10</td><td style=\"text-align: right;\">           1.70318e+10</td><td style=\"text-align: right;\">                     32</td><td style=\"text-align: right;\">                      28</td><td style=\"text-align: right;\">  6.25</td><td style=\"text-align: right;\">  0   </td><td style=\"text-align: right;\">      0</td><td style=\"text-align: right;\">     0  </td><td style=\"text-align: right;\">        6.25</td><td>Cash          </td><td>Taxi Affiliation Services        </td><td style=\"text-align: right;\">                   41.881 </td><td style=\"text-align: right;\">                   -87.6327</td><td style=\"text-align: right;\">                    41.8853</td><td style=\"text-align: right;\">                    -87.6572</td><td style=\"text-align: right;\">                0</td><td style=\"text-align: right;\">              0</td><td style=\"text-align: right;\">                     0</td><td style=\"text-align: right;\">                   0</td></tr>\n",
       "<tr><td><i style='opacity: 0.6'>3</i></td><td>c3ee40051c5643c54064a8b9df3686d2d411518d</td><td>&#x27;7987cfe5e3b2c9869665f70fe35dbe7423e7fc5852f2d6f...</td><td>2017-01-01 00:00:00.000000000</td><td>2017-01-01 00:15:00.000000000</td><td style=\"text-align: right;\">          1500</td><td style=\"text-align: right;\">         0.4</td><td style=\"text-align: right;\">          1.70318e+10</td><td style=\"text-align: right;\">           1.70311e+10</td><td style=\"text-align: right;\">                     32</td><td style=\"text-align: right;\">                       8</td><td style=\"text-align: right;\"> 22.75</td><td style=\"text-align: right;\">  4.85</td><td style=\"text-align: right;\">      0</td><td style=\"text-align: right;\">     1.5</td><td style=\"text-align: right;\">       29.1 </td><td>Credit Card   </td><td>Blue Ribbon Taxi Association Inc.</td><td style=\"text-align: right;\">                   41.881 </td><td style=\"text-align: right;\">                   -87.6327</td><td style=\"text-align: right;\">                    41.8983</td><td style=\"text-align: right;\">                    -87.6208</td><td style=\"text-align: right;\">                0</td><td style=\"text-align: right;\">              0</td><td style=\"text-align: right;\">                     0</td><td style=\"text-align: right;\">                   0</td></tr>\n",
       "<tr><td><i style='opacity: 0.6'>4</i></td><td>29f30c8a6bbc028f5d63aa18c708d31b47267a9f</td><td>&#x27;0b269137bd94b55212311226d9e1554423e12bcc16a432c...</td><td>2017-01-01 00:00:00.000000000</td><td>2017-01-01 00:30:00.000000000</td><td style=\"text-align: right;\">          1620</td><td style=\"text-align: right;\">         0.9</td><td style=\"text-align: right;\">          1.70318e+10</td><td style=\"text-align: right;\">           1.70311e+10</td><td style=\"text-align: right;\">                     32</td><td style=\"text-align: right;\">                       8</td><td style=\"text-align: right;\"> 12.25</td><td style=\"text-align: right;\">  2.85</td><td style=\"text-align: right;\">      0</td><td style=\"text-align: right;\">     2  </td><td style=\"text-align: right;\">       17.1 </td><td>Credit Card   </td><td>Taxi Affiliation Services        </td><td style=\"text-align: right;\">                   41.881 </td><td style=\"text-align: right;\">                   -87.6327</td><td style=\"text-align: right;\">                    41.8925</td><td style=\"text-align: right;\">                    -87.6262</td><td style=\"text-align: right;\">                0</td><td style=\"text-align: right;\">              0</td><td style=\"text-align: right;\">                     0</td><td style=\"text-align: right;\">                   0</td></tr>\n",
       "<tr><td><i style='opacity: 0.6'>5</i></td><td>bfa259279b4557566d2d06381156715d9be355a1</td><td>&#x27;7e7dce4bc47f1de9dd9e4fe427408dbf9fc61d786574a5a...</td><td>2017-01-01 00:00:00.000000000</td><td>2017-01-01 00:00:00.000000000</td><td style=\"text-align: right;\">           480</td><td style=\"text-align: right;\">         3.5</td><td style=\"text-align: right;\">        nan          </td><td style=\"text-align: right;\">         nan          </td><td style=\"text-align: right;\">                     77</td><td style=\"text-align: right;\">                       6</td><td style=\"text-align: right;\"> 11.25</td><td style=\"text-align: right;\">  0   </td><td style=\"text-align: right;\">      0</td><td style=\"text-align: right;\">     1  </td><td style=\"text-align: right;\">       12.25</td><td>Cash          </td><td>Choice Taxi Association          </td><td style=\"text-align: right;\">                   41.9867</td><td style=\"text-align: right;\">                   -87.6634</td><td style=\"text-align: right;\">                    41.9442</td><td style=\"text-align: right;\">                    -87.656 </td><td style=\"text-align: right;\">                0</td><td style=\"text-align: right;\">              0</td><td style=\"text-align: right;\">                     0</td><td style=\"text-align: right;\">                   0</td></tr>\n",
       "<tr><td><i style='opacity: 0.6'>6</i></td><td>55ae4fa955e6bc8705b995248c34f4183d848c27</td><td>&#x27;d1d781b6807176ed53fbb9d0010dd0a87e29c073984bda6...</td><td>2017-01-01 00:00:00.000000000</td><td>2017-01-01 00:00:00.000000000</td><td style=\"text-align: right;\">           540</td><td style=\"text-align: right;\">         1  </td><td style=\"text-align: right;\">          1.70311e+10</td><td style=\"text-align: right;\">           1.70311e+10</td><td style=\"text-align: right;\">                      8</td><td style=\"text-align: right;\">                       8</td><td style=\"text-align: right;\">  6.75</td><td style=\"text-align: right;\">  0   </td><td style=\"text-align: right;\">      0</td><td style=\"text-align: right;\">     2  </td><td style=\"text-align: right;\">        8.75</td><td>Cash          </td><td>Dispatch Taxi Affiliation        </td><td style=\"text-align: right;\">                   41.9028</td><td style=\"text-align: right;\">                   -87.6261</td><td style=\"text-align: right;\">                    41.8909</td><td style=\"text-align: right;\">                    -87.6189</td><td style=\"text-align: right;\">                0</td><td style=\"text-align: right;\">              0</td><td style=\"text-align: right;\">                     0</td><td style=\"text-align: right;\">                   0</td></tr>\n",
       "<tr><td><i style='opacity: 0.6'>7</i></td><td>ce908cd441e28d08dfb22bf168102beabb5e16e4</td><td>&#x27;f7630edc68a131c4a97382dd93206949da80ec1443d8da7...</td><td>2017-01-01 00:00:00.000000000</td><td>2017-01-01 00:15:00.000000000</td><td style=\"text-align: right;\">           480</td><td style=\"text-align: right;\">         0.5</td><td style=\"text-align: right;\">          1.70311e+10</td><td style=\"text-align: right;\">           1.70311e+10</td><td style=\"text-align: right;\">                      8</td><td style=\"text-align: right;\">                       8</td><td style=\"text-align: right;\">  6.25</td><td style=\"text-align: right;\">  2   </td><td style=\"text-align: right;\">      0</td><td style=\"text-align: right;\">     1.5</td><td style=\"text-align: right;\">        9.75</td><td>Credit Card   </td><td>Taxi Affiliation Services        </td><td style=\"text-align: right;\">                   41.8925</td><td style=\"text-align: right;\">                   -87.6262</td><td style=\"text-align: right;\">                    41.8909</td><td style=\"text-align: right;\">                    -87.6189</td><td style=\"text-align: right;\">                0</td><td style=\"text-align: right;\">              0</td><td style=\"text-align: right;\">                     0</td><td style=\"text-align: right;\">                   0</td></tr>\n",
       "<tr><td><i style='opacity: 0.6'>8</i></td><td>a06320ba7f7246711505daf4bc236fcafd0142f2</td><td>&#x27;9680ca84d7fa9fceccc37db042e708c1fd78318d410201f...</td><td>2017-01-01 00:00:00.000000000</td><td>2017-01-01 00:15:00.000000000</td><td style=\"text-align: right;\">           660</td><td style=\"text-align: right;\">         3.3</td><td style=\"text-align: right;\">        nan          </td><td style=\"text-align: right;\">         nan          </td><td style=\"text-align: right;\">                     29</td><td style=\"text-align: right;\">                      28</td><td style=\"text-align: right;\"> 11.25</td><td style=\"text-align: right;\">  0   </td><td style=\"text-align: right;\">      0</td><td style=\"text-align: right;\">     0  </td><td style=\"text-align: right;\">       11.25</td><td>Cash          </td><td>Taxi Affiliation Services        </td><td style=\"text-align: right;\">                   41.8602</td><td style=\"text-align: right;\">                   -87.7172</td><td style=\"text-align: right;\">                    41.874 </td><td style=\"text-align: right;\">                    -87.6635</td><td style=\"text-align: right;\">                0</td><td style=\"text-align: right;\">              0</td><td style=\"text-align: right;\">                     0</td><td style=\"text-align: right;\">                   0</td></tr>\n",
       "<tr><td><i style='opacity: 0.6'>9</i></td><td>0642889773d6d10b72d613584fceba18232f0dfd</td><td>&#x27;38c926561cf2221a4785159e39aef376ef08ddb3c6081c4...</td><td>2017-01-01 00:00:00.000000000</td><td>2017-01-01 00:15:00.000000000</td><td style=\"text-align: right;\">          1140</td><td style=\"text-align: right;\">         0.3</td><td style=\"text-align: right;\">        nan          </td><td style=\"text-align: right;\">         nan          </td><td style=\"text-align: right;\">                     44</td><td style=\"text-align: right;\">                      38</td><td style=\"text-align: right;\"> 17.5 </td><td style=\"text-align: right;\">  0   </td><td style=\"text-align: right;\">      0</td><td style=\"text-align: right;\">     0  </td><td style=\"text-align: right;\">       17.5 </td><td>Cash          </td><td>Taxi Affiliation Services        </td><td style=\"text-align: right;\">                   41.7402</td><td style=\"text-align: right;\">                   -87.616 </td><td style=\"text-align: right;\">                    41.8129</td><td style=\"text-align: right;\">                    -87.6179</td><td style=\"text-align: right;\">                0</td><td style=\"text-align: right;\">              0</td><td style=\"text-align: right;\">                     0</td><td style=\"text-align: right;\">                   0</td></tr>\n",
       "</tbody>\n",
       "</table>"
      ],
      "text/plain": [
       "  #  trip_id                                   taxi_id                                              trip_start_timestamp           trip_end_timestamp               trip_seconds    trip_miles    pickup_census_tract    dropoff_census_tract    pickup_community_area    dropoff_community_area    fare    tips    tolls    extras    trip_total  payment_type    company                              pickup_centroid_latitude    pickup_centroid_longitude    dropoff_centroid_latitude    dropoff_centroid_longitude    trip_start_hour    trip_end_hour    trip_start_4h_period    trip_end_4h_period\n",
       "  0  fe9bfc25af9dffac30370f4e7d57a8c8a8bdbc0d  'b7da4d1247a408c100b4964f236760694290aace75c8b87...  2017-01-01 00:00:00.000000000  2017-01-01 00:00:00.000000000             660           2.7          nan                     nan                                  2                         3   10       2           0       0           12     Credit Card     Choice Taxi Association                               42.0016                     -87.695                       41.9658                      -87.6559                  0                0                       0                     0\n",
       "  1  149f18c2d8b9bce6001cc9e156092aa562c83bc1  'b7a562fe2d37014bb47274cb5baa361b97ff9263e3ba526...  2017-01-01 00:00:00.000000000  2017-01-01 00:15:00.000000000             120           0.5          nan                     nan                                 16                        16    4.5     0           0       0            4.5   Cash            Taxi Affiliation Services                             41.9536                     -87.7235                      41.9536                      -87.7235                  0                0                       0                     0\n",
       "  2  1b545d0be27b195076e5d2a7d4fc0ebef6ef20ac  '56a1119c6ca57e39525cf06829f9ecff553cf4b5ac24821...  2017-01-01 00:00:00.000000000  2017-01-01 00:00:00.000000000             240           1.3            1.70318e+10             1.70318e+10                       32                        28    6.25    0           0       0            6.25  Cash            Taxi Affiliation Services                             41.881                      -87.6327                      41.8853                      -87.6572                  0                0                       0                     0\n",
       "  3  c3ee40051c5643c54064a8b9df3686d2d411518d  '7987cfe5e3b2c9869665f70fe35dbe7423e7fc5852f2d6f...  2017-01-01 00:00:00.000000000  2017-01-01 00:15:00.000000000            1500           0.4            1.70318e+10             1.70311e+10                       32                         8   22.75    4.85        0       1.5         29.1   Credit Card     Blue Ribbon Taxi Association Inc.                     41.881                      -87.6327                      41.8983                      -87.6208                  0                0                       0                     0\n",
       "  4  29f30c8a6bbc028f5d63aa18c708d31b47267a9f  '0b269137bd94b55212311226d9e1554423e12bcc16a432c...  2017-01-01 00:00:00.000000000  2017-01-01 00:30:00.000000000            1620           0.9            1.70318e+10             1.70311e+10                       32                         8   12.25    2.85        0       2           17.1   Credit Card     Taxi Affiliation Services                             41.881                      -87.6327                      41.8925                      -87.6262                  0                0                       0                     0\n",
       "  5  bfa259279b4557566d2d06381156715d9be355a1  '7e7dce4bc47f1de9dd9e4fe427408dbf9fc61d786574a5a...  2017-01-01 00:00:00.000000000  2017-01-01 00:00:00.000000000             480           3.5          nan                     nan                                 77                         6   11.25    0           0       1           12.25  Cash            Choice Taxi Association                               41.9867                     -87.6634                      41.9442                      -87.656                   0                0                       0                     0\n",
       "  6  55ae4fa955e6bc8705b995248c34f4183d848c27  'd1d781b6807176ed53fbb9d0010dd0a87e29c073984bda6...  2017-01-01 00:00:00.000000000  2017-01-01 00:00:00.000000000             540           1              1.70311e+10             1.70311e+10                        8                         8    6.75    0           0       2            8.75  Cash            Dispatch Taxi Affiliation                             41.9028                     -87.6261                      41.8909                      -87.6189                  0                0                       0                     0\n",
       "  7  ce908cd441e28d08dfb22bf168102beabb5e16e4  'f7630edc68a131c4a97382dd93206949da80ec1443d8da7...  2017-01-01 00:00:00.000000000  2017-01-01 00:15:00.000000000             480           0.5            1.70311e+10             1.70311e+10                        8                         8    6.25    2           0       1.5          9.75  Credit Card     Taxi Affiliation Services                             41.8925                     -87.6262                      41.8909                      -87.6189                  0                0                       0                     0\n",
       "  8  a06320ba7f7246711505daf4bc236fcafd0142f2  '9680ca84d7fa9fceccc37db042e708c1fd78318d410201f...  2017-01-01 00:00:00.000000000  2017-01-01 00:15:00.000000000             660           3.3          nan                     nan                                 29                        28   11.25    0           0       0           11.25  Cash            Taxi Affiliation Services                             41.8602                     -87.7172                      41.874                       -87.6635                  0                0                       0                     0\n",
       "  9  0642889773d6d10b72d613584fceba18232f0dfd  '38c926561cf2221a4785159e39aef376ef08ddb3c6081c4...  2017-01-01 00:00:00.000000000  2017-01-01 00:15:00.000000000            1140           0.3          nan                     nan                                 44                        38   17.5     0           0       0           17.5   Cash            Taxi Affiliation Services                             41.7402                     -87.616                       41.8129                      -87.6179                  0                0                       0                     0"
      ]
     },
     "execution_count": 10,
     "metadata": {},
     "output_type": "execute_result"
    }
   ],
   "source": [
    "df_taxi_trips_prepared.head()"
   ]
  },
  {
   "cell_type": "code",
   "execution_count": 11,
   "metadata": {},
   "outputs": [
    {
     "name": "stdout",
     "output_type": "stream",
     "text": [
      "export(hdf5) [----------------------------------------]  0.00% estimated time: unknown                 "
     ]
    },
    {
     "ename": "KeyboardInterrupt",
     "evalue": "",
     "output_type": "error",
     "traceback": [
      "\u001b[0;31m---------------------------------------------------------------------------\u001b[0m",
      "\u001b[0;31mKeyboardInterrupt\u001b[0m                         Traceback (most recent call last)",
      "\u001b[1;32m/home/lblunck/DEVELOPMENT/AAA_The_Dudes/01_prep.ipynb Cell 18\u001b[0m in \u001b[0;36m2\n\u001b[1;32m      <a href='vscode-notebook-cell://wsl%2Bubuntu-22.04/home/lblunck/DEVELOPMENT/AAA_The_Dudes/01_prep.ipynb#X42sdnNjb2RlLXJlbW90ZQ%3D%3D?line=0'>1</a>\u001b[0m \u001b[39m# export prepared dataframe\u001b[39;00m\n\u001b[0;32m----> <a href='vscode-notebook-cell://wsl%2Bubuntu-22.04/home/lblunck/DEVELOPMENT/AAA_The_Dudes/01_prep.ipynb#X42sdnNjb2RlLXJlbW90ZQ%3D%3D?line=1'>2</a>\u001b[0m df_taxi_trips_prepared\u001b[39m.\u001b[39;49mexport_hdf5(\u001b[39m'\u001b[39;49m\u001b[39m./chunks/prepared/trips_prepared.hdf5\u001b[39;49m\u001b[39m'\u001b[39;49m, chunk_size\u001b[39m=\u001b[39;49m\u001b[39m1_000_000\u001b[39;49m, progress\u001b[39m=\u001b[39;49m\u001b[39mTrue\u001b[39;49;00m)\n",
      "File \u001b[0;32m~/.local/lib/python3.10/site-packages/vaex/dataframe.py:6949\u001b[0m, in \u001b[0;36mDataFrameLocal.export_hdf5\u001b[0;34m(self, path, byteorder, progress, chunk_size, parallel, column_count, writer_threads, group, mode)\u001b[0m\n\u001b[1;32m   6947\u001b[0m progressbar_write \u001b[39m=\u001b[39m progressbar\u001b[39m.\u001b[39madd(\u001b[39m\"\u001b[39m\u001b[39mwrite data\u001b[39m\u001b[39m\"\u001b[39m)\n\u001b[1;32m   6948\u001b[0m \u001b[39mwith\u001b[39;00m Writer(path\u001b[39m=\u001b[39mpath, group\u001b[39m=\u001b[39mgroup, mode\u001b[39m=\u001b[39mmode, byteorder\u001b[39m=\u001b[39mbyteorder) \u001b[39mas\u001b[39;00m writer:\n\u001b[0;32m-> 6949\u001b[0m     writer\u001b[39m.\u001b[39;49mlayout(\u001b[39mself\u001b[39;49m, progress\u001b[39m=\u001b[39;49mprogressbar_layout)\n\u001b[1;32m   6950\u001b[0m     writer\u001b[39m.\u001b[39mwrite(\n\u001b[1;32m   6951\u001b[0m         \u001b[39mself\u001b[39m,\n\u001b[1;32m   6952\u001b[0m         chunk_size\u001b[39m=\u001b[39mchunk_size,\n\u001b[0;32m   (...)\u001b[0m\n\u001b[1;32m   6955\u001b[0m         parallel\u001b[39m=\u001b[39mparallel,\n\u001b[1;32m   6956\u001b[0m         export_threads\u001b[39m=\u001b[39mwriter_threads)\n",
      "File \u001b[0;32m~/.local/lib/python3.10/site-packages/vaex/hdf5/writer.py:66\u001b[0m, in \u001b[0;36mWriter.layout\u001b[0;34m(self, df, progress)\u001b[0m\n\u001b[1;32m     64\u001b[0m \u001b[39m# arrow types can contain nulls even when they don't have a mask\u001b[39;00m\n\u001b[1;32m     65\u001b[0m arrow_null_count \u001b[39m=\u001b[39m {name: df\u001b[39m.\u001b[39mcount(df[name], delay\u001b[39m=\u001b[39m\u001b[39mTrue\u001b[39;00m, progress\u001b[39m=\u001b[39mprogressbar_count) \u001b[39mfor\u001b[39;00m name, dtype \u001b[39min\u001b[39;00m dtypes\u001b[39m.\u001b[39mitems() \u001b[39mif\u001b[39;00m dtype\u001b[39m.\u001b[39mis_arrow \u001b[39mor\u001b[39;00m dtype\u001b[39m.\u001b[39mis_string}\n\u001b[0;32m---> 66\u001b[0m df\u001b[39m.\u001b[39;49mexecute()\n\u001b[1;32m     67\u001b[0m progressbar_count(\u001b[39m1\u001b[39m)\n\u001b[1;32m     68\u001b[0m progressbar_strings(\u001b[39m1\u001b[39m)\n",
      "File \u001b[0;32m~/.local/lib/python3.10/site-packages/vaex/dataframe.py:421\u001b[0m, in \u001b[0;36mDataFrame.execute\u001b[0;34m(self)\u001b[0m\n\u001b[1;32m    419\u001b[0m         \u001b[39mprint\u001b[39m(\u001b[39mrepr\u001b[39m(task))\n\u001b[1;32m    420\u001b[0m \u001b[39mif\u001b[39;00m \u001b[39mself\u001b[39m\u001b[39m.\u001b[39mexecutor\u001b[39m.\u001b[39mtasks:\n\u001b[0;32m--> 421\u001b[0m     \u001b[39mself\u001b[39;49m\u001b[39m.\u001b[39;49mexecutor\u001b[39m.\u001b[39;49mexecute()\n",
      "File \u001b[0;32m~/.local/lib/python3.10/site-packages/vaex/execution.py:308\u001b[0m, in \u001b[0;36mExecutorLocal.execute\u001b[0;34m(self)\u001b[0m\n\u001b[1;32m    307\u001b[0m \u001b[39mdef\u001b[39;00m \u001b[39mexecute\u001b[39m(\u001b[39mself\u001b[39m):\n\u001b[0;32m--> 308\u001b[0m     \u001b[39mfor\u001b[39;00m _ \u001b[39min\u001b[39;00m \u001b[39mself\u001b[39m\u001b[39m.\u001b[39mexecute_generator():\n\u001b[1;32m    309\u001b[0m         \u001b[39mpass\u001b[39;00m\n",
      "File \u001b[0;32m~/.local/lib/python3.10/site-packages/vaex/execution.py:432\u001b[0m, in \u001b[0;36mExecutorLocal.execute_generator\u001b[0;34m(self, use_async)\u001b[0m\n\u001b[1;32m    430\u001b[0m         logger\u001b[39m.\u001b[39mdebug(\u001b[39m\"\u001b[39m\u001b[39mPass cancelled because of the global progress event: \u001b[39m\u001b[39m%r\u001b[39;00m\u001b[39m\"\u001b[39m, \u001b[39mself\u001b[39m\u001b[39m.\u001b[39msignal_progress\u001b[39m.\u001b[39mcallbacks)\n\u001b[1;32m    431\u001b[0m     \u001b[39mreturn\u001b[39;00m ok_tasks \u001b[39mand\u001b[39;00m ok_executor \u001b[39mand\u001b[39;00m \u001b[39mnot\u001b[39;00m all_stopped\n\u001b[0;32m--> 432\u001b[0m \u001b[39myield from\u001b[39;00m \u001b[39mself\u001b[39m\u001b[39m.\u001b[39mthread_pool\u001b[39m.\u001b[39mmap(\u001b[39mself\u001b[39m\u001b[39m.\u001b[39mprocess_part, dataset\u001b[39m.\u001b[39mchunk_iterator(run\u001b[39m.\u001b[39mdataset_deps, chunk_size),\n\u001b[1;32m    433\u001b[0m                                     dataset\u001b[39m.\u001b[39mrow_count,\n\u001b[1;32m    434\u001b[0m                                     progress\u001b[39m=\u001b[39mprogress,\n\u001b[1;32m    435\u001b[0m                                     cancel\u001b[39m=\u001b[39m\u001b[39mlambda\u001b[39;00m: \u001b[39mself\u001b[39m\u001b[39m.\u001b[39m_cancel(run), unpack\u001b[39m=\u001b[39m\u001b[39mTrue\u001b[39;00m, run\u001b[39m=\u001b[39mrun, use_async\u001b[39m=\u001b[39muse_async)\n\u001b[1;32m    436\u001b[0m duration_wallclock \u001b[39m=\u001b[39m time\u001b[39m.\u001b[39mtime() \u001b[39m-\u001b[39m t0\n\u001b[1;32m    437\u001b[0m logger\u001b[39m.\u001b[39mdebug(\u001b[39m\"\u001b[39m\u001b[39mexecuting took \u001b[39m\u001b[39m%r\u001b[39;00m\u001b[39m seconds\u001b[39m\u001b[39m\"\u001b[39m, duration_wallclock)\n",
      "File \u001b[0;32m~/.local/lib/python3.10/site-packages/vaex/multithreading.py:100\u001b[0m, in \u001b[0;36mThreadPoolIndex.map\u001b[0;34m(self, callable, iterator, count, on_error, progress, cancel, unpack, use_async, **kwargs_extra)\u001b[0m\n\u001b[1;32m     98\u001b[0m         iterator \u001b[39m=\u001b[39m (loop\u001b[39m.\u001b[39mrun_in_executor(\u001b[39mself\u001b[39m, \u001b[39mlambda\u001b[39;00m value\u001b[39m=\u001b[39mvalue: wrapped(value)) \u001b[39mfor\u001b[39;00m value \u001b[39min\u001b[39;00m cancellable_iter())\n\u001b[1;32m     99\u001b[0m     \u001b[39melse\u001b[39;00m:\n\u001b[0;32m--> 100\u001b[0m         iterator \u001b[39m=\u001b[39m \u001b[39msuper\u001b[39;49m(ThreadPoolIndex, \u001b[39mself\u001b[39;49m)\u001b[39m.\u001b[39;49mmap(wrapped, cancellable_iter())\n\u001b[1;32m    101\u001b[0m total \u001b[39m=\u001b[39m \u001b[39m0\u001b[39m\n\u001b[1;32m    102\u001b[0m iterator \u001b[39m=\u001b[39m \u001b[39miter\u001b[39m(buffer(iterator, \u001b[39mself\u001b[39m\u001b[39m.\u001b[39m_max_workers \u001b[39m+\u001b[39m \u001b[39m3\u001b[39m))\n",
      "File \u001b[0;32m/usr/lib/python3.10/concurrent/futures/_base.py:610\u001b[0m, in \u001b[0;36mExecutor.map\u001b[0;34m(self, fn, timeout, chunksize, *iterables)\u001b[0m\n\u001b[1;32m    607\u001b[0m \u001b[39mif\u001b[39;00m timeout \u001b[39mis\u001b[39;00m \u001b[39mnot\u001b[39;00m \u001b[39mNone\u001b[39;00m:\n\u001b[1;32m    608\u001b[0m     end_time \u001b[39m=\u001b[39m timeout \u001b[39m+\u001b[39m time\u001b[39m.\u001b[39mmonotonic()\n\u001b[0;32m--> 610\u001b[0m fs \u001b[39m=\u001b[39m [\u001b[39mself\u001b[39m\u001b[39m.\u001b[39msubmit(fn, \u001b[39m*\u001b[39margs) \u001b[39mfor\u001b[39;00m args \u001b[39min\u001b[39;00m \u001b[39mzip\u001b[39m(\u001b[39m*\u001b[39miterables)]\n\u001b[1;32m    612\u001b[0m \u001b[39m# Yield must be hidden in closure so that the futures are submitted\u001b[39;00m\n\u001b[1;32m    613\u001b[0m \u001b[39m# before the first iterator value is required.\u001b[39;00m\n\u001b[1;32m    614\u001b[0m \u001b[39mdef\u001b[39;00m \u001b[39mresult_iterator\u001b[39m():\n",
      "File \u001b[0;32m/usr/lib/python3.10/concurrent/futures/_base.py:610\u001b[0m, in \u001b[0;36m<listcomp>\u001b[0;34m(.0)\u001b[0m\n\u001b[1;32m    607\u001b[0m \u001b[39mif\u001b[39;00m timeout \u001b[39mis\u001b[39;00m \u001b[39mnot\u001b[39;00m \u001b[39mNone\u001b[39;00m:\n\u001b[1;32m    608\u001b[0m     end_time \u001b[39m=\u001b[39m timeout \u001b[39m+\u001b[39m time\u001b[39m.\u001b[39mmonotonic()\n\u001b[0;32m--> 610\u001b[0m fs \u001b[39m=\u001b[39m [\u001b[39mself\u001b[39m\u001b[39m.\u001b[39msubmit(fn, \u001b[39m*\u001b[39margs) \u001b[39mfor\u001b[39;00m args \u001b[39min\u001b[39;00m \u001b[39mzip\u001b[39m(\u001b[39m*\u001b[39miterables)]\n\u001b[1;32m    612\u001b[0m \u001b[39m# Yield must be hidden in closure so that the futures are submitted\u001b[39;00m\n\u001b[1;32m    613\u001b[0m \u001b[39m# before the first iterator value is required.\u001b[39;00m\n\u001b[1;32m    614\u001b[0m \u001b[39mdef\u001b[39;00m \u001b[39mresult_iterator\u001b[39m():\n",
      "File \u001b[0;32m~/.local/lib/python3.10/site-packages/vaex/multithreading.py:86\u001b[0m, in \u001b[0;36mThreadPoolIndex.map.<locals>.cancellable_iter\u001b[0;34m()\u001b[0m\n\u001b[1;32m     85\u001b[0m \u001b[39mdef\u001b[39;00m \u001b[39mcancellable_iter\u001b[39m():\n\u001b[0;32m---> 86\u001b[0m     \u001b[39mfor\u001b[39;00m value \u001b[39min\u001b[39;00m chunk_iterator:\n\u001b[1;32m     87\u001b[0m         \u001b[39myield\u001b[39;00m value\n\u001b[1;32m     88\u001b[0m         \u001b[39mif\u001b[39;00m cancelled:\n",
      "File \u001b[0;32m~/.local/lib/python3.10/site-packages/vaex/dataset.py:1189\u001b[0m, in \u001b[0;36mDatasetDropped.chunk_iterator\u001b[0;34m(self, columns, chunk_size, reverse)\u001b[0m\n\u001b[1;32m   1187\u001b[0m     \u001b[39mif\u001b[39;00m column \u001b[39min\u001b[39;00m \u001b[39mself\u001b[39m\u001b[39m.\u001b[39m_dropped_names:\n\u001b[1;32m   1188\u001b[0m         \u001b[39mraise\u001b[39;00m \u001b[39mKeyError\u001b[39;00m(\u001b[39mf\u001b[39m\u001b[39m'\u001b[39m\u001b[39mOops, you tried to get column \u001b[39m\u001b[39m{\u001b[39;00mcolumn\u001b[39m}\u001b[39;00m\u001b[39m while it is actually dropped\u001b[39m\u001b[39m'\u001b[39m)\n\u001b[0;32m-> 1189\u001b[0m \u001b[39myield from\u001b[39;00m \u001b[39mself\u001b[39m\u001b[39m.\u001b[39moriginal\u001b[39m.\u001b[39mchunk_iterator(columns, chunk_size\u001b[39m=\u001b[39mchunk_size, reverse\u001b[39m=\u001b[39mreverse)\n",
      "File \u001b[0;32m~/.local/lib/python3.10/site-packages/vaex/dataset.py:666\u001b[0m, in \u001b[0;36mDatasetRenamed.chunk_iterator\u001b[0;34m(self, columns, chunk_size, reverse)\u001b[0m\n\u001b[1;32m    664\u001b[0m         \u001b[39mraise\u001b[39;00m \u001b[39mKeyError\u001b[39;00m(\u001b[39mf\u001b[39m\u001b[39m'\u001b[39m\u001b[39mOops, you tried to get column \u001b[39m\u001b[39m{\u001b[39;00mname\u001b[39m}\u001b[39;00m\u001b[39m, but you renamed it to \u001b[39m\u001b[39m{\u001b[39;00mrename\u001b[39m}\u001b[39;00m\u001b[39m'\u001b[39m)\n\u001b[1;32m    665\u001b[0m columns \u001b[39m=\u001b[39m [\u001b[39mself\u001b[39m\u001b[39m.\u001b[39mreverse\u001b[39m.\u001b[39mget(name, name) \u001b[39mfor\u001b[39;00m name \u001b[39min\u001b[39;00m columns]\n\u001b[0;32m--> 666\u001b[0m \u001b[39mfor\u001b[39;00m i1, i2, chunks \u001b[39min\u001b[39;00m \u001b[39mself\u001b[39m\u001b[39m.\u001b[39moriginal\u001b[39m.\u001b[39mchunk_iterator(columns, chunk_size, reverse\u001b[39m=\u001b[39mreverse):\n\u001b[1;32m    667\u001b[0m     \u001b[39myield\u001b[39;00m i1, i2, {\u001b[39mself\u001b[39m\u001b[39m.\u001b[39mrenaming\u001b[39m.\u001b[39mget(name, name): ar \u001b[39mfor\u001b[39;00m name, ar \u001b[39min\u001b[39;00m chunks\u001b[39m.\u001b[39mitems()}\n",
      "File \u001b[0;32m~/.local/lib/python3.10/site-packages/vaex/dataset.py:852\u001b[0m, in \u001b[0;36mDatasetConcatenated.chunk_iterator\u001b[0;34m(self, columns, chunk_size, reverse, start, end)\u001b[0m\n\u001b[1;32m    850\u001b[0m \u001b[39melse\u001b[39;00m:\n\u001b[1;32m    851\u001b[0m     chunk_iterator \u001b[39m=\u001b[39m \u001b[39mself\u001b[39m\u001b[39m.\u001b[39m_chunk_iterator_non_strict(columns, chunk_size, reverse\u001b[39m=\u001b[39mreverse, start\u001b[39m=\u001b[39mstart, end\u001b[39m=\u001b[39m\u001b[39mself\u001b[39m\u001b[39m.\u001b[39mrow_count \u001b[39mif\u001b[39;00m end \u001b[39mis\u001b[39;00m \u001b[39mNone\u001b[39;00m \u001b[39melse\u001b[39;00m end)\n\u001b[0;32m--> 852\u001b[0m     \u001b[39myield from\u001b[39;00m _rechunk(chunk_iterator, chunk_size)\n",
      "File \u001b[0;32m~/.local/lib/python3.10/site-packages/vaex/dataset.py:310\u001b[0m, in \u001b[0;36m_rechunk\u001b[0;34m(chunk_iter, chunk_size)\u001b[0m\n\u001b[1;32m    308\u001b[0m         \u001b[39myield\u001b[39;00m i1, i2, chunks\n\u001b[1;32m    309\u001b[0m         i1 \u001b[39m=\u001b[39m i2\n\u001b[0;32m--> 310\u001b[0m \u001b[39myield from\u001b[39;00m chunk_rechunk(wrapper(), chunk_size)\n",
      "File \u001b[0;32m~/.local/lib/python3.10/site-packages/vaex/dataset.py:291\u001b[0m, in \u001b[0;36mchunk_rechunk\u001b[0;34m(chunk_iter, chunk_size)\u001b[0m\n\u001b[1;32m    289\u001b[0m chunks_current_list, current_row_count \u001b[39m=\u001b[39m vaex\u001b[39m.\u001b[39mdataset\u001b[39m.\u001b[39m_slice_of_chunks(chunks_ready_list, chunk_size)\n\u001b[1;32m    290\u001b[0m i2 \u001b[39m+\u001b[39m\u001b[39m=\u001b[39m current_row_count\n\u001b[0;32m--> 291\u001b[0m chunks \u001b[39m=\u001b[39m vaex\u001b[39m.\u001b[39;49mdataset\u001b[39m.\u001b[39;49m_concat_chunk_list(chunks_current_list)\n\u001b[1;32m    292\u001b[0m \u001b[39myield\u001b[39;00m i1, i2, chunks\n\u001b[1;32m    293\u001b[0m i1 \u001b[39m=\u001b[39m i2\n",
      "File \u001b[0;32m~/.local/lib/python3.10/site-packages/vaex/dataset.py:250\u001b[0m, in \u001b[0;36m_concat_chunk_list\u001b[0;34m(list_of_chunks)\u001b[0m\n\u001b[1;32m    248\u001b[0m         \u001b[39melse\u001b[39;00m:\n\u001b[1;32m    249\u001b[0m             dict_of_list_of_arrays[name]\u001b[39m.\u001b[39mappend(array)\n\u001b[0;32m--> 250\u001b[0m chunks \u001b[39m=\u001b[39m {name: vaex\u001b[39m.\u001b[39marray_types\u001b[39m.\u001b[39mconcat(arrays) \u001b[39mfor\u001b[39;00m name, arrays \u001b[39min\u001b[39;00m dict_of_list_of_arrays\u001b[39m.\u001b[39mitems()}\n\u001b[1;32m    251\u001b[0m \u001b[39mreturn\u001b[39;00m chunks\n",
      "File \u001b[0;32m~/.local/lib/python3.10/site-packages/vaex/dataset.py:250\u001b[0m, in \u001b[0;36m<dictcomp>\u001b[0;34m(.0)\u001b[0m\n\u001b[1;32m    248\u001b[0m         \u001b[39melse\u001b[39;00m:\n\u001b[1;32m    249\u001b[0m             dict_of_list_of_arrays[name]\u001b[39m.\u001b[39mappend(array)\n\u001b[0;32m--> 250\u001b[0m chunks \u001b[39m=\u001b[39m {name: vaex\u001b[39m.\u001b[39;49marray_types\u001b[39m.\u001b[39;49mconcat(arrays) \u001b[39mfor\u001b[39;00m name, arrays \u001b[39min\u001b[39;00m dict_of_list_of_arrays\u001b[39m.\u001b[39mitems()}\n\u001b[1;32m    251\u001b[0m \u001b[39mreturn\u001b[39;00m chunks\n",
      "File \u001b[0;32m~/.local/lib/python3.10/site-packages/vaex/array_types.py:107\u001b[0m, in \u001b[0;36mconcat\u001b[0;34m(arrays)\u001b[0m\n\u001b[1;32m    105\u001b[0m     \u001b[39mreturn\u001b[39;00m pa\u001b[39m.\u001b[39mchunked_array(arrays)\n\u001b[1;32m    106\u001b[0m \u001b[39melse\u001b[39;00m:\n\u001b[0;32m--> 107\u001b[0m     ar \u001b[39m=\u001b[39m np\u001b[39m.\u001b[39;49mma\u001b[39m.\u001b[39;49mconcatenate(arrays)\n\u001b[1;32m    108\u001b[0m     \u001b[39m# avoid useless masks\u001b[39;00m\n\u001b[1;32m    109\u001b[0m     \u001b[39mif\u001b[39;00m ar\u001b[39m.\u001b[39mmask \u001b[39mis\u001b[39;00m \u001b[39mFalse\u001b[39;00m:\n",
      "File \u001b[0;32m~/.local/lib/python3.10/site-packages/numpy/ma/core.py:7018\u001b[0m, in \u001b[0;36mconcatenate\u001b[0;34m(arrays, axis)\u001b[0m\n\u001b[1;32m   6977\u001b[0m \u001b[39mdef\u001b[39;00m \u001b[39mconcatenate\u001b[39m(arrays, axis\u001b[39m=\u001b[39m\u001b[39m0\u001b[39m):\n\u001b[1;32m   6978\u001b[0m     \u001b[39m\"\"\"\u001b[39;00m\n\u001b[1;32m   6979\u001b[0m \u001b[39m    Concatenate a sequence of arrays along the given axis.\u001b[39;00m\n\u001b[1;32m   6980\u001b[0m \n\u001b[0;32m   (...)\u001b[0m\n\u001b[1;32m   7016\u001b[0m \n\u001b[1;32m   7017\u001b[0m \u001b[39m    \"\"\"\u001b[39;00m\n\u001b[0;32m-> 7018\u001b[0m     d \u001b[39m=\u001b[39m np\u001b[39m.\u001b[39;49mconcatenate([getdata(a) \u001b[39mfor\u001b[39;49;00m a \u001b[39min\u001b[39;49;00m arrays], axis)\n\u001b[1;32m   7019\u001b[0m     rcls \u001b[39m=\u001b[39m get_masked_subclass(\u001b[39m*\u001b[39marrays)\n\u001b[1;32m   7020\u001b[0m     data \u001b[39m=\u001b[39m d\u001b[39m.\u001b[39mview(rcls)\n",
      "File \u001b[0;32m<__array_function__ internals>:180\u001b[0m, in \u001b[0;36mconcatenate\u001b[0;34m(*args, **kwargs)\u001b[0m\n",
      "\u001b[0;31mKeyboardInterrupt\u001b[0m: "
     ]
    }
   ],
   "source": [
    "# export prepared dataframe\n",
    "df_taxi_trips_prepared.export_hdf5('./chunks/prepared/trips_prepared.hdf5', chunk_size=1_000_000, progress=True)"
   ]
  }
 ],
 "metadata": {
  "kernelspec": {
   "display_name": "Python 3",
   "language": "python",
   "name": "python3"
  },
  "language_info": {
   "codemirror_mode": {
    "name": "ipython",
    "version": 3
   },
   "file_extension": ".py",
   "mimetype": "text/x-python",
   "name": "python",
   "nbconvert_exporter": "python",
   "pygments_lexer": "ipython3",
   "version": "3.10.6"
  },
  "orig_nbformat": 4,
  "vscode": {
   "interpreter": {
    "hash": "916dbcbb3f70747c44a77c7bcd40155683ae19c65e1c03b4aa3499c5328201f1"
   }
  }
 },
 "nbformat": 4,
 "nbformat_minor": 2
}
