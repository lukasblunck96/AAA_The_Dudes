{
 "cells": [
  {
   "attachments": {},
   "cell_type": "markdown",
   "metadata": {},
   "source": [
    "# Data preparation"
   ]
  },
  {
   "cell_type": "code",
   "execution_count": 89,
   "metadata": {},
   "outputs": [],
   "source": [
    "import vaex\n",
    "df_taxi_trips_all = vaex.open('./data/trips.hdf5')"
   ]
  },
  {
   "attachments": {},
   "cell_type": "markdown",
   "metadata": {},
   "source": [
    "### Replace spaces and uppercases in column names"
   ]
  },
  {
   "cell_type": "code",
   "execution_count": 112,
   "metadata": {},
   "outputs": [],
   "source": [
    "column_names = df_taxi_trips_all.column_names\n",
    "column_names_refactored = [ln.replace(' ', '_').lower() for ln in column_names]\n",
    "\n",
    "for i, column in enumerate(column_names):\n",
    "    df_taxi_trips_all.rename(column, column_names_refactored[i])"
   ]
  },
  {
   "cell_type": "code",
   "execution_count": 116,
   "metadata": {},
   "outputs": [
    {
     "name": "stdout",
     "output_type": "stream",
     "text": [
      "Amount of pickup community areas: 78\n",
      "Amount of dropoff community areas: 78\n",
      "Amount of pickup census tracts: 953\n",
      "Amount of dropoff census tracts: 1075\n"
     ]
    }
   ],
   "source": [
    "# count amount of community areas and census tracts\n",
    "print('Amount of pickup community areas: ' + str(len(df_taxi_trips_all['pickup_community_area'].unique())))\n",
    "print('Amount of dropoff community areas: ' + str(len(df_taxi_trips_all['dropoff_community_area'].unique())))\n",
    "print('Amount of pickup census tracts: ' + str(len(df_taxi_trips_all['pickup_census_tract'].unique())))\n",
    "print('Amount of dropoff census tracts: ' + str(len(df_taxi_trips_all['dropoff_census_tract'].unique())))"
   ]
  },
  {
   "attachments": {},
   "cell_type": "markdown",
   "metadata": {},
   "source": [
    "### Reduce amount of columns and drop rows with null values in important columns"
   ]
  },
  {
   "cell_type": "code",
   "execution_count": 95,
   "metadata": {},
   "outputs": [],
   "source": [
    "# drop 'dropoff_centroid__location' and 'pickup_centroid_location' because we work with latitude and longitude values\n",
    "df_taxi_trips_all_dropped = df_taxi_trips_all.drop(['dropoff_centroid__location', 'pickup_centroid_location'])"
   ]
  },
  {
   "cell_type": "code",
   "execution_count": 117,
   "metadata": {},
   "outputs": [],
   "source": [
    "# drop rows with trip_seconds and trip_miles = 0 seconds and drop several columns with NaN and NA values\n",
    "# We do not drop rows with null values in census tracts and community areas to cover trips which start/end outside of the marked area\n",
    "df_taxi_trips_cleaned_sec = df_taxi_trips_all_dropped[df_taxi_trips_all_dropped['trip_seconds'] != 0.0]\n",
    "df_taxi_trips_cleaned_sec_trips = df_taxi_trips_cleaned_sec[df_taxi_trips_cleaned_sec['trip_miles'] != 0.0]\n",
    "df_taxi_trips_cleaned_sec_trips_location = df_taxi_trips_cleaned_sec_trips.dropnan(column_names=[\"pickup_centroid_latitude\", \"pickup_centroid_longitude\", \"dropoff_centroid_latitude\", \"dropoff_centroid_longitude\"], how='any')\n",
    "df_taxi_trips_cleaned_sec_trips_location_ids = df_taxi_trips_cleaned_sec_trips.dropna(column_names=[\"taxi_id\", \"trip_seconds\", \"trip_miles\"], how='any')"
   ]
  },
  {
   "cell_type": "code",
   "execution_count": 111,
   "metadata": {},
   "outputs": [],
   "source": [
    "# create columns for hourly and 4-hourly temporal discretization\n",
    "df_taxi_trips_cleaned_sec_trips_location_ids[\"trip_start_hour\"] = df_taxi_trips_cleaned_sec_trips_location_ids[\"trip_start_timestamp\"].dt.hour\n",
    "df_taxi_trips_cleaned_sec_trips_location_ids[\"trip_end_hour\"] = df_taxi_trips_cleaned_sec_trips_location_ids[\"trip_end_timestamp\"].dt.hour\n",
    "df_taxi_trips_cleaned_sec_trips_location_ids[\"trip_start_4h_period\"] = df_taxi_trips_cleaned_sec_trips_location_ids[\"trip_start_timestamp\"].dt.hour//4\n",
    "df_taxi_trips_cleaned_sec_trips_location_ids[\"trip_end_4h_period\"] = df_taxi_trips_cleaned_sec_trips_location_ids[\"trip_end_timestamp\"].dt.hour//4"
   ]
  }
 ],
 "metadata": {
  "kernelspec": {
   "display_name": "Python 3",
   "language": "python",
   "name": "python3"
  },
  "language_info": {
   "codemirror_mode": {
    "name": "ipython",
    "version": 3
   },
   "file_extension": ".py",
   "mimetype": "text/x-python",
   "name": "python",
   "nbconvert_exporter": "python",
   "pygments_lexer": "ipython3",
   "version": "3.9.15"
  },
  "orig_nbformat": 4,
  "vscode": {
   "interpreter": {
    "hash": "916dbcbb3f70747c44a77c7bcd40155683ae19c65e1c03b4aa3499c5328201f1"
   }
  }
 },
 "nbformat": 4,
 "nbformat_minor": 2
}
