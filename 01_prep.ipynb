{
 "cells": [
  {
   "attachments": {},
   "cell_type": "markdown",
   "metadata": {},
   "source": [
    "# Data preparation"
   ]
  },
  {
   "cell_type": "code",
   "execution_count": 1,
   "metadata": {},
   "outputs": [],
   "source": [
    "import vaex\n",
    "from datetime import datetime\n",
    "import numpy as np\n",
    "\n",
    "df_taxi_trips_all = vaex.open('./data/trips.hdf5')\n",
    "\n",
    "### Replace spaces and uppercases in column names\n",
    "column_names = df_taxi_trips_all.column_names\n",
    "column_names_refactored = [ln.replace(' ', '_').lower() for ln in column_names]\n",
    "\n",
    "for i, column in enumerate(column_names):\n",
    "    df_taxi_trips_all.rename(column, column_names_refactored[i])\n",
    "\n",
    "# cast timestamp columns to datetime\n",
    "date_format = \"%m/%d/%Y %I:%M:%S %p\"\n",
    "def column_to_datetime(datetime_str):\n",
    "    return np.datetime64(datetime.strptime(datetime_str, date_format))\n",
    "\n",
    "df_taxi_trips_all['trip_start_timestamp'] = df_taxi_trips_all['trip_start_timestamp'].apply(column_to_datetime)\n",
    "df_taxi_trips_all['trip_end_timestamp'] = df_taxi_trips_all['trip_end_timestamp'].apply(column_to_datetime)"
   ]
  },
  {
   "cell_type": "code",
   "execution_count": 2,
   "metadata": {},
   "outputs": [
    {
     "data": {
      "text/html": [
       "<table>\n",
       "<thead>\n",
       "<tr><th>#                            </th><th>the_geom                                           </th><th style=\"text-align: right;\">  STATEFP10</th><th style=\"text-align: right;\">  COUNTYFP10</th><th style=\"text-align: right;\">  TRACTCE10</th><th style=\"text-align: right;\">    GEOID10</th><th style=\"text-align: right;\">  NAME10</th><th>NAMELSAD10          </th><th style=\"text-align: right;\">  COMMAREA</th><th style=\"text-align: right;\">  COMMAREA_N</th><th>NOTES  </th></tr>\n",
       "</thead>\n",
       "<tbody>\n",
       "<tr><td><i style='opacity: 0.6'>0</i></td><td>&#x27;MULTIPOLYGON (((-87.62404799998049 41.730216999...</td><td style=\"text-align: right;\">         17</td><td style=\"text-align: right;\">          31</td><td style=\"text-align: right;\">     842400</td><td style=\"text-align: right;\">17031842400</td><td style=\"text-align: right;\"> 8424   </td><td>Census Tract 8424   </td><td style=\"text-align: right;\">        44</td><td style=\"text-align: right;\">          44</td><td>       </td></tr>\n",
       "<tr><td><i style='opacity: 0.6'>1</i></td><td>&#x27;MULTIPOLYGON (((-87.6860799999848 41.8229560000...</td><td style=\"text-align: right;\">         17</td><td style=\"text-align: right;\">          31</td><td style=\"text-align: right;\">     840300</td><td style=\"text-align: right;\">17031840300</td><td style=\"text-align: right;\"> 8403   </td><td>Census Tract 8403   </td><td style=\"text-align: right;\">        59</td><td style=\"text-align: right;\">          59</td><td>       </td></tr>\n",
       "<tr><td><i style='opacity: 0.6'>2</i></td><td>&#x27;MULTIPOLYGON (((-87.62934700001182 41.852797000...</td><td style=\"text-align: right;\">         17</td><td style=\"text-align: right;\">          31</td><td style=\"text-align: right;\">     841100</td><td style=\"text-align: right;\">17031841100</td><td style=\"text-align: right;\"> 8411   </td><td>Census Tract 8411   </td><td style=\"text-align: right;\">        34</td><td style=\"text-align: right;\">          34</td><td>       </td></tr>\n",
       "<tr><td><i style='opacity: 0.6'>3</i></td><td>&#x27;MULTIPOLYGON (((-87.68813499997718 41.855690999...</td><td style=\"text-align: right;\">         17</td><td style=\"text-align: right;\">          31</td><td style=\"text-align: right;\">     841200</td><td style=\"text-align: right;\">17031841200</td><td style=\"text-align: right;\"> 8412   </td><td>Census Tract 8412   </td><td style=\"text-align: right;\">        31</td><td style=\"text-align: right;\">          31</td><td>       </td></tr>\n",
       "<tr><td><i style='opacity: 0.6'>4</i></td><td>&#x27;MULTIPOLYGON (((-87.63312200003458 41.874488000...</td><td style=\"text-align: right;\">         17</td><td style=\"text-align: right;\">          31</td><td style=\"text-align: right;\">     839000</td><td style=\"text-align: right;\">17031839000</td><td style=\"text-align: right;\"> 8390   </td><td>Census Tract 8390   </td><td style=\"text-align: right;\">        32</td><td style=\"text-align: right;\">          32</td><td>       </td></tr>\n",
       "<tr><td><i style='opacity: 0.6'>5</i></td><td>&#x27;MULTIPOLYGON (((-87.6678199999753 41.8741839999...</td><td style=\"text-align: right;\">         17</td><td style=\"text-align: right;\">          31</td><td style=\"text-align: right;\">     838200</td><td style=\"text-align: right;\">17031838200</td><td style=\"text-align: right;\"> 8382   </td><td>Census Tract 8382   </td><td style=\"text-align: right;\">        28</td><td style=\"text-align: right;\">          28</td><td>       </td></tr>\n",
       "<tr><td><i style='opacity: 0.6'>6</i></td><td>&#x27;MULTIPOLYGON (((-87.73706400002477 41.771203999...</td><td style=\"text-align: right;\">         17</td><td style=\"text-align: right;\">          31</td><td style=\"text-align: right;\">     650301</td><td style=\"text-align: right;\">17031650301</td><td style=\"text-align: right;\"> 6503.01</td><td>Census Tract 6503.01</td><td style=\"text-align: right;\">        65</td><td style=\"text-align: right;\">          65</td><td>       </td></tr>\n",
       "<tr><td><i style='opacity: 0.6'>7</i></td><td>&#x27;MULTIPOLYGON (((-87.64386399998179 41.663210000...</td><td style=\"text-align: right;\">         17</td><td style=\"text-align: right;\">          31</td><td style=\"text-align: right;\">     530503</td><td style=\"text-align: right;\">17031530503</td><td style=\"text-align: right;\"> 5305.03</td><td>Census Tract 5305.03</td><td style=\"text-align: right;\">        53</td><td style=\"text-align: right;\">          53</td><td>       </td></tr>\n",
       "<tr><td><i style='opacity: 0.6'>8</i></td><td>&#x27;MULTIPOLYGON (((-87.83844200004106 41.970199999...</td><td style=\"text-align: right;\">         17</td><td style=\"text-align: right;\">          31</td><td style=\"text-align: right;\">     760803</td><td style=\"text-align: right;\">17031760803</td><td style=\"text-align: right;\"> 7608.03</td><td>Census Tract 7608.03</td><td style=\"text-align: right;\">        76</td><td style=\"text-align: right;\">          76</td><td>       </td></tr>\n",
       "<tr><td><i style='opacity: 0.6'>9</i></td><td>&#x27;MULTIPOLYGON (((-87.6543830000042 41.9902020000...</td><td style=\"text-align: right;\">         17</td><td style=\"text-align: right;\">          31</td><td style=\"text-align: right;\">      30601</td><td style=\"text-align: right;\">17031030601</td><td style=\"text-align: right;\">  306.01</td><td>Census Tract 306.01 </td><td style=\"text-align: right;\">        77</td><td style=\"text-align: right;\">          77</td><td>       </td></tr>\n",
       "</tbody>\n",
       "</table>"
      ],
      "text/plain": [
       "  #  the_geom                                               STATEFP10    COUNTYFP10    TRACTCE10      GEOID10    NAME10  NAMELSAD10              COMMAREA    COMMAREA_N  NOTES\n",
       "  0  'MULTIPOLYGON (((-87.62404799998049 41.730216999...           17            31       842400  17031842400   8424     Census Tract 8424             44            44\n",
       "  1  'MULTIPOLYGON (((-87.6860799999848 41.8229560000...           17            31       840300  17031840300   8403     Census Tract 8403             59            59\n",
       "  2  'MULTIPOLYGON (((-87.62934700001182 41.852797000...           17            31       841100  17031841100   8411     Census Tract 8411             34            34\n",
       "  3  'MULTIPOLYGON (((-87.68813499997718 41.855690999...           17            31       841200  17031841200   8412     Census Tract 8412             31            31\n",
       "  4  'MULTIPOLYGON (((-87.63312200003458 41.874488000...           17            31       839000  17031839000   8390     Census Tract 8390             32            32\n",
       "  5  'MULTIPOLYGON (((-87.6678199999753 41.8741839999...           17            31       838200  17031838200   8382     Census Tract 8382             28            28\n",
       "  6  'MULTIPOLYGON (((-87.73706400002477 41.771203999...           17            31       650301  17031650301   6503.01  Census Tract 6503.01          65            65\n",
       "  7  'MULTIPOLYGON (((-87.64386399998179 41.663210000...           17            31       530503  17031530503   5305.03  Census Tract 5305.03          53            53\n",
       "  8  'MULTIPOLYGON (((-87.83844200004106 41.970199999...           17            31       760803  17031760803   7608.03  Census Tract 7608.03          76            76\n",
       "  9  'MULTIPOLYGON (((-87.6543830000042 41.9902020000...           17            31        30601  17031030601    306.01  Census Tract 306.01           77            77"
      ]
     },
     "execution_count": 2,
     "metadata": {},
     "output_type": "execute_result"
    }
   ],
   "source": [
    "# open external data\n",
    "df_census_tracts = vaex.open('./data/chicago_census_tracts.csv')\n",
    "df_census_tracts.head()"
   ]
  },
  {
   "cell_type": "code",
   "execution_count": 3,
   "metadata": {},
   "outputs": [
    {
     "data": {
      "text/html": [
       "<table>\n",
       "<thead>\n",
       "<tr><th>#                            </th><th>the_geom                                           </th><th style=\"text-align: right;\">  PERIMETER</th><th style=\"text-align: right;\">  AREA</th><th style=\"text-align: right;\">  COMAREA_</th><th style=\"text-align: right;\">  COMAREA_ID</th><th style=\"text-align: right;\">  AREA_NUMBE</th><th>COMMUNITY      </th><th style=\"text-align: right;\">  AREA_NUM_1</th><th style=\"text-align: right;\">  SHAPE_AREA</th><th style=\"text-align: right;\">  SHAPE_LEN</th></tr>\n",
       "</thead>\n",
       "<tbody>\n",
       "<tr><td><i style='opacity: 0.6'>0</i></td><td>&#x27;MULTIPOLYGON (((-87.60914087617894 41.844692502...</td><td style=\"text-align: right;\">          0</td><td style=\"text-align: right;\">     0</td><td style=\"text-align: right;\">         0</td><td style=\"text-align: right;\">           0</td><td style=\"text-align: right;\">          35</td><td>DOUGLAS        </td><td style=\"text-align: right;\">          35</td><td style=\"text-align: right;\"> 4.60046e+07</td><td style=\"text-align: right;\">    31027.1</td></tr>\n",
       "<tr><td><i style='opacity: 0.6'>1</i></td><td>&#x27;MULTIPOLYGON (((-87.59215283879394 41.816929346...</td><td style=\"text-align: right;\">          0</td><td style=\"text-align: right;\">     0</td><td style=\"text-align: right;\">         0</td><td style=\"text-align: right;\">           0</td><td style=\"text-align: right;\">          36</td><td>OAKLAND        </td><td style=\"text-align: right;\">          36</td><td style=\"text-align: right;\"> 1.6914e+07 </td><td style=\"text-align: right;\">    19565.5</td></tr>\n",
       "<tr><td><i style='opacity: 0.6'>2</i></td><td>&#x27;MULTIPOLYGON (((-87.62879823733725 41.801893033...</td><td style=\"text-align: right;\">          0</td><td style=\"text-align: right;\">     0</td><td style=\"text-align: right;\">         0</td><td style=\"text-align: right;\">           0</td><td style=\"text-align: right;\">          37</td><td>FULLER PARK    </td><td style=\"text-align: right;\">          37</td><td style=\"text-align: right;\"> 1.99167e+07</td><td style=\"text-align: right;\">    25339.1</td></tr>\n",
       "<tr><td><i style='opacity: 0.6'>3</i></td><td>&#x27;MULTIPOLYGON (((-87.6067081256125 41.8168137705...</td><td style=\"text-align: right;\">          0</td><td style=\"text-align: right;\">     0</td><td style=\"text-align: right;\">         0</td><td style=\"text-align: right;\">           0</td><td style=\"text-align: right;\">          38</td><td>GRAND BOULEVARD</td><td style=\"text-align: right;\">          38</td><td style=\"text-align: right;\"> 4.84925e+07</td><td style=\"text-align: right;\">    28196.8</td></tr>\n",
       "<tr><td><i style='opacity: 0.6'>4</i></td><td>&#x27;MULTIPOLYGON (((-87.59215283879394 41.816929346...</td><td style=\"text-align: right;\">          0</td><td style=\"text-align: right;\">     0</td><td style=\"text-align: right;\">         0</td><td style=\"text-align: right;\">           0</td><td style=\"text-align: right;\">          39</td><td>KENWOOD        </td><td style=\"text-align: right;\">          39</td><td style=\"text-align: right;\"> 2.90717e+07</td><td style=\"text-align: right;\">    23325.2</td></tr>\n",
       "<tr><td><i style='opacity: 0.6'>5</i></td><td>&#x27;MULTIPOLYGON (((-87.6744075678037 41.9761034044...</td><td style=\"text-align: right;\">          0</td><td style=\"text-align: right;\">     0</td><td style=\"text-align: right;\">         0</td><td style=\"text-align: right;\">           0</td><td style=\"text-align: right;\">           4</td><td>LINCOLN SQUARE </td><td style=\"text-align: right;\">           4</td><td style=\"text-align: right;\"> 7.13523e+07</td><td style=\"text-align: right;\">    36624.6</td></tr>\n",
       "<tr><td><i style='opacity: 0.6'>6</i></td><td>&#x27;MULTIPOLYGON (((-87.60603749217005 41.785874064...</td><td style=\"text-align: right;\">          0</td><td style=\"text-align: right;\">     0</td><td style=\"text-align: right;\">         0</td><td style=\"text-align: right;\">           0</td><td style=\"text-align: right;\">          40</td><td>WASHINGTON PARK</td><td style=\"text-align: right;\">          40</td><td style=\"text-align: right;\"> 4.23739e+07</td><td style=\"text-align: right;\">    28175.3</td></tr>\n",
       "<tr><td><i style='opacity: 0.6'>7</i></td><td>&#x27;MULTIPOLYGON (((-87.58037662085418 41.802525022...</td><td style=\"text-align: right;\">          0</td><td style=\"text-align: right;\">     0</td><td style=\"text-align: right;\">         0</td><td style=\"text-align: right;\">           0</td><td style=\"text-align: right;\">          41</td><td>HYDE PARK      </td><td style=\"text-align: right;\">          41</td><td style=\"text-align: right;\"> 4.51054e+07</td><td style=\"text-align: right;\">    29746.7</td></tr>\n",
       "<tr><td><i style='opacity: 0.6'>8</i></td><td>&#x27;MULTIPOLYGON (((-87.57714456891335 41.786146410...</td><td style=\"text-align: right;\">          0</td><td style=\"text-align: right;\">     0</td><td style=\"text-align: right;\">         0</td><td style=\"text-align: right;\">           0</td><td style=\"text-align: right;\">          42</td><td>WOODLAWN       </td><td style=\"text-align: right;\">          42</td><td style=\"text-align: right;\"> 5.78152e+07</td><td style=\"text-align: right;\">    46937  </td></tr>\n",
       "<tr><td><i style='opacity: 0.6'>9</i></td><td>&#x27;MULTIPOLYGON (((-87.65455590025104 41.998166149...</td><td style=\"text-align: right;\">          0</td><td style=\"text-align: right;\">     0</td><td style=\"text-align: right;\">         0</td><td style=\"text-align: right;\">           0</td><td style=\"text-align: right;\">           1</td><td>ROGERS PARK    </td><td style=\"text-align: right;\">           1</td><td style=\"text-align: right;\"> 5.12599e+07</td><td style=\"text-align: right;\">    34052.4</td></tr>\n",
       "</tbody>\n",
       "</table>"
      ],
      "text/plain": [
       "  #  the_geom                                               PERIMETER    AREA    COMAREA_    COMAREA_ID    AREA_NUMBE  COMMUNITY          AREA_NUM_1    SHAPE_AREA    SHAPE_LEN\n",
       "  0  'MULTIPOLYGON (((-87.60914087617894 41.844692502...            0       0           0             0            35  DOUGLAS                    35   4.60046e+07      31027.1\n",
       "  1  'MULTIPOLYGON (((-87.59215283879394 41.816929346...            0       0           0             0            36  OAKLAND                    36   1.6914e+07       19565.5\n",
       "  2  'MULTIPOLYGON (((-87.62879823733725 41.801893033...            0       0           0             0            37  FULLER PARK                37   1.99167e+07      25339.1\n",
       "  3  'MULTIPOLYGON (((-87.6067081256125 41.8168137705...            0       0           0             0            38  GRAND BOULEVARD            38   4.84925e+07      28196.8\n",
       "  4  'MULTIPOLYGON (((-87.59215283879394 41.816929346...            0       0           0             0            39  KENWOOD                    39   2.90717e+07      23325.2\n",
       "  5  'MULTIPOLYGON (((-87.6744075678037 41.9761034044...            0       0           0             0             4  LINCOLN SQUARE              4   7.13523e+07      36624.6\n",
       "  6  'MULTIPOLYGON (((-87.60603749217005 41.785874064...            0       0           0             0            40  WASHINGTON PARK            40   4.23739e+07      28175.3\n",
       "  7  'MULTIPOLYGON (((-87.58037662085418 41.802525022...            0       0           0             0            41  HYDE PARK                  41   4.51054e+07      29746.7\n",
       "  8  'MULTIPOLYGON (((-87.57714456891335 41.786146410...            0       0           0             0            42  WOODLAWN                   42   5.78152e+07      46937\n",
       "  9  'MULTIPOLYGON (((-87.65455590025104 41.998166149...            0       0           0             0             1  ROGERS PARK                 1   5.12599e+07      34052.4"
      ]
     },
     "execution_count": 3,
     "metadata": {},
     "output_type": "execute_result"
    }
   ],
   "source": [
    "df_community_areas = vaex.open('./data/community_areas.csv')\n",
    "df_community_areas.head()"
   ]
  },
  {
   "attachments": {},
   "cell_type": "markdown",
   "metadata": {},
   "source": [
    "### Reduce amount of columns and drop rows with null values in important columns"
   ]
  },
  {
   "cell_type": "code",
   "execution_count": 4,
   "metadata": {},
   "outputs": [],
   "source": [
    "# drop 'dropoff_centroid__location' and 'pickup_centroid_location' columns because we work with latitude and longitude values\n",
    "df_taxi_trips_filtered = df_taxi_trips_all.drop(['dropoff_centroid__location', 'pickup_centroid_location'])"
   ]
  },
  {
   "cell_type": "code",
   "execution_count": 5,
   "metadata": {},
   "outputs": [],
   "source": [
    "### NOT MANDATORY ####\n",
    "# check which values contain NA and NaN values\n",
    "# column_names = df_taxi_trips_filtered.get_column_names()\n",
    "\n",
    "# for column in column_names:\n",
    "#     if df_taxi_trips_filtered[column].isna().sum() > 0:\n",
    "#         print(f\"Column '{column}' contains NA or NaN values with a number of \" + str(df_taxi_trips_filtered[column].isna().sum()) + \" rows.\")"
   ]
  },
  {
   "cell_type": "code",
   "execution_count": 6,
   "metadata": {},
   "outputs": [],
   "source": [
    "### NOT MANDATORY ####\n",
    "# We decide to drop all columns with NA or NaN values for consistent analysis across different tasks\n",
    "# print(\"Total number of rows: \" + str(df_taxi_trips_all.count()))\n",
    "\n",
    "# df_taxi_trips_filtered = df_taxi_trips_filtered.dropnan()\n",
    "# print(\"Number of rows without NaN-values: \" + str(df_taxi_trips_filtered.count()))\n",
    "\n",
    "# df_taxi_trips_filtered = df_taxi_trips_filtered.dropna()\n",
    "# print(\"Number of rows without NA-values: \" + str(df_taxi_trips_filtered.count()))"
   ]
  },
  {
   "cell_type": "code",
   "execution_count": 7,
   "metadata": {},
   "outputs": [
    {
     "name": "stdout",
     "output_type": "stream",
     "text": [
      "Number of rows without 'trip_seconds' = 0: 24470423\n",
      "Number of rows without 'trip_miles' = 0: 21938478\n"
     ]
    }
   ],
   "source": [
    "# delete rows with 'trip_seconds' = 0\n",
    "df_taxi_trips_filtered = df_taxi_trips_filtered[df_taxi_trips_filtered['trip_seconds'] != 0.0]\n",
    "print(\"Number of rows without 'trip_seconds' = 0: \" + str(df_taxi_trips_filtered.count()))\n",
    "\n",
    "# delete rows with 'trip_miles' = 0\n",
    "df_taxi_trips_filtered = df_taxi_trips_filtered[df_taxi_trips_filtered['trip_miles'] != 0.0]\n",
    "print(\"Number of rows without 'trip_miles' = 0: \" + str(df_taxi_trips_filtered.count()))"
   ]
  },
  {
   "attachments": {},
   "cell_type": "markdown",
   "metadata": {},
   "source": [
    "### Check for consistency"
   ]
  },
  {
   "cell_type": "code",
   "execution_count": 8,
   "metadata": {},
   "outputs": [],
   "source": [
    "### NOT MANDATORY ###\n",
    "### !!! warning of long loading time !!! ###\n",
    "# check if trip ids are unique\n",
    "# print(\"Trip IDs are unique?: \" + str(len(df_taxi_trips_filtered) == df_taxi_trips_filtered['trip_id'].nunique()))\n"
   ]
  },
  {
   "cell_type": "code",
   "execution_count": 9,
   "metadata": {},
   "outputs": [],
   "source": [
    "# check for consistency in community areas\n",
    "# print(\"Number of community areas: \" + str(df_community_areas.count()))\n",
    "# print(\"Number of community areas in taxi trip data without NaN-values: \" + str(df_taxi_trips_filtered.pickup_community_area.nunique(dropnan=True)))"
   ]
  },
  {
   "cell_type": "code",
   "execution_count": 10,
   "metadata": {},
   "outputs": [],
   "source": [
    "# check for consistency in community areas\n",
    "# import pyarrow as pa\n",
    "# community_areas = df_community_areas.AREA_NUMBE.values.unique()\n",
    "# community_areas_int = set([area.as_py() for area in community_areas])\n",
    "\n",
    "# community_areas_pickup = df_taxi_trips_filtered.pickup_community_area.unique(dropnan=True)\n",
    "# community_areas_pickup_int = set([int(area) for area in community_areas_pickup])\n",
    "\n",
    "# community_areas_dropoff = df_taxi_trips_filtered.pickup_community_area.unique(dropnan=True)\n",
    "# community_areas_dropoff_int = set([int(area) for area in community_areas_dropoff])\n",
    "\n",
    "# print(\"Do the pickup community area IDs in the taxi trip data match the community area dataset? \",community_areas_pickup_int.issubset(community_areas_int))\n",
    "# print(\"Do the dropoff community area IDs in the taxi trip data match the community area dataset? \",community_areas_dropoff_int.issubset(community_areas_int))"
   ]
  },
  {
   "cell_type": "code",
   "execution_count": 11,
   "metadata": {},
   "outputs": [],
   "source": [
    "# check for consistency in census tracts\n",
    "# print(\"Number of census tracts: \" + str(df_census_tracts.count()))\n",
    "# print(\"Number of pickup census tracts in filtered taxi trip data: \" + str(df_taxi_trips_filtered.pickup_census_tract.nunique()))\n",
    "# print(\"Number of dropoff census tracts in filtered taxi trip data: \" + str(df_taxi_trips_filtered.dropoff_census_tract.nunique()))"
   ]
  },
  {
   "cell_type": "code",
   "execution_count": 12,
   "metadata": {},
   "outputs": [],
   "source": [
    "# check if the census tracts in the taxi data match the census tracts dataset\n",
    "# df_census_tracts.GEOID10.values\n",
    "# census_tracts = set([id.as_py() for id in df_census_tracts.GEOID10.values])\n",
    "# census_tracts_taxi_pickups = set([int(id) for id in df_taxi_trips_filtered.pickup_census_tract.unique(dropnan=True)])\n",
    "# census_tracts_taxi_dropoffs = set([int(id) for id in df_taxi_trips_filtered.dropoff_census_tract.unique(dropnan=True)])\n",
    "\n",
    "# print(\"Do the pickup census tract IDs in the taxi trip data match the census tract dataset? \",census_tracts_taxi_pickups.issubset(census_tracts))\n",
    "# print(\"Do the dropoff census tract IDs in the taxi trip data match the census tract dataset? \",census_tracts_taxi_dropoffs.issubset(census_tracts))"
   ]
  },
  {
   "cell_type": "code",
   "execution_count": 13,
   "metadata": {},
   "outputs": [],
   "source": [
    "# create columns for hourly and 4-hourly temporal discretization\n",
    "df_taxi_trips_filtered[\"trip_start_hour\"] = df_taxi_trips_filtered.trip_start_timestamp.dt.hour\n",
    "df_taxi_trips_filtered[\"trip_end_hour\"] = df_taxi_trips_filtered.trip_end_timestamp.dt.hour\n",
    "df_taxi_trips_filtered[\"trip_start_4h_period\"] = df_taxi_trips_filtered.trip_start_timestamp.dt.hour//4\n",
    "df_taxi_trips_filtered[\"trip_end_4h_period\"] = df_taxi_trips_filtered.trip_end_timestamp.dt.hour//4"
   ]
  },
  {
   "cell_type": "code",
   "execution_count": 14,
   "metadata": {},
   "outputs": [
    {
     "name": "stdout",
     "output_type": "stream",
     "text": [
      "export(hdf5) [#####################################---] 92.92% estimated time:   102.70s =  1.7m =  0.0h     "
     ]
    }
   ],
   "source": [
    "# export prepared dataframe\n",
    "df_taxi_trips_filtered.export_hdf5('./data/trips_prepared.hdf5', progress=True)"
   ]
  }
 ],
 "metadata": {
  "kernelspec": {
   "display_name": "Python 3",
   "language": "python",
   "name": "python3"
  },
  "language_info": {
   "codemirror_mode": {
    "name": "ipython",
    "version": 3
   },
   "file_extension": ".py",
   "mimetype": "text/x-python",
   "name": "python",
   "nbconvert_exporter": "python",
   "pygments_lexer": "ipython3",
   "version": "3.10.6"
  },
  "orig_nbformat": 4,
  "vscode": {
   "interpreter": {
    "hash": "916dbcbb3f70747c44a77c7bcd40155683ae19c65e1c03b4aa3499c5328201f1"
   }
  }
 },
 "nbformat": 4,
 "nbformat_minor": 2
}
