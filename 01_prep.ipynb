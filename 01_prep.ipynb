{
 "cells": [
  {
   "cell_type": "code",
   "execution_count": 1,
   "metadata": {},
   "outputs": [],
   "source": [
    "import pandas as pd\n",
    "from shapely.geometry import Point, MultiPolygon\n",
    "import vaex\n",
    "from datetime import datetime\n",
    "import numpy as np\n",
    "import pyarrow as pa\n",
    "import shapely\n",
    "import shapely.wkt\n",
    "import geopandas as gpd\n",
    "import math"
   ]
  },
  {
   "cell_type": "markdown",
   "metadata": {},
   "source": [
    "# Data preparation"
   ]
  },
  {
   "cell_type": "code",
   "execution_count": 2,
   "metadata": {},
   "outputs": [],
   "source": [
    "df_taxi_trips_all = vaex.open('./data/big_trips.hdf5')\n",
    "\n",
    "### Replace spaces and uppercases in column names\n",
    "column_names = df_taxi_trips_all.column_names\n",
    "column_names_refactored = [ln.replace(' ', '_').lower() for ln in column_names]\n",
    "\n",
    "for i, column in enumerate(column_names):\n",
    "    df_taxi_trips_all.rename(column, column_names_refactored[i])\n",
    "\n",
    "# correct typo\n",
    "df_taxi_trips_all.rename(\"dropoff_centroid__location\",\"dropoff_centroid_location\")\n",
    "\n",
    "# cast timestamp columns to datetime\n",
    "date_format = \"%m/%d/%Y %I:%M:%S %p\"\n",
    "def column_to_datetime(datetime_str):\n",
    "    return np.datetime64(datetime.strptime(datetime_str, date_format))\n",
    "\n",
    "df_taxi_trips_all['trip_start_timestamp'] = df_taxi_trips_all['trip_start_timestamp'].apply(column_to_datetime)\n",
    "df_taxi_trips_all['trip_end_timestamp'] = df_taxi_trips_all['trip_end_timestamp'].apply(column_to_datetime)"
   ]
  },
  {
   "cell_type": "code",
   "execution_count": 3,
   "metadata": {},
   "outputs": [],
   "source": [
    "# open external data: census tracts\n",
    "df_census_tracts = vaex.open('./data/chicago_census_tracts.csv')\n",
    "#df_census_tracts.rename(\"the_geom\", \"geometry\")\n",
    "\n",
    "# community areas\n",
    "df_community_areas = vaex.open('./data/community_areas.csv')"
   ]
  },
  {
   "cell_type": "code",
   "execution_count": 4,
   "metadata": {},
   "outputs": [
    {
     "name": "stdout",
     "output_type": "stream",
     "text": [
      "Total amount of trips: 24,988,003\n"
     ]
    }
   ],
   "source": [
    "total_trips = len(df_taxi_trips_all)\n",
    "print(f\"Total amount of trips: {total_trips:,}\")"
   ]
  },
  {
   "cell_type": "code",
   "execution_count": 5,
   "metadata": {},
   "outputs": [
    {
     "name": "stdout",
     "output_type": "stream",
     "text": [
      "Number of trips with trip_miles = 0: 3,003,697\n",
      "Number of trips without trip miles and same location: 1,387,241\n"
     ]
    }
   ],
   "source": [
    "# Number of trips with trip_miles = 0\n",
    "zero_trip_miles = len(df_taxi_trips_all[df_taxi_trips_all[\"trip_miles\"] == 0])\n",
    "print(f\"Number of trips with trip_miles = 0: {zero_trip_miles:,}\")\n",
    "\n",
    "# Number of trips with trip_miles = 0 and no difference in pickup and dropoff location\n",
    "zero_trip_miles_same_loc = len(df_taxi_trips_all[(df_taxi_trips_all[\"trip_miles\"] == 0) & (df_taxi_trips_all[\"pickup_centroid_location\"] == df_taxi_trips_all[\"dropoff_centroid_location\"])])\n",
    "print(f\"Number of trips without trip miles and same location: {zero_trip_miles_same_loc:,}\")"
   ]
  },
  {
   "cell_type": "markdown",
   "metadata": {},
   "source": [
    "### Removing Trips with Zero Trip Miles and Same Pickup/Dropoff Locations"
   ]
  },
  {
   "cell_type": "code",
   "execution_count": 6,
   "metadata": {},
   "outputs": [
    {
     "name": "stdout",
     "output_type": "stream",
     "text": [
      "Total Trips with Non-Zero Trip Miles and Different Pickup/Dropoff Locations: 23,600,762\n"
     ]
    }
   ],
   "source": [
    "# drop rows without trip miles and same location\n",
    "df_non_zero_trip_miles = df_taxi_trips_all[(df_taxi_trips_all[\"trip_miles\"] != 0) | (df_taxi_trips_all[\"pickup_centroid_location\"] != df_taxi_trips_all[\"dropoff_centroid_location\"])]\n",
    "print(f\"Total Trips with Non-Zero Trip Miles and Different Pickup/Dropoff Locations: {len(df_non_zero_trip_miles):,}\")"
   ]
  },
  {
   "cell_type": "markdown",
   "metadata": {},
   "source": [
    "### Insert Missing Census Tract IDs"
   ]
  },
  {
   "cell_type": "code",
   "execution_count": 7,
   "metadata": {},
   "outputs": [
    {
     "name": "stdout",
     "output_type": "stream",
     "text": [
      "Percentage of missing pickup_census_tract IDs: 30.76%\n",
      "Percentage of missing pickup_census_tract IDs: 31.13%\n"
     ]
    }
   ],
   "source": [
    "# Calculate the percentage of missing pickup_census_tract IDs\n",
    "percentage_missing_pickup_census_tract = (len(df_non_zero_trip_miles[df_non_zero_trip_miles[\"pickup_census_tract\"].isnan()]) / len(df_non_zero_trip_miles)) * 100\n",
    "percentage_missing_dropoff_census_tract = (len(df_non_zero_trip_miles[df_non_zero_trip_miles[\"dropoff_census_tract\"].isnan()]) / len(df_non_zero_trip_miles)) * 100\n",
    "\n",
    "# Round the percentage to two decimal places\n",
    "percentage_rounded_pickup = round(percentage_missing_pickup_census_tract, 2)\n",
    "percentage_rounded_dropoff = round(percentage_missing_dropoff_census_tract, 2)\n",
    "\n",
    "# Display the result\n",
    "print(f\"Percentage of missing pickup_census_tract IDs: {percentage_rounded_pickup}%\")\n",
    "print(f\"Percentage of missing pickup_census_tract IDs: {percentage_rounded_dropoff}%\")"
   ]
  },
  {
   "cell_type": "code",
   "execution_count": 8,
   "metadata": {},
   "outputs": [
    {
     "data": {
      "text/plain": [
       "5000517"
      ]
     },
     "execution_count": 8,
     "metadata": {},
     "output_type": "execute_result"
    }
   ],
   "source": [
    "## Get Number of empty census tracts when locations are defined\n",
    "filtered_df = df_non_zero_trip_miles[(df_non_zero_trip_miles.pickup_centroid_location.notna()) & (df_non_zero_trip_miles.dropoff_centroid_location.notna()) & (df_non_zero_trip_miles.pickup_census_tract.isna()) & (df_non_zero_trip_miles.dropoff_census_tract.isna())]\n",
    "len(filtered_df)"
   ]
  },
  {
   "cell_type": "code",
   "execution_count": 9,
   "metadata": {},
   "outputs": [
    {
     "name": "stdout",
     "output_type": "stream",
     "text": [
      "77\n",
      "77\n"
     ]
    }
   ],
   "source": [
    "pickup_centroids = filtered_df.groupby(by='pickup_centroid_location', agg=vaex.agg.count())\n",
    "dropoff_centroids = filtered_df.groupby(by='dropoff_centroid_location', agg=vaex.agg.count())\n",
    "\n",
    "print(len(pickup_centroids))\n",
    "print(len(dropoff_centroids))"
   ]
  },
  {
   "cell_type": "code",
   "execution_count": 10,
   "metadata": {},
   "outputs": [
    {
     "name": "stdout",
     "output_type": "stream",
     "text": [
      "77\n",
      "Both missing dropoff and pickup locations are the same\n"
     ]
    },
    {
     "data": {
      "text/html": [
       "<div style=\"width:100%;\"><div style=\"position:relative;width:100%;height:0;padding-bottom:60%;\"><span style=\"color:#565656\">Make this Notebook Trusted to load map: File -> Trust Notebook</span><iframe srcdoc=\"&lt;!DOCTYPE html&gt;\n",
       "&lt;html&gt;\n",
       "&lt;head&gt;\n",
       "    \n",
       "    &lt;meta http-equiv=&quot;content-type&quot; content=&quot;text/html; charset=UTF-8&quot; /&gt;\n",
       "    \n",
       "        &lt;script&gt;\n",
       "            L_NO_TOUCH = false;\n",
       "            L_DISABLE_3D = false;\n",
       "        &lt;/script&gt;\n",
       "    \n",
       "    &lt;style&gt;html, body {width: 100%;height: 100%;margin: 0;padding: 0;}&lt;/style&gt;\n",
       "    &lt;style&gt;#map {position:absolute;top:0;bottom:0;right:0;left:0;}&lt;/style&gt;\n",
       "    &lt;script src=&quot;https://cdn.jsdelivr.net/npm/leaflet@1.9.3/dist/leaflet.js&quot;&gt;&lt;/script&gt;\n",
       "    &lt;script src=&quot;https://code.jquery.com/jquery-1.12.4.min.js&quot;&gt;&lt;/script&gt;\n",
       "    &lt;script src=&quot;https://cdn.jsdelivr.net/npm/bootstrap@5.2.2/dist/js/bootstrap.bundle.min.js&quot;&gt;&lt;/script&gt;\n",
       "    &lt;script src=&quot;https://cdnjs.cloudflare.com/ajax/libs/Leaflet.awesome-markers/2.0.2/leaflet.awesome-markers.js&quot;&gt;&lt;/script&gt;\n",
       "    &lt;link rel=&quot;stylesheet&quot; href=&quot;https://cdn.jsdelivr.net/npm/leaflet@1.9.3/dist/leaflet.css&quot;/&gt;\n",
       "    &lt;link rel=&quot;stylesheet&quot; href=&quot;https://cdn.jsdelivr.net/npm/bootstrap@5.2.2/dist/css/bootstrap.min.css&quot;/&gt;\n",
       "    &lt;link rel=&quot;stylesheet&quot; href=&quot;https://netdna.bootstrapcdn.com/bootstrap/3.0.0/css/bootstrap.min.css&quot;/&gt;\n",
       "    &lt;link rel=&quot;stylesheet&quot; href=&quot;https://cdn.jsdelivr.net/npm/@fortawesome/fontawesome-free@6.2.0/css/all.min.css&quot;/&gt;\n",
       "    &lt;link rel=&quot;stylesheet&quot; href=&quot;https://cdnjs.cloudflare.com/ajax/libs/Leaflet.awesome-markers/2.0.2/leaflet.awesome-markers.css&quot;/&gt;\n",
       "    &lt;link rel=&quot;stylesheet&quot; href=&quot;https://cdn.jsdelivr.net/gh/python-visualization/folium/folium/templates/leaflet.awesome.rotate.min.css&quot;/&gt;\n",
       "    \n",
       "            &lt;meta name=&quot;viewport&quot; content=&quot;width=device-width,\n",
       "                initial-scale=1.0, maximum-scale=1.0, user-scalable=no&quot; /&gt;\n",
       "            &lt;style&gt;\n",
       "                #map_9714db327e17e6e6833c86342d76bab1 {\n",
       "                    position: relative;\n",
       "                    width: 100.0%;\n",
       "                    height: 100.0%;\n",
       "                    left: 0.0%;\n",
       "                    top: 0.0%;\n",
       "                }\n",
       "                .leaflet-container { font-size: 1rem; }\n",
       "            &lt;/style&gt;\n",
       "        \n",
       "    \n",
       "                    &lt;style&gt;\n",
       "                        .foliumtooltip {\n",
       "                            \n",
       "                        }\n",
       "                       .foliumtooltip table{\n",
       "                            margin: auto;\n",
       "                        }\n",
       "                        .foliumtooltip tr{\n",
       "                            text-align: left;\n",
       "                        }\n",
       "                        .foliumtooltip th{\n",
       "                            padding: 2px; padding-right: 8px;\n",
       "                        }\n",
       "                    &lt;/style&gt;\n",
       "            \n",
       "&lt;/head&gt;\n",
       "&lt;body&gt;\n",
       "    \n",
       "    \n",
       "            &lt;div class=&quot;folium-map&quot; id=&quot;map_9714db327e17e6e6833c86342d76bab1&quot; &gt;&lt;/div&gt;\n",
       "        \n",
       "&lt;/body&gt;\n",
       "&lt;script&gt;\n",
       "    \n",
       "    \n",
       "            var map_9714db327e17e6e6833c86342d76bab1 = L.map(\n",
       "                &quot;map_9714db327e17e6e6833c86342d76bab1&quot;,\n",
       "                {\n",
       "                    center: [41.83487946565, -87.72426374860001],\n",
       "                    crs: L.CRS.EPSG3857,\n",
       "                    zoom: 10,\n",
       "                    zoomControl: true,\n",
       "                    preferCanvas: false,\n",
       "                }\n",
       "            );\n",
       "            L.control.scale().addTo(map_9714db327e17e6e6833c86342d76bab1);\n",
       "\n",
       "            \n",
       "\n",
       "        \n",
       "    \n",
       "            var tile_layer_9900c0e97e4cee8a8a01ad33c3bc2b5d = L.tileLayer(\n",
       "                &quot;https://{s}.tile.openstreetmap.org/{z}/{x}/{y}.png&quot;,\n",
       "                {&quot;attribution&quot;: &quot;Data by \\u0026copy; \\u003ca target=\\&quot;_blank\\&quot; href=\\&quot;http://openstreetmap.org\\&quot;\\u003eOpenStreetMap\\u003c/a\\u003e, under \\u003ca target=\\&quot;_blank\\&quot; href=\\&quot;http://www.openstreetmap.org/copyright\\&quot;\\u003eODbL\\u003c/a\\u003e.&quot;, &quot;detectRetina&quot;: false, &quot;maxNativeZoom&quot;: 18, &quot;maxZoom&quot;: 18, &quot;minZoom&quot;: 0, &quot;noWrap&quot;: false, &quot;opacity&quot;: 1, &quot;subdomains&quot;: &quot;abc&quot;, &quot;tms&quot;: false}\n",
       "            ).addTo(map_9714db327e17e6e6833c86342d76bab1);\n",
       "        \n",
       "    \n",
       "            map_9714db327e17e6e6833c86342d76bab1.fitBounds(\n",
       "                [[41.6601360507, -87.913624596], [42.0096228806, -87.5349029012]],\n",
       "                {}\n",
       "            );\n",
       "        \n",
       "    \n",
       "        function geo_json_04d0b3ed9d96bff2c8449869212a21d0_styler(feature) {\n",
       "            switch(feature.id) {\n",
       "                default:\n",
       "                    return {&quot;fillOpacity&quot;: 0.5, &quot;weight&quot;: 2};\n",
       "            }\n",
       "        }\n",
       "        function geo_json_04d0b3ed9d96bff2c8449869212a21d0_highlighter(feature) {\n",
       "            switch(feature.id) {\n",
       "                default:\n",
       "                    return {&quot;fillOpacity&quot;: 0.75};\n",
       "            }\n",
       "        }\n",
       "        function geo_json_04d0b3ed9d96bff2c8449869212a21d0_pointToLayer(feature, latlng) {\n",
       "            var opts = {&quot;bubblingMouseEvents&quot;: true, &quot;color&quot;: &quot;#3388ff&quot;, &quot;dashArray&quot;: null, &quot;dashOffset&quot;: null, &quot;fill&quot;: true, &quot;fillColor&quot;: &quot;#3388ff&quot;, &quot;fillOpacity&quot;: 0.2, &quot;fillRule&quot;: &quot;evenodd&quot;, &quot;lineCap&quot;: &quot;round&quot;, &quot;lineJoin&quot;: &quot;round&quot;, &quot;opacity&quot;: 1.0, &quot;radius&quot;: 2, &quot;stroke&quot;: true, &quot;weight&quot;: 3};\n",
       "            \n",
       "            let style = geo_json_04d0b3ed9d96bff2c8449869212a21d0_styler(feature)\n",
       "            Object.assign(opts, style)\n",
       "            \n",
       "            return new L.CircleMarker(latlng, opts)\n",
       "        }\n",
       "\n",
       "        function geo_json_04d0b3ed9d96bff2c8449869212a21d0_onEachFeature(feature, layer) {\n",
       "            layer.on({\n",
       "                mouseout: function(e) {\n",
       "                    if(typeof e.target.setStyle === &quot;function&quot;){\n",
       "                        geo_json_04d0b3ed9d96bff2c8449869212a21d0.resetStyle(e.target);\n",
       "                    }\n",
       "                },\n",
       "                mouseover: function(e) {\n",
       "                    if(typeof e.target.setStyle === &quot;function&quot;){\n",
       "                        const highlightStyle = geo_json_04d0b3ed9d96bff2c8449869212a21d0_highlighter(e.target.feature)\n",
       "                        e.target.setStyle(highlightStyle);\n",
       "                    }\n",
       "                },\n",
       "            });\n",
       "        };\n",
       "        var geo_json_04d0b3ed9d96bff2c8449869212a21d0 = L.geoJson(null, {\n",
       "                onEachFeature: geo_json_04d0b3ed9d96bff2c8449869212a21d0_onEachFeature,\n",
       "            \n",
       "                style: geo_json_04d0b3ed9d96bff2c8449869212a21d0_styler,\n",
       "                pointToLayer: geo_json_04d0b3ed9d96bff2c8449869212a21d0_pointToLayer\n",
       "        });\n",
       "\n",
       "        function geo_json_04d0b3ed9d96bff2c8449869212a21d0_add (data) {\n",
       "            geo_json_04d0b3ed9d96bff2c8449869212a21d0\n",
       "                .addData(data)\n",
       "                .addTo(map_9714db327e17e6e6833c86342d76bab1);\n",
       "        }\n",
       "            geo_json_04d0b3ed9d96bff2c8449869212a21d0_add({&quot;bbox&quot;: [-87.913624596, 41.6601360507, -87.5349029012, 42.0096228806], &quot;features&quot;: [{&quot;bbox&quot;: [-87.6339734222, 41.8420761168, -87.6339734222, 41.8420761168], &quot;geometry&quot;: {&quot;coordinates&quot;: [-87.6339734222, 41.8420761168], &quot;type&quot;: &quot;Point&quot;}, &quot;id&quot;: &quot;0&quot;, &quot;properties&quot;: {}, &quot;type&quot;: &quot;Feature&quot;}, {&quot;bbox&quot;: [-87.7583535876, 41.9939301285, -87.7583535876, 41.9939301285], &quot;geometry&quot;: {&quot;coordinates&quot;: [-87.7583535876, 41.9939301285], &quot;type&quot;: &quot;Point&quot;}, &quot;id&quot;: &quot;1&quot;, &quot;properties&quot;: {}, &quot;type&quot;: &quot;Feature&quot;}, {&quot;bbox&quot;: [-87.7269298425, 41.7697780588, -87.7269298425, 41.7697780588], &quot;geometry&quot;: {&quot;coordinates&quot;: [-87.7269298425, 41.7697780588], &quot;type&quot;: &quot;Point&quot;}, &quot;id&quot;: &quot;2&quot;, &quot;properties&quot;: {}, &quot;type&quot;: &quot;Feature&quot;}, {&quot;bbox&quot;: [-87.8137810343, 42.0076125931, -87.8137810343, 42.0076125931], &quot;geometry&quot;: {&quot;coordinates&quot;: [-87.8137810343, 42.0076125931], &quot;type&quot;: &quot;Point&quot;}, &quot;id&quot;: &quot;3&quot;, &quot;properties&quot;: {}, &quot;type&quot;: &quot;Feature&quot;}, {&quot;bbox&quot;: [-87.551428197, 41.7412427285, -87.551428197, 41.7412427285], &quot;geometry&quot;: {&quot;coordinates&quot;: [-87.551428197, 41.7412427285], &quot;type&quot;: &quot;Point&quot;}, &quot;id&quot;: &quot;4&quot;, &quot;properties&quot;: {}, &quot;type&quot;: &quot;Feature&quot;}, {&quot;bbox&quot;: [-87.771166703, 41.9788295262, -87.771166703, 41.9788295262], &quot;geometry&quot;: {&quot;coordinates&quot;: [-87.771166703, 41.9788295262], &quot;type&quot;: &quot;Point&quot;}, &quot;id&quot;: &quot;5&quot;, &quot;properties&quot;: {}, &quot;type&quot;: &quot;Feature&quot;}, {&quot;bbox&quot;: [-87.5964755956, 41.728182061, -87.5964755956, 41.728182061], &quot;geometry&quot;: {&quot;coordinates&quot;: [-87.5964755956, 41.728182061], &quot;type&quot;: &quot;Point&quot;}, &quot;id&quot;: &quot;6&quot;, &quot;properties&quot;: {}, &quot;type&quot;: &quot;Feature&quot;}, {&quot;bbox&quot;: [-87.6690544032, 41.6897299145, -87.6690544032, 41.6897299145], &quot;geometry&quot;: {&quot;coordinates&quot;: [-87.6690544032, 41.6897299145], &quot;type&quot;: &quot;Point&quot;}, &quot;id&quot;: &quot;7&quot;, &quot;properties&quot;: {}, &quot;type&quot;: &quot;Feature&quot;}, {&quot;bbox&quot;: [-87.6558787862, 41.96581197, -87.6558787862, 41.96581197], &quot;geometry&quot;: {&quot;coordinates&quot;: [-87.6558787862, 41.96581197], &quot;type&quot;: &quot;Point&quot;}, &quot;id&quot;: &quot;8&quot;, &quot;properties&quot;: {}, &quot;type&quot;: &quot;Feature&quot;}, {&quot;bbox&quot;: [-87.7234523905, 41.9535821253, -87.7234523905, 41.9535821253], &quot;geometry&quot;: {&quot;coordinates&quot;: [-87.7234523905, 41.9535821253], &quot;type&quot;: &quot;Point&quot;}, &quot;id&quot;: &quot;9&quot;, &quot;properties&quot;: {}, &quot;type&quot;: &quot;Feature&quot;}, {&quot;bbox&quot;: [-87.714003807, 41.8390869059, -87.714003807, 41.8390869059], &quot;geometry&quot;: {&quot;coordinates&quot;: [-87.714003807, 41.8390869059], &quot;type&quot;: &quot;Point&quot;}, &quot;id&quot;: &quot;10&quot;, &quot;properties&quot;: {}, &quot;type&quot;: &quot;Feature&quot;}, {&quot;bbox&quot;: [-87.5409355129, 41.6636706517, -87.5409355129, 41.6636706517], &quot;geometry&quot;: {&quot;coordinates&quot;: [-87.5409355129, 41.6636706517], &quot;type&quot;: &quot;Point&quot;}, &quot;id&quot;: &quot;11&quot;, &quot;properties&quot;: {}, &quot;type&quot;: &quot;Feature&quot;}, {&quot;bbox&quot;: [-87.5727819867, 41.7615779081, -87.5727819867, 41.7615779081], &quot;geometry&quot;: {&quot;coordinates&quot;: [-87.5727819867, 41.7615779081], &quot;type&quot;: &quot;Point&quot;}, &quot;id&quot;: &quot;12&quot;, &quot;properties&quot;: {}, &quot;type&quot;: &quot;Feature&quot;}, {&quot;bbox&quot;: [-87.5349029012, 41.707311449, -87.5349029012, 41.707311449], &quot;geometry&quot;: {&quot;coordinates&quot;: [-87.5349029012, 41.707311449], &quot;type&quot;: &quot;Point&quot;}, &quot;id&quot;: &quot;13&quot;, &quot;properties&quot;: {}, &quot;type&quot;: &quot;Feature&quot;}, {&quot;bbox&quot;: [-87.5961833442, 41.8089162826, -87.5961833442, 41.8089162826], &quot;geometry&quot;: {&quot;coordinates&quot;: [-87.5961833442, 41.8089162826], &quot;type&quot;: &quot;Point&quot;}, &quot;id&quot;: &quot;14&quot;, &quot;properties&quot;: {}, &quot;type&quot;: &quot;Feature&quot;}, {&quot;bbox&quot;: [-87.6179313803, 41.7923572233, -87.6179313803, 41.7923572233], &quot;geometry&quot;: {&quot;coordinates&quot;: [-87.6179313803, 41.7923572233], &quot;type&quot;: &quot;Point&quot;}, &quot;id&quot;: &quot;15&quot;, &quot;properties&quot;: {}, &quot;type&quot;: &quot;Feature&quot;}, {&quot;bbox&quot;: [-87.6950125892, 42.001571027, -87.6950125892, 42.001571027], &quot;geometry&quot;: {&quot;coordinates&quot;: [-87.6950125892, 42.001571027], &quot;type&quot;: &quot;Point&quot;}, &quot;id&quot;: &quot;16&quot;, &quot;properties&quot;: {}, &quot;type&quot;: &quot;Feature&quot;}, {&quot;bbox&quot;: [-87.768510849, 41.7795828877, -87.768510849, 41.7795828877], &quot;geometry&quot;: {&quot;coordinates&quot;: [-87.768510849, 41.7795828877], &quot;type&quot;: &quot;Point&quot;}, &quot;id&quot;: &quot;17&quot;, &quot;properties&quot;: {}, &quot;type&quot;: &quot;Feature&quot;}, {&quot;bbox&quot;: [-87.7302324284, 41.8785943576, -87.7302324284, 41.8785943576], &quot;geometry&quot;: {&quot;coordinates&quot;: [-87.7302324284, 41.8785943576], &quot;type&quot;: &quot;Point&quot;}, &quot;id&quot;: &quot;18&quot;, &quot;properties&quot;: {}, &quot;type&quot;: &quot;Feature&quot;}, {&quot;bbox&quot;: [-87.7242081939, 41.7929819032, -87.7242081939, 41.7929819032], &quot;geometry&quot;: {&quot;coordinates&quot;: [-87.7242081939, 41.7929819032], &quot;type&quot;: &quot;Point&quot;}, &quot;id&quot;: &quot;19&quot;, &quot;properties&quot;: {}, &quot;type&quot;: &quot;Feature&quot;}, {&quot;bbox&quot;: [-87.69915534320002, 41.9227606205, -87.69915534320002, 41.9227606205], &quot;geometry&quot;: {&quot;coordinates&quot;: [-87.69915534320002, 41.9227606205], &quot;type&quot;: &quot;Point&quot;}, &quot;id&quot;: &quot;20&quot;, &quot;properties&quot;: {}, &quot;type&quot;: &quot;Feature&quot;}, {&quot;bbox&quot;: [-87.7696154528, 41.7925923603, -87.7696154528, 41.7925923603], &quot;geometry&quot;: {&quot;coordinates&quot;: [-87.7696154528, 41.7925923603], &quot;type&quot;: &quot;Point&quot;}, &quot;id&quot;: &quot;21&quot;, &quot;properties&quot;: {}, &quot;type&quot;: &quot;Feature&quot;}, {&quot;bbox&quot;: [-87.6763559892, 41.90120699410001, -87.6763559892, 41.90120699410001], &quot;geometry&quot;: {&quot;coordinates&quot;: [-87.6763559892, 41.90120699410001], &quot;type&quot;: &quot;Point&quot;}, &quot;id&quot;: &quot;22&quot;, &quot;properties&quot;: {}, &quot;type&quot;: &quot;Feature&quot;}, {&quot;bbox&quot;: [-87.7215590627, 41.968069, -87.7215590627, 41.968069], &quot;geometry&quot;: {&quot;coordinates&quot;: [-87.7215590627, 41.968069], &quot;type&quot;: &quot;Point&quot;}, &quot;id&quot;: &quot;23&quot;, &quot;properties&quot;: {}, &quot;type&quot;: &quot;Feature&quot;}, {&quot;bbox&quot;: [-87.67016685690001, 42.0096228806, -87.67016685690001, 42.0096228806], &quot;geometry&quot;: {&quot;coordinates&quot;: [-87.67016685690001, 42.0096228806], &quot;type&quot;: &quot;Point&quot;}, &quot;id&quot;: &quot;24&quot;, &quot;properties&quot;: {}, &quot;type&quot;: &quot;Feature&quot;}, {&quot;bbox&quot;: [-87.6838349425, 41.9477915865, -87.6838349425, 41.9477915865], &quot;geometry&quot;: {&quot;coordinates&quot;: [-87.6838349425, 41.9477915865], &quot;type&quot;: &quot;Point&quot;}, &quot;id&quot;: &quot;25&quot;, &quot;properties&quot;: {}, &quot;type&quot;: &quot;Feature&quot;}, {&quot;bbox&quot;: [-87.695666342, 41.7718485152, -87.695666342, 41.7718485152], &quot;geometry&quot;: {&quot;coordinates&quot;: [-87.695666342, 41.7718485152], &quot;type&quot;: &quot;Point&quot;}, &quot;id&quot;: &quot;26&quot;, &quot;properties&quot;: {}, &quot;type&quot;: &quot;Feature&quot;}, {&quot;bbox&quot;: [-87.60284764, 41.6601360507, -87.60284764, 41.6601360507], &quot;geometry&quot;: {&quot;coordinates&quot;: [-87.60284764, 41.6601360507], &quot;type&quot;: &quot;Point&quot;}, &quot;id&quot;: &quot;27&quot;, &quot;properties&quot;: {}, &quot;type&quot;: &quot;Feature&quot;}, {&quot;bbox&quot;: [-87.68751551520002, 41.9751709433, -87.68751551520002, 41.9751709433], &quot;geometry&quot;: {&quot;coordinates&quot;: [-87.68751551520002, 41.9751709433], &quot;type&quot;: &quot;Point&quot;}, &quot;id&quot;: &quot;28&quot;, &quot;properties&quot;: {}, &quot;type&quot;: &quot;Feature&quot;}, {&quot;bbox&quot;: [-87.7131924966, 41.6948789661, -87.7131924966, 41.6948789661], &quot;geometry&quot;: {&quot;coordinates&quot;: [-87.7131924966, 41.6948789661], &quot;type&quot;: &quot;Point&quot;}, &quot;id&quot;: &quot;29&quot;, &quot;properties&quot;: {}, &quot;type&quot;: &quot;Feature&quot;}, {&quot;bbox&quot;: [-87.6251921424, 41.8788655841, -87.6251921424, 41.8788655841], &quot;geometry&quot;: {&quot;coordinates&quot;: [-87.6251921424, 41.8788655841], &quot;type&quot;: &quot;Point&quot;}, &quot;id&quot;: &quot;30&quot;, &quot;properties&quot;: {}, &quot;type&quot;: &quot;Feature&quot;}, {&quot;bbox&quot;: [-87.6559981815, 41.9442266014, -87.6559981815, 41.9442266014], &quot;geometry&quot;: {&quot;coordinates&quot;: [-87.6559981815, 41.9442266014], &quot;type&quot;: &quot;Point&quot;}, &quot;id&quot;: &quot;31&quot;, &quot;properties&quot;: {}, &quot;type&quot;: &quot;Feature&quot;}, {&quot;bbox&quot;: [-87.7633990316, 41.9540276487, -87.7633990316, 41.9540276487], &quot;geometry&quot;: {&quot;coordinates&quot;: [-87.7633990316, 41.9540276487], &quot;type&quot;: &quot;Point&quot;}, &quot;id&quot;: &quot;32&quot;, &quot;properties&quot;: {}, &quot;type&quot;: &quot;Feature&quot;}, {&quot;bbox&quot;: [-87.6634164054, 41.9867117999, -87.6634164054, 41.9867117999], &quot;geometry&quot;: {&quot;coordinates&quot;: [-87.6634164054, 41.9867117999], &quot;type&quot;: &quot;Point&quot;}, &quot;id&quot;: &quot;33&quot;, &quot;properties&quot;: {}, &quot;type&quot;: &quot;Feature&quot;}, {&quot;bbox&quot;: [-87.8045320063, 41.9850151008, -87.8045320063, 41.9850151008], &quot;geometry&quot;: {&quot;coordinates&quot;: [-87.8045320063, 41.9850151008], &quot;type&quot;: &quot;Point&quot;}, &quot;id&quot;: &quot;34&quot;, &quot;properties&quot;: {}, &quot;type&quot;: &quot;Feature&quot;}, {&quot;bbox&quot;: [-87.6161341112, 41.7632467988, -87.6161341112, 41.7632467988], &quot;geometry&quot;: {&quot;coordinates&quot;: [-87.6161341112, 41.7632467988], &quot;type&quot;: &quot;Point&quot;}, &quot;id&quot;: &quot;35&quot;, &quot;properties&quot;: {}, &quot;type&quot;: &quot;Feature&quot;}, {&quot;bbox&quot;: [-87.5949254391, 41.7788768603, -87.5949254391, 41.7788768603], &quot;geometry&quot;: {&quot;coordinates&quot;: [-87.5949254391, 41.7788768603], &quot;type&quot;: &quot;Point&quot;}, &quot;id&quot;: &quot;36&quot;, &quot;properties&quot;: {}, &quot;type&quot;: &quot;Feature&quot;}, {&quot;bbox&quot;: [-87.6488950721, 41.7174930361, -87.6488950721, 41.7174930361], &quot;geometry&quot;: {&quot;coordinates&quot;: [-87.6488950721, 41.7174930361], &quot;type&quot;: &quot;Point&quot;}, &quot;id&quot;: &quot;37&quot;, &quot;properties&quot;: {}, &quot;type&quot;: &quot;Feature&quot;}, {&quot;bbox&quot;: [-87.6023504372, 41.8237128095, -87.6023504372, 41.8237128095], &quot;geometry&quot;: {&quot;coordinates&quot;: [-87.6023504372, 41.8237128095], &quot;type&quot;: &quot;Point&quot;}, &quot;id&quot;: &quot;38&quot;, &quot;properties&quot;: {}, &quot;type&quot;: &quot;Feature&quot;}, {&quot;bbox&quot;: [-87.5863483178, 41.7441995348, -87.5863483178, 41.7441995348], &quot;geometry&quot;: {&quot;coordinates&quot;: [-87.5863483178, 41.7441995348], &quot;type&quot;: &quot;Point&quot;}, &quot;id&quot;: &quot;39&quot;, &quot;properties&quot;: {}, &quot;type&quot;: &quot;Feature&quot;}, {&quot;bbox&quot;: [-87.6964352325, 41.795430631, -87.6964352325, 41.795430631], &quot;geometry&quot;: {&quot;coordinates&quot;: [-87.6964352325, 41.795430631], &quot;type&quot;: &quot;Point&quot;}, &quot;id&quot;: &quot;40&quot;, &quot;properties&quot;: {}, &quot;type&quot;: &quot;Feature&quot;}, {&quot;bbox&quot;: [-87.6203346241, 41.8571838585, -87.6203346241, 41.8571838585], &quot;geometry&quot;: {&quot;coordinates&quot;: [-87.6203346241, 41.8571838585], &quot;type&quot;: &quot;Point&quot;}, &quot;id&quot;: &quot;41&quot;, &quot;properties&quot;: {}, &quot;type&quot;: &quot;Feature&quot;}, {&quot;bbox&quot;: [-87.6159695226, 41.7402057565, -87.6159695226, 41.7402057565], &quot;geometry&quot;: {&quot;coordinates&quot;: [-87.6159695226, 41.7402057565], &quot;type&quot;: &quot;Point&quot;}, &quot;id&quot;: &quot;42&quot;, &quot;properties&quot;: {}, &quot;type&quot;: &quot;Feature&quot;}, {&quot;bbox&quot;: [-87.6591665992, 41.8090182499, -87.6591665992, 41.8090182499], &quot;geometry&quot;: {&quot;coordinates&quot;: [-87.6591665992, 41.8090182499], &quot;type&quot;: &quot;Point&quot;}, &quot;id&quot;: &quot;43&quot;, &quot;properties&quot;: {}, &quot;type&quot;: &quot;Feature&quot;}, {&quot;bbox&quot;: [-87.8060200025, 41.9465114202, -87.8060200025, 41.9465114202], &quot;geometry&quot;: {&quot;coordinates&quot;: [-87.8060200025, 41.9465114202], &quot;type&quot;: &quot;Point&quot;}, &quot;id&quot;: &quot;44&quot;, &quot;properties&quot;: {}, &quot;type&quot;: &quot;Feature&quot;}, {&quot;bbox&quot;: [-87.5982558383, 41.7061257523, -87.5982558383, 41.7061257523], &quot;geometry&quot;: {&quot;coordinates&quot;: [-87.5982558383, 41.7061257523], &quot;type&quot;: &quot;Point&quot;}, &quot;id&quot;: &quot;45&quot;, &quot;properties&quot;: {}, &quot;type&quot;: &quot;Feature&quot;}, {&quot;bbox&quot;: [-87.6563059862, 41.7442051463, -87.6563059862, 41.7442051463], &quot;geometry&quot;: {&quot;coordinates&quot;: [-87.6563059862, 41.7442051463], &quot;type&quot;: &quot;Point&quot;}, &quot;id&quot;: &quot;46&quot;, &quot;properties&quot;: {}, &quot;type&quot;: &quot;Feature&quot;}, {&quot;bbox&quot;: [-87.7235831853, 41.9836363072, -87.7235831853, 41.9836363072], &quot;geometry&quot;: {&quot;coordinates&quot;: [-87.7235831853, 41.9836363072], &quot;type&quot;: &quot;Point&quot;}, &quot;id&quot;: &quot;47&quot;, &quot;properties&quot;: {}, &quot;type&quot;: &quot;Feature&quot;}, {&quot;bbox&quot;: [-87.5700582686, 41.6906333472, -87.5700582686, 41.6906333472], &quot;geometry&quot;: {&quot;coordinates&quot;: [-87.5700582686, 41.6906333472], &quot;type&quot;: &quot;Point&quot;}, &quot;id&quot;: &quot;48&quot;, &quot;properties&quot;: {}, &quot;type&quot;: &quot;Feature&quot;}, {&quot;bbox&quot;: [-87.7560467111, 41.8906088526, -87.7560467111, 41.8906088526], &quot;geometry&quot;: {&quot;coordinates&quot;: [-87.7560467111, 41.8906088526], &quot;type&quot;: &quot;Point&quot;}, &quot;id&quot;: &quot;49&quot;, &quot;properties&quot;: {}, &quot;type&quot;: &quot;Feature&quot;}, {&quot;bbox&quot;: [-87.6186777673, 41.8351179863, -87.6186777673, 41.8351179863], &quot;geometry&quot;: {&quot;coordinates&quot;: [-87.6186777673, 41.8351179863], &quot;type&quot;: &quot;Point&quot;}, &quot;id&quot;: &quot;50&quot;, &quot;properties&quot;: {}, &quot;type&quot;: &quot;Feature&quot;}, {&quot;bbox&quot;: [-87.7209182385, 41.9000696026, -87.7209182385, 41.9000696026], &quot;geometry&quot;: {&quot;coordinates&quot;: [-87.7209182385, 41.9000696026], &quot;type&quot;: &quot;Point&quot;}, &quot;id&quot;: &quot;51&quot;, &quot;properties&quot;: {}, &quot;type&quot;: &quot;Feature&quot;}, {&quot;bbox&quot;: [-87.592310855, 41.794090253, -87.592310855, 41.794090253], &quot;geometry&quot;: {&quot;coordinates&quot;: [-87.592310855, 41.794090253], &quot;type&quot;: &quot;Point&quot;}, &quot;id&quot;: &quot;52&quot;, &quot;properties&quot;: {}, &quot;type&quot;: &quot;Feature&quot;}, {&quot;bbox&quot;: [-87.7112105933, 41.93866619620001, -87.7112105933, 41.93866619620001], &quot;geometry&quot;: {&quot;coordinates&quot;: [-87.7112105933, 41.93866619620001], &quot;type&quot;: &quot;Point&quot;}, &quot;id&quot;: &quot;53&quot;, &quot;properties&quot;: {}, &quot;type&quot;: &quot;Feature&quot;}, {&quot;bbox&quot;: [-87.63573977680001, 41.6738199043, -87.63573977680001, 41.6738199043], &quot;geometry&quot;: {&quot;coordinates&quot;: [-87.63573977680001, 41.6738199043], &quot;type&quot;: &quot;Point&quot;}, &quot;id&quot;: &quot;54&quot;, &quot;properties&quot;: {}, &quot;type&quot;: &quot;Feature&quot;}, {&quot;bbox&quot;: [-87.6233665115, 41.7065878819, -87.6233665115, 41.7065878819], &quot;geometry&quot;: {&quot;coordinates&quot;: [-87.6233665115, 41.7065878819], &quot;type&quot;: &quot;Point&quot;}, &quot;id&quot;: &quot;55&quot;, &quot;properties&quot;: {}, &quot;type&quot;: &quot;Feature&quot;}, {&quot;bbox&quot;: [-87.6725026464, 41.8299223039, -87.6725026464, 41.8299223039], &quot;geometry&quot;: {&quot;coordinates&quot;: [-87.6725026464, 41.8299223039], &quot;type&quot;: &quot;Point&quot;}, &quot;id&quot;: &quot;56&quot;, &quot;properties&quot;: {}, &quot;type&quot;: &quot;Feature&quot;}, {&quot;bbox&quot;: [-87.7172201, 41.8601900192, -87.7172201, 41.8601900192], &quot;geometry&quot;: {&quot;coordinates&quot;: [-87.7172201, 41.8601900192], &quot;type&quot;: &quot;Point&quot;}, &quot;id&quot;: &quot;57&quot;, &quot;properties&quot;: {}, &quot;type&quot;: &quot;Feature&quot;}, {&quot;bbox&quot;: [-87.6665962653, 41.7759288274, -87.6665962653, 41.7759288274], &quot;geometry&quot;: {&quot;coordinates&quot;: [-87.6665962653, 41.7759288274], &quot;type&quot;: &quot;Point&quot;}, &quot;id&quot;: &quot;58&quot;, &quot;properties&quot;: {}, &quot;type&quot;: &quot;Feature&quot;}, {&quot;bbox&quot;: [-87.5727171342, 41.7296764229, -87.5727171342, 41.7296764229], &quot;geometry&quot;: {&quot;coordinates&quot;: [-87.5727171342, 41.7296764229], &quot;type&quot;: &quot;Point&quot;}, &quot;id&quot;: &quot;59&quot;, &quot;properties&quot;: {}, &quot;type&quot;: &quot;Feature&quot;}, {&quot;bbox&quot;: [-87.7655016086, 41.9272609555, -87.7655016086, 41.9272609555], &quot;geometry&quot;: {&quot;coordinates&quot;: [-87.7655016086, 41.9272609555], &quot;type&quot;: &quot;Point&quot;}, &quot;id&quot;: &quot;60&quot;, &quot;properties&quot;: {}, &quot;type&quot;: &quot;Feature&quot;}, {&quot;bbox&quot;: [-87.67507531240001, 41.713148612, -87.67507531240001, 41.713148612], &quot;geometry&quot;: {&quot;coordinates&quot;: [-87.67507531240001, 41.713148612], &quot;type&quot;: &quot;Point&quot;}, &quot;id&quot;: &quot;61&quot;, &quot;properties&quot;: {}, &quot;type&quot;: &quot;Feature&quot;}, {&quot;bbox&quot;: [-87.6494887289, 41.9226862843, -87.6494887289, 41.9226862843], &quot;geometry&quot;: {&quot;coordinates&quot;: [-87.6494887289, 41.9226862843], &quot;type&quot;: &quot;Point&quot;}, &quot;id&quot;: &quot;62&quot;, &quot;properties&quot;: {}, &quot;type&quot;: &quot;Feature&quot;}, {&quot;bbox&quot;: [-87.7058971305, 41.8789144956, -87.7058971305, 41.8789144956], &quot;geometry&quot;: {&quot;coordinates&quot;: [-87.7058971305, 41.8789144956], &quot;type&quot;: &quot;Point&quot;}, &quot;id&quot;: &quot;63&quot;, &quot;properties&quot;: {}, &quot;type&quot;: &quot;Feature&quot;}, {&quot;bbox&quot;: [-87.79803218140002, 41.9292973683, -87.79803218140002, 41.9292973683], &quot;geometry&quot;: {&quot;coordinates&quot;: [-87.79803218140002, 41.9292973683], &quot;type&quot;: &quot;Point&quot;}, &quot;id&quot;: &quot;64&quot;, &quot;properties&quot;: {}, &quot;type&quot;: &quot;Feature&quot;}, {&quot;bbox&quot;: [-87.7083657043, 41.7457577128, -87.7083657043, 41.7457577128], &quot;geometry&quot;: {&quot;coordinates&quot;: [-87.7083657043, 41.7457577128], &quot;type&quot;: &quot;Point&quot;}, &quot;id&quot;: &quot;65&quot;, &quot;properties&quot;: {}, &quot;type&quot;: &quot;Feature&quot;}, {&quot;bbox&quot;: [-87.6333080367, 41.899602111, -87.6333080367, 41.899602111], &quot;geometry&quot;: {&quot;coordinates&quot;: [-87.6333080367, 41.899602111], &quot;type&quot;: &quot;Point&quot;}, &quot;id&quot;: &quot;66&quot;, &quot;properties&quot;: {}, &quot;type&quot;: &quot;Feature&quot;}, {&quot;bbox&quot;: [-87.7347397536, 41.9243470769, -87.7347397536, 41.9243470769], &quot;geometry&quot;: {&quot;coordinates&quot;: [-87.7347397536, 41.9243470769], &quot;type&quot;: &quot;Point&quot;}, &quot;id&quot;: &quot;67&quot;, &quot;properties&quot;: {}, &quot;type&quot;: &quot;Feature&quot;}, {&quot;bbox&quot;: [-87.6635175498, 41.874005383, -87.6635175498, 41.874005383], &quot;geometry&quot;: {&quot;coordinates&quot;: [-87.6635175498, 41.874005383], &quot;type&quot;: &quot;Point&quot;}, &quot;id&quot;: &quot;68&quot;, &quot;properties&quot;: {}, &quot;type&quot;: &quot;Feature&quot;}, {&quot;bbox&quot;: [-87.913624596, 41.9802643146, -87.913624596, 41.9802643146], &quot;geometry&quot;: {&quot;coordinates&quot;: [-87.913624596, 41.9802643146], &quot;type&quot;: &quot;Point&quot;}, &quot;id&quot;: &quot;69&quot;, &quot;properties&quot;: {}, &quot;type&quot;: &quot;Feature&quot;}, {&quot;bbox&quot;: [-87.6424975271, 41.7771962546, -87.6424975271, 41.7771962546], &quot;geometry&quot;: {&quot;coordinates&quot;: [-87.6424975271, 41.7771962546], &quot;type&quot;: &quot;Point&quot;}, &quot;id&quot;: &quot;70&quot;, &quot;properties&quot;: {}, &quot;type&quot;: &quot;Feature&quot;}, {&quot;bbox&quot;: [-87.6178596758, 41.8129489392, -87.6178596758, 41.8129489392], &quot;geometry&quot;: {&quot;coordinates&quot;: [-87.6178596758, 41.8129489392], &quot;type&quot;: &quot;Point&quot;}, &quot;id&quot;: &quot;71&quot;, &quot;properties&quot;: {}, &quot;type&quot;: &quot;Feature&quot;}, {&quot;bbox&quot;: [-87.667569312, 41.8502663663, -87.667569312, 41.8502663663], &quot;geometry&quot;: {&quot;coordinates&quot;: [-87.667569312, 41.8502663663], &quot;type&quot;: &quot;Point&quot;}, &quot;id&quot;: &quot;72&quot;, &quot;properties&quot;: {}, &quot;type&quot;: &quot;Feature&quot;}, {&quot;bbox&quot;: [-87.6487879519, 41.8361501547, -87.6487879519, 41.8361501547], &quot;geometry&quot;: {&quot;coordinates&quot;: [-87.6487879519, 41.8361501547], &quot;type&quot;: &quot;Point&quot;}, &quot;id&quot;: &quot;73&quot;, &quot;properties&quot;: {}, &quot;type&quot;: &quot;Feature&quot;}, {&quot;bbox&quot;: [-87.7263633246, 41.8108790078, -87.7263633246, 41.8108790078], &quot;geometry&quot;: {&quot;coordinates&quot;: [-87.7263633246, 41.8108790078], &quot;type&quot;: &quot;Point&quot;}, &quot;id&quot;: &quot;74&quot;, &quot;properties&quot;: {}, &quot;type&quot;: &quot;Feature&quot;}, {&quot;bbox&quot;: [-87.6324245245, 41.8090844303, -87.6324245245, 41.8090844303], &quot;geometry&quot;: {&quot;coordinates&quot;: [-87.6324245245, 41.8090844303], &quot;type&quot;: &quot;Point&quot;}, &quot;id&quot;: &quot;75&quot;, &quot;properties&quot;: {}, &quot;type&quot;: &quot;Feature&quot;}, {&quot;bbox&quot;: [-87.6988607973, 41.8173662079, -87.6988607973, 41.8173662079], &quot;geometry&quot;: {&quot;coordinates&quot;: [-87.6988607973, 41.8173662079], &quot;type&quot;: &quot;Point&quot;}, &quot;id&quot;: &quot;76&quot;, &quot;properties&quot;: {}, &quot;type&quot;: &quot;Feature&quot;}], &quot;type&quot;: &quot;FeatureCollection&quot;});\n",
       "\n",
       "        \n",
       "    \n",
       "    geo_json_04d0b3ed9d96bff2c8449869212a21d0.bindTooltip(\n",
       "    function(layer){\n",
       "    let div = L.DomUtil.create(&#x27;div&#x27;);\n",
       "    \n",
       "    return div\n",
       "    }\n",
       "    ,{&quot;className&quot;: &quot;foliumtooltip&quot;, &quot;sticky&quot;: true});\n",
       "                     \n",
       "&lt;/script&gt;\n",
       "&lt;/html&gt;\" style=\"position:absolute;width:100%;height:100%;left:0;top:0;border:none !important;\" allowfullscreen webkitallowfullscreen mozallowfullscreen></iframe></div></div>"
      ],
      "text/plain": [
       "<folium.folium.Map at 0x7fb5281f8940>"
      ]
     },
     "execution_count": 10,
     "metadata": {},
     "output_type": "execute_result"
    }
   ],
   "source": [
    "list_pickups = list(pickup_centroids['pickup_centroid_location'].evaluate())\n",
    "list_dropoffs = list(dropoff_centroids['dropoff_centroid_location'].evaluate())\n",
    "\n",
    "combined_unique_values = list(set(list_pickups + list_dropoffs))\n",
    "\n",
    "print(len(combined_unique_values))\n",
    "print(\"Both missing dropoff and pickup locations are the same\")\n",
    "\n",
    "points = []\n",
    "\n",
    "for point in combined_unique_values:\n",
    "    points.append(shapely.wkt.loads(str(point)))\n",
    "\n",
    "gdf = gpd.GeoDataFrame(geometry=points, crs='EPSG:4326')\n",
    "\n",
    "gdf.explore()"
   ]
  },
  {
   "cell_type": "code",
   "execution_count": 11,
   "metadata": {},
   "outputs": [
    {
     "name": "stdout",
     "output_type": "stream",
     "text": [
      "{'POINT (-87.6339734222 41.8420761168)': 17031340400, 'POINT (-87.7583535876 41.9939301285)': 17031120200, 'POINT (-87.7269298425 41.7697780588)': 17031650500, 'POINT (-87.8137810343 42.0076125931)': 17031090200, 'POINT (-87.551428197 41.7412427285)': 17031460200, 'POINT (-87.771166703 41.9788295262)': 17031110200, 'POINT (-87.5964755956 41.728182061)': 17031470100, 'POINT (-87.6690544032 41.6897299145)': 17031750500, 'POINT (-87.6558787862 41.96581197)': 17031830700, 'POINT (-87.7234523905 41.9535821253)': 17031160900, 'POINT (-87.714003807 41.8390869059)': 17031301600, 'POINT (-87.5409355129 41.6636706517)': 17031550100, 'POINT (-87.5727819867 41.7615779081)': 17031430800, 'POINT (-87.5349029012 41.707311449)': 17031520400, 'POINT (-87.5961833442 41.8089162826)': 17031390600, 'POINT (-87.6179313803 41.7923572233)': 17031400400, 'POINT (-87.6950125892 42.001571027)': 17031020602, 'POINT (-87.768510849 41.7795828877)': 17031640300, 'POINT (-87.7302324284 41.8785943576)': 17031260700, 'POINT (-87.7242081939 41.7929819032)': 17031620300, 'POINT (-87.69915534320002 41.9227606205)': 17031221300, 'POINT (-87.7696154528 41.7925923603)': 17031560800, 'POINT (-87.6763559892 41.90120699410001)': 17031242200, 'POINT (-87.7215590627 41.968069)': 17031140602, 'POINT (-87.67016685690001 42.0096228806)': 17031010702, 'POINT (-87.6838349425 41.9477915865)': 17031050500, 'POINT (-87.695666342 41.7718485152)': 17031660800, 'POINT (-87.60284764 41.6601360507)': 17031540102, 'POINT (-87.68751551520002 41.9751709433)': 17031040401, 'POINT (-87.7131924966 41.6948789661)': 17031740300, 'POINT (-87.6251921424 41.8788655841)': 17031320400, 'POINT (-87.6559981815 41.9442266014)': 17031062200, 'POINT (-87.7633990316 41.9540276487)': 17031150300, 'POINT (-87.6634164054 41.9867117999)': 17031030500, 'POINT (-87.8045320063 41.9850151008)': 17031100300, 'POINT (-87.6161341112 41.7632467988)': 17031691000, 'POINT (-87.5949254391 41.7788768603)': 17031834400, 'POINT (-87.6488950721 41.7174930361)': 17031730400, 'POINT (-87.6023504372 41.8237128095)': 17031836400, 'POINT (-87.5863483178 41.7441995348)': 17031834300, 'POINT (-87.6964352325 41.795430631)': 17031630400, 'POINT (-87.6203346241 41.8571838585)': 17031330100, 'POINT (-87.6159695226 41.7402057565)': 17031440300, 'POINT (-87.6591665992 41.8090182499)': 17031842600, 'POINT (-87.8060200025 41.9465114202)': 17031170300, 'POINT (-87.5982558383 41.7061257523)': 17031500200, 'POINT (-87.6563059862 41.7442051463)': 17031710700, 'POINT (-87.7235831853 41.9836363072)': 17031130100, 'POINT (-87.5700582686 41.6906333472)': 17031838800, 'POINT (-87.7560467111 41.8906088526)': 17031251500, 'POINT (-87.6186777673 41.8351179863)': 17031839500, 'POINT (-87.7209182385 41.9000696026)': 17031231200, 'POINT (-87.592310855 41.794090253)': 17031411200, 'POINT (-87.7112105933 41.93866619620001)': 17031210601, 'POINT (-87.63573977680001 41.6738199043)': 17031530501, 'POINT (-87.6233665115 41.7065878819)': 17031490902, 'POINT (-87.6725026464 41.8299223039)': 17031590600, 'POINT (-87.7172201 41.8601900192)': 17031838700, 'POINT (-87.6665962653 41.7759288274)': 17031671200, 'POINT (-87.5727171342 41.7296764229)': 17031480400, 'POINT (-87.7655016086 41.9272609555)': 17031190702, 'POINT (-87.67507531240001 41.713148612)': 17031720300, 'POINT (-87.6494887289 41.9226862843)': 17031071100, 'POINT (-87.7058971305 41.8789144956)': 17031271200, 'POINT (-87.79803218140002 41.9292973683)': 17031831600, 'POINT (-87.7083657043 41.7457577128)': 17031700401, 'POINT (-87.6333080367 41.899602111)': 17031081000, 'POINT (-87.7347397536 41.9243470769)': 17031200300, 'POINT (-87.6635175498 41.874005383)': 17031832900, 'POINT (-87.913624596 41.9802643146)': 17031980000, 'POINT (-87.6424975271 41.7771962546)': 17031680900, 'POINT (-87.6178596758 41.8129489392)': 17031835800, 'POINT (-87.667569312 41.8502663663)': 17031843200, 'POINT (-87.6487879519 41.8361501547)': 17031600900, 'POINT (-87.7263633246 41.8108790078)': 17031570200, 'POINT (-87.6324245245 41.8090844303)': 17031835600, 'POINT (-87.6988607973 41.8173662079)': 17031580502}\n"
     ]
    }
   ],
   "source": [
    "# We create a dictionary containing the pickup and dropoff location as a key and the corresponding census tract as a value\n",
    "# So we can efficiently remap the missing values without having to check all 5 mio rows\n",
    "\n",
    "df_pandas_census_tracts = df_census_tracts.to_pandas_df()\n",
    "df_pandas_census_tracts['geometry'] = df_pandas_census_tracts.apply(lambda x: shapely.wkt.loads(x['the_geom']), axis=1)\n",
    "i = 0\n",
    "found = False\n",
    "census_mapping = {}\n",
    "\n",
    "\n",
    "for point in points:\n",
    "\n",
    "    while i <= len(df_pandas_census_tracts) and found == False:\n",
    "        if df_pandas_census_tracts.iloc[i]['geometry'].contains(point):\n",
    "            census_mapping[point.wkt] = df_pandas_census_tracts.iloc[i]['GEOID10']\n",
    "            found = True\n",
    "\n",
    "        i += 1\n",
    "\n",
    "\n",
    "    found = False\n",
    "    i = 0\n",
    "\n",
    "\n",
    "print(census_mapping)\n",
    "\n",
    "    "
   ]
  },
  {
   "cell_type": "code",
   "execution_count": 12,
   "metadata": {},
   "outputs": [],
   "source": [
    "def add_census_tract(centroid_location, census_tract):\n",
    "\n",
    "    if centroid_location is not None and (census_tract is None or math.isnan(census_tract)):\n",
    "        return census_mapping[centroid_location]\n",
    "    else:\n",
    "        return census_tract\n",
    "\n",
    "    "
   ]
  },
  {
   "cell_type": "code",
   "execution_count": 13,
   "metadata": {},
   "outputs": [],
   "source": [
    "# Apply mapping of location to census tracts\n",
    "df_non_zero_trip_miles['pickup_census_tract'] = df_non_zero_trip_miles.apply(add_census_tract,[df_non_zero_trip_miles['pickup_centroid_location'], df_non_zero_trip_miles['pickup_census_tract']])\n",
    "df_non_zero_trip_miles['dropoff_census_tract'] = df_non_zero_trip_miles.apply(add_census_tract,[df_non_zero_trip_miles['dropoff_centroid_location'], df_non_zero_trip_miles['dropoff_census_tract']])"
   ]
  },
  {
   "cell_type": "code",
   "execution_count": 28,
   "metadata": {},
   "outputs": [
    {
     "data": {
      "text/plain": [
       "0"
      ]
     },
     "execution_count": 28,
     "metadata": {},
     "output_type": "execute_result"
    }
   ],
   "source": [
    "## Get Number of empty census tracts when locations are defined\n",
    "filtered_df = df_non_zero_trip_miles[(df_non_zero_trip_miles.pickup_centroid_location.notna()) & (df_non_zero_trip_miles.dropoff_centroid_location.notna()) & (df_non_zero_trip_miles.pickup_census_tract.isna()) & (df_non_zero_trip_miles.dropoff_census_tract.isna())]\n",
    "len(filtered_df)"
   ]
  },
  {
   "cell_type": "code",
   "execution_count": 14,
   "metadata": {},
   "outputs": [
    {
     "data": {
      "text/plain": [
       "23600762"
      ]
     },
     "execution_count": 14,
     "metadata": {},
     "output_type": "execute_result"
    }
   ],
   "source": [
    "len(df_non_zero_trip_miles)"
   ]
  },
  {
   "cell_type": "code",
   "execution_count": 8,
   "metadata": {},
   "outputs": [
    {
     "name": "stdout",
     "output_type": "stream",
     "text": [
      "Total Trips without Rows with Null Values in \"X_centroid_location\" AND \"X_census_tract\": 21,170,643\n"
     ]
    }
   ],
   "source": [
    "# Drop all rows where both \"X_census_tract\" and \"X_centroid_location\" are null\n",
    "# We keep rows WITH \"X_centroid_location\" and WITHOUT \"pickup_census_tract\" to craft census tracts\n",
    "df_cleaned_census_and_location = df_non_zero_trip_miles.dropna(column_names=[\"pickup_census_tract\", \"pickup_centroid_location\"], how=\"all\")\n",
    "df_cleaned_census_and_location = df_cleaned_census_and_location.dropna(column_names=[\"dropoff_census_tract\", \"dropoff_centroid_location\"], how=\"all\")\n",
    "print(f\"Total Trips without Rows with Null Values in \\\"X_centroid_location\\\" AND \\\"X_census_tract\\\": {len(df_cleaned_census_and_location):,}\")"
   ]
  },
  {
   "cell_type": "code",
   "execution_count": 9,
   "metadata": {},
   "outputs": [
    {
     "name": "stdout",
     "output_type": "stream",
     "text": [
      "Number of Rows where \"X_census_tract\" is Null: 5,000,517\n"
     ]
    }
   ],
   "source": [
    "df_no_census_tract_both = df_cleaned_census_and_location[df_cleaned_census_and_location[\"pickup_census_tract\"].isnan() | df_cleaned_census_and_location[\"dropoff_census_tract\"].isnan()]\n",
    "print(f\"Number of Rows where \\\"X_census_tract\\\" is Null: {len(df_no_census_tract_both):,}\")"
   ]
  },
  {
   "cell_type": "code",
   "execution_count": 10,
   "metadata": {},
   "outputs": [],
   "source": [
    "#df_no_census_tract_both[:100].export(\"./data/df_missing_census_tract.hdf5\")"
   ]
  },
  {
   "cell_type": "code",
   "execution_count": 11,
   "metadata": {},
   "outputs": [],
   "source": [
    "# # Assuming you have one dataframe containing null values for both pickup_census_tract and dropoff_census_tract\n",
    "# df_no_census_tract_both = df_no_census_tract_both.to_pandas_df()\n",
    "\n",
    "# # Convert the pickup_centroid_location in the dataframe to Point geometries\n",
    "# df_no_census_tract_both['pickup_centroid_location'] = df_no_census_tract_both.apply(\n",
    "#     lambda row: Point(row['pickup_centroid_longitude'], row['pickup_centroid_latitude']), axis=1\n",
    "# )\n",
    "\n",
    "# # Prepare a function to find the census tract for a given point\n",
    "# def find_census_tract(point, census_tract_df):\n",
    "#     for index, row in census_tract_df.iterrows():\n",
    "#         if point.within(row['geometry']):\n",
    "#             return row['GEOID10']\n",
    "#     return None\n",
    "\n",
    "# # Create dictionaries to store the census tract IDs for pickup and dropoff points\n",
    "# pickup_census_tract_ids = {}\n",
    "# dropoff_census_tract_ids = {}\n",
    "\n",
    "# # Iterate through each row of the dataframe and find the corresponding census tract IDs for both pickup and dropoff\n",
    "# for index, row in df_no_census_tract_both.iterrows():\n",
    "#     pickup_location = row['pickup_centroid_location']\n",
    "#     dropoff_location = row['pickup_centroid_location']\n",
    "\n",
    "#     if pickup_location not in pickup_census_tract_ids:\n",
    "#         pickup_census_tract_ids[pickup_location] = find_census_tract(pickup_location, df_census_tracts)\n",
    "\n",
    "#     if dropoff_location not in dropoff_census_tract_ids:\n",
    "#         dropoff_census_tract_ids[dropoff_location] = find_census_tract(dropoff_location, df_census_tracts)\n",
    "\n",
    "# # Update the \"pickup_census_tract\" column\n",
    "# df_no_census_tract_both['pickup_census_tract'] = df_no_census_tract_both['pickup_centroid_location'].map(pickup_census_tract_ids)\n",
    "\n",
    "# # Update the \"dropoff_census_tract\" column\n",
    "# df_no_census_tract_both['dropoff_census_tract'] = df_no_census_tract_both['pickup_centroid_location'].map(dropoff_census_tract_ids)"
   ]
  },
  {
   "cell_type": "code",
   "execution_count": 12,
   "metadata": {},
   "outputs": [],
   "source": [
    "# df_census_not_nan = df_cleaned_census_and_location.dropna(column_names=[\"pickup_census_tract\", \"dropoff_census_tract\"])\n",
    "# df_census_not_nan = vaex.from_pandas(df_census_not_nan)"
   ]
  },
  {
   "cell_type": "code",
   "execution_count": 13,
   "metadata": {},
   "outputs": [],
   "source": [
    "#df_inserted_census_tracts = df_census_not_nan.concat(df_no_census_tract_both)"
   ]
  },
  {
   "cell_type": "code",
   "execution_count": 19,
   "metadata": {},
   "outputs": [
    {
     "name": "stdout",
     "output_type": "stream",
     "text": [
      "Column 'trip_id' contains NA values with a number of 0 rows.\n",
      "Column 'taxi_id' contains NA values with a number of 7068 rows.\n",
      "Column 'trip_seconds' contains NA values with a number of 485 rows.\n",
      "Column 'trip_miles' contains NA values with a number of 406 rows.\n",
      "Column 'pickup_census_tract' contains NA values with a number of 5000517 rows.\n",
      "Column 'dropoff_census_tract' contains NA values with a number of 5000517 rows.\n",
      "Column 'pickup_community_area' contains NA values with a number of 6408 rows.\n",
      "Column 'dropoff_community_area' contains NA values with a number of 87664 rows.\n",
      "Column 'fare' contains NA values with a number of 412 rows.\n",
      "Column 'tips' contains NA values with a number of 412 rows.\n",
      "Column 'tolls' contains NA values with a number of 5482410 rows.\n",
      "Column 'extras' contains NA values with a number of 412 rows.\n",
      "Column 'trip_total' contains NA values with a number of 412 rows.\n",
      "Column 'payment_type' contains NA values with a number of 0 rows.\n",
      "Column 'company' contains NA values with a number of 0 rows.\n",
      "Column 'pickup_centroid_latitude' contains NA values with a number of 4978 rows.\n",
      "Column 'pickup_centroid_longitude' contains NA values with a number of 4978 rows.\n"
     ]
    }
   ],
   "source": [
    "# check which values contain NA and NaN values\n",
    "column_names = df_cleaned_census_and_location.get_column_names()\n",
    "column_names.remove('trip_start_timestamp')\n",
    "column_names.remove('trip_end_timestamp')\n",
    "\n",
    "for column in column_names:\n",
    "    df_na = df_cleaned_census_and_location[df_cleaned_census_and_location[column].isna()]\n",
    "    print(f\"Column '{column}' contains NA values with a number of \" + str(len(df_na)) + \" rows.\")"
   ]
  },
  {
   "cell_type": "code",
   "execution_count": 16,
   "metadata": {},
   "outputs": [],
   "source": [
    "import geopandas as gpd\n",
    "from shapely import wkt\n",
    "import matplotlib.pyplot as plt\n",
    "\n",
    "df_cleaned_census_and_location[\"pickup_centroid_location\"] = df_cleaned_census_and_location[\"pickup_centroid_location\"].apply(wkt.loads)\n",
    "df = df_cleaned_census_and_location[df_cleaned_census_and_location[\"pickup_centroid_location\"]]"
   ]
  },
  {
   "cell_type": "code",
   "execution_count": 17,
   "metadata": {},
   "outputs": [
    {
     "ename": "ValueError",
     "evalue": "Cannot cast 'trip_start_timestamp' (of type datetime64[us]) to <class 'numpy.float64'>",
     "output_type": "error",
     "traceback": [
      "\u001b[0;31m---------------------------------------------------------------------------\u001b[0m",
      "\u001b[0;31mValueError\u001b[0m                                Traceback (most recent call last)",
      "Cell \u001b[0;32mIn[17], line 1\u001b[0m\n\u001b[0;32m----> 1\u001b[0m gdf \u001b[39m=\u001b[39m gpd\u001b[39m.\u001b[39;49mGeoDataFrame(df, geometry\u001b[39m=\u001b[39;49m\u001b[39m\"\u001b[39;49m\u001b[39mpickup_centroid_location\u001b[39;49m\u001b[39m\"\u001b[39;49m)\n\u001b[1;32m      2\u001b[0m gdf\u001b[39m.\u001b[39mplot(markersize\u001b[39m=\u001b[39m\u001b[39m5\u001b[39m, alpha\u001b[39m=\u001b[39m\u001b[39m0.5\u001b[39m)\n\u001b[1;32m      3\u001b[0m plt\u001b[39m.\u001b[39mxlabel(\u001b[39m\"\u001b[39m\u001b[39mLongitude\u001b[39m\u001b[39m\"\u001b[39m)\n",
      "File \u001b[0;32m~/.local/lib/python3.10/site-packages/geopandas/geodataframe.py:138\u001b[0m, in \u001b[0;36mGeoDataFrame.__init__\u001b[0;34m(self, data, geometry, crs, *args, **kwargs)\u001b[0m\n\u001b[1;32m    132\u001b[0m     \u001b[39mif\u001b[39;00m (\n\u001b[1;32m    133\u001b[0m         kwargs\u001b[39m.\u001b[39mget(\u001b[39m\"\u001b[39m\u001b[39mcopy\u001b[39m\u001b[39m\"\u001b[39m) \u001b[39mis\u001b[39;00m \u001b[39mNone\u001b[39;00m\n\u001b[1;32m    134\u001b[0m         \u001b[39mand\u001b[39;00m \u001b[39misinstance\u001b[39m(data, DataFrame)\n\u001b[1;32m    135\u001b[0m         \u001b[39mand\u001b[39;00m \u001b[39mnot\u001b[39;00m \u001b[39misinstance\u001b[39m(data, GeoDataFrame)\n\u001b[1;32m    136\u001b[0m     ):\n\u001b[1;32m    137\u001b[0m         kwargs\u001b[39m.\u001b[39mupdate(copy\u001b[39m=\u001b[39m\u001b[39mTrue\u001b[39;00m)\n\u001b[0;32m--> 138\u001b[0m     \u001b[39msuper\u001b[39;49m()\u001b[39m.\u001b[39;49m\u001b[39m__init__\u001b[39;49m(data, \u001b[39m*\u001b[39;49margs, \u001b[39m*\u001b[39;49m\u001b[39m*\u001b[39;49mkwargs)\n\u001b[1;32m    140\u001b[0m \u001b[39m# set_geometry ensures the geometry data have the proper dtype,\u001b[39;00m\n\u001b[1;32m    141\u001b[0m \u001b[39m# but is not called if `geometry=None` ('geometry' column present\u001b[39;00m\n\u001b[1;32m    142\u001b[0m \u001b[39m# in the data), so therefore need to ensure it here manually\u001b[39;00m\n\u001b[0;32m   (...)\u001b[0m\n\u001b[1;32m    146\u001b[0m \n\u001b[1;32m    147\u001b[0m \u001b[39m# if gdf passed in and geo_col is set, we use that for geometry\u001b[39;00m\n\u001b[1;32m    148\u001b[0m \u001b[39mif\u001b[39;00m geometry \u001b[39mis\u001b[39;00m \u001b[39mNone\u001b[39;00m \u001b[39mand\u001b[39;00m \u001b[39misinstance\u001b[39m(data, GeoDataFrame):\n",
      "File \u001b[0;32m~/.local/lib/python3.10/site-packages/pandas/core/frame.py:772\u001b[0m, in \u001b[0;36mDataFrame.__init__\u001b[0;34m(self, data, index, columns, dtype, copy)\u001b[0m\n\u001b[1;32m    769\u001b[0m \u001b[39mif\u001b[39;00m \u001b[39mnot\u001b[39;00m \u001b[39misinstance\u001b[39m(data, abc\u001b[39m.\u001b[39mSequence):\n\u001b[1;32m    770\u001b[0m     \u001b[39mif\u001b[39;00m \u001b[39mhasattr\u001b[39m(data, \u001b[39m\"\u001b[39m\u001b[39m__array__\u001b[39m\u001b[39m\"\u001b[39m):\n\u001b[1;32m    771\u001b[0m         \u001b[39m# GH#44616 big perf improvement for e.g. pytorch tensor\u001b[39;00m\n\u001b[0;32m--> 772\u001b[0m         data \u001b[39m=\u001b[39m np\u001b[39m.\u001b[39;49masarray(data)\n\u001b[1;32m    773\u001b[0m     \u001b[39melse\u001b[39;00m:\n\u001b[1;32m    774\u001b[0m         data \u001b[39m=\u001b[39m \u001b[39mlist\u001b[39m(data)\n",
      "File \u001b[0;32m~/.local/lib/python3.10/site-packages/vaex/dataframe.py:6220\u001b[0m, in \u001b[0;36mDataFrameLocal.__array__\u001b[0;34m(self, dtype, parallel)\u001b[0m\n\u001b[1;32m   6218\u001b[0m     \u001b[39mif\u001b[39;00m \u001b[39mnot\u001b[39;00m np\u001b[39m.\u001b[39mcan_cast(column_type, dtype):\n\u001b[1;32m   6219\u001b[0m         \u001b[39mif\u001b[39;00m column_type \u001b[39m!=\u001b[39m dtype:\n\u001b[0;32m-> 6220\u001b[0m             \u001b[39mraise\u001b[39;00m \u001b[39mValueError\u001b[39;00m(\u001b[39m\"\u001b[39m\u001b[39mCannot cast \u001b[39m\u001b[39m%r\u001b[39;00m\u001b[39m (of type \u001b[39m\u001b[39m%r\u001b[39;00m\u001b[39m) to \u001b[39m\u001b[39m%r\u001b[39;00m\u001b[39m\"\u001b[39m \u001b[39m%\u001b[39m (name, \u001b[39mself\u001b[39m\u001b[39m.\u001b[39mdata_type(name), dtype))\n\u001b[1;32m   6221\u001b[0m chunks \u001b[39m=\u001b[39m \u001b[39mself\u001b[39m\u001b[39m.\u001b[39mevaluate(column_names, parallel\u001b[39m=\u001b[39mparallel, array_type\u001b[39m=\u001b[39m\u001b[39m'\u001b[39m\u001b[39mnumpy\u001b[39m\u001b[39m'\u001b[39m)\n\u001b[1;32m   6222\u001b[0m \u001b[39mif\u001b[39;00m \u001b[39many\u001b[39m(np\u001b[39m.\u001b[39mma\u001b[39m.\u001b[39misMaskedArray(chunk) \u001b[39mfor\u001b[39;00m chunk \u001b[39min\u001b[39;00m chunks):\n",
      "\u001b[0;31mValueError\u001b[0m: Cannot cast 'trip_start_timestamp' (of type datetime64[us]) to <class 'numpy.float64'>"
     ]
    }
   ],
   "source": [
    "gdf = gpd.GeoDataFrame(df, geometry=\"pickup_centroid_location\")\n",
    "gdf.plot(markersize=5, alpha=0.5)\n",
    "plt.xlabel(\"Longitude\")\n",
    "plt.ylabel(\"Latitude\")\n",
    "plt.title(\"Scatter Plot of Pickup Locations (Geopandas)\")\n",
    "plt.show()"
   ]
  },
  {
   "cell_type": "code",
   "execution_count": 36,
   "metadata": {},
   "outputs": [
    {
     "name": "stdout",
     "output_type": "stream",
     "text": [
      "Total number of rows before dropping NA: 21170643\n"
     ]
    },
    {
     "name": "stdout",
     "output_type": "stream",
     "text": [
      "Number of rows without NA-values: 12263866\n"
     ]
    }
   ],
   "source": [
    "# We decide to drop all columns with NA or NaN values for consistent analysis across different tasks\n",
    "print(\"Total number of rows before dropping NA: \" + str(len(df_cleaned_census_and_location)))\n",
    "\n",
    "df_cleaned_all = df_cleaned_census_and_location.dropna()\n",
    "print(\"Number of rows without NA-values: \" + str(len(df_cleaned_all)))"
   ]
  },
  {
   "cell_type": "markdown",
   "metadata": {},
   "source": [
    "### Check for consistency"
   ]
  },
  {
   "cell_type": "code",
   "execution_count": 38,
   "metadata": {},
   "outputs": [
    {
     "ename": "KeyboardInterrupt",
     "evalue": "",
     "output_type": "error",
     "traceback": [
      "\u001b[0;31m---------------------------------------------------------------------------\u001b[0m",
      "\u001b[0;31mKeyboardInterrupt\u001b[0m                         Traceback (most recent call last)",
      "Cell \u001b[0;32mIn[38], line 2\u001b[0m\n\u001b[1;32m      1\u001b[0m \u001b[39m# check if trip ids are unique\u001b[39;00m\n\u001b[0;32m----> 2\u001b[0m \u001b[39mprint\u001b[39m(\u001b[39m\"\u001b[39m\u001b[39mTrip IDs are unique?: \u001b[39m\u001b[39m\"\u001b[39m \u001b[39m+\u001b[39m \u001b[39mstr\u001b[39m(\u001b[39mlen\u001b[39m(df_cleaned_all) \u001b[39m==\u001b[39m \u001b[39mlen\u001b[39m(df_cleaned_all[\u001b[39m'\u001b[39;49m\u001b[39mtrip_id\u001b[39;49m\u001b[39m'\u001b[39;49m]\u001b[39m.\u001b[39;49munique())))\n",
      "File \u001b[0;32m~/.local/lib/python3.10/site-packages/vaex/expression.py:1043\u001b[0m, in \u001b[0;36mExpression.unique\u001b[0;34m(self, dropna, dropnan, dropmissing, selection, axis, limit, limit_raise, array_type, progress, delay)\u001b[0m\n\u001b[1;32m   1028\u001b[0m \u001b[39m@docsubst\u001b[39m\n\u001b[1;32m   1029\u001b[0m \u001b[39mdef\u001b[39;00m \u001b[39munique\u001b[39m(\u001b[39mself\u001b[39m, dropna\u001b[39m=\u001b[39m\u001b[39mFalse\u001b[39;00m, dropnan\u001b[39m=\u001b[39m\u001b[39mFalse\u001b[39;00m, dropmissing\u001b[39m=\u001b[39m\u001b[39mFalse\u001b[39;00m, selection\u001b[39m=\u001b[39m\u001b[39mNone\u001b[39;00m, axis\u001b[39m=\u001b[39m\u001b[39mNone\u001b[39;00m, limit\u001b[39m=\u001b[39m\u001b[39mNone\u001b[39;00m, limit_raise\u001b[39m=\u001b[39m\u001b[39mTrue\u001b[39;00m, array_type\u001b[39m=\u001b[39m\u001b[39m'\u001b[39m\u001b[39mlist\u001b[39m\u001b[39m'\u001b[39m, progress\u001b[39m=\u001b[39m\u001b[39mNone\u001b[39;00m, delay\u001b[39m=\u001b[39m\u001b[39mFalse\u001b[39;00m):\n\u001b[1;32m   1030\u001b[0m \u001b[39m    \u001b[39m\u001b[39m\"\"\"Returns all unique values.\u001b[39;00m\n\u001b[1;32m   1031\u001b[0m \n\u001b[1;32m   1032\u001b[0m \u001b[39m    :param dropna: {dropna}\u001b[39;00m\n\u001b[0;32m   (...)\u001b[0m\n\u001b[1;32m   1041\u001b[0m \u001b[39m    :param bool delay: {delay}\u001b[39;00m\n\u001b[1;32m   1042\u001b[0m \u001b[39m    \"\"\"\u001b[39;00m\n\u001b[0;32m-> 1043\u001b[0m     \u001b[39mreturn\u001b[39;00m \u001b[39mself\u001b[39;49m\u001b[39m.\u001b[39;49mds\u001b[39m.\u001b[39;49munique(\u001b[39mself\u001b[39;49m, dropna\u001b[39m=\u001b[39;49mdropna, dropnan\u001b[39m=\u001b[39;49mdropnan, dropmissing\u001b[39m=\u001b[39;49mdropmissing, selection\u001b[39m=\u001b[39;49mselection, array_type\u001b[39m=\u001b[39;49marray_type, axis\u001b[39m=\u001b[39;49maxis, limit\u001b[39m=\u001b[39;49mlimit, limit_raise\u001b[39m=\u001b[39;49mlimit_raise, progress\u001b[39m=\u001b[39;49mprogress, delay\u001b[39m=\u001b[39;49mdelay)\n",
      "File \u001b[0;32m~/.local/lib/python3.10/site-packages/vaex/dataframe.py:681\u001b[0m, in \u001b[0;36mDataFrame.unique\u001b[0;34m(self, expression, return_inverse, dropna, dropnan, dropmissing, progress, selection, axis, delay, limit, limit_raise, array_type)\u001b[0m\n\u001b[1;32m    679\u001b[0m \u001b[39mif\u001b[39;00m return_inverse:\n\u001b[1;32m    680\u001b[0m     progress_inverse \u001b[39m=\u001b[39m progressbar\u001b[39m.\u001b[39madd(\u001b[39m\"\u001b[39m\u001b[39mfind inverse\u001b[39m\u001b[39m\"\u001b[39m)\n\u001b[0;32m--> 681\u001b[0m \u001b[39mreturn\u001b[39;00m \u001b[39mself\u001b[39;49m\u001b[39m.\u001b[39;49m_delay(delay, progressbar\u001b[39m.\u001b[39;49mexit_on(process(hash_map_result)))\n",
      "File \u001b[0;32m~/.local/lib/python3.10/site-packages/vaex/dataframe.py:1780\u001b[0m, in \u001b[0;36mDataFrame._delay\u001b[0;34m(self, delay, task, progressbar)\u001b[0m\n\u001b[1;32m   1778\u001b[0m     \u001b[39mreturn\u001b[39;00m task\n\u001b[1;32m   1779\u001b[0m \u001b[39melse\u001b[39;00m:\n\u001b[0;32m-> 1780\u001b[0m     \u001b[39mself\u001b[39;49m\u001b[39m.\u001b[39;49mexecute()\n\u001b[1;32m   1781\u001b[0m     \u001b[39mreturn\u001b[39;00m task\u001b[39m.\u001b[39mget()\n",
      "File \u001b[0;32m~/.local/lib/python3.10/site-packages/vaex/dataframe.py:421\u001b[0m, in \u001b[0;36mDataFrame.execute\u001b[0;34m(self)\u001b[0m\n\u001b[1;32m    419\u001b[0m         \u001b[39mprint\u001b[39m(\u001b[39mrepr\u001b[39m(task))\n\u001b[1;32m    420\u001b[0m \u001b[39mif\u001b[39;00m \u001b[39mself\u001b[39m\u001b[39m.\u001b[39mexecutor\u001b[39m.\u001b[39mtasks:\n\u001b[0;32m--> 421\u001b[0m     \u001b[39mself\u001b[39;49m\u001b[39m.\u001b[39;49mexecutor\u001b[39m.\u001b[39;49mexecute()\n",
      "File \u001b[0;32m~/.local/lib/python3.10/site-packages/vaex/execution.py:308\u001b[0m, in \u001b[0;36mExecutorLocal.execute\u001b[0;34m(self)\u001b[0m\n\u001b[1;32m    307\u001b[0m \u001b[39mdef\u001b[39;00m \u001b[39mexecute\u001b[39m(\u001b[39mself\u001b[39m):\n\u001b[0;32m--> 308\u001b[0m     \u001b[39mfor\u001b[39;00m _ \u001b[39min\u001b[39;00m \u001b[39mself\u001b[39m\u001b[39m.\u001b[39mexecute_generator():\n\u001b[1;32m    309\u001b[0m         \u001b[39mpass\u001b[39;00m\n",
      "File \u001b[0;32m~/.local/lib/python3.10/site-packages/vaex/execution.py:432\u001b[0m, in \u001b[0;36mExecutorLocal.execute_generator\u001b[0;34m(self, use_async)\u001b[0m\n\u001b[1;32m    430\u001b[0m         logger\u001b[39m.\u001b[39mdebug(\u001b[39m\"\u001b[39m\u001b[39mPass cancelled because of the global progress event: \u001b[39m\u001b[39m%r\u001b[39;00m\u001b[39m\"\u001b[39m, \u001b[39mself\u001b[39m\u001b[39m.\u001b[39msignal_progress\u001b[39m.\u001b[39mcallbacks)\n\u001b[1;32m    431\u001b[0m     \u001b[39mreturn\u001b[39;00m ok_tasks \u001b[39mand\u001b[39;00m ok_executor \u001b[39mand\u001b[39;00m \u001b[39mnot\u001b[39;00m all_stopped\n\u001b[0;32m--> 432\u001b[0m \u001b[39myield from\u001b[39;00m \u001b[39mself\u001b[39m\u001b[39m.\u001b[39mthread_pool\u001b[39m.\u001b[39mmap(\u001b[39mself\u001b[39m\u001b[39m.\u001b[39mprocess_part, dataset\u001b[39m.\u001b[39mchunk_iterator(run\u001b[39m.\u001b[39mdataset_deps, chunk_size),\n\u001b[1;32m    433\u001b[0m                                     dataset\u001b[39m.\u001b[39mrow_count,\n\u001b[1;32m    434\u001b[0m                                     progress\u001b[39m=\u001b[39mprogress,\n\u001b[1;32m    435\u001b[0m                                     cancel\u001b[39m=\u001b[39m\u001b[39mlambda\u001b[39;00m: \u001b[39mself\u001b[39m\u001b[39m.\u001b[39m_cancel(run), unpack\u001b[39m=\u001b[39m\u001b[39mTrue\u001b[39;00m, run\u001b[39m=\u001b[39mrun, use_async\u001b[39m=\u001b[39muse_async)\n\u001b[1;32m    436\u001b[0m duration_wallclock \u001b[39m=\u001b[39m time\u001b[39m.\u001b[39mtime() \u001b[39m-\u001b[39m t0\n\u001b[1;32m    437\u001b[0m logger\u001b[39m.\u001b[39mdebug(\u001b[39m\"\u001b[39m\u001b[39mexecuting took \u001b[39m\u001b[39m%r\u001b[39;00m\u001b[39m seconds\u001b[39m\u001b[39m\"\u001b[39m, duration_wallclock)\n",
      "File \u001b[0;32m~/.local/lib/python3.10/site-packages/vaex/multithreading.py:104\u001b[0m, in \u001b[0;36mThreadPoolIndex.map\u001b[0;34m(self, callable, iterator, count, on_error, progress, cancel, unpack, use_async, **kwargs_extra)\u001b[0m\n\u001b[1;32m    102\u001b[0m iterator \u001b[39m=\u001b[39m \u001b[39miter\u001b[39m(buffer(iterator, \u001b[39mself\u001b[39m\u001b[39m.\u001b[39m_max_workers \u001b[39m+\u001b[39m \u001b[39m3\u001b[39m))\n\u001b[1;32m    103\u001b[0m \u001b[39mtry\u001b[39;00m:\n\u001b[0;32m--> 104\u001b[0m     \u001b[39mfor\u001b[39;00m value \u001b[39min\u001b[39;00m iterator:\n\u001b[1;32m    105\u001b[0m         \u001b[39mif\u001b[39;00m use_async:\n\u001b[1;32m    106\u001b[0m             value \u001b[39m=\u001b[39m \u001b[39myield\u001b[39;00m value\n",
      "File \u001b[0;32m~/.local/lib/python3.10/site-packages/vaex/itertools.py:5\u001b[0m, in \u001b[0;36mbuffer\u001b[0;34m(i, n)\u001b[0m\n\u001b[1;32m      3\u001b[0m \u001b[39mtry\u001b[39;00m:\n\u001b[1;32m      4\u001b[0m     \u001b[39mfor\u001b[39;00m _ \u001b[39min\u001b[39;00m \u001b[39mrange\u001b[39m(n\u001b[39m-\u001b[39m\u001b[39m1\u001b[39m):\n\u001b[0;32m----> 5\u001b[0m         values\u001b[39m.\u001b[39mappend(\u001b[39mnext\u001b[39;49m(i))\n\u001b[1;32m      6\u001b[0m     \u001b[39mwhile\u001b[39;00m \u001b[39mTrue\u001b[39;00m:\n\u001b[1;32m      7\u001b[0m         values\u001b[39m.\u001b[39mappend(\u001b[39mnext\u001b[39m(i))\n",
      "File \u001b[0;32m/usr/lib/python3.10/concurrent/futures/_base.py:621\u001b[0m, in \u001b[0;36mExecutor.map.<locals>.result_iterator\u001b[0;34m()\u001b[0m\n\u001b[1;32m    618\u001b[0m \u001b[39mwhile\u001b[39;00m fs:\n\u001b[1;32m    619\u001b[0m     \u001b[39m# Careful not to keep a reference to the popped future\u001b[39;00m\n\u001b[1;32m    620\u001b[0m     \u001b[39mif\u001b[39;00m timeout \u001b[39mis\u001b[39;00m \u001b[39mNone\u001b[39;00m:\n\u001b[0;32m--> 621\u001b[0m         \u001b[39myield\u001b[39;00m _result_or_cancel(fs\u001b[39m.\u001b[39;49mpop())\n\u001b[1;32m    622\u001b[0m     \u001b[39melse\u001b[39;00m:\n\u001b[1;32m    623\u001b[0m         \u001b[39myield\u001b[39;00m _result_or_cancel(fs\u001b[39m.\u001b[39mpop(), end_time \u001b[39m-\u001b[39m time\u001b[39m.\u001b[39mmonotonic())\n",
      "File \u001b[0;32m/usr/lib/python3.10/concurrent/futures/_base.py:319\u001b[0m, in \u001b[0;36m_result_or_cancel\u001b[0;34m(***failed resolving arguments***)\u001b[0m\n\u001b[1;32m    317\u001b[0m \u001b[39mtry\u001b[39;00m:\n\u001b[1;32m    318\u001b[0m     \u001b[39mtry\u001b[39;00m:\n\u001b[0;32m--> 319\u001b[0m         \u001b[39mreturn\u001b[39;00m fut\u001b[39m.\u001b[39;49mresult(timeout)\n\u001b[1;32m    320\u001b[0m     \u001b[39mfinally\u001b[39;00m:\n\u001b[1;32m    321\u001b[0m         fut\u001b[39m.\u001b[39mcancel()\n",
      "File \u001b[0;32m/usr/lib/python3.10/concurrent/futures/_base.py:453\u001b[0m, in \u001b[0;36mFuture.result\u001b[0;34m(self, timeout)\u001b[0m\n\u001b[1;32m    450\u001b[0m \u001b[39melif\u001b[39;00m \u001b[39mself\u001b[39m\u001b[39m.\u001b[39m_state \u001b[39m==\u001b[39m FINISHED:\n\u001b[1;32m    451\u001b[0m     \u001b[39mreturn\u001b[39;00m \u001b[39mself\u001b[39m\u001b[39m.\u001b[39m__get_result()\n\u001b[0;32m--> 453\u001b[0m \u001b[39mself\u001b[39;49m\u001b[39m.\u001b[39;49m_condition\u001b[39m.\u001b[39;49mwait(timeout)\n\u001b[1;32m    455\u001b[0m \u001b[39mif\u001b[39;00m \u001b[39mself\u001b[39m\u001b[39m.\u001b[39m_state \u001b[39min\u001b[39;00m [CANCELLED, CANCELLED_AND_NOTIFIED]:\n\u001b[1;32m    456\u001b[0m     \u001b[39mraise\u001b[39;00m CancelledError()\n",
      "File \u001b[0;32m/usr/lib/python3.10/threading.py:320\u001b[0m, in \u001b[0;36mCondition.wait\u001b[0;34m(self, timeout)\u001b[0m\n\u001b[1;32m    318\u001b[0m \u001b[39mtry\u001b[39;00m:    \u001b[39m# restore state no matter what (e.g., KeyboardInterrupt)\u001b[39;00m\n\u001b[1;32m    319\u001b[0m     \u001b[39mif\u001b[39;00m timeout \u001b[39mis\u001b[39;00m \u001b[39mNone\u001b[39;00m:\n\u001b[0;32m--> 320\u001b[0m         waiter\u001b[39m.\u001b[39;49macquire()\n\u001b[1;32m    321\u001b[0m         gotit \u001b[39m=\u001b[39m \u001b[39mTrue\u001b[39;00m\n\u001b[1;32m    322\u001b[0m     \u001b[39melse\u001b[39;00m:\n",
      "\u001b[0;31mKeyboardInterrupt\u001b[0m: "
     ]
    }
   ],
   "source": [
    "# check if trip ids are unique\n",
    "print(\"Trip IDs are unique?: \" + str(len(df_cleaned_all) == len(df_cleaned_all['trip_id'].unique())))"
   ]
  },
  {
   "cell_type": "code",
   "execution_count": 39,
   "metadata": {},
   "outputs": [
    {
     "name": "stdout",
     "output_type": "stream",
     "text": [
      "Do the pickup community area IDs in the taxi trip data match the community area dataset?  True\n",
      "Do the dropoff community area IDs in the taxi trip data match the community area dataset?  True\n"
     ]
    }
   ],
   "source": [
    "# check for consistency in community areas\n",
    "community_areas = df_community_areas.AREA_NUMBE.values.unique()\n",
    "community_areas_int = set([area.as_py() for area in community_areas])\n",
    "\n",
    "community_areas_pickup = df_cleaned_all.pickup_community_area.unique(dropnan=True)\n",
    "community_areas_pickup_int = set([int(area) for area in community_areas_pickup])\n",
    "\n",
    "community_areas_dropoff = df_cleaned_all.pickup_community_area.unique(dropnan=True)\n",
    "community_areas_dropoff_int = set([int(area) for area in community_areas_dropoff])\n",
    "\n",
    "print(\"Do the pickup community area IDs in the taxi trip data match the community area dataset? \",community_areas_pickup_int.issubset(community_areas_int))\n",
    "print(\"Do the dropoff community area IDs in the taxi trip data match the community area dataset? \",community_areas_dropoff_int.issubset(community_areas_int))"
   ]
  },
  {
   "cell_type": "code",
   "execution_count": 40,
   "metadata": {},
   "outputs": [
    {
     "name": "stdout",
     "output_type": "stream",
     "text": [
      "Do the pickup census tract IDs in the taxi trip data match the census tract dataset?  True\n",
      "Do the dropoff census tract IDs in the taxi trip data match the census tract dataset?  True\n"
     ]
    }
   ],
   "source": [
    "# check if the census tracts in the taxi data match the census tracts dataset\n",
    "df_census_tracts.GEOID10.values\n",
    "census_tracts = set([id.as_py() for id in df_census_tracts.GEOID10.values])\n",
    "census_tracts_taxi_pickups = set([int(id) for id in df_cleaned_all.pickup_census_tract.unique(dropnan=True)])\n",
    "census_tracts_taxi_dropoffs = set([int(id) for id in df_cleaned_all.dropoff_census_tract.unique(dropnan=True)])\n",
    "\n",
    "print(\"Do the pickup census tract IDs in the taxi trip data match the census tract dataset? \",census_tracts_taxi_pickups.issubset(census_tracts))\n",
    "print(\"Do the dropoff census tract IDs in the taxi trip data match the census tract dataset? \",census_tracts_taxi_dropoffs.issubset(census_tracts))"
   ]
  },
  {
   "cell_type": "code",
   "execution_count": 41,
   "metadata": {},
   "outputs": [],
   "source": [
    "# create columns for hourly discretization\n",
    "df_cleaned_all[\"trip_start_hour\"] = df_cleaned_all.trip_start_timestamp.dt.hour\n",
    "df_cleaned_all[\"trip_end_hour\"] = df_cleaned_all.trip_end_timestamp.dt.hour"
   ]
  },
  {
   "cell_type": "code",
   "execution_count": 42,
   "metadata": {},
   "outputs": [
    {
     "name": "stdout",
     "output_type": "stream",
     "text": [
      "12263866\n"
     ]
    }
   ],
   "source": [
    "print(len(df_cleaned_all))"
   ]
  },
  {
   "cell_type": "code",
   "execution_count": 15,
   "metadata": {},
   "outputs": [
    {
     "name": "stdout",
     "output_type": "stream",
     "text": [
      "export(hdf5) [#############---------------------------] 33.33% estimated time:     0.44s =  0.0m =  0.0h export(hdf5) [########################################] 100.00% elapsed time  :  1904.98s =  31.7m =  0.5h                                                 \n",
      " "
     ]
    }
   ],
   "source": [
    "# export prepared dataframe\n",
    "df_cleaned_all.export_hdf5('./data/trips_prepared.hdf5', progress=True)"
   ]
  }
 ],
 "metadata": {
  "kernelspec": {
   "display_name": "Python 3",
   "language": "python",
   "name": "python3"
  },
  "language_info": {
   "codemirror_mode": {
    "name": "ipython",
    "version": 3
   },
   "file_extension": ".py",
   "mimetype": "text/x-python",
   "name": "python",
   "nbconvert_exporter": "python",
   "pygments_lexer": "ipython3",
   "version": "3.10.12"
  }
 },
 "nbformat": 4,
 "nbformat_minor": 4
}
