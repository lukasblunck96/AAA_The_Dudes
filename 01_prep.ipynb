{
 "cells": [
  {
   "cell_type": "markdown",
   "metadata": {},
   "source": [
    "# Data preparation"
   ]
  },
  {
   "cell_type": "code",
   "execution_count": 3,
   "metadata": {},
   "outputs": [
    {
     "data": {
      "text/html": [
       "<pre style=\"white-space:pre;overflow-x:auto;line-height:normal;font-family:Menlo,'DejaVu Sans Mono',consolas,'Courier New',monospace\"><span style=\"color: #7fbfbf; text-decoration-color: #7fbfbf\">[07/24/23 16:14:52] </span><span style=\"color: #800000; text-decoration-color: #800000; font-weight: bold\">ERROR   </span> error opening <span style=\"color: #008000; text-decoration-color: #008000\">'./data/trips.hdf5'</span>                                      <a href=\"file:///home/coins/miniconda3/envs/aaa_dev/lib/python3.10/site-packages/vaex/__init__.py\" target=\"_blank\"><span style=\"color: #7f7f7f; text-decoration-color: #7f7f7f\">__init__.py</span></a><span style=\"color: #7f7f7f; text-decoration-color: #7f7f7f\">:</span><a href=\"file:///home/coins/miniconda3/envs/aaa_dev/lib/python3.10/site-packages/vaex/__init__.py#269\" target=\"_blank\"><span style=\"color: #7f7f7f; text-decoration-color: #7f7f7f\">269</span></a>\n",
       "<span style=\"color: #7fbfbf; text-decoration-color: #7fbfbf\">                    </span>         Traceback <span style=\"font-weight: bold\">(</span>most recent call last<span style=\"font-weight: bold\">)</span>:                                     <span style=\"color: #7f7f7f; text-decoration-color: #7f7f7f\">               </span>\n",
       "<span style=\"color: #7fbfbf; text-decoration-color: #7fbfbf\">                    </span>           File                                                                 <span style=\"color: #7f7f7f; text-decoration-color: #7f7f7f\">               </span>\n",
       "<span style=\"color: #7fbfbf; text-decoration-color: #7fbfbf\">                    </span>         <span style=\"color: #008000; text-decoration-color: #008000\">\"/home/coins/miniconda3/envs/aaa_dev/lib/python3.10/site-packages/vaex</span> <span style=\"color: #7f7f7f; text-decoration-color: #7f7f7f\">               </span>\n",
       "<span style=\"color: #7fbfbf; text-decoration-color: #7fbfbf\">                    </span>         <span style=\"color: #008000; text-decoration-color: #008000\">/__init__.py\"</span>, line <span style=\"color: #008080; text-decoration-color: #008080; font-weight: bold\">242</span>, in open                                       <span style=\"color: #7f7f7f; text-decoration-color: #7f7f7f\">               </span>\n",
       "<span style=\"color: #7fbfbf; text-decoration-color: #7fbfbf\">                    </span>             ds = <span style=\"color: #800080; text-decoration-color: #800080; font-weight: bold\">vaex.dataset.open</span><span style=\"font-weight: bold\">(</span>path, <span style=\"color: #808000; text-decoration-color: #808000\">fs_options</span>=<span style=\"color: #800080; text-decoration-color: #800080\">fs_options</span>, <span style=\"color: #808000; text-decoration-color: #808000\">fs</span>=<span style=\"color: #800080; text-decoration-color: #800080\">fs</span>,         <span style=\"color: #7f7f7f; text-decoration-color: #7f7f7f\">               </span>\n",
       "<span style=\"color: #7fbfbf; text-decoration-color: #7fbfbf\">                    </span>         **kwargs<span style=\"font-weight: bold\">)</span>                                                              <span style=\"color: #7f7f7f; text-decoration-color: #7f7f7f\">               </span>\n",
       "<span style=\"color: #7fbfbf; text-decoration-color: #7fbfbf\">                    </span>           File                                                                 <span style=\"color: #7f7f7f; text-decoration-color: #7f7f7f\">               </span>\n",
       "<span style=\"color: #7fbfbf; text-decoration-color: #7fbfbf\">                    </span>         <span style=\"color: #008000; text-decoration-color: #008000\">\"/home/coins/miniconda3/envs/aaa_dev/lib/python3.10/site-packages/vaex</span> <span style=\"color: #7f7f7f; text-decoration-color: #7f7f7f\">               </span>\n",
       "<span style=\"color: #7fbfbf; text-decoration-color: #7fbfbf\">                    </span>         <span style=\"color: #008000; text-decoration-color: #008000\">/dataset.py\"</span>, line <span style=\"color: #008080; text-decoration-color: #008080; font-weight: bold\">80</span>, in open                                         <span style=\"color: #7f7f7f; text-decoration-color: #7f7f7f\">               </span>\n",
       "<span style=\"color: #7fbfbf; text-decoration-color: #7fbfbf\">                    </span>             if <span style=\"color: #800080; text-decoration-color: #800080; font-weight: bold\">opener.can_open</span><span style=\"font-weight: bold\">(</span>path, <span style=\"color: #808000; text-decoration-color: #808000\">fs_options</span>=<span style=\"color: #800080; text-decoration-color: #800080\">fs_options</span>, <span style=\"color: #808000; text-decoration-color: #808000\">fs</span>=<span style=\"color: #800080; text-decoration-color: #800080\">fs</span>, *args,      <span style=\"color: #7f7f7f; text-decoration-color: #7f7f7f\">               </span>\n",
       "<span style=\"color: #7fbfbf; text-decoration-color: #7fbfbf\">                    </span>         **kwargs<span style=\"font-weight: bold\">)</span>:                                                             <span style=\"color: #7f7f7f; text-decoration-color: #7f7f7f\">               </span>\n",
       "<span style=\"color: #7fbfbf; text-decoration-color: #7fbfbf\">                    </span>           File                                                                 <span style=\"color: #7f7f7f; text-decoration-color: #7f7f7f\">               </span>\n",
       "<span style=\"color: #7fbfbf; text-decoration-color: #7fbfbf\">                    </span>         <span style=\"color: #008000; text-decoration-color: #008000\">\"/home/coins/miniconda3/envs/aaa_dev/lib/python3.10/site-packages/vaex</span> <span style=\"color: #7f7f7f; text-decoration-color: #7f7f7f\">               </span>\n",
       "<span style=\"color: #7fbfbf; text-decoration-color: #7fbfbf\">                    </span>         <span style=\"color: #008000; text-decoration-color: #008000\">/hdf5/dataset.py\"</span>, line <span style=\"color: #008080; text-decoration-color: #008080; font-weight: bold\">171</span>, in can_open                               <span style=\"color: #7f7f7f; text-decoration-color: #7f7f7f\">               </span>\n",
       "<span style=\"color: #7fbfbf; text-decoration-color: #7fbfbf\">                    </span>             with <span style=\"color: #800080; text-decoration-color: #800080; font-weight: bold\">h5py.File</span><span style=\"font-weight: bold\">(</span>f, <span style=\"color: #008000; text-decoration-color: #008000\">\"r\"</span><span style=\"font-weight: bold\">)</span> as h5file:                                  <span style=\"color: #7f7f7f; text-decoration-color: #7f7f7f\">               </span>\n",
       "<span style=\"color: #7fbfbf; text-decoration-color: #7fbfbf\">                    </span>           File                                                                 <span style=\"color: #7f7f7f; text-decoration-color: #7f7f7f\">               </span>\n",
       "<span style=\"color: #7fbfbf; text-decoration-color: #7fbfbf\">                    </span>         <span style=\"color: #008000; text-decoration-color: #008000\">\"/home/coins/miniconda3/envs/aaa_dev/lib/python3.10/site-packages/h5py</span> <span style=\"color: #7f7f7f; text-decoration-color: #7f7f7f\">               </span>\n",
       "<span style=\"color: #7fbfbf; text-decoration-color: #7fbfbf\">                    </span>         <span style=\"color: #008000; text-decoration-color: #008000\">/_hl/files.py\"</span>, line <span style=\"color: #008080; text-decoration-color: #008080; font-weight: bold\">567</span>, in __init__                                  <span style=\"color: #7f7f7f; text-decoration-color: #7f7f7f\">               </span>\n",
       "<span style=\"color: #7fbfbf; text-decoration-color: #7fbfbf\">                    </span>             fid = <span style=\"color: #800080; text-decoration-color: #800080; font-weight: bold\">make_fid</span><span style=\"font-weight: bold\">(</span>name, mode, userblock_size, fapl, fcpl, <span style=\"color: #808000; text-decoration-color: #808000\">swmr</span>=<span style=\"color: #800080; text-decoration-color: #800080\">swmr</span><span style=\"font-weight: bold\">)</span>  <span style=\"color: #7f7f7f; text-decoration-color: #7f7f7f\">               </span>\n",
       "<span style=\"color: #7fbfbf; text-decoration-color: #7fbfbf\">                    </span>           File                                                                 <span style=\"color: #7f7f7f; text-decoration-color: #7f7f7f\">               </span>\n",
       "<span style=\"color: #7fbfbf; text-decoration-color: #7fbfbf\">                    </span>         <span style=\"color: #008000; text-decoration-color: #008000\">\"/home/coins/miniconda3/envs/aaa_dev/lib/python3.10/site-packages/h5py</span> <span style=\"color: #7f7f7f; text-decoration-color: #7f7f7f\">               </span>\n",
       "<span style=\"color: #7fbfbf; text-decoration-color: #7fbfbf\">                    </span>         <span style=\"color: #008000; text-decoration-color: #008000\">/_hl/files.py\"</span>, line <span style=\"color: #008080; text-decoration-color: #008080; font-weight: bold\">231</span>, in make_fid                                  <span style=\"color: #7f7f7f; text-decoration-color: #7f7f7f\">               </span>\n",
       "<span style=\"color: #7fbfbf; text-decoration-color: #7fbfbf\">                    </span>             fid = <span style=\"color: #800080; text-decoration-color: #800080; font-weight: bold\">h5f.open</span><span style=\"font-weight: bold\">(</span>name, flags, <span style=\"color: #808000; text-decoration-color: #808000\">fapl</span>=<span style=\"color: #800080; text-decoration-color: #800080\">fapl</span><span style=\"font-weight: bold\">)</span>                             <span style=\"color: #7f7f7f; text-decoration-color: #7f7f7f\">               </span>\n",
       "<span style=\"color: #7fbfbf; text-decoration-color: #7fbfbf\">                    </span>           File <span style=\"color: #008000; text-decoration-color: #008000\">\"h5py/_objects.pyx\"</span>, line <span style=\"color: #008080; text-decoration-color: #008080; font-weight: bold\">54</span>, in                                <span style=\"color: #7f7f7f; text-decoration-color: #7f7f7f\">               </span>\n",
       "<span style=\"color: #7fbfbf; text-decoration-color: #7fbfbf\">                    </span>         h5py._objects.with_phil.wrapper                                        <span style=\"color: #7f7f7f; text-decoration-color: #7f7f7f\">               </span>\n",
       "<span style=\"color: #7fbfbf; text-decoration-color: #7fbfbf\">                    </span>           File <span style=\"color: #008000; text-decoration-color: #008000\">\"h5py/_objects.pyx\"</span>, line <span style=\"color: #008080; text-decoration-color: #008080; font-weight: bold\">55</span>, in                                <span style=\"color: #7f7f7f; text-decoration-color: #7f7f7f\">               </span>\n",
       "<span style=\"color: #7fbfbf; text-decoration-color: #7fbfbf\">                    </span>         h5py._objects.with_phil.wrapper                                        <span style=\"color: #7f7f7f; text-decoration-color: #7f7f7f\">               </span>\n",
       "<span style=\"color: #7fbfbf; text-decoration-color: #7fbfbf\">                    </span>           File <span style=\"color: #008000; text-decoration-color: #008000\">\"h5py/h5f.pyx\"</span>, line <span style=\"color: #008080; text-decoration-color: #008080; font-weight: bold\">106</span>, in h5py.h5f.open                      <span style=\"color: #7f7f7f; text-decoration-color: #7f7f7f\">               </span>\n",
       "<span style=\"color: #7fbfbf; text-decoration-color: #7fbfbf\">                    </span>         OSError: Unable to open file <span style=\"font-weight: bold\">(</span>truncated file: eof = <span style=\"color: #008080; text-decoration-color: #008080; font-weight: bold\">164626432</span>,         <span style=\"color: #7f7f7f; text-decoration-color: #7f7f7f\">               </span>\n",
       "<span style=\"color: #7fbfbf; text-decoration-color: #7fbfbf\">                    </span>         sblock-&gt;base_addr = <span style=\"color: #008080; text-decoration-color: #008080; font-weight: bold\">0</span>, stored_eof = <span style=\"color: #008080; text-decoration-color: #008080; font-weight: bold\">11465034960</span><span style=\"font-weight: bold\">)</span>                       <span style=\"color: #7f7f7f; text-decoration-color: #7f7f7f\">               </span>\n",
       "</pre>\n"
      ],
      "text/plain": [
       "\u001b[2;36m[07/24/23 16:14:52]\u001b[0m\u001b[2;36m \u001b[0m\u001b[1;31mERROR   \u001b[0m error opening \u001b[32m'./data/trips.hdf5'\u001b[0m                                      \u001b]8;id=351784;file:///home/coins/miniconda3/envs/aaa_dev/lib/python3.10/site-packages/vaex/__init__.py\u001b\\\u001b[2m__init__.py\u001b[0m\u001b]8;;\u001b\\\u001b[2m:\u001b[0m\u001b]8;id=57867;file:///home/coins/miniconda3/envs/aaa_dev/lib/python3.10/site-packages/vaex/__init__.py#269\u001b\\\u001b[2m269\u001b[0m\u001b]8;;\u001b\\\n",
       "\u001b[2;36m                    \u001b[0m         Traceback \u001b[1m(\u001b[0mmost recent call last\u001b[1m)\u001b[0m:                                     \u001b[2m               \u001b[0m\n",
       "\u001b[2;36m                    \u001b[0m           File                                                                 \u001b[2m               \u001b[0m\n",
       "\u001b[2;36m                    \u001b[0m         \u001b[32m\"/home/coins/miniconda3/envs/aaa_dev/lib/python3.10/site-packages/vaex\u001b[0m \u001b[2m               \u001b[0m\n",
       "\u001b[2;36m                    \u001b[0m         \u001b[32m/__init__.py\"\u001b[0m, line \u001b[1;36m242\u001b[0m, in open                                       \u001b[2m               \u001b[0m\n",
       "\u001b[2;36m                    \u001b[0m             ds = \u001b[1;35mvaex.dataset.open\u001b[0m\u001b[1m(\u001b[0mpath, \u001b[33mfs_options\u001b[0m=\u001b[35mfs_options\u001b[0m, \u001b[33mfs\u001b[0m=\u001b[35mfs\u001b[0m,         \u001b[2m               \u001b[0m\n",
       "\u001b[2;36m                    \u001b[0m         **kwargs\u001b[1m)\u001b[0m                                                              \u001b[2m               \u001b[0m\n",
       "\u001b[2;36m                    \u001b[0m           File                                                                 \u001b[2m               \u001b[0m\n",
       "\u001b[2;36m                    \u001b[0m         \u001b[32m\"/home/coins/miniconda3/envs/aaa_dev/lib/python3.10/site-packages/vaex\u001b[0m \u001b[2m               \u001b[0m\n",
       "\u001b[2;36m                    \u001b[0m         \u001b[32m/dataset.py\"\u001b[0m, line \u001b[1;36m80\u001b[0m, in open                                         \u001b[2m               \u001b[0m\n",
       "\u001b[2;36m                    \u001b[0m             if \u001b[1;35mopener.can_open\u001b[0m\u001b[1m(\u001b[0mpath, \u001b[33mfs_options\u001b[0m=\u001b[35mfs_options\u001b[0m, \u001b[33mfs\u001b[0m=\u001b[35mfs\u001b[0m, *args,      \u001b[2m               \u001b[0m\n",
       "\u001b[2;36m                    \u001b[0m         **kwargs\u001b[1m)\u001b[0m:                                                             \u001b[2m               \u001b[0m\n",
       "\u001b[2;36m                    \u001b[0m           File                                                                 \u001b[2m               \u001b[0m\n",
       "\u001b[2;36m                    \u001b[0m         \u001b[32m\"/home/coins/miniconda3/envs/aaa_dev/lib/python3.10/site-packages/vaex\u001b[0m \u001b[2m               \u001b[0m\n",
       "\u001b[2;36m                    \u001b[0m         \u001b[32m/hdf5/dataset.py\"\u001b[0m, line \u001b[1;36m171\u001b[0m, in can_open                               \u001b[2m               \u001b[0m\n",
       "\u001b[2;36m                    \u001b[0m             with \u001b[1;35mh5py.File\u001b[0m\u001b[1m(\u001b[0mf, \u001b[32m\"r\"\u001b[0m\u001b[1m)\u001b[0m as h5file:                                  \u001b[2m               \u001b[0m\n",
       "\u001b[2;36m                    \u001b[0m           File                                                                 \u001b[2m               \u001b[0m\n",
       "\u001b[2;36m                    \u001b[0m         \u001b[32m\"/home/coins/miniconda3/envs/aaa_dev/lib/python3.10/site-packages/h5py\u001b[0m \u001b[2m               \u001b[0m\n",
       "\u001b[2;36m                    \u001b[0m         \u001b[32m/_hl/files.py\"\u001b[0m, line \u001b[1;36m567\u001b[0m, in __init__                                  \u001b[2m               \u001b[0m\n",
       "\u001b[2;36m                    \u001b[0m             fid = \u001b[1;35mmake_fid\u001b[0m\u001b[1m(\u001b[0mname, mode, userblock_size, fapl, fcpl, \u001b[33mswmr\u001b[0m=\u001b[35mswmr\u001b[0m\u001b[1m)\u001b[0m  \u001b[2m               \u001b[0m\n",
       "\u001b[2;36m                    \u001b[0m           File                                                                 \u001b[2m               \u001b[0m\n",
       "\u001b[2;36m                    \u001b[0m         \u001b[32m\"/home/coins/miniconda3/envs/aaa_dev/lib/python3.10/site-packages/h5py\u001b[0m \u001b[2m               \u001b[0m\n",
       "\u001b[2;36m                    \u001b[0m         \u001b[32m/_hl/files.py\"\u001b[0m, line \u001b[1;36m231\u001b[0m, in make_fid                                  \u001b[2m               \u001b[0m\n",
       "\u001b[2;36m                    \u001b[0m             fid = \u001b[1;35mh5f.open\u001b[0m\u001b[1m(\u001b[0mname, flags, \u001b[33mfapl\u001b[0m=\u001b[35mfapl\u001b[0m\u001b[1m)\u001b[0m                             \u001b[2m               \u001b[0m\n",
       "\u001b[2;36m                    \u001b[0m           File \u001b[32m\"h5py/_objects.pyx\"\u001b[0m, line \u001b[1;36m54\u001b[0m, in                                \u001b[2m               \u001b[0m\n",
       "\u001b[2;36m                    \u001b[0m         h5py._objects.with_phil.wrapper                                        \u001b[2m               \u001b[0m\n",
       "\u001b[2;36m                    \u001b[0m           File \u001b[32m\"h5py/_objects.pyx\"\u001b[0m, line \u001b[1;36m55\u001b[0m, in                                \u001b[2m               \u001b[0m\n",
       "\u001b[2;36m                    \u001b[0m         h5py._objects.with_phil.wrapper                                        \u001b[2m               \u001b[0m\n",
       "\u001b[2;36m                    \u001b[0m           File \u001b[32m\"h5py/h5f.pyx\"\u001b[0m, line \u001b[1;36m106\u001b[0m, in h5py.h5f.open                      \u001b[2m               \u001b[0m\n",
       "\u001b[2;36m                    \u001b[0m         OSError: Unable to open file \u001b[1m(\u001b[0mtruncated file: eof = \u001b[1;36m164626432\u001b[0m,         \u001b[2m               \u001b[0m\n",
       "\u001b[2;36m                    \u001b[0m         sblock->base_addr = \u001b[1;36m0\u001b[0m, stored_eof = \u001b[1;36m11465034960\u001b[0m\u001b[1m)\u001b[0m                       \u001b[2m               \u001b[0m\n"
      ]
     },
     "metadata": {},
     "output_type": "display_data"
    },
    {
     "ename": "OSError",
     "evalue": "Unable to open file (truncated file: eof = 164626432, sblock->base_addr = 0, stored_eof = 11465034960)",
     "output_type": "error",
     "traceback": [
      "\u001b[0;31m---------------------------------------------------------------------------\u001b[0m",
      "\u001b[0;31mOSError\u001b[0m                                   Traceback (most recent call last)",
      "Cell \u001b[0;32mIn[3], line 5\u001b[0m\n\u001b[1;32m      2\u001b[0m \u001b[38;5;28;01mfrom\u001b[39;00m \u001b[38;5;21;01mdatetime\u001b[39;00m \u001b[38;5;28;01mimport\u001b[39;00m datetime\n\u001b[1;32m      3\u001b[0m \u001b[38;5;28;01mimport\u001b[39;00m \u001b[38;5;21;01mnumpy\u001b[39;00m \u001b[38;5;28;01mas\u001b[39;00m \u001b[38;5;21;01mnp\u001b[39;00m\n\u001b[0;32m----> 5\u001b[0m df_taxi_trips_all \u001b[38;5;241m=\u001b[39m \u001b[43mvaex\u001b[49m\u001b[38;5;241;43m.\u001b[39;49m\u001b[43mopen\u001b[49m\u001b[43m(\u001b[49m\u001b[38;5;124;43m'\u001b[39;49m\u001b[38;5;124;43m./data/trips.hdf5\u001b[39;49m\u001b[38;5;124;43m'\u001b[39;49m\u001b[43m)\u001b[49m\n\u001b[1;32m      7\u001b[0m \u001b[38;5;66;03m### Replace spaces and uppercases in column names\u001b[39;00m\n\u001b[1;32m      8\u001b[0m column_names \u001b[38;5;241m=\u001b[39m df_taxi_trips_all\u001b[38;5;241m.\u001b[39mcolumn_names\n",
      "File \u001b[0;32m~/miniconda3/envs/aaa_dev/lib/python3.10/site-packages/vaex/__init__.py:242\u001b[0m, in \u001b[0;36mopen\u001b[0;34m(path, convert, progress, shuffle, fs_options, fs, *args, **kwargs)\u001b[0m\n\u001b[1;32m    240\u001b[0m     ds \u001b[38;5;241m=\u001b[39m vaex\u001b[38;5;241m.\u001b[39mdataset\u001b[38;5;241m.\u001b[39mopen(path_output, fs_options\u001b[38;5;241m=\u001b[39mfs_options, fs\u001b[38;5;241m=\u001b[39mfs)\n\u001b[1;32m    241\u001b[0m \u001b[38;5;28;01melse\u001b[39;00m:\n\u001b[0;32m--> 242\u001b[0m     ds \u001b[38;5;241m=\u001b[39m \u001b[43mvaex\u001b[49m\u001b[38;5;241;43m.\u001b[39;49m\u001b[43mdataset\u001b[49m\u001b[38;5;241;43m.\u001b[39;49m\u001b[43mopen\u001b[49m\u001b[43m(\u001b[49m\u001b[43mpath\u001b[49m\u001b[43m,\u001b[49m\u001b[43m \u001b[49m\u001b[43mfs_options\u001b[49m\u001b[38;5;241;43m=\u001b[39;49m\u001b[43mfs_options\u001b[49m\u001b[43m,\u001b[49m\u001b[43m \u001b[49m\u001b[43mfs\u001b[49m\u001b[38;5;241;43m=\u001b[39;49m\u001b[43mfs\u001b[49m\u001b[43m,\u001b[49m\u001b[43m \u001b[49m\u001b[38;5;241;43m*\u001b[39;49m\u001b[38;5;241;43m*\u001b[39;49m\u001b[43mkwargs\u001b[49m\u001b[43m)\u001b[49m\n\u001b[1;32m    243\u001b[0m df \u001b[38;5;241m=\u001b[39m vaex\u001b[38;5;241m.\u001b[39mfrom_dataset(ds)\n\u001b[1;32m    244\u001b[0m \u001b[38;5;28;01mif\u001b[39;00m df \u001b[38;5;129;01mis\u001b[39;00m \u001b[38;5;28;01mNone\u001b[39;00m:\n",
      "File \u001b[0;32m~/miniconda3/envs/aaa_dev/lib/python3.10/site-packages/vaex/dataset.py:80\u001b[0m, in \u001b[0;36mopen\u001b[0;34m(path, fs_options, fs, *args, **kwargs)\u001b[0m\n\u001b[1;32m     78\u001b[0m \u001b[38;5;28;01mfor\u001b[39;00m opener \u001b[38;5;129;01min\u001b[39;00m opener_classes:\n\u001b[1;32m     79\u001b[0m     \u001b[38;5;28;01mif\u001b[39;00m opener\u001b[38;5;241m.\u001b[39mquick_test(path, fs_options\u001b[38;5;241m=\u001b[39mfs_options, fs\u001b[38;5;241m=\u001b[39mfs):\n\u001b[0;32m---> 80\u001b[0m         \u001b[38;5;28;01mif\u001b[39;00m \u001b[43mopener\u001b[49m\u001b[38;5;241;43m.\u001b[39;49m\u001b[43mcan_open\u001b[49m\u001b[43m(\u001b[49m\u001b[43mpath\u001b[49m\u001b[43m,\u001b[49m\u001b[43m \u001b[49m\u001b[43mfs_options\u001b[49m\u001b[38;5;241;43m=\u001b[39;49m\u001b[43mfs_options\u001b[49m\u001b[43m,\u001b[49m\u001b[43m \u001b[49m\u001b[43mfs\u001b[49m\u001b[38;5;241;43m=\u001b[39;49m\u001b[43mfs\u001b[49m\u001b[43m,\u001b[49m\u001b[43m \u001b[49m\u001b[38;5;241;43m*\u001b[39;49m\u001b[43margs\u001b[49m\u001b[43m,\u001b[49m\u001b[43m \u001b[49m\u001b[38;5;241;43m*\u001b[39;49m\u001b[38;5;241;43m*\u001b[39;49m\u001b[43mkwargs\u001b[49m\u001b[43m)\u001b[49m:\n\u001b[1;32m     81\u001b[0m             \u001b[38;5;28;01mreturn\u001b[39;00m opener\u001b[38;5;241m.\u001b[39mopen(path, fs_options\u001b[38;5;241m=\u001b[39mfs_options, fs\u001b[38;5;241m=\u001b[39mfs, \u001b[38;5;241m*\u001b[39margs, \u001b[38;5;241m*\u001b[39m\u001b[38;5;241m*\u001b[39mkwargs)\n\u001b[1;32m     83\u001b[0m \u001b[38;5;66;03m# otherwise try all openers\u001b[39;00m\n",
      "File \u001b[0;32m~/miniconda3/envs/aaa_dev/lib/python3.10/site-packages/vaex/hdf5/dataset.py:171\u001b[0m, in \u001b[0;36mHdf5MemoryMapped.can_open\u001b[0;34m(cls, path, fs_options, fs, group, **kwargs)\u001b[0m\n\u001b[1;32m    169\u001b[0m \u001b[38;5;28;01mif\u001b[39;00m signature \u001b[38;5;241m!=\u001b[39m \u001b[38;5;124mb\u001b[39m\u001b[38;5;124m\"\u001b[39m\u001b[38;5;130;01m\\x89\u001b[39;00m\u001b[38;5;130;01m\\x48\u001b[39;00m\u001b[38;5;130;01m\\x44\u001b[39;00m\u001b[38;5;130;01m\\x46\u001b[39;00m\u001b[38;5;124m\"\u001b[39m:\n\u001b[1;32m    170\u001b[0m     \u001b[38;5;28;01mreturn\u001b[39;00m \u001b[38;5;28;01mFalse\u001b[39;00m\n\u001b[0;32m--> 171\u001b[0m \u001b[38;5;28;01mwith\u001b[39;00m \u001b[43mh5py\u001b[49m\u001b[38;5;241;43m.\u001b[39;49m\u001b[43mFile\u001b[49m\u001b[43m(\u001b[49m\u001b[43mf\u001b[49m\u001b[43m,\u001b[49m\u001b[43m \u001b[49m\u001b[38;5;124;43m\"\u001b[39;49m\u001b[38;5;124;43mr\u001b[39;49m\u001b[38;5;124;43m\"\u001b[39;49m\u001b[43m)\u001b[49m \u001b[38;5;28;01mas\u001b[39;00m h5file:\n\u001b[1;32m    172\u001b[0m     root_datasets \u001b[38;5;241m=\u001b[39m [dataset \u001b[38;5;28;01mfor\u001b[39;00m name, dataset \u001b[38;5;129;01min\u001b[39;00m h5file\u001b[38;5;241m.\u001b[39mitems() \u001b[38;5;28;01mif\u001b[39;00m \u001b[38;5;28misinstance\u001b[39m(dataset, h5py\u001b[38;5;241m.\u001b[39mDataset)]\n\u001b[1;32m    173\u001b[0m     \u001b[38;5;28;01mreturn\u001b[39;00m (\u001b[38;5;124m\"\u001b[39m\u001b[38;5;124mdata\u001b[39m\u001b[38;5;124m\"\u001b[39m \u001b[38;5;129;01min\u001b[39;00m h5file) \u001b[38;5;129;01mor\u001b[39;00m (\u001b[38;5;124m\"\u001b[39m\u001b[38;5;124mcolumns\u001b[39m\u001b[38;5;124m\"\u001b[39m \u001b[38;5;129;01min\u001b[39;00m h5file) \u001b[38;5;129;01mor\u001b[39;00m (\u001b[38;5;124m\"\u001b[39m\u001b[38;5;124mtable\u001b[39m\u001b[38;5;124m\"\u001b[39m \u001b[38;5;129;01min\u001b[39;00m h5file) \u001b[38;5;129;01mor\u001b[39;00m \\\n\u001b[1;32m    174\u001b[0m            (group \u001b[38;5;129;01mis\u001b[39;00m \u001b[38;5;129;01mnot\u001b[39;00m \u001b[38;5;28;01mNone\u001b[39;00m \u001b[38;5;129;01mand\u001b[39;00m group \u001b[38;5;129;01min\u001b[39;00m h5file) \u001b[38;5;129;01mor\u001b[39;00m \\\n\u001b[1;32m    175\u001b[0m            (\u001b[38;5;28mlen\u001b[39m(root_datasets) \u001b[38;5;241m>\u001b[39m \u001b[38;5;241m0\u001b[39m)\n",
      "File \u001b[0;32m~/miniconda3/envs/aaa_dev/lib/python3.10/site-packages/h5py/_hl/files.py:567\u001b[0m, in \u001b[0;36mFile.__init__\u001b[0;34m(self, name, mode, driver, libver, userblock_size, swmr, rdcc_nslots, rdcc_nbytes, rdcc_w0, track_order, fs_strategy, fs_persist, fs_threshold, fs_page_size, page_buf_size, min_meta_keep, min_raw_keep, locking, alignment_threshold, alignment_interval, meta_block_size, **kwds)\u001b[0m\n\u001b[1;32m    558\u001b[0m     fapl \u001b[38;5;241m=\u001b[39m make_fapl(driver, libver, rdcc_nslots, rdcc_nbytes, rdcc_w0,\n\u001b[1;32m    559\u001b[0m                      locking, page_buf_size, min_meta_keep, min_raw_keep,\n\u001b[1;32m    560\u001b[0m                      alignment_threshold\u001b[38;5;241m=\u001b[39malignment_threshold,\n\u001b[1;32m    561\u001b[0m                      alignment_interval\u001b[38;5;241m=\u001b[39malignment_interval,\n\u001b[1;32m    562\u001b[0m                      meta_block_size\u001b[38;5;241m=\u001b[39mmeta_block_size,\n\u001b[1;32m    563\u001b[0m                      \u001b[38;5;241m*\u001b[39m\u001b[38;5;241m*\u001b[39mkwds)\n\u001b[1;32m    564\u001b[0m     fcpl \u001b[38;5;241m=\u001b[39m make_fcpl(track_order\u001b[38;5;241m=\u001b[39mtrack_order, fs_strategy\u001b[38;5;241m=\u001b[39mfs_strategy,\n\u001b[1;32m    565\u001b[0m                      fs_persist\u001b[38;5;241m=\u001b[39mfs_persist, fs_threshold\u001b[38;5;241m=\u001b[39mfs_threshold,\n\u001b[1;32m    566\u001b[0m                      fs_page_size\u001b[38;5;241m=\u001b[39mfs_page_size)\n\u001b[0;32m--> 567\u001b[0m     fid \u001b[38;5;241m=\u001b[39m \u001b[43mmake_fid\u001b[49m\u001b[43m(\u001b[49m\u001b[43mname\u001b[49m\u001b[43m,\u001b[49m\u001b[43m \u001b[49m\u001b[43mmode\u001b[49m\u001b[43m,\u001b[49m\u001b[43m \u001b[49m\u001b[43muserblock_size\u001b[49m\u001b[43m,\u001b[49m\u001b[43m \u001b[49m\u001b[43mfapl\u001b[49m\u001b[43m,\u001b[49m\u001b[43m \u001b[49m\u001b[43mfcpl\u001b[49m\u001b[43m,\u001b[49m\u001b[43m \u001b[49m\u001b[43mswmr\u001b[49m\u001b[38;5;241;43m=\u001b[39;49m\u001b[43mswmr\u001b[49m\u001b[43m)\u001b[49m\n\u001b[1;32m    569\u001b[0m \u001b[38;5;28;01mif\u001b[39;00m \u001b[38;5;28misinstance\u001b[39m(libver, \u001b[38;5;28mtuple\u001b[39m):\n\u001b[1;32m    570\u001b[0m     \u001b[38;5;28mself\u001b[39m\u001b[38;5;241m.\u001b[39m_libver \u001b[38;5;241m=\u001b[39m libver\n",
      "File \u001b[0;32m~/miniconda3/envs/aaa_dev/lib/python3.10/site-packages/h5py/_hl/files.py:231\u001b[0m, in \u001b[0;36mmake_fid\u001b[0;34m(name, mode, userblock_size, fapl, fcpl, swmr)\u001b[0m\n\u001b[1;32m    229\u001b[0m     \u001b[38;5;28;01mif\u001b[39;00m swmr \u001b[38;5;129;01mand\u001b[39;00m swmr_support:\n\u001b[1;32m    230\u001b[0m         flags \u001b[38;5;241m|\u001b[39m\u001b[38;5;241m=\u001b[39m h5f\u001b[38;5;241m.\u001b[39mACC_SWMR_READ\n\u001b[0;32m--> 231\u001b[0m     fid \u001b[38;5;241m=\u001b[39m \u001b[43mh5f\u001b[49m\u001b[38;5;241;43m.\u001b[39;49m\u001b[43mopen\u001b[49m\u001b[43m(\u001b[49m\u001b[43mname\u001b[49m\u001b[43m,\u001b[49m\u001b[43m \u001b[49m\u001b[43mflags\u001b[49m\u001b[43m,\u001b[49m\u001b[43m \u001b[49m\u001b[43mfapl\u001b[49m\u001b[38;5;241;43m=\u001b[39;49m\u001b[43mfapl\u001b[49m\u001b[43m)\u001b[49m\n\u001b[1;32m    232\u001b[0m \u001b[38;5;28;01melif\u001b[39;00m mode \u001b[38;5;241m==\u001b[39m \u001b[38;5;124m'\u001b[39m\u001b[38;5;124mr+\u001b[39m\u001b[38;5;124m'\u001b[39m:\n\u001b[1;32m    233\u001b[0m     fid \u001b[38;5;241m=\u001b[39m h5f\u001b[38;5;241m.\u001b[39mopen(name, h5f\u001b[38;5;241m.\u001b[39mACC_RDWR, fapl\u001b[38;5;241m=\u001b[39mfapl)\n",
      "File \u001b[0;32mh5py/_objects.pyx:54\u001b[0m, in \u001b[0;36mh5py._objects.with_phil.wrapper\u001b[0;34m()\u001b[0m\n",
      "File \u001b[0;32mh5py/_objects.pyx:55\u001b[0m, in \u001b[0;36mh5py._objects.with_phil.wrapper\u001b[0;34m()\u001b[0m\n",
      "File \u001b[0;32mh5py/h5f.pyx:106\u001b[0m, in \u001b[0;36mh5py.h5f.open\u001b[0;34m()\u001b[0m\n",
      "\u001b[0;31mOSError\u001b[0m: Unable to open file (truncated file: eof = 164626432, sblock->base_addr = 0, stored_eof = 11465034960)"
     ]
    }
   ],
   "source": [
    "import vaex\n",
    "from datetime import datetime\n",
    "import numpy as np\n",
    "\n",
    "df_taxi_trips_all = vaex.open('./data/trips.hdf5')\n",
    "\n",
    "### Replace spaces and uppercases in column names\n",
    "column_names = df_taxi_trips_all.column_names\n",
    "column_names_refactored = [ln.replace(' ', '_').lower() for ln in column_names]\n",
    "\n",
    "for i, column in enumerate(column_names):\n",
    "    df_taxi_trips_all.rename(column, column_names_refactored[i])\n",
    "\n",
    "# cast timestamp columns to datetime\n",
    "date_format = \"%m/%d/%Y %I:%M:%S %p\"\n",
    "def column_to_datetime(datetime_str):\n",
    "    return np.datetime64(datetime.strptime(datetime_str, date_format))\n",
    "\n",
    "df_taxi_trips_all['trip_start_timestamp'] = df_taxi_trips_all['trip_start_timestamp'].apply(column_to_datetime)\n",
    "df_taxi_trips_all['trip_end_timestamp'] = df_taxi_trips_all['trip_end_timestamp'].apply(column_to_datetime)"
   ]
  },
  {
   "cell_type": "code",
   "execution_count": 2,
   "metadata": {},
   "outputs": [
    {
     "data": {
      "text/html": [
       "<table>\n",
       "<thead>\n",
       "<tr><th>#                            </th><th>the_geom                                           </th><th style=\"text-align: right;\">  STATEFP10</th><th style=\"text-align: right;\">  COUNTYFP10</th><th style=\"text-align: right;\">  TRACTCE10</th><th style=\"text-align: right;\">    GEOID10</th><th style=\"text-align: right;\">  NAME10</th><th>NAMELSAD10          </th><th style=\"text-align: right;\">  COMMAREA</th><th style=\"text-align: right;\">  COMMAREA_N</th><th>NOTES  </th></tr>\n",
       "</thead>\n",
       "<tbody>\n",
       "<tr><td><i style='opacity: 0.6'>0</i></td><td>&#x27;MULTIPOLYGON (((-87.62404799998049 41.730216999...</td><td style=\"text-align: right;\">         17</td><td style=\"text-align: right;\">          31</td><td style=\"text-align: right;\">     842400</td><td style=\"text-align: right;\">17031842400</td><td style=\"text-align: right;\"> 8424   </td><td>Census Tract 8424   </td><td style=\"text-align: right;\">        44</td><td style=\"text-align: right;\">          44</td><td>       </td></tr>\n",
       "<tr><td><i style='opacity: 0.6'>1</i></td><td>&#x27;MULTIPOLYGON (((-87.6860799999848 41.8229560000...</td><td style=\"text-align: right;\">         17</td><td style=\"text-align: right;\">          31</td><td style=\"text-align: right;\">     840300</td><td style=\"text-align: right;\">17031840300</td><td style=\"text-align: right;\"> 8403   </td><td>Census Tract 8403   </td><td style=\"text-align: right;\">        59</td><td style=\"text-align: right;\">          59</td><td>       </td></tr>\n",
       "<tr><td><i style='opacity: 0.6'>2</i></td><td>&#x27;MULTIPOLYGON (((-87.62934700001182 41.852797000...</td><td style=\"text-align: right;\">         17</td><td style=\"text-align: right;\">          31</td><td style=\"text-align: right;\">     841100</td><td style=\"text-align: right;\">17031841100</td><td style=\"text-align: right;\"> 8411   </td><td>Census Tract 8411   </td><td style=\"text-align: right;\">        34</td><td style=\"text-align: right;\">          34</td><td>       </td></tr>\n",
       "<tr><td><i style='opacity: 0.6'>3</i></td><td>&#x27;MULTIPOLYGON (((-87.68813499997718 41.855690999...</td><td style=\"text-align: right;\">         17</td><td style=\"text-align: right;\">          31</td><td style=\"text-align: right;\">     841200</td><td style=\"text-align: right;\">17031841200</td><td style=\"text-align: right;\"> 8412   </td><td>Census Tract 8412   </td><td style=\"text-align: right;\">        31</td><td style=\"text-align: right;\">          31</td><td>       </td></tr>\n",
       "<tr><td><i style='opacity: 0.6'>4</i></td><td>&#x27;MULTIPOLYGON (((-87.63312200003458 41.874488000...</td><td style=\"text-align: right;\">         17</td><td style=\"text-align: right;\">          31</td><td style=\"text-align: right;\">     839000</td><td style=\"text-align: right;\">17031839000</td><td style=\"text-align: right;\"> 8390   </td><td>Census Tract 8390   </td><td style=\"text-align: right;\">        32</td><td style=\"text-align: right;\">          32</td><td>       </td></tr>\n",
       "<tr><td><i style='opacity: 0.6'>5</i></td><td>&#x27;MULTIPOLYGON (((-87.6678199999753 41.8741839999...</td><td style=\"text-align: right;\">         17</td><td style=\"text-align: right;\">          31</td><td style=\"text-align: right;\">     838200</td><td style=\"text-align: right;\">17031838200</td><td style=\"text-align: right;\"> 8382   </td><td>Census Tract 8382   </td><td style=\"text-align: right;\">        28</td><td style=\"text-align: right;\">          28</td><td>       </td></tr>\n",
       "<tr><td><i style='opacity: 0.6'>6</i></td><td>&#x27;MULTIPOLYGON (((-87.73706400002477 41.771203999...</td><td style=\"text-align: right;\">         17</td><td style=\"text-align: right;\">          31</td><td style=\"text-align: right;\">     650301</td><td style=\"text-align: right;\">17031650301</td><td style=\"text-align: right;\"> 6503.01</td><td>Census Tract 6503.01</td><td style=\"text-align: right;\">        65</td><td style=\"text-align: right;\">          65</td><td>       </td></tr>\n",
       "<tr><td><i style='opacity: 0.6'>7</i></td><td>&#x27;MULTIPOLYGON (((-87.64386399998179 41.663210000...</td><td style=\"text-align: right;\">         17</td><td style=\"text-align: right;\">          31</td><td style=\"text-align: right;\">     530503</td><td style=\"text-align: right;\">17031530503</td><td style=\"text-align: right;\"> 5305.03</td><td>Census Tract 5305.03</td><td style=\"text-align: right;\">        53</td><td style=\"text-align: right;\">          53</td><td>       </td></tr>\n",
       "<tr><td><i style='opacity: 0.6'>8</i></td><td>&#x27;MULTIPOLYGON (((-87.83844200004106 41.970199999...</td><td style=\"text-align: right;\">         17</td><td style=\"text-align: right;\">          31</td><td style=\"text-align: right;\">     760803</td><td style=\"text-align: right;\">17031760803</td><td style=\"text-align: right;\"> 7608.03</td><td>Census Tract 7608.03</td><td style=\"text-align: right;\">        76</td><td style=\"text-align: right;\">          76</td><td>       </td></tr>\n",
       "<tr><td><i style='opacity: 0.6'>9</i></td><td>&#x27;MULTIPOLYGON (((-87.6543830000042 41.9902020000...</td><td style=\"text-align: right;\">         17</td><td style=\"text-align: right;\">          31</td><td style=\"text-align: right;\">      30601</td><td style=\"text-align: right;\">17031030601</td><td style=\"text-align: right;\">  306.01</td><td>Census Tract 306.01 </td><td style=\"text-align: right;\">        77</td><td style=\"text-align: right;\">          77</td><td>       </td></tr>\n",
       "</tbody>\n",
       "</table>"
      ],
      "text/plain": [
       "  #  the_geom                                               STATEFP10    COUNTYFP10    TRACTCE10      GEOID10    NAME10  NAMELSAD10              COMMAREA    COMMAREA_N  NOTES\n",
       "  0  'MULTIPOLYGON (((-87.62404799998049 41.730216999...           17            31       842400  17031842400   8424     Census Tract 8424             44            44\n",
       "  1  'MULTIPOLYGON (((-87.6860799999848 41.8229560000...           17            31       840300  17031840300   8403     Census Tract 8403             59            59\n",
       "  2  'MULTIPOLYGON (((-87.62934700001182 41.852797000...           17            31       841100  17031841100   8411     Census Tract 8411             34            34\n",
       "  3  'MULTIPOLYGON (((-87.68813499997718 41.855690999...           17            31       841200  17031841200   8412     Census Tract 8412             31            31\n",
       "  4  'MULTIPOLYGON (((-87.63312200003458 41.874488000...           17            31       839000  17031839000   8390     Census Tract 8390             32            32\n",
       "  5  'MULTIPOLYGON (((-87.6678199999753 41.8741839999...           17            31       838200  17031838200   8382     Census Tract 8382             28            28\n",
       "  6  'MULTIPOLYGON (((-87.73706400002477 41.771203999...           17            31       650301  17031650301   6503.01  Census Tract 6503.01          65            65\n",
       "  7  'MULTIPOLYGON (((-87.64386399998179 41.663210000...           17            31       530503  17031530503   5305.03  Census Tract 5305.03          53            53\n",
       "  8  'MULTIPOLYGON (((-87.83844200004106 41.970199999...           17            31       760803  17031760803   7608.03  Census Tract 7608.03          76            76\n",
       "  9  'MULTIPOLYGON (((-87.6543830000042 41.9902020000...           17            31        30601  17031030601    306.01  Census Tract 306.01           77            77"
      ]
     },
     "execution_count": 2,
     "metadata": {},
     "output_type": "execute_result"
    }
   ],
   "source": [
    "# open external data\n",
    "df_census_tracts = vaex.open('./data/chicago_census_tracts.csv')\n",
    "df_census_tracts.head()"
   ]
  },
  {
   "cell_type": "code",
   "execution_count": 3,
   "metadata": {},
   "outputs": [
    {
     "data": {
      "text/html": [
       "<table>\n",
       "<thead>\n",
       "<tr><th>#                            </th><th>the_geom                                           </th><th style=\"text-align: right;\">  PERIMETER</th><th style=\"text-align: right;\">  AREA</th><th style=\"text-align: right;\">  COMAREA_</th><th style=\"text-align: right;\">  COMAREA_ID</th><th style=\"text-align: right;\">  AREA_NUMBE</th><th>COMMUNITY      </th><th style=\"text-align: right;\">  AREA_NUM_1</th><th style=\"text-align: right;\">  SHAPE_AREA</th><th style=\"text-align: right;\">  SHAPE_LEN</th></tr>\n",
       "</thead>\n",
       "<tbody>\n",
       "<tr><td><i style='opacity: 0.6'>0</i></td><td>&#x27;MULTIPOLYGON (((-87.60914087617894 41.844692502...</td><td style=\"text-align: right;\">          0</td><td style=\"text-align: right;\">     0</td><td style=\"text-align: right;\">         0</td><td style=\"text-align: right;\">           0</td><td style=\"text-align: right;\">          35</td><td>DOUGLAS        </td><td style=\"text-align: right;\">          35</td><td style=\"text-align: right;\"> 4.60046e+07</td><td style=\"text-align: right;\">    31027.1</td></tr>\n",
       "<tr><td><i style='opacity: 0.6'>1</i></td><td>&#x27;MULTIPOLYGON (((-87.59215283879394 41.816929346...</td><td style=\"text-align: right;\">          0</td><td style=\"text-align: right;\">     0</td><td style=\"text-align: right;\">         0</td><td style=\"text-align: right;\">           0</td><td style=\"text-align: right;\">          36</td><td>OAKLAND        </td><td style=\"text-align: right;\">          36</td><td style=\"text-align: right;\"> 1.6914e+07 </td><td style=\"text-align: right;\">    19565.5</td></tr>\n",
       "<tr><td><i style='opacity: 0.6'>2</i></td><td>&#x27;MULTIPOLYGON (((-87.62879823733725 41.801893033...</td><td style=\"text-align: right;\">          0</td><td style=\"text-align: right;\">     0</td><td style=\"text-align: right;\">         0</td><td style=\"text-align: right;\">           0</td><td style=\"text-align: right;\">          37</td><td>FULLER PARK    </td><td style=\"text-align: right;\">          37</td><td style=\"text-align: right;\"> 1.99167e+07</td><td style=\"text-align: right;\">    25339.1</td></tr>\n",
       "<tr><td><i style='opacity: 0.6'>3</i></td><td>&#x27;MULTIPOLYGON (((-87.6067081256125 41.8168137705...</td><td style=\"text-align: right;\">          0</td><td style=\"text-align: right;\">     0</td><td style=\"text-align: right;\">         0</td><td style=\"text-align: right;\">           0</td><td style=\"text-align: right;\">          38</td><td>GRAND BOULEVARD</td><td style=\"text-align: right;\">          38</td><td style=\"text-align: right;\"> 4.84925e+07</td><td style=\"text-align: right;\">    28196.8</td></tr>\n",
       "<tr><td><i style='opacity: 0.6'>4</i></td><td>&#x27;MULTIPOLYGON (((-87.59215283879394 41.816929346...</td><td style=\"text-align: right;\">          0</td><td style=\"text-align: right;\">     0</td><td style=\"text-align: right;\">         0</td><td style=\"text-align: right;\">           0</td><td style=\"text-align: right;\">          39</td><td>KENWOOD        </td><td style=\"text-align: right;\">          39</td><td style=\"text-align: right;\"> 2.90717e+07</td><td style=\"text-align: right;\">    23325.2</td></tr>\n",
       "<tr><td><i style='opacity: 0.6'>5</i></td><td>&#x27;MULTIPOLYGON (((-87.6744075678037 41.9761034044...</td><td style=\"text-align: right;\">          0</td><td style=\"text-align: right;\">     0</td><td style=\"text-align: right;\">         0</td><td style=\"text-align: right;\">           0</td><td style=\"text-align: right;\">           4</td><td>LINCOLN SQUARE </td><td style=\"text-align: right;\">           4</td><td style=\"text-align: right;\"> 7.13523e+07</td><td style=\"text-align: right;\">    36624.6</td></tr>\n",
       "<tr><td><i style='opacity: 0.6'>6</i></td><td>&#x27;MULTIPOLYGON (((-87.60603749217005 41.785874064...</td><td style=\"text-align: right;\">          0</td><td style=\"text-align: right;\">     0</td><td style=\"text-align: right;\">         0</td><td style=\"text-align: right;\">           0</td><td style=\"text-align: right;\">          40</td><td>WASHINGTON PARK</td><td style=\"text-align: right;\">          40</td><td style=\"text-align: right;\"> 4.23739e+07</td><td style=\"text-align: right;\">    28175.3</td></tr>\n",
       "<tr><td><i style='opacity: 0.6'>7</i></td><td>&#x27;MULTIPOLYGON (((-87.58037662085418 41.802525022...</td><td style=\"text-align: right;\">          0</td><td style=\"text-align: right;\">     0</td><td style=\"text-align: right;\">         0</td><td style=\"text-align: right;\">           0</td><td style=\"text-align: right;\">          41</td><td>HYDE PARK      </td><td style=\"text-align: right;\">          41</td><td style=\"text-align: right;\"> 4.51054e+07</td><td style=\"text-align: right;\">    29746.7</td></tr>\n",
       "<tr><td><i style='opacity: 0.6'>8</i></td><td>&#x27;MULTIPOLYGON (((-87.57714456891335 41.786146410...</td><td style=\"text-align: right;\">          0</td><td style=\"text-align: right;\">     0</td><td style=\"text-align: right;\">         0</td><td style=\"text-align: right;\">           0</td><td style=\"text-align: right;\">          42</td><td>WOODLAWN       </td><td style=\"text-align: right;\">          42</td><td style=\"text-align: right;\"> 5.78152e+07</td><td style=\"text-align: right;\">    46937  </td></tr>\n",
       "<tr><td><i style='opacity: 0.6'>9</i></td><td>&#x27;MULTIPOLYGON (((-87.65455590025104 41.998166149...</td><td style=\"text-align: right;\">          0</td><td style=\"text-align: right;\">     0</td><td style=\"text-align: right;\">         0</td><td style=\"text-align: right;\">           0</td><td style=\"text-align: right;\">           1</td><td>ROGERS PARK    </td><td style=\"text-align: right;\">           1</td><td style=\"text-align: right;\"> 5.12599e+07</td><td style=\"text-align: right;\">    34052.4</td></tr>\n",
       "</tbody>\n",
       "</table>"
      ],
      "text/plain": [
       "  #  the_geom                                               PERIMETER    AREA    COMAREA_    COMAREA_ID    AREA_NUMBE  COMMUNITY          AREA_NUM_1    SHAPE_AREA    SHAPE_LEN\n",
       "  0  'MULTIPOLYGON (((-87.60914087617894 41.844692502...            0       0           0             0            35  DOUGLAS                    35   4.60046e+07      31027.1\n",
       "  1  'MULTIPOLYGON (((-87.59215283879394 41.816929346...            0       0           0             0            36  OAKLAND                    36   1.6914e+07       19565.5\n",
       "  2  'MULTIPOLYGON (((-87.62879823733725 41.801893033...            0       0           0             0            37  FULLER PARK                37   1.99167e+07      25339.1\n",
       "  3  'MULTIPOLYGON (((-87.6067081256125 41.8168137705...            0       0           0             0            38  GRAND BOULEVARD            38   4.84925e+07      28196.8\n",
       "  4  'MULTIPOLYGON (((-87.59215283879394 41.816929346...            0       0           0             0            39  KENWOOD                    39   2.90717e+07      23325.2\n",
       "  5  'MULTIPOLYGON (((-87.6744075678037 41.9761034044...            0       0           0             0             4  LINCOLN SQUARE              4   7.13523e+07      36624.6\n",
       "  6  'MULTIPOLYGON (((-87.60603749217005 41.785874064...            0       0           0             0            40  WASHINGTON PARK            40   4.23739e+07      28175.3\n",
       "  7  'MULTIPOLYGON (((-87.58037662085418 41.802525022...            0       0           0             0            41  HYDE PARK                  41   4.51054e+07      29746.7\n",
       "  8  'MULTIPOLYGON (((-87.57714456891335 41.786146410...            0       0           0             0            42  WOODLAWN                   42   5.78152e+07      46937\n",
       "  9  'MULTIPOLYGON (((-87.65455590025104 41.998166149...            0       0           0             0             1  ROGERS PARK                 1   5.12599e+07      34052.4"
      ]
     },
     "execution_count": 3,
     "metadata": {},
     "output_type": "execute_result"
    }
   ],
   "source": [
    "df_community_areas = vaex.open('./data/community_areas.csv')\n",
    "df_community_areas.head()"
   ]
  },
  {
   "cell_type": "markdown",
   "metadata": {},
   "source": [
    "### Reduce amount of columns and drop rows with null values in important columns"
   ]
  },
  {
   "cell_type": "code",
   "execution_count": 4,
   "metadata": {},
   "outputs": [],
   "source": [
    "# drop 'dropoff_centroid__location' and 'pickup_centroid_location' columns because we work with latitude and longitude values\n",
    "df_taxi_trips_filtered = df_taxi_trips_all.drop(['dropoff_centroid__location', 'pickup_centroid_location'])"
   ]
  },
  {
   "cell_type": "code",
   "execution_count": 5,
   "metadata": {},
   "outputs": [],
   "source": [
    "### NOT MANDATORY ####\n",
    "# check which values contain NA and NaN values\n",
    "# column_names = df_taxi_trips_filtered.get_column_names()\n",
    "\n",
    "# for column in column_names:\n",
    "#     if df_taxi_trips_filtered[column].isna().sum() > 0:\n",
    "#         print(f\"Column '{column}' contains NA or NaN values with a number of \" + str(df_taxi_trips_filtered[column].isna().sum()) + \" rows.\")"
   ]
  },
  {
   "cell_type": "code",
   "execution_count": 6,
   "metadata": {},
   "outputs": [],
   "source": [
    "### NOT MANDATORY ####\n",
    "# We decide to drop all columns with NA or NaN values for consistent analysis across different tasks\n",
    "# print(\"Total number of rows: \" + str(df_taxi_trips_all.count()))\n",
    "\n",
    "# df_taxi_trips_filtered = df_taxi_trips_filtered.dropnan()\n",
    "# print(\"Number of rows without NaN-values: \" + str(df_taxi_trips_filtered.count()))\n",
    "\n",
    "# df_taxi_trips_filtered = df_taxi_trips_filtered.dropna()\n",
    "# print(\"Number of rows without NA-values: \" + str(df_taxi_trips_filtered.count()))"
   ]
  },
  {
   "cell_type": "code",
   "execution_count": 7,
   "metadata": {},
   "outputs": [
    {
     "name": "stdout",
     "output_type": "stream",
     "text": [
      "Number of rows without 'trip_seconds' = 0: 24470423\n",
      "Number of rows without 'trip_miles' = 0: 21938478\n"
     ]
    }
   ],
   "source": [
    "# delete rows with 'trip_seconds' = 0\n",
    "df_taxi_trips_filtered = df_taxi_trips_filtered[df_taxi_trips_filtered['trip_seconds'] != 0.0]\n",
    "print(\"Number of rows without 'trip_seconds' = 0: \" + str(df_taxi_trips_filtered.count()))\n",
    "\n",
    "# delete rows with 'trip_miles' = 0\n",
    "df_taxi_trips_filtered = df_taxi_trips_filtered[df_taxi_trips_filtered['trip_miles'] != 0.0]\n",
    "print(\"Number of rows without 'trip_miles' = 0: \" + str(df_taxi_trips_filtered.count()))"
   ]
  },
  {
   "cell_type": "markdown",
   "metadata": {},
   "source": [
    "### Check for consistency"
   ]
  },
  {
   "cell_type": "code",
   "execution_count": 8,
   "metadata": {},
   "outputs": [],
   "source": [
    "### NOT MANDATORY ###\n",
    "### !!! warning of long loading time !!! ###\n",
    "# check if trip ids are unique\n",
    "# print(\"Trip IDs are unique?: \" + str(len(df_taxi_trips_filtered) == df_taxi_trips_filtered['trip_id'].nunique()))\n"
   ]
  },
  {
   "cell_type": "code",
   "execution_count": 9,
   "metadata": {},
   "outputs": [],
   "source": [
    "# check for consistency in community areas\n",
    "# print(\"Number of community areas: \" + str(df_community_areas.count()))\n",
    "# print(\"Number of community areas in taxi trip data without NaN-values: \" + str(df_taxi_trips_filtered.pickup_community_area.nunique(dropnan=True)))"
   ]
  },
  {
   "cell_type": "code",
   "execution_count": 10,
   "metadata": {},
   "outputs": [],
   "source": [
    "# check for consistency in community areas\n",
    "# import pyarrow as pa\n",
    "# community_areas = df_community_areas.AREA_NUMBE.values.unique()\n",
    "# community_areas_int = set([area.as_py() for area in community_areas])\n",
    "\n",
    "# community_areas_pickup = df_taxi_trips_filtered.pickup_community_area.unique(dropnan=True)\n",
    "# community_areas_pickup_int = set([int(area) for area in community_areas_pickup])\n",
    "\n",
    "# community_areas_dropoff = df_taxi_trips_filtered.pickup_community_area.unique(dropnan=True)\n",
    "# community_areas_dropoff_int = set([int(area) for area in community_areas_dropoff])\n",
    "\n",
    "# print(\"Do the pickup community area IDs in the taxi trip data match the community area dataset? \",community_areas_pickup_int.issubset(community_areas_int))\n",
    "# print(\"Do the dropoff community area IDs in the taxi trip data match the community area dataset? \",community_areas_dropoff_int.issubset(community_areas_int))"
   ]
  },
  {
   "cell_type": "code",
   "execution_count": 11,
   "metadata": {},
   "outputs": [],
   "source": [
    "# check for consistency in census tracts\n",
    "# print(\"Number of census tracts: \" + str(df_census_tracts.count()))\n",
    "# print(\"Number of pickup census tracts in filtered taxi trip data: \" + str(df_taxi_trips_filtered.pickup_census_tract.nunique()))\n",
    "# print(\"Number of dropoff census tracts in filtered taxi trip data: \" + str(df_taxi_trips_filtered.dropoff_census_tract.nunique()))"
   ]
  },
  {
   "cell_type": "code",
   "execution_count": 12,
   "metadata": {},
   "outputs": [],
   "source": [
    "# check if the census tracts in the taxi data match the census tracts dataset\n",
    "# df_census_tracts.GEOID10.values\n",
    "# census_tracts = set([id.as_py() for id in df_census_tracts.GEOID10.values])\n",
    "# census_tracts_taxi_pickups = set([int(id) for id in df_taxi_trips_filtered.pickup_census_tract.unique(dropnan=True)])\n",
    "# census_tracts_taxi_dropoffs = set([int(id) for id in df_taxi_trips_filtered.dropoff_census_tract.unique(dropnan=True)])\n",
    "\n",
    "# print(\"Do the pickup census tract IDs in the taxi trip data match the census tract dataset? \",census_tracts_taxi_pickups.issubset(census_tracts))\n",
    "# print(\"Do the dropoff census tract IDs in the taxi trip data match the census tract dataset? \",census_tracts_taxi_dropoffs.issubset(census_tracts))"
   ]
  },
  {
   "cell_type": "code",
   "execution_count": 13,
   "metadata": {},
   "outputs": [],
   "source": [
    "# create columns for hourly and 4-hourly temporal discretization\n",
    "df_taxi_trips_filtered[\"trip_start_hour\"] = df_taxi_trips_filtered.trip_start_timestamp.dt.hour\n",
    "df_taxi_trips_filtered[\"trip_end_hour\"] = df_taxi_trips_filtered.trip_end_timestamp.dt.hour\n",
    "df_taxi_trips_filtered[\"trip_start_4h_period\"] = df_taxi_trips_filtered.trip_start_timestamp.dt.hour//4\n",
    "df_taxi_trips_filtered[\"trip_end_4h_period\"] = df_taxi_trips_filtered.trip_end_timestamp.dt.hour//4"
   ]
  },
  {
   "cell_type": "code",
   "execution_count": 14,
   "metadata": {},
   "outputs": [
    {
     "name": "stdout",
     "output_type": "stream",
     "text": [
      "export(hdf5) [#####################################---] 92.92% estimated time:   102.70s =  1.7m =  0.0h     "
     ]
    }
   ],
   "source": [
    "# export prepared dataframe\n",
    "df_taxi_trips_filtered.export_hdf5('./data/trips_prepared.hdf5', progress=True)"
   ]
  }
 ],
 "metadata": {
  "kernelspec": {
   "display_name": "Python 3.10 (aaadev)",
   "language": "python",
   "name": "aaa_dev"
  },
  "language_info": {
   "codemirror_mode": {
    "name": "ipython",
    "version": 3
   },
   "file_extension": ".py",
   "mimetype": "text/x-python",
   "name": "python",
   "nbconvert_exporter": "python",
   "pygments_lexer": "ipython3",
   "version": "3.10.12"
  },
  "vscode": {
   "interpreter": {
    "hash": "916dbcbb3f70747c44a77c7bcd40155683ae19c65e1c03b4aa3499c5328201f1"
   }
  }
 },
 "nbformat": 4,
 "nbformat_minor": 4
}
